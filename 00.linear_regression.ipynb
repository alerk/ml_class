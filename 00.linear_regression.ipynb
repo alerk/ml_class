{
 "cells": [
  {
   "cell_type": "markdown",
   "metadata": {},
   "source": [
    "### 0. The Data"
   ]
  },
  {
   "cell_type": "code",
   "execution_count": 1,
   "metadata": {},
   "outputs": [],
   "source": [
    "import matplotlib.pyplot as plt\n",
    "import numpy as np\n",
    "X = 2 * np.random.rand(100, 1)\n",
    "y = 4 + 3 * X + np.random.randn(100, 1)"
   ]
  },
  {
   "cell_type": "code",
   "execution_count": 17,
   "metadata": {},
   "outputs": [
    {
     "data": {
      "image/png": "[encoded data removed]",
      "text/plain": [
       "<Figure size 720x360 with 1 Axes>"
      ]
     },
     "metadata": {},
     "output_type": "display_data"
    }
   ],
   "source": [
    "plt.figure(figsize=(10, 5))\n",
    "plt.plot(X, y, 'bo')\n",
    "# plt.axis([140, 190, 45, 75])\n",
    "plt.xlabel('X')\n",
    "plt.ylabel('y')\n",
    "plt.show()"
   ]
  },
  {
   "cell_type": "markdown",
   "metadata": {},
   "source": [
    "### 1. Using Normal Equation"
   ]
  },
  {
   "cell_type": "markdown",
   "metadata": {},
   "source": [
    "Compute θ_hat using the Normal Equation.  \n",
    "Use the *inv()* function from NumPy’s Linear Algebra module (np.linalg) to compute the inverse of a matrix  \n",
    "*dot()* method for matrix multiplication"
   ]
  },
  {
   "cell_type": "code",
   "execution_count": 7,
   "metadata": {},
   "outputs": [],
   "source": [
    "X_b = np.c_[np.ones((100, 1)), X] # add x0 = 1 to each instance \n",
    "theta_best = np.linalg.inv(X_b.T.dot(X_b)).dot(X_b.T).dot(y)"
   ]
  },
  {
   "cell_type": "code",
   "execution_count": 8,
   "metadata": {},
   "outputs": [
    {
     "data": {
      "text/plain": [
       "array([[4.04517201],\n",
       "       [3.08386373]])"
      ]
     },
     "execution_count": 8,
     "metadata": {},
     "output_type": "execute_result"
    }
   ],
   "source": [
    "theta_best"
   ]
  },
  {
   "cell_type": "code",
   "execution_count": 11,
   "metadata": {},
   "outputs": [],
   "source": [
    "X_new = np.array([[0], [2]])\n",
    "X_new_b = np.c_[np.ones((2, 1)), X_new] # add x0 = 1 to each instance \n",
    "y_predict = X_new_b.dot(theta_best)"
   ]
  },
  {
   "cell_type": "code",
   "execution_count": 12,
   "metadata": {},
   "outputs": [
    {
     "data": {
      "text/plain": [
       "array([[ 4.04517201],\n",
       "       [10.21289946]])"
      ]
     },
     "execution_count": 12,
     "metadata": {},
     "output_type": "execute_result"
    }
   ],
   "source": [
    "y_predict\n"
   ]
  },
  {
   "cell_type": "code",
   "execution_count": 16,
   "metadata": {},
   "outputs": [
    {
     "data": {
      "image/png": "[encoded data removed]",
      "text/plain": [
       "<Figure size 720x360 with 1 Axes>"
      ]
     },
     "metadata": {},
     "output_type": "display_data"
    }
   ],
   "source": [
    "plt.figure(figsize=(10,5))\n",
    "plt.plot(X, y, 'bo')\n",
    "# plt.axis([140, 190, 45, 75])\n",
    "plt.xlabel('X')\n",
    "plt.ylabel('y')\n",
    "plt.plot(X_new, y_predict, \"r-\")\n",
    "plt.plot(X, y, \"b.\")\n",
    "plt.axis([0, 2, 0, 15])\n",
    "plt.show()"
   ]
  },
  {
   "cell_type": "markdown",
   "metadata": {},
   "source": [
    "### 2. Using SKLearn"
   ]
  },
  {
   "cell_type": "code",
   "execution_count": 18,
   "metadata": {},
   "outputs": [
    {
     "name": "stdout",
     "output_type": "stream",
     "text": [
      "[4.04517201] [[3.08386373]]\n"
     ]
    }
   ],
   "source": [
    "from sklearn.linear_model import LinearRegression \n",
    "lin_reg = LinearRegression()\n",
    "lin_reg.fit(X, y)\n",
    "print(lin_reg.intercept_, lin_reg.coef_)"
   ]
  },
  {
   "cell_type": "code",
   "execution_count": 19,
   "metadata": {},
   "outputs": [
    {
     "data": {
      "text/plain": [
       "array([[ 4.04517201],\n",
       "       [10.21289946]])"
      ]
     },
     "execution_count": 19,
     "metadata": {},
     "output_type": "execute_result"
    }
   ],
   "source": [
    "lin_reg.predict(X_new) "
   ]
  },
  {
   "cell_type": "markdown",
   "metadata": {},
   "source": [
    "### 3. Using Gradient Descent"
   ]
  },
  {
   "cell_type": "markdown",
   "metadata": {},
   "source": [
    "#### 3.1 Batch Gradient Descent"
   ]
  },
  {
   "cell_type": "code",
   "execution_count": 20,
   "metadata": {},
   "outputs": [
    {
     "name": "stdout",
     "output_type": "stream",
     "text": [
      "[[4.04517201]\n",
      " [3.08386373]]\n"
     ]
    }
   ],
   "source": [
    "eta = 0.1 # learning rate \n",
    "n_iterations = 1000 \n",
    "m=100 # Number of instances\n",
    "theta = np.random.randn(2,1) # random initialization\n",
    "for iteration in range(n_iterations):\n",
    "    gradients = 2/m * X_b.T.dot(X_b.dot(theta) - y) \n",
    "    theta = theta - eta * gradients\n",
    "print(theta)"
   ]
  },
  {
   "cell_type": "markdown",
   "metadata": {},
   "source": [
    "### 4. Linear Algebra"
   ]
  },
  {
   "cell_type": "code",
   "execution_count": 3,
   "metadata": {},
   "outputs": [],
   "source": [
    "from pprint import pprint\n",
    "import numpy as np"
   ]
  },
  {
   "cell_type": "code",
   "execution_count": 8,
   "metadata": {},
   "outputs": [
    {
     "name": "stdout",
     "output_type": "stream",
     "text": [
      "array([[ 23, 402],\n",
      "       [ 69, 221],\n",
      "       [118,   0]])\n",
      "m1.shape = (3, 2)\n",
      "array([149,  92, 313])\n"
     ]
    }
   ],
   "source": [
    "# Matrix\n",
    "m1 = np.array([[ 23 , 402], \n",
    "               [69 , 221], \n",
    "               [118, 0]])\n",
    "pprint(m1)\n",
    "print(\"m1.shape =\", m1.shape )\n",
    "v1 = np.array ([149, 92, 313])\n",
    "pprint(v1)"
   ]
  },
  {
   "cell_type": "code",
   "execution_count": 11,
   "metadata": {},
   "outputs": [
    {
     "name": "stdout",
     "output_type": "stream",
     "text": [
      "array([[ 23, 402],\n",
      "       [ 69, 221],\n",
      "       [118,   0]])\n",
      "array([[ 93,  21],\n",
      "       [223,  11],\n",
      "       [123,   6]])\n",
      "array([[116, 423],\n",
      "       [292, 232],\n",
      "       [241,   6]])\n"
     ]
    }
   ],
   "source": [
    "# Matrix adding\n",
    "m1 = np.array([[23,402],\n",
    "               [69,221],\n",
    "               [118,0]])\n",
    "m2 = np.array([[93,21],\n",
    "               [223,11],\n",
    "               [123,6]])\n",
    "pprint(m1)\n",
    "pprint(m2)\n",
    "pprint((m1+m2))"
   ]
  },
  {
   "cell_type": "code",
   "execution_count": 12,
   "metadata": {},
   "outputs": [
    {
     "name": "stdout",
     "output_type": "stream",
     "text": [
      "array([[  69, 1206],\n",
      "       [ 207,  663],\n",
      "       [ 354,    0]])\n"
     ]
    }
   ],
   "source": [
    "pprint(3*m1)"
   ]
  },
  {
   "cell_type": "code",
   "execution_count": 13,
   "metadata": {},
   "outputs": [],
   "source": [
    "# Matrix multiplication\n",
    "m1 = np.array([[1,3,2],\n",
    "               [4,0,1]])\n",
    "m2 = np.array([[1,3],\n",
    "               [0,1],\n",
    "               [5,2]])\n",
    "assert(m1.shape[1] == m2.shape[0])\n",
    "m3 = np.dot(m1,m2)"
   ]
  },
  {
   "cell_type": "code",
   "execution_count": 15,
   "metadata": {},
   "outputs": [
    {
     "name": "stdout",
     "output_type": "stream",
     "text": [
      "array([[1, 3, 2],\n",
      "       [4, 0, 1]])\n",
      "array([[1, 3],\n",
      "       [0, 1],\n",
      "       [5, 2]])\n",
      "array([[11, 10],\n",
      "       [ 9, 14]])\n"
     ]
    }
   ],
   "source": [
    "pprint(m1)\n",
    "pprint(m2)\n",
    "pprint(m3)"
   ]
  },
  {
   "cell_type": "code",
   "execution_count": 20,
   "metadata": {},
   "outputs": [
    {
     "name": "stdout",
     "output_type": "stream",
     "text": [
      "-21576.000000000025\n"
     ]
    }
   ],
   "source": [
    "# Determinant\n",
    "m1 = np.array([[23,42,79], \n",
    "               [69,6,21], \n",
    "               [8,0,9]])\n",
    "print(np.linalg.det(m1))"
   ]
  },
  {
   "cell_type": "code",
   "execution_count": 21,
   "metadata": {},
   "outputs": [
    {
     "data": {
      "text/plain": [
       "array([[23, 69,  8],\n",
       "       [42,  6,  0],\n",
       "       [79, 21,  9]])"
      ]
     },
     "execution_count": 21,
     "metadata": {},
     "output_type": "execute_result"
    }
   ],
   "source": [
    "# Transpose\n",
    "m1.T"
   ]
  },
  {
   "cell_type": "code",
   "execution_count": 18,
   "metadata": {},
   "outputs": [
    {
     "name": "stdout",
     "output_type": "stream",
     "text": [
      "array([[0. , 2. ],\n",
      "       [0.2, 0. ]])\n",
      "array([[1., 0.],\n",
      "       [0., 1.]])\n"
     ]
    }
   ],
   "source": [
    "#Inverse\n",
    "m1 = np.array([[0,5],\n",
    "               [.5,0]])\n",
    "inv_m1 = np.linalg.inv(m1)\n",
    "pprint(inv_m1)\n",
    "pprint(np.dot(m1, inv_m1))"
   ]
  },
  {
   "cell_type": "code",
   "execution_count": 22,
   "metadata": {},
   "outputs": [
    {
     "name": "stdout",
     "output_type": "stream",
     "text": [
      "array([[23, 42, 79],\n",
      "       [69,  6, 21],\n",
      "       [ 8,  0,  9]])\n",
      "[ 75.6278032  -44.09739024   6.46958704]\n",
      "array([[ 0.69512353,  0.60305364, -0.15461194],\n",
      "       [ 0.7140288 , -0.79250916, -0.85857921],\n",
      "       [ 0.08346348, -0.09086   ,  0.48881172]])\n"
     ]
    }
   ],
   "source": [
    "# Eigenvalues and eigenvectors\n",
    "pprint(m1)\n",
    "w,v = np.linalg.eig(m1)\n",
    "print(w)\n",
    "pprint(v)"
   ]
  },
  {
   "cell_type": "code",
   "execution_count": null,
   "metadata": {},
   "outputs": [],
   "source": []
  }
 ],
 "metadata": {
  "kernelspec": {
   "display_name": "Python 3",
   "language": "python",
   "name": "python3"
  },
  "language_info": {
   "codemirror_mode": {
    "name": "ipython",
    "version": 3
   },
   "file_extension": ".py",
   "mimetype": "text/x-python",
   "name": "python",
   "nbconvert_exporter": "python",
   "pygments_lexer": "ipython3",
   "version": "3.6.8"
  }
 },
 "nbformat": 4,
 "nbformat_minor": 2
}
