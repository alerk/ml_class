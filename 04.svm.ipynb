{
 "cells": [
  {
   "cell_type": "code",
   "execution_count": null,
   "metadata": {},
   "outputs": [],
   "source": [
    "from __future__ import print_function\n",
    "import numpy as np \n",
    "import matplotlib.pyplot as plt\n",
    "from scipy.spatial.distance import cdist\n",
    "\n",
    "from cvxopt import matrix, solvers"
   ]
  },
  {
   "cell_type": "markdown",
   "metadata": {},
   "source": [
    "### 0. Sample data"
   ]
  },
  {
   "cell_type": "code",
   "execution_count": 2,
   "metadata": {},
   "outputs": [],
   "source": [
    "np.random.seed(22)\n",
    "\n",
    "means = [[2, 2], [4, 2]]\n",
    "cov = [[.3, .2], [.2, .3]]\n",
    "N = 20\n",
    "X0 = np.random.multivariate_normal(means[0], cov, N) # class 1\n",
    "X1 = np.random.multivariate_normal(means[1], cov, N) # class -1 \n",
    "X = np.concatenate((X0.T, X1.T), axis = 1) # all data \n",
    "y = np.concatenate((np.ones((1, N)), -1*np.ones((1, N))), axis = 1) # labels "
   ]
  },
  {
   "cell_type": "code",
   "execution_count": 3,
   "metadata": {},
   "outputs": [
    {
     "data": {
      "text/plain": [
       "array([[ 1.,  1.,  1.,  1.,  1.,  1.,  1.,  1.,  1.,  1.,  1.,  1.,  1.,\n",
       "         1.,  1.,  1.,  1.,  1.,  1.,  1., -1., -1., -1., -1., -1., -1.,\n",
       "        -1., -1., -1., -1., -1., -1., -1., -1., -1., -1., -1., -1., -1.,\n",
       "        -1.]])"
      ]
     },
     "execution_count": 3,
     "metadata": {},
     "output_type": "execute_result"
    }
   ],
   "source": [
    "y"
   ]
  },
  {
   "cell_type": "code",
   "execution_count": 4,
   "metadata": {},
   "outputs": [
    {
     "data": {
      "text/plain": [
       "array([[2.37319011, 1.51261889, 2.4696794 , 1.78736889, 1.81231157,\n",
       "        2.03717355, 1.53790057, 2.29312867, 1.38805594, 1.57279694,\n",
       "        1.42746579, 2.24760864, 1.33595491, 1.69420104, 2.53897645,\n",
       "        1.3071994 , 2.13924705, 2.47383468, 2.00512009, 2.28205624,\n",
       "        3.84539996, 4.08296992, 4.39101392, 4.87226421, 4.67924793,\n",
       "        3.5072737 , 4.2420991 , 3.81422204, 4.36215577, 4.67585469,\n",
       "        4.26900691, 3.96389821, 4.99838625, 4.04777396, 3.60992639,\n",
       "        3.61724181, 4.74874995, 3.60912757, 3.45689723, 4.71163383],\n",
       "       [1.71875981, 1.40558943, 2.02144973, 1.29380961, 1.56119497,\n",
       "        1.93397133, 1.87434722, 2.76537389, 1.86419379, 0.90707347,\n",
       "        0.71254431, 2.39846497, 1.61731637, 1.94273986, 2.54957308,\n",
       "        0.19362396, 2.09561534, 2.41269466, 1.89290099, 1.79675607,\n",
       "        1.55967159, 3.02486694, 2.17637385, 3.05096564, 2.36893594,\n",
       "        1.74738715, 2.49062268, 1.75348866, 2.57895032, 2.85696676,\n",
       "        1.71816697, 3.08918682, 3.04064226, 2.26704937, 2.03509743,\n",
       "        1.62238639, 2.62730701, 1.84862038, 1.38310473, 2.46776873]])"
      ]
     },
     "execution_count": 4,
     "metadata": {},
     "output_type": "execute_result"
    }
   ],
   "source": [
    "X"
   ]
  },
  {
   "cell_type": "code",
   "execution_count": 5,
   "metadata": {},
   "outputs": [
    {
     "data": {
      "image/png": "[encoded data removed]",
      "text/plain": [
       "<Figure size 432x288 with 1 Axes>"
      ]
     },
     "metadata": {
      "needs_background": "light"
     },
     "output_type": "display_data"
    }
   ],
   "source": [
    "plt.plot(X0[:, 0], X0[:, 1], 'b^', markersize = 4, alpha = .8)\n",
    "plt.plot(X1[:, 0], X1[:, 1], 'go', markersize = 4, alpha = .8)\n",
    "plt.axis('equal')\n",
    "plt.plot()\n",
    "plt.show()"
   ]
  },
  {
   "cell_type": "markdown",
   "metadata": {},
   "source": [
    "### 1. Solve SVM using optimization of dual function"
   ]
  },
  {
   "cell_type": "code",
   "execution_count": 6,
   "metadata": {},
   "outputs": [
    {
     "name": "stdout",
     "output_type": "stream",
     "text": [
      "lambda = \n",
      "[[1.31788685e-07 2.77147190e-09 1.73654462e+00 4.78549254e-09\n",
      "  4.08907371e-09 4.99588183e-09 2.39580510e-09 4.33202944e-09\n",
      "  2.11008024e-09 4.01881506e-09 3.47769913e-09 5.37184704e-09\n",
      "  2.15964931e-09 2.75859342e-09 5.53767869e-09 3.87921914e-09\n",
      "  5.54964568e-09 7.69572856e-09 4.79586762e-09 1.83380182e-08\n",
      "  4.86018185e-09 1.52985375e-08 2.81560637e-09 2.30161436e-09\n",
      "  2.24733870e-09 1.73654459e+00 4.26844717e-09 6.51055590e-09\n",
      "  3.59022712e-09 2.63726980e-09 2.70889306e-09 6.29348418e-08\n",
      "  2.06278123e-09 5.70265249e-09 9.08462824e-08 1.12316521e-08\n",
      "  2.27373725e-09 2.45670401e-08 3.57350133e-09 2.24603506e-09]]\n"
     ]
    }
   ],
   "source": [
    "# build K\n",
    "V = np.concatenate((X0.T, -X1.T), axis = 1)\n",
    "K = matrix(V.T.dot(V)) # see definition of V, K near eq (8)\n",
    "\n",
    "p = matrix(-np.ones((2*N, 1))) # all-one vector \n",
    "# build A, b, G, h \n",
    "G = matrix(-np.eye(2*N)) # for all lambda_n >= 0\n",
    "h = matrix(np.zeros((2*N, 1)))\n",
    "A = matrix(y) # the equality constrain is actually y^T lambda = 0\n",
    "b = matrix(np.zeros((1, 1))) \n",
    "solvers.options['show_progress'] = False\n",
    "sol = solvers.qp(K, p, G, h, A, b)\n",
    "\n",
    "l = np.array(sol['x'])\n",
    "print('lambda = ')\n",
    "print(l.T)"
   ]
  },
  {
   "cell_type": "code",
   "execution_count": 7,
   "metadata": {},
   "outputs": [
    {
     "name": "stdout",
     "output_type": "stream",
     "text": [
      "w =  [[-1.80182869  0.47592196]]\n",
      "b =  4.487886673710467\n"
     ]
    }
   ],
   "source": [
    "epsilon = 1e-6 # just a small number, greater than 1e-9\n",
    "S = np.where(l > epsilon)[0]\n",
    "\n",
    "VS = V[:, S]\n",
    "XS = X[:, S]\n",
    "yS = y[:, S]\n",
    "lS = l[S]\n",
    "# calculate w and b\n",
    "w = VS.dot(lS)\n",
    "b = np.mean(yS.T - w.T.dot(XS))\n",
    "\n",
    "print('w = ', w.T)\n",
    "print('b = ', b)"
   ]
  },
  {
   "cell_type": "code",
   "execution_count": 8,
   "metadata": {},
   "outputs": [],
   "source": [
    "# w1*x1 + w2*x2 + b = 0\n",
    "sepX1 = np.linspace(2.3, 3.3, 100)\n",
    "sepX2 = -b/w[1] - w[0]*sepX1/w[1]"
   ]
  },
  {
   "cell_type": "code",
   "execution_count": 9,
   "metadata": {},
   "outputs": [
    {
     "data": {
      "image/png": "[encoded data removed]",
      "text/plain": [
       "<Figure size 432x288 with 1 Axes>"
      ]
     },
     "metadata": {
      "needs_background": "light"
     },
     "output_type": "display_data"
    }
   ],
   "source": [
    "plt.plot(X0[:, 0], X0[:, 1], 'b^', markersize = 4, alpha = .8)\n",
    "plt.plot(X1[:, 0], X1[:, 1], 'go', markersize = 4, alpha = .8)\n",
    "plt.plot(sepX1, sepX2, '-r', label=\"%f*x1 + %f*x2 + %f = 0\"%(w[0], w[1], b))\n",
    "plt.axis('equal')\n",
    "plt.plot()\n",
    "plt.show()"
   ]
  },
  {
   "cell_type": "markdown",
   "metadata": {},
   "source": [
    "### 2. Solve SVM using sklearn-svm, cvxopt and gradient descent for SVM soft margin"
   ]
  },
  {
   "cell_type": "markdown",
   "metadata": {},
   "source": [
    "#### Prepare data"
   ]
  },
  {
   "cell_type": "code",
   "execution_count": 10,
   "metadata": {},
   "outputs": [],
   "source": [
    "# To support both python 2 and python 3\n",
    "from __future__ import division, print_function, unicode_literals\n",
    "# list of points \n",
    "import numpy as np \n",
    "import matplotlib.pyplot as plt\n",
    "from scipy.spatial.distance import cdist\n",
    "from matplotlib.backends.backend_pdf import PdfPages\n",
    "np.random.seed(22)\n",
    "\n",
    "means = [[2, 2], [4, 2]]\n",
    "cov = [[.7, 0], [0, .7]]\n",
    "N = 20\n",
    "X0 = np.random.multivariate_normal(means[0], cov, N) \n",
    "X1 = np.random.multivariate_normal(means[1], cov, N)"
   ]
  },
  {
   "cell_type": "code",
   "execution_count": 11,
   "metadata": {},
   "outputs": [
    {
     "data": {
      "image/png": "[encoded data removed]",
      "text/plain": [
       "<Figure size 432x288 with 1 Axes>"
      ]
     },
     "metadata": {},
     "output_type": "display_data"
    }
   ],
   "source": [
    "#with PdfPages('data.pdf') as pdf:\n",
    "plt.plot(X0[:, 0], X0[:, 1], 'bs', markersize = 8, alpha = 1)\n",
    "plt.plot(X1[:, 0], X1[:, 1], 'ro', markersize = 8, alpha = 1)\n",
    "plt.axis('equal')\n",
    "plt.ylim(0, 4)\n",
    "plt.xlim(0, 5)\n",
    "\n",
    "# hide tikcs \n",
    "cur_axes = plt.gca()\n",
    "cur_axes.axes.get_xaxis().set_ticks([])\n",
    "cur_axes.axes.get_yaxis().set_ticks([])\n",
    "\n",
    "plt.xlabel('$x_1$', fontsize = 20)\n",
    "plt.ylabel('$x_2$', fontsize = 20)\n",
    "    #pdf.savefig()\n",
    "    # plt.savefig('logistic_2d.png', bbox_inches='tight', dpi = 300)\n",
    "plt.show()"
   ]
  },
  {
   "cell_type": "code",
   "execution_count": 12,
   "metadata": {},
   "outputs": [],
   "source": [
    "X = np.vstack((X0, X1))\n",
    "y = np.vstack((np.ones((N,1 )), -np.ones((N,1 )))).reshape((2*N,))"
   ]
  },
  {
   "cell_type": "markdown",
   "metadata": {},
   "source": [
    "#### Using sklearn"
   ]
  },
  {
   "cell_type": "code",
   "execution_count": 13,
   "metadata": {},
   "outputs": [],
   "source": [
    "from sklearn.svm import SVC"
   ]
  },
  {
   "cell_type": "code",
   "execution_count": 14,
   "metadata": {},
   "outputs": [],
   "source": [
    "C = 100\n",
    "clf = SVC(kernel = 'linear', C = C)\n",
    "clf.fit(X, y) \n",
    "\n",
    "w_sklearn = clf.coef_.reshape(-1, 1)\n",
    "b_sklearn = clf.intercept_[0]"
   ]
  },
  {
   "cell_type": "code",
   "execution_count": 15,
   "metadata": {},
   "outputs": [
    {
     "name": "stdout",
     "output_type": "stream",
     "text": [
      "[[-1.87461946 -1.80697358]] 8.496911901960104\n"
     ]
    }
   ],
   "source": [
    "print(w_sklearn.T, b_sklearn)"
   ]
  },
  {
   "cell_type": "markdown",
   "metadata": {},
   "source": [
    "#### Using duality problem"
   ]
  },
  {
   "cell_type": "code",
   "execution_count": 16,
   "metadata": {},
   "outputs": [
    {
     "name": "stdout",
     "output_type": "stream",
     "text": [
      "lambda = \n",
      " [[1.11381472e-06 9.99999967e+01 1.10533113e-06 6.70163542e-06\n",
      "  3.40838760e+01 4.73972851e-06 9.99999978e+01 3.13320448e-06\n",
      "  9.99999985e+01 5.06729333e+01 9.99999929e+01 3.23564235e-06\n",
      "  9.99999984e+01 9.99999948e+01 1.37977626e-06 9.99997155e+01\n",
      "  3.45005661e-06 1.46190315e-06 5.50601998e-06 1.45062544e-06\n",
      "  1.85373848e-06 1.14181647e-06 8.47565685e+01 9.99999966e+01\n",
      "  9.99999971e+01 8.00764710e-07 2.65537194e-06 1.45230729e-06\n",
      "  4.15737086e-06 9.99999887e+01 9.99999761e+01 8.98414772e-07\n",
      "  9.99999979e+01 1.75651608e-06 8.27947898e-07 1.04289117e-06\n",
      "  9.99999969e+01 9.07920761e-07 8.83138298e-07 9.99999971e+01]]\n"
     ]
    }
   ],
   "source": [
    "from cvxopt import matrix, solvers\n",
    "# build K\n",
    "V = np.concatenate((X0.T, -X1.T), axis = 1)\n",
    "K = matrix(V.T.dot(V))\n",
    "\n",
    "p = matrix(-np.ones((2*N, 1)))\n",
    "# build A, b, G, h \n",
    "G = matrix(np.vstack((-np.eye(2*N), np.eye(2*N))))\n",
    "\n",
    "h = matrix(np.vstack((np.zeros((2*N, 1)), C*np.ones((2*N, 1)))))\n",
    "A = matrix(y.reshape((-1, 2*N))) \n",
    "b = matrix(np.zeros((1, 1))) \n",
    "solvers.options['show_progress'] = False\n",
    "sol = solvers.qp(K, p, G, h, A, b)\n",
    "\n",
    "l = np.array(sol['x'])\n",
    "print('lambda = \\n', l.T)"
   ]
  },
  {
   "cell_type": "code",
   "execution_count": null,
   "metadata": {},
   "outputs": [],
   "source": [
    "l.T"
   ]
  },
  {
   "cell_type": "code",
   "execution_count": 17,
   "metadata": {},
   "outputs": [],
   "source": [
    "S = np.where(l > 1e-5)[0]\n",
    "S2 = np.where(l < .99*C)[0]\n",
    "\n",
    "M = [val for val in S if val in S2] # intersection of two lists"
   ]
  },
  {
   "cell_type": "code",
   "execution_count": 18,
   "metadata": {},
   "outputs": [],
   "source": [
    "XT = X.T # we need each col is one data point in this alg\n",
    "VS = V[:, S]\n",
    "# XS = XT[:, S]\n",
    "# yS = y[ S]\n",
    "lS = l[S]\n",
    "# lM = l[M]\n",
    "yM = y[M]\n",
    "XM = XT[:, M]\n",
    "w_dual = VS.dot(lS).reshape(-1, 1)\n",
    "b_dual = np.mean(yM.T - w_dual.T.dot(XM))"
   ]
  },
  {
   "cell_type": "code",
   "execution_count": 19,
   "metadata": {},
   "outputs": [
    {
     "name": "stdout",
     "output_type": "stream",
     "text": [
      "[[-1.87457279 -1.80695039]] 8.496721098145045\n"
     ]
    }
   ],
   "source": [
    "print(w_dual.T, b_dual) "
   ]
  },
  {
   "cell_type": "markdown",
   "metadata": {},
   "source": [
    "#### Using gradient descent"
   ]
  },
  {
   "cell_type": "code",
   "execution_count": 20,
   "metadata": {},
   "outputs": [],
   "source": [
    "def cost(w, lam):\n",
    "    u = w.T.dot(Z) # as in (23)\n",
    "    return (np.sum(np.maximum(0, 1 - u)) + \\\n",
    "            .5*lam*np.sum(w*w)) - .5*lam*w[-1]*w[-1]\n",
    "\n",
    "def grad(w, lam):\n",
    "    u = w.T.dot(Z) # as in (23)\n",
    "    H = np.where(u < 1)[1]\n",
    "    ZS = Z[:, H]\n",
    "    g = (-np.sum(ZS, axis = 1, keepdims = True) + lam*w)\n",
    "    g[-1] -= lam*w[-1]\n",
    "    return g\n",
    "\n",
    "eps = 1e-6\n",
    "def num_grad(w):\n",
    "    g = np.zeros_like(w)\n",
    "    for i in range(len(w)):\n",
    "        wp = w.copy()\n",
    "        wm = w.copy()\n",
    "        wp[i] += eps \n",
    "        wm[i] -= eps \n",
    "        g[i] = (cost(wp, lam) - cost(wm, lam))/(2*eps)\n",
    "    return g "
   ]
  },
  {
   "cell_type": "code",
   "execution_count": 21,
   "metadata": {},
   "outputs": [],
   "source": [
    "def grad_descent(w0, eta, lam):\n",
    "    w = w0\n",
    "    it = 0 \n",
    "    while it < 100000:\n",
    "        it = it + 1\n",
    "        g = grad(w, lam)\n",
    "        w -= eta*g\n",
    "        if (it % 10000) == 1:\n",
    "            print('iter %d' %it + ' cost: %f' %cost(w, lam))\n",
    "        if np.linalg.norm(g) < 1e-5:\n",
    "            break \n",
    "    return w "
   ]
  },
  {
   "cell_type": "code",
   "execution_count": 22,
   "metadata": {},
   "outputs": [],
   "source": [
    "X0_bar = np.vstack((X0.T, np.ones((1, N)))) # extended data\n",
    "X1_bar = np.vstack((X1.T, np.ones((1, N)))) # extended data \n",
    "\n",
    "Z = np.hstack((X0_bar, - X1_bar)) # as in (22)\n",
    "lam = 1./C"
   ]
  },
  {
   "cell_type": "code",
   "execution_count": 23,
   "metadata": {},
   "outputs": [
    {
     "name": "stdout",
     "output_type": "stream",
     "text": [
      "Gradient difference: 0.000000\n"
     ]
    }
   ],
   "source": [
    "w0 = np.random.randn(X0_bar.shape[0], 1) \n",
    "g1 = grad(w0, lam)\n",
    "g2 = num_grad(w0)\n",
    "diff = np.linalg.norm(g1 - g2)\n",
    "print('Gradient difference: %f' %diff)"
   ]
  },
  {
   "cell_type": "code",
   "execution_count": 24,
   "metadata": {},
   "outputs": [
    {
     "name": "stdout",
     "output_type": "stream",
     "text": [
      "iter 1 cost: 62.790027\n",
      "iter 10001 cost: 15.755286\n",
      "iter 20001 cost: 15.744316\n",
      "iter 30001 cost: 15.724746\n",
      "iter 40001 cost: 15.710856\n",
      "iter 50001 cost: 15.694064\n",
      "iter 60001 cost: 15.681147\n",
      "iter 70001 cost: 15.673648\n",
      "iter 80001 cost: 15.664280\n",
      "iter 90001 cost: 15.664696\n",
      "[[-1.86263592 -1.79456742]] [8.44935171]\n"
     ]
    }
   ],
   "source": [
    "w0 = np.random.randn(X0_bar.shape[0], 1) \n",
    "w = grad_descent(w0, 0.001, lam)\n",
    "w_hinge = w[:-1].reshape(-1, 1)\n",
    "b_hinge = w[-1]\n",
    "print(w_hinge.T, b_hinge)"
   ]
  },
  {
   "cell_type": "code",
   "execution_count": 25,
   "metadata": {},
   "outputs": [],
   "source": [
    "def plotResult(X0, X1, w, b, title):\n",
    "    fig, ax = plt.subplots()\n",
    "\n",
    "    w0 = w[0]\n",
    "    w1 = w[1]\n",
    "    x1 = np.arange(-10, 10, 0.1)\n",
    "    y1 = -w0/w1*x1 - b/w1\n",
    "    y2 = -w0/w1*x1 - (b-1)/w1\n",
    "    y3 = -w0/w1*x1 - (b+1)/w1\n",
    "    plt.plot(x1, y1, 'k', linewidth = 3)\n",
    "    plt.plot(x1, y2, 'k')\n",
    "    plt.plot(x1, y3, 'k')\n",
    "\n",
    "    # equal axis and lim\n",
    "    plt.axis('equal')\n",
    "    plt.ylim(0, 3)\n",
    "    plt.xlim(2, 4)\n",
    "\n",
    "    # hide tikcs \n",
    "    cur_axes = plt.gca()\n",
    "    cur_axes.axes.get_xaxis().set_ticks([])\n",
    "    cur_axes.axes.get_yaxis().set_ticks([])\n",
    "\n",
    "    # fill two regions\n",
    "    y4 = 10*x1\n",
    "    plt.plot(x1, y1, 'k')\n",
    "    plt.fill_between(x1, y1, color='blue', alpha='0.1')\n",
    "    plt.fill_between(x1, y1, y4, color = 'red', alpha = '.1')\n",
    "\n",
    "    plt.xlabel('$x_1$', fontsize=12)\n",
    "    plt.ylabel('$x_2$', fontsize=12)\n",
    "    plt.title('Solution found by ' + title, fontsize=12)\n",
    "\n",
    "    plt.plot(X0[:, 0], X0[:, 1], 'bs', markersize = 8, alpha = .8)\n",
    "    plt.plot(X1[:, 0], X1[:, 1], 'ro', markersize = 8, alpha = .8)\n",
    "    plt.show()"
   ]
  },
  {
   "cell_type": "code",
   "execution_count": 26,
   "metadata": {},
   "outputs": [
    {
     "data": {
      "image/png": "[encoded data removed]",
      "text/plain": [
       "<Figure size 432x288 with 1 Axes>"
      ]
     },
     "metadata": {},
     "output_type": "display_data"
    },
    {
     "data": {
      "image/png": "[encoded data removed]",
      "text/plain": [
       "<Figure size 432x288 with 1 Axes>"
      ]
     },
     "metadata": {},
     "output_type": "display_data"
    },
    {
     "data": {
      "image/png": "[encoded data removed]",
      "text/plain": [
       "<Figure size 432x288 with 1 Axes>"
      ]
     },
     "metadata": {},
     "output_type": "display_data"
    }
   ],
   "source": [
    "plotResult(X0, X1, w_sklearn, b_sklearn, 'sklearn')\n",
    "plotResult(X0, X1, w_dual, b_dual, 'dual')\n",
    "plotResult(X0, X1, w_hinge, b_hinge, 'hinge')"
   ]
  },
  {
   "cell_type": "code",
   "execution_count": 27,
   "metadata": {},
   "outputs": [],
   "source": [
    "# Change C\n",
    "lsC = [1e-2, 1, 10, 1000]"
   ]
  },
  {
   "cell_type": "code",
   "execution_count": 28,
   "metadata": {
    "scrolled": false
   },
   "outputs": [
    {
     "name": "stdout",
     "output_type": "stream",
     "text": [
      "iter 1 cost: 63.152086\n",
      "[[-0.26597685 -0.10252722]] [0.51384458]\n"
     ]
    },
    {
     "data": {
      "image/png": "[encoded data removed]",
      "text/plain": [
       "<Figure size 432x288 with 1 Axes>"
      ]
     },
     "metadata": {},
     "output_type": "display_data"
    },
    {
     "name": "stdout",
     "output_type": "stream",
     "text": [
      "iter 1 cost: 41.500885\n",
      "iter 10001 cost: 17.247928\n",
      "iter 20001 cost: 17.246850\n",
      "iter 30001 cost: 17.257192\n",
      "iter 40001 cost: 17.246764\n",
      "iter 50001 cost: 17.246005\n",
      "iter 60001 cost: 17.249043\n",
      "iter 70001 cost: 17.248268\n",
      "iter 80001 cost: 17.247521\n",
      "iter 90001 cost: 17.246766\n",
      "[[-1.07999181 -1.08172316]] [5.32459356]\n"
     ]
    },
    {
     "data": {
      "image/png": "[encoded data removed]",
      "text/plain": [
       "<Figure size 432x288 with 1 Axes>"
      ]
     },
     "metadata": {},
     "output_type": "display_data"
    },
    {
     "name": "stdout",
     "output_type": "stream",
     "text": [
      "iter 1 cost: 80.946891\n",
      "iter 10001 cost: 15.914234\n",
      "iter 20001 cost: 15.926898\n",
      "iter 30001 cost: 15.905940\n",
      "iter 40001 cost: 15.914622\n",
      "iter 50001 cost: 15.914128\n",
      "iter 60001 cost: 15.926790\n",
      "iter 70001 cost: 15.906097\n",
      "iter 80001 cost: 15.914515\n",
      "iter 90001 cost: 15.914017\n",
      "[[-1.31194901 -1.25959209]] [6.23154089]\n"
     ]
    },
    {
     "data": {
      "image/png": "[encoded data removed]",
      "text/plain": [
       "<Figure size 432x288 with 1 Axes>"
      ]
     },
     "metadata": {},
     "output_type": "display_data"
    },
    {
     "name": "stdout",
     "output_type": "stream",
     "text": [
      "iter 1 cost: 65.750434\n",
      "iter 10001 cost: 15.739214\n",
      "iter 20001 cost: 15.711834\n",
      "iter 30001 cost: 15.700432\n",
      "iter 40001 cost: 15.675531\n",
      "iter 50001 cost: 15.649431\n",
      "iter 60001 cost: 15.633358\n",
      "iter 70001 cost: 15.642590\n",
      "iter 80001 cost: 15.644661\n",
      "iter 90001 cost: 15.642853\n",
      "[[-1.86607149 -1.79595957]] [8.44999285]\n"
     ]
    },
    {
     "data": {
      "image/png": "[encoded data removed]",
      "text/plain": [
       "<Figure size 432x288 with 1 Axes>"
      ]
     },
     "metadata": {},
     "output_type": "display_data"
    }
   ],
   "source": [
    "X0_bar = np.vstack((X0.T, np.ones((1, N)))) # extended data\n",
    "X1_bar = np.vstack((X1.T, np.ones((1, N)))) # extended data \n",
    "\n",
    "Z = np.hstack((X0_bar, - X1_bar)) # as in (22)\n",
    "for C in lsC:\n",
    "    lam = 1./C\n",
    "    w0 = np.random.randn(X0_bar.shape[0], 1) \n",
    "    w = grad_descent(w0, 0.001, lam)\n",
    "    w_hinge = w[:-1].reshape(-1, 1)\n",
    "    b_hinge = w[-1]\n",
    "    print(w_hinge.T, b_hinge)\n",
    "    plotResult(X0, X1, w_hinge, b_hinge, 'hinge')"
   ]
  },
  {
   "cell_type": "code",
   "execution_count": null,
   "metadata": {},
   "outputs": [],
   "source": []
  },
  {
   "cell_type": "markdown",
   "metadata": {},
   "source": [
    "### 3. Kernel function demo"
   ]
  },
  {
   "cell_type": "code",
   "execution_count": 29,
   "metadata": {},
   "outputs": [],
   "source": [
    "import numpy as np\n",
    "import matplotlib.pyplot as plt\n",
    "from sklearn import svm\n",
    "\n",
    "# XOR dataset and targets\n",
    "X = np.c_[(0, 0),\n",
    "          (1, 1),\n",
    "          #---\n",
    "          (1, 0),\n",
    "          (0, 1)].T\n",
    "Y = [0] * 2 + [1] * 2"
   ]
  },
  {
   "cell_type": "code",
   "execution_count": 30,
   "metadata": {},
   "outputs": [
    {
     "data": {
      "image/png": "[encoded data removed]",
      "text/plain": [
       "<Figure size 432x288 with 1 Axes>"
      ]
     },
     "metadata": {},
     "output_type": "display_data"
    },
    {
     "data": {
      "image/png": "[encoded data removed]",
      "text/plain": [
       "<Figure size 432x288 with 1 Axes>"
      ]
     },
     "metadata": {},
     "output_type": "display_data"
    },
    {
     "data": {
      "image/png": "[encoded data removed]",
      "text/plain": [
       "<Figure size 432x288 with 1 Axes>"
      ]
     },
     "metadata": {},
     "output_type": "display_data"
    }
   ],
   "source": [
    "# figure number\n",
    "fignum = 1\n",
    "\n",
    "# fit the model\n",
    "for kernel in ('sigmoid', 'poly', 'rbf'):\n",
    "    clf = svm.SVC(kernel=kernel, gamma=4, coef0 = 0)\n",
    "    clf.fit(X, Y)\n",
    "    # plot the line, the points, and the nearest vectors to the plane\n",
    "    fig, ax = plt.subplots()\n",
    "    plt.figure(fignum, figsize=(4, 3))\n",
    "    plt.clf()\n",
    "\n",
    "    plt.scatter(clf.support_vectors_[:, 0], clf.support_vectors_[:, 1], s=80,\n",
    "                facecolors='None')\n",
    "    plt.plot(X[:2, 0], X[:2, 1], 'ro', markersize = 8)\n",
    "    plt.plot(X[2:, 0], X[2:, 1], 'bs', markersize = 8)\n",
    "\n",
    "    plt.axis('tight')\n",
    "    x_min, x_max = -2, 3\n",
    "    y_min, y_max = -2, 3\n",
    "\n",
    "    XX, YY = np.mgrid[x_min:x_max:200j, y_min:y_max:200j]\n",
    "    Z = clf.decision_function(np.c_[XX.ravel(), YY.ravel()])\n",
    "\n",
    "    # Put the result into a color plot\n",
    "    Z = Z.reshape(XX.shape)\n",
    "    plt.figure(fignum, figsize=(4, 3))\n",
    "    CS = plt.contourf(XX, YY, np.sign(Z), 200, cmap='jet', alpha = .2)\n",
    "    plt.contour(XX, YY, Z, colors=['k', 'k', 'k'], linestyles=['--', '-', '--'],\n",
    "                levels=[-.5, 0, .5])\n",
    "    plt.title(kernel, fontsize = 15)\n",
    "    plt.xlim(x_min, x_max)\n",
    "    plt.ylim(y_min, y_max)\n",
    "\n",
    "    plt.xticks(())\n",
    "    plt.yticks(())\n",
    "    fignum = fignum + 1\n",
    "plt.show()"
   ]
  },
  {
   "cell_type": "markdown",
   "metadata": {},
   "source": [
    "### 4. SVM applications"
   ]
  },
  {
   "cell_type": "code",
   "execution_count": 31,
   "metadata": {},
   "outputs": [],
   "source": [
    "import pandas as pd"
   ]
  },
  {
   "cell_type": "code",
   "execution_count": 32,
   "metadata": {},
   "outputs": [],
   "source": [
    "from sklearn.model_selection import train_test_split\n",
    "from sklearn.model_selection import cross_val_score\n",
    "from sklearn.model_selection import StratifiedShuffleSplit\n",
    "from sklearn.metrics import confusion_matrix \n",
    "from sklearn import datasets"
   ]
  },
  {
   "cell_type": "code",
   "execution_count": 33,
   "metadata": {},
   "outputs": [
    {
     "data": {
      "text/html": [
       "<div>\n",
       "<style scoped>\n",
       "    .dataframe tbody tr th:only-of-type {\n",
       "        vertical-align: middle;\n",
       "    }\n",
       "\n",
       "    .dataframe tbody tr th {\n",
       "        vertical-align: top;\n",
       "    }\n",
       "\n",
       "    .dataframe thead th {\n",
       "        text-align: right;\n",
       "    }\n",
       "</style>\n",
       "<table border=\"1\" class=\"dataframe\">\n",
       "  <thead>\n",
       "    <tr style=\"text-align: right;\">\n",
       "      <th></th>\n",
       "      <th>sepal_length</th>\n",
       "      <th>sepal_width</th>\n",
       "      <th>petal_length</th>\n",
       "      <th>petal_width</th>\n",
       "      <th>species</th>\n",
       "    </tr>\n",
       "  </thead>\n",
       "  <tbody>\n",
       "    <tr>\n",
       "      <th>0</th>\n",
       "      <td>5.1</td>\n",
       "      <td>3.5</td>\n",
       "      <td>1.4</td>\n",
       "      <td>0.2</td>\n",
       "      <td>Iris-setosa</td>\n",
       "    </tr>\n",
       "    <tr>\n",
       "      <th>1</th>\n",
       "      <td>4.9</td>\n",
       "      <td>3.0</td>\n",
       "      <td>1.4</td>\n",
       "      <td>0.2</td>\n",
       "      <td>Iris-setosa</td>\n",
       "    </tr>\n",
       "    <tr>\n",
       "      <th>2</th>\n",
       "      <td>4.7</td>\n",
       "      <td>3.2</td>\n",
       "      <td>1.3</td>\n",
       "      <td>0.2</td>\n",
       "      <td>Iris-setosa</td>\n",
       "    </tr>\n",
       "    <tr>\n",
       "      <th>3</th>\n",
       "      <td>4.6</td>\n",
       "      <td>3.1</td>\n",
       "      <td>1.5</td>\n",
       "      <td>0.2</td>\n",
       "      <td>Iris-setosa</td>\n",
       "    </tr>\n",
       "    <tr>\n",
       "      <th>4</th>\n",
       "      <td>5.0</td>\n",
       "      <td>3.6</td>\n",
       "      <td>1.4</td>\n",
       "      <td>0.2</td>\n",
       "      <td>Iris-setosa</td>\n",
       "    </tr>\n",
       "  </tbody>\n",
       "</table>\n",
       "</div>"
      ],
      "text/plain": [
       "   sepal_length  sepal_width  petal_length  petal_width      species\n",
       "0           5.1          3.5           1.4          0.2  Iris-setosa\n",
       "1           4.9          3.0           1.4          0.2  Iris-setosa\n",
       "2           4.7          3.2           1.3          0.2  Iris-setosa\n",
       "3           4.6          3.1           1.5          0.2  Iris-setosa\n",
       "4           5.0          3.6           1.4          0.2  Iris-setosa"
      ]
     },
     "execution_count": 33,
     "metadata": {},
     "output_type": "execute_result"
    }
   ],
   "source": [
    "## Iris flowers classification using svm\n",
    "filename = \"IRIS.csv\"\n",
    "pdfData = pd.read_csv(filename)\n",
    "pdfData.head()"
   ]
  },
  {
   "cell_type": "code",
   "execution_count": 34,
   "metadata": {},
   "outputs": [
    {
     "data": {
      "text/plain": [
       "(150, 5)"
      ]
     },
     "execution_count": 34,
     "metadata": {},
     "output_type": "execute_result"
    }
   ],
   "source": [
    "pdfData.shape"
   ]
  },
  {
   "cell_type": "code",
   "execution_count": 35,
   "metadata": {},
   "outputs": [
    {
     "data": {
      "image/png": "[encoded data removed]",
      "text/plain": [
       "<Figure size 1440x1080 with 4 Axes>"
      ]
     },
     "metadata": {
      "needs_background": "light"
     },
     "output_type": "display_data"
    }
   ],
   "source": [
    "pdfData.hist(bins=50, figsize=(20,15))\n",
    "plt.show()"
   ]
  },
  {
   "cell_type": "code",
   "execution_count": 36,
   "metadata": {},
   "outputs": [],
   "source": [
    "trainSet, testSet = train_test_split(pdfData, test_size=0.2, random_state=42)"
   ]
  },
  {
   "cell_type": "code",
   "execution_count": 37,
   "metadata": {},
   "outputs": [
    {
     "name": "stdout",
     "output_type": "stream",
     "text": [
      "{'Iris-setosa', 'Iris-virginica', 'Iris-versicolor'}\n"
     ]
    }
   ],
   "source": [
    "lsLabel = set(pdfData[\"species\"])\n",
    "print(lsLabel)"
   ]
  },
  {
   "cell_type": "code",
   "execution_count": 38,
   "metadata": {},
   "outputs": [
    {
     "data": {
      "text/html": [
       "<div>\n",
       "<style scoped>\n",
       "    .dataframe tbody tr th:only-of-type {\n",
       "        vertical-align: middle;\n",
       "    }\n",
       "\n",
       "    .dataframe tbody tr th {\n",
       "        vertical-align: top;\n",
       "    }\n",
       "\n",
       "    .dataframe thead th {\n",
       "        text-align: right;\n",
       "    }\n",
       "</style>\n",
       "<table border=\"1\" class=\"dataframe\">\n",
       "  <thead>\n",
       "    <tr style=\"text-align: right;\">\n",
       "      <th></th>\n",
       "      <th>sepal_length</th>\n",
       "      <th>sepal_width</th>\n",
       "      <th>petal_length</th>\n",
       "      <th>petal_width</th>\n",
       "      <th>species</th>\n",
       "    </tr>\n",
       "  </thead>\n",
       "  <tbody>\n",
       "    <tr>\n",
       "      <th>0</th>\n",
       "      <td>5.1</td>\n",
       "      <td>3.5</td>\n",
       "      <td>1.4</td>\n",
       "      <td>0.2</td>\n",
       "      <td>Iris-setosa</td>\n",
       "    </tr>\n",
       "    <tr>\n",
       "      <th>1</th>\n",
       "      <td>4.9</td>\n",
       "      <td>3.0</td>\n",
       "      <td>1.4</td>\n",
       "      <td>0.2</td>\n",
       "      <td>Iris-setosa</td>\n",
       "    </tr>\n",
       "    <tr>\n",
       "      <th>2</th>\n",
       "      <td>4.7</td>\n",
       "      <td>3.2</td>\n",
       "      <td>1.3</td>\n",
       "      <td>0.2</td>\n",
       "      <td>Iris-setosa</td>\n",
       "    </tr>\n",
       "    <tr>\n",
       "      <th>3</th>\n",
       "      <td>4.6</td>\n",
       "      <td>3.1</td>\n",
       "      <td>1.5</td>\n",
       "      <td>0.2</td>\n",
       "      <td>Iris-setosa</td>\n",
       "    </tr>\n",
       "    <tr>\n",
       "      <th>4</th>\n",
       "      <td>5.0</td>\n",
       "      <td>3.6</td>\n",
       "      <td>1.4</td>\n",
       "      <td>0.2</td>\n",
       "      <td>Iris-setosa</td>\n",
       "    </tr>\n",
       "  </tbody>\n",
       "</table>\n",
       "</div>"
      ],
      "text/plain": [
       "   sepal_length  sepal_width  petal_length  petal_width      species\n",
       "0           5.1          3.5           1.4          0.2  Iris-setosa\n",
       "1           4.9          3.0           1.4          0.2  Iris-setosa\n",
       "2           4.7          3.2           1.3          0.2  Iris-setosa\n",
       "3           4.6          3.1           1.5          0.2  Iris-setosa\n",
       "4           5.0          3.6           1.4          0.2  Iris-setosa"
      ]
     },
     "execution_count": 38,
     "metadata": {},
     "output_type": "execute_result"
    }
   ],
   "source": [
    "pdfData.head()"
   ]
  },
  {
   "cell_type": "code",
   "execution_count": 39,
   "metadata": {},
   "outputs": [],
   "source": [
    "for l in lsLabel:\n",
    "    pdfData[\"label_%s\"%l[5:]] = (pdfData[\"species\"] == l)"
   ]
  },
  {
   "cell_type": "code",
   "execution_count": 40,
   "metadata": {},
   "outputs": [
    {
     "data": {
      "text/html": [
       "<div>\n",
       "<style scoped>\n",
       "    .dataframe tbody tr th:only-of-type {\n",
       "        vertical-align: middle;\n",
       "    }\n",
       "\n",
       "    .dataframe tbody tr th {\n",
       "        vertical-align: top;\n",
       "    }\n",
       "\n",
       "    .dataframe thead th {\n",
       "        text-align: right;\n",
       "    }\n",
       "</style>\n",
       "<table border=\"1\" class=\"dataframe\">\n",
       "  <thead>\n",
       "    <tr style=\"text-align: right;\">\n",
       "      <th></th>\n",
       "      <th>sepal_length</th>\n",
       "      <th>sepal_width</th>\n",
       "      <th>petal_length</th>\n",
       "      <th>petal_width</th>\n",
       "      <th>species</th>\n",
       "      <th>label_setosa</th>\n",
       "      <th>label_virginica</th>\n",
       "      <th>label_versicolor</th>\n",
       "    </tr>\n",
       "  </thead>\n",
       "  <tbody>\n",
       "    <tr>\n",
       "      <th>0</th>\n",
       "      <td>5.1</td>\n",
       "      <td>3.5</td>\n",
       "      <td>1.4</td>\n",
       "      <td>0.2</td>\n",
       "      <td>Iris-setosa</td>\n",
       "      <td>True</td>\n",
       "      <td>False</td>\n",
       "      <td>False</td>\n",
       "    </tr>\n",
       "    <tr>\n",
       "      <th>1</th>\n",
       "      <td>4.9</td>\n",
       "      <td>3.0</td>\n",
       "      <td>1.4</td>\n",
       "      <td>0.2</td>\n",
       "      <td>Iris-setosa</td>\n",
       "      <td>True</td>\n",
       "      <td>False</td>\n",
       "      <td>False</td>\n",
       "    </tr>\n",
       "    <tr>\n",
       "      <th>2</th>\n",
       "      <td>4.7</td>\n",
       "      <td>3.2</td>\n",
       "      <td>1.3</td>\n",
       "      <td>0.2</td>\n",
       "      <td>Iris-setosa</td>\n",
       "      <td>True</td>\n",
       "      <td>False</td>\n",
       "      <td>False</td>\n",
       "    </tr>\n",
       "    <tr>\n",
       "      <th>3</th>\n",
       "      <td>4.6</td>\n",
       "      <td>3.1</td>\n",
       "      <td>1.5</td>\n",
       "      <td>0.2</td>\n",
       "      <td>Iris-setosa</td>\n",
       "      <td>True</td>\n",
       "      <td>False</td>\n",
       "      <td>False</td>\n",
       "    </tr>\n",
       "    <tr>\n",
       "      <th>4</th>\n",
       "      <td>5.0</td>\n",
       "      <td>3.6</td>\n",
       "      <td>1.4</td>\n",
       "      <td>0.2</td>\n",
       "      <td>Iris-setosa</td>\n",
       "      <td>True</td>\n",
       "      <td>False</td>\n",
       "      <td>False</td>\n",
       "    </tr>\n",
       "  </tbody>\n",
       "</table>\n",
       "</div>"
      ],
      "text/plain": [
       "   sepal_length  sepal_width  petal_length  petal_width      species  \\\n",
       "0           5.1          3.5           1.4          0.2  Iris-setosa   \n",
       "1           4.9          3.0           1.4          0.2  Iris-setosa   \n",
       "2           4.7          3.2           1.3          0.2  Iris-setosa   \n",
       "3           4.6          3.1           1.5          0.2  Iris-setosa   \n",
       "4           5.0          3.6           1.4          0.2  Iris-setosa   \n",
       "\n",
       "   label_setosa  label_virginica  label_versicolor  \n",
       "0          True            False             False  \n",
       "1          True            False             False  \n",
       "2          True            False             False  \n",
       "3          True            False             False  \n",
       "4          True            False             False  "
      ]
     },
     "execution_count": 40,
     "metadata": {},
     "output_type": "execute_result"
    }
   ],
   "source": [
    "pdfData.head()"
   ]
  },
  {
   "cell_type": "code",
   "execution_count": 41,
   "metadata": {},
   "outputs": [],
   "source": [
    "# Look for correlation\n",
    "corrMatrix = pdfData.corr()"
   ]
  },
  {
   "cell_type": "code",
   "execution_count": 42,
   "metadata": {},
   "outputs": [
    {
     "data": {
      "text/html": [
       "<div>\n",
       "<style scoped>\n",
       "    .dataframe tbody tr th:only-of-type {\n",
       "        vertical-align: middle;\n",
       "    }\n",
       "\n",
       "    .dataframe tbody tr th {\n",
       "        vertical-align: top;\n",
       "    }\n",
       "\n",
       "    .dataframe thead th {\n",
       "        text-align: right;\n",
       "    }\n",
       "</style>\n",
       "<table border=\"1\" class=\"dataframe\">\n",
       "  <thead>\n",
       "    <tr style=\"text-align: right;\">\n",
       "      <th></th>\n",
       "      <th>sepal_length</th>\n",
       "      <th>sepal_width</th>\n",
       "      <th>petal_length</th>\n",
       "      <th>petal_width</th>\n",
       "      <th>label_setosa</th>\n",
       "      <th>label_virginica</th>\n",
       "      <th>label_versicolor</th>\n",
       "    </tr>\n",
       "  </thead>\n",
       "  <tbody>\n",
       "    <tr>\n",
       "      <th>sepal_length</th>\n",
       "      <td>1.000000</td>\n",
       "      <td>-0.109369</td>\n",
       "      <td>0.871754</td>\n",
       "      <td>0.817954</td>\n",
       "      <td>-0.717416</td>\n",
       "      <td>0.638020</td>\n",
       "      <td>0.079396</td>\n",
       "    </tr>\n",
       "    <tr>\n",
       "      <th>sepal_width</th>\n",
       "      <td>-0.109369</td>\n",
       "      <td>1.000000</td>\n",
       "      <td>-0.420516</td>\n",
       "      <td>-0.356544</td>\n",
       "      <td>0.595601</td>\n",
       "      <td>-0.130901</td>\n",
       "      <td>-0.464700</td>\n",
       "    </tr>\n",
       "    <tr>\n",
       "      <th>petal_length</th>\n",
       "      <td>0.871754</td>\n",
       "      <td>-0.420516</td>\n",
       "      <td>1.000000</td>\n",
       "      <td>0.962757</td>\n",
       "      <td>-0.922688</td>\n",
       "      <td>0.721102</td>\n",
       "      <td>0.201587</td>\n",
       "    </tr>\n",
       "    <tr>\n",
       "      <th>petal_width</th>\n",
       "      <td>0.817954</td>\n",
       "      <td>-0.356544</td>\n",
       "      <td>0.962757</td>\n",
       "      <td>1.000000</td>\n",
       "      <td>-0.887510</td>\n",
       "      <td>0.769134</td>\n",
       "      <td>0.118376</td>\n",
       "    </tr>\n",
       "    <tr>\n",
       "      <th>label_setosa</th>\n",
       "      <td>-0.717416</td>\n",
       "      <td>0.595601</td>\n",
       "      <td>-0.922688</td>\n",
       "      <td>-0.887510</td>\n",
       "      <td>1.000000</td>\n",
       "      <td>-0.500000</td>\n",
       "      <td>-0.500000</td>\n",
       "    </tr>\n",
       "    <tr>\n",
       "      <th>label_virginica</th>\n",
       "      <td>0.638020</td>\n",
       "      <td>-0.130901</td>\n",
       "      <td>0.721102</td>\n",
       "      <td>0.769134</td>\n",
       "      <td>-0.500000</td>\n",
       "      <td>1.000000</td>\n",
       "      <td>-0.500000</td>\n",
       "    </tr>\n",
       "    <tr>\n",
       "      <th>label_versicolor</th>\n",
       "      <td>0.079396</td>\n",
       "      <td>-0.464700</td>\n",
       "      <td>0.201587</td>\n",
       "      <td>0.118376</td>\n",
       "      <td>-0.500000</td>\n",
       "      <td>-0.500000</td>\n",
       "      <td>1.000000</td>\n",
       "    </tr>\n",
       "  </tbody>\n",
       "</table>\n",
       "</div>"
      ],
      "text/plain": [
       "                  sepal_length  sepal_width  petal_length  petal_width  \\\n",
       "sepal_length          1.000000    -0.109369      0.871754     0.817954   \n",
       "sepal_width          -0.109369     1.000000     -0.420516    -0.356544   \n",
       "petal_length          0.871754    -0.420516      1.000000     0.962757   \n",
       "petal_width           0.817954    -0.356544      0.962757     1.000000   \n",
       "label_setosa         -0.717416     0.595601     -0.922688    -0.887510   \n",
       "label_virginica       0.638020    -0.130901      0.721102     0.769134   \n",
       "label_versicolor      0.079396    -0.464700      0.201587     0.118376   \n",
       "\n",
       "                  label_setosa  label_virginica  label_versicolor  \n",
       "sepal_length         -0.717416         0.638020          0.079396  \n",
       "sepal_width           0.595601        -0.130901         -0.464700  \n",
       "petal_length         -0.922688         0.721102          0.201587  \n",
       "petal_width          -0.887510         0.769134          0.118376  \n",
       "label_setosa          1.000000        -0.500000         -0.500000  \n",
       "label_virginica      -0.500000         1.000000         -0.500000  \n",
       "label_versicolor     -0.500000        -0.500000          1.000000  "
      ]
     },
     "execution_count": 42,
     "metadata": {},
     "output_type": "execute_result"
    }
   ],
   "source": [
    "corrMatrix"
   ]
  },
  {
   "cell_type": "code",
   "execution_count": 43,
   "metadata": {},
   "outputs": [
    {
     "name": "stdout",
     "output_type": "stream",
     "text": [
      "label_setosa        1.000000\n",
      "sepal_width         0.595601\n",
      "label_versicolor   -0.500000\n",
      "label_virginica    -0.500000\n",
      "sepal_length       -0.717416\n",
      "petal_width        -0.887510\n",
      "petal_length       -0.922688\n",
      "Name: label_setosa, dtype: float64\n",
      "------------------------------\n",
      "label_virginica     1.000000\n",
      "petal_width         0.769134\n",
      "petal_length        0.721102\n",
      "sepal_length        0.638020\n",
      "sepal_width        -0.130901\n",
      "label_versicolor   -0.500000\n",
      "label_setosa       -0.500000\n",
      "Name: label_virginica, dtype: float64\n",
      "------------------------------\n",
      "label_versicolor    1.000000\n",
      "petal_length        0.201587\n",
      "petal_width         0.118376\n",
      "sepal_length        0.079396\n",
      "sepal_width        -0.464700\n",
      "label_setosa       -0.500000\n",
      "label_virginica    -0.500000\n",
      "Name: label_versicolor, dtype: float64\n",
      "------------------------------\n"
     ]
    }
   ],
   "source": [
    "for l in lsLabel:\n",
    "    print(corrMatrix[\"label_%s\"%l[5:]].sort_values(ascending=False))\n",
    "    print(\"-\"*30)"
   ]
  },
  {
   "cell_type": "code",
   "execution_count": 44,
   "metadata": {},
   "outputs": [],
   "source": [
    "lsFt = [\"sepal_length\", \"sepal_width\", \"petal_length\", \"petal_width\"]\n",
    "training = trainSet[lsFt].dropna().values\n",
    "trainingLabel = trainSet[\"species\"].copy()"
   ]
  },
  {
   "cell_type": "code",
   "execution_count": 45,
   "metadata": {},
   "outputs": [],
   "source": [
    "test = testSet[lsFt].dropna().values\n",
    "testLabel = testSet[\"species\"].copy()"
   ]
  },
  {
   "cell_type": "code",
   "execution_count": 46,
   "metadata": {},
   "outputs": [],
   "source": [
    "clf = {}\n",
    "predictions = {}\n",
    "lsKernel = ('linear', 'poly', 'rbf')\n",
    "for kernel in lsKernel:\n",
    "    clf[kernel] = svm.SVC(kernel=kernel, gamma=4, coef0 = 0)"
   ]
  },
  {
   "cell_type": "code",
   "execution_count": 47,
   "metadata": {},
   "outputs": [
    {
     "data": {
      "text/plain": [
       "{'Iris-setosa', 'Iris-versicolor', 'Iris-virginica'}"
      ]
     },
     "execution_count": 47,
     "metadata": {},
     "output_type": "execute_result"
    }
   ],
   "source": [
    "lsLabel"
   ]
  },
  {
   "cell_type": "code",
   "execution_count": null,
   "metadata": {},
   "outputs": [],
   "source": [
    "import seaborn as sns"
   ]
  },
  {
   "cell_type": "code",
   "execution_count": null,
   "metadata": {},
   "outputs": [],
   "source": [
    "for kernel in lsKernel:\n",
    "    print(kernel)\n",
    "    labels = list(lsLabel)\n",
    "    clf[kernel].fit(training, trainingLabel)\n",
    "    \n",
    "    predictions[kernel] = clf[kernel].predict(test) \n",
    "\n",
    "    # model accuracy for X_test   \n",
    "    accuracy = clf[kernel].score(test, testLabel) \n",
    "    print(accuracy)\n",
    "\n",
    "    # creating a confusion matrix \n",
    "    cm = confusion_matrix(testLabel, predictions[kernel], labels) \n",
    "    print(cm)\n",
    "    \n",
    "    fig = plt.figure()\n",
    "    ax = fig.add_subplot(111)\n",
    "    sns.heatmap(cm, annot=True, ax = ax)\n",
    "    # cax = ax.matshow(cm, cmaps=\"jet\")\n",
    "    # plt.title('Confusion matrix')\n",
    "    fig.colorbar(cax)\n",
    "    ax.set_xticklabels([''] + labels)\n",
    "    ax.set_yticklabels([''] + labels)\n",
    "    plt.xlabel('Predicted')\n",
    "    plt.ylabel('True')\n",
    "    plt.show()\n",
    "    print(\"-\"*30)\n"
   ]
  },
  {
   "cell_type": "code",
   "execution_count": null,
   "metadata": {},
   "outputs": [],
   "source": []
  }
 ],
 "metadata": {
  "kernelspec": {
   "display_name": "Python 3",
   "language": "python",
   "name": "python3"
  },
  "language_info": {
   "codemirror_mode": {
    "name": "ipython",
    "version": 3
   },
   "file_extension": ".py",
   "mimetype": "text/x-python",
   "name": "python",
   "nbconvert_exporter": "python",
   "pygments_lexer": "ipython3",
   "version": "3.6.8"
  }
 },
 "nbformat": 4,
 "nbformat_minor": 2
}
