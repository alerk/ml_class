{
 "cells": [
  {
   "cell_type": "code",
   "execution_count": 1,
   "metadata": {},
   "outputs": [],
   "source": [
    "import pandas as pd\n",
    "import numpy as np\n",
    "import datetime as dt\n",
    "import matplotlib as mpl\n",
    "import matplotlib.pyplot as plt\n",
    "%matplotlib inline\n",
    "from sklearn.model_selection import train_test_split\n",
    "from sklearn.metrics import confusion_matrix, roc_curve, auc, accuracy_score\n"
   ]
  },
  {
   "cell_type": "code",
   "execution_count": 2,
   "metadata": {},
   "outputs": [
    {
     "data": {
      "text/html": [
       "<div>\n",
       "<style scoped>\n",
       "    .dataframe tbody tr th:only-of-type {\n",
       "        vertical-align: middle;\n",
       "    }\n",
       "\n",
       "    .dataframe tbody tr th {\n",
       "        vertical-align: top;\n",
       "    }\n",
       "\n",
       "    .dataframe thead th {\n",
       "        text-align: right;\n",
       "    }\n",
       "</style>\n",
       "<table border=\"1\" class=\"dataframe\">\n",
       "  <thead>\n",
       "    <tr style=\"text-align: right;\">\n",
       "      <th></th>\n",
       "      <th>GENDER</th>\n",
       "      <th>P_BIRTHDAY</th>\n",
       "      <th>Order</th>\n",
       "      <th>Items</th>\n",
       "      <th>GMV</th>\n",
       "      <th>AIV</th>\n",
       "      <th>AOV</th>\n",
       "      <th>Last Purchase</th>\n",
       "      <th>Num_of_cate</th>\n",
       "      <th>Check_mua_TP</th>\n",
       "    </tr>\n",
       "  </thead>\n",
       "  <tbody>\n",
       "    <tr>\n",
       "      <th>0</th>\n",
       "      <td>NaN</td>\n",
       "      <td>NaN</td>\n",
       "      <td>1</td>\n",
       "      <td>1</td>\n",
       "      <td>20,000.0000</td>\n",
       "      <td>20,000.0000</td>\n",
       "      <td>20,000.0000</td>\n",
       "      <td>344</td>\n",
       "      <td>1</td>\n",
       "      <td>0</td>\n",
       "    </tr>\n",
       "    <tr>\n",
       "      <th>1</th>\n",
       "      <td>NaN</td>\n",
       "      <td>NaN</td>\n",
       "      <td>1</td>\n",
       "      <td>1</td>\n",
       "      <td>20,000.0000</td>\n",
       "      <td>20,000.0000</td>\n",
       "      <td>20,000.0000</td>\n",
       "      <td>344</td>\n",
       "      <td>1</td>\n",
       "      <td>0</td>\n",
       "    </tr>\n",
       "    <tr>\n",
       "      <th>2</th>\n",
       "      <td>NaN</td>\n",
       "      <td>NaN</td>\n",
       "      <td>1</td>\n",
       "      <td>1</td>\n",
       "      <td>20,000.0000</td>\n",
       "      <td>20,000.0000</td>\n",
       "      <td>20,000.0000</td>\n",
       "      <td>302</td>\n",
       "      <td>1</td>\n",
       "      <td>0</td>\n",
       "    </tr>\n",
       "    <tr>\n",
       "      <th>3</th>\n",
       "      <td>NaN</td>\n",
       "      <td>NaN</td>\n",
       "      <td>1</td>\n",
       "      <td>1</td>\n",
       "      <td>20,000.0000</td>\n",
       "      <td>20,000.0000</td>\n",
       "      <td>20,000.0000</td>\n",
       "      <td>350</td>\n",
       "      <td>1</td>\n",
       "      <td>0</td>\n",
       "    </tr>\n",
       "    <tr>\n",
       "      <th>4</th>\n",
       "      <td>NaN</td>\n",
       "      <td>NaN</td>\n",
       "      <td>1</td>\n",
       "      <td>1</td>\n",
       "      <td>20,000.0000</td>\n",
       "      <td>20,000.0000</td>\n",
       "      <td>20,000.0000</td>\n",
       "      <td>303</td>\n",
       "      <td>1</td>\n",
       "      <td>0</td>\n",
       "    </tr>\n",
       "  </tbody>\n",
       "</table>\n",
       "</div>"
      ],
      "text/plain": [
       "  GENDER P_BIRTHDAY  Order  Items         GMV         AIV         AOV  \\\n",
       "0    NaN        NaN      1      1 20,000.0000 20,000.0000 20,000.0000   \n",
       "1    NaN        NaN      1      1 20,000.0000 20,000.0000 20,000.0000   \n",
       "2    NaN        NaN      1      1 20,000.0000 20,000.0000 20,000.0000   \n",
       "3    NaN        NaN      1      1 20,000.0000 20,000.0000 20,000.0000   \n",
       "4    NaN        NaN      1      1 20,000.0000 20,000.0000 20,000.0000   \n",
       "\n",
       "   Last Purchase  Num_of_cate  Check_mua_TP  \n",
       "0            344            1             0  \n",
       "1            344            1             0  \n",
       "2            302            1             0  \n",
       "3            350            1             0  \n",
       "4            303            1             0  "
      ]
     },
     "execution_count": 2,
     "metadata": {},
     "output_type": "execute_result"
    }
   ],
   "source": [
    "data = pd.read_excel('./ML_vui_test.xlsx')\n",
    "pd.options.display.float_format = '{:,.4f}'.format\n",
    "data.head()\n",
    "#data.loc[pd.notnull(data.P_BIRTHDAY)].head()"
   ]
  },
  {
   "cell_type": "code",
   "execution_count": 3,
   "metadata": {},
   "outputs": [
    {
     "name": "stdout",
     "output_type": "stream",
     "text": [
      "<class 'pandas.core.frame.DataFrame'>\n",
      "RangeIndex: 91783 entries, 0 to 91782\n",
      "Data columns (total 10 columns):\n",
      "GENDER           58408 non-null object\n",
      "P_BIRTHDAY       50316 non-null object\n",
      "Order            91783 non-null int64\n",
      "Items            91783 non-null int64\n",
      "GMV              91783 non-null float64\n",
      "AIV              91783 non-null float64\n",
      "AOV              91783 non-null float64\n",
      "Last Purchase    91783 non-null int64\n",
      "Num_of_cate      91783 non-null int64\n",
      "Check_mua_TP     91783 non-null int64\n",
      "dtypes: float64(3), int64(5), object(2)\n",
      "memory usage: 7.0+ MB\n"
     ]
    }
   ],
   "source": [
    "data.info()"
   ]
  },
  {
   "cell_type": "code",
   "execution_count": 4,
   "metadata": {},
   "outputs": [
    {
     "data": {
      "text/html": [
       "<div>\n",
       "<style scoped>\n",
       "    .dataframe tbody tr th:only-of-type {\n",
       "        vertical-align: middle;\n",
       "    }\n",
       "\n",
       "    .dataframe tbody tr th {\n",
       "        vertical-align: top;\n",
       "    }\n",
       "\n",
       "    .dataframe thead th {\n",
       "        text-align: right;\n",
       "    }\n",
       "</style>\n",
       "<table border=\"1\" class=\"dataframe\">\n",
       "  <thead>\n",
       "    <tr style=\"text-align: right;\">\n",
       "      <th></th>\n",
       "      <th>Order</th>\n",
       "      <th>Items</th>\n",
       "      <th>GMV</th>\n",
       "      <th>AIV</th>\n",
       "      <th>AOV</th>\n",
       "      <th>Last Purchase</th>\n",
       "      <th>Num_of_cate</th>\n",
       "      <th>Check_mua_TP</th>\n",
       "    </tr>\n",
       "  </thead>\n",
       "  <tbody>\n",
       "    <tr>\n",
       "      <th>count</th>\n",
       "      <td>91,783.0000</td>\n",
       "      <td>91,783.0000</td>\n",
       "      <td>91,783.0000</td>\n",
       "      <td>91,783.0000</td>\n",
       "      <td>91,783.0000</td>\n",
       "      <td>91,783.0000</td>\n",
       "      <td>91,783.0000</td>\n",
       "      <td>91,783.0000</td>\n",
       "    </tr>\n",
       "    <tr>\n",
       "      <th>mean</th>\n",
       "      <td>4.1414</td>\n",
       "      <td>12.3089</td>\n",
       "      <td>9,716,691.0343</td>\n",
       "      <td>2,112,440.9535</td>\n",
       "      <td>2,560,145.3998</td>\n",
       "      <td>476.3802</td>\n",
       "      <td>1.4358</td>\n",
       "      <td>0.0835</td>\n",
       "    </tr>\n",
       "    <tr>\n",
       "      <th>std</th>\n",
       "      <td>10.7965</td>\n",
       "      <td>91.7215</td>\n",
       "      <td>28,344,692.7903</td>\n",
       "      <td>4,166,307.4060</td>\n",
       "      <td>4,570,577.5534</td>\n",
       "      <td>328.7154</td>\n",
       "      <td>1.0813</td>\n",
       "      <td>0.2766</td>\n",
       "    </tr>\n",
       "    <tr>\n",
       "      <th>min</th>\n",
       "      <td>1.0000</td>\n",
       "      <td>1.0000</td>\n",
       "      <td>2.0000</td>\n",
       "      <td>1.0000</td>\n",
       "      <td>2.0000</td>\n",
       "      <td>0.0000</td>\n",
       "      <td>1.0000</td>\n",
       "      <td>0.0000</td>\n",
       "    </tr>\n",
       "    <tr>\n",
       "      <th>25%</th>\n",
       "      <td>1.0000</td>\n",
       "      <td>1.0000</td>\n",
       "      <td>169,000.0000</td>\n",
       "      <td>75,403.3900</td>\n",
       "      <td>100,000.0000</td>\n",
       "      <td>242.0000</td>\n",
       "      <td>1.0000</td>\n",
       "      <td>0.0000</td>\n",
       "    </tr>\n",
       "    <tr>\n",
       "      <th>50%</th>\n",
       "      <td>1.0000</td>\n",
       "      <td>2.0000</td>\n",
       "      <td>1,200,000.0000</td>\n",
       "      <td>340,000.0000</td>\n",
       "      <td>530,326.4706</td>\n",
       "      <td>356.0000</td>\n",
       "      <td>1.0000</td>\n",
       "      <td>0.0000</td>\n",
       "    </tr>\n",
       "    <tr>\n",
       "      <th>75%</th>\n",
       "      <td>3.0000</td>\n",
       "      <td>5.0000</td>\n",
       "      <td>7,249,000.0000</td>\n",
       "      <td>2,245,000.0000</td>\n",
       "      <td>2,890,000.0000</td>\n",
       "      <td>712.0000</td>\n",
       "      <td>1.0000</td>\n",
       "      <td>0.0000</td>\n",
       "    </tr>\n",
       "    <tr>\n",
       "      <th>max</th>\n",
       "      <td>731.0000</td>\n",
       "      <td>12,308.0000</td>\n",
       "      <td>2,534,473,655.0000</td>\n",
       "      <td>68,237,500.0000</td>\n",
       "      <td>186,419,000.0000</td>\n",
       "      <td>1,475.0000</td>\n",
       "      <td>8.0000</td>\n",
       "      <td>1.0000</td>\n",
       "    </tr>\n",
       "  </tbody>\n",
       "</table>\n",
       "</div>"
      ],
      "text/plain": [
       "            Order       Items                GMV             AIV  \\\n",
       "count 91,783.0000 91,783.0000        91,783.0000     91,783.0000   \n",
       "mean       4.1414     12.3089     9,716,691.0343  2,112,440.9535   \n",
       "std       10.7965     91.7215    28,344,692.7903  4,166,307.4060   \n",
       "min        1.0000      1.0000             2.0000          1.0000   \n",
       "25%        1.0000      1.0000       169,000.0000     75,403.3900   \n",
       "50%        1.0000      2.0000     1,200,000.0000    340,000.0000   \n",
       "75%        3.0000      5.0000     7,249,000.0000  2,245,000.0000   \n",
       "max      731.0000 12,308.0000 2,534,473,655.0000 68,237,500.0000   \n",
       "\n",
       "                   AOV  Last Purchase  Num_of_cate  Check_mua_TP  \n",
       "count      91,783.0000    91,783.0000  91,783.0000   91,783.0000  \n",
       "mean    2,560,145.3998       476.3802       1.4358        0.0835  \n",
       "std     4,570,577.5534       328.7154       1.0813        0.2766  \n",
       "min             2.0000         0.0000       1.0000        0.0000  \n",
       "25%       100,000.0000       242.0000       1.0000        0.0000  \n",
       "50%       530,326.4706       356.0000       1.0000        0.0000  \n",
       "75%     2,890,000.0000       712.0000       1.0000        0.0000  \n",
       "max   186,419,000.0000     1,475.0000       8.0000        1.0000  "
      ]
     },
     "execution_count": 4,
     "metadata": {},
     "output_type": "execute_result"
    }
   ],
   "source": [
    "data.describe()"
   ]
  },
  {
   "cell_type": "code",
   "execution_count": 11,
   "metadata": {},
   "outputs": [],
   "source": [
    "dataClone = data.loc[data['GMV']<=9716691+3*28344692]"
   ]
  },
  {
   "cell_type": "code",
   "execution_count": 12,
   "metadata": {},
   "outputs": [
    {
     "data": {
      "text/plain": [
       "MALE        37387\n",
       "UNDEFINE    33397\n",
       "FEMALE      20999\n",
       "Name: GENDER, dtype: int64"
      ]
     },
     "execution_count": 12,
     "metadata": {},
     "output_type": "execute_result"
    }
   ],
   "source": [
    "data['GENDER'].value_counts()"
   ]
  },
  {
   "cell_type": "code",
   "execution_count": 5,
   "metadata": {},
   "outputs": [],
   "source": [
    "data['GENDER'].fillna('UNDEFINE',inplace=True)\n",
    "#data['P_BIRTHDAY'].fillna('2010-01-01 00:00:00',inplace=True)\n",
    "data['P_BIRTHDAY'].fillna('2010-01-01 00:00:00',inplace=True)"
   ]
  },
  {
   "cell_type": "code",
   "execution_count": 6,
   "metadata": {},
   "outputs": [],
   "source": [
    "data['P_BIRTHDAY'] = pd.to_datetime(data['P_BIRTHDAY'])"
   ]
  },
  {
   "cell_type": "code",
   "execution_count": 7,
   "metadata": {},
   "outputs": [],
   "source": [
    "data['Age'] = pd.datetime.today().year - data['P_BIRTHDAY'].dt.year"
   ]
  },
  {
   "cell_type": "code",
   "execution_count": 8,
   "metadata": {},
   "outputs": [
    {
     "data": {
      "text/html": [
       "<div>\n",
       "<style scoped>\n",
       "    .dataframe tbody tr th:only-of-type {\n",
       "        vertical-align: middle;\n",
       "    }\n",
       "\n",
       "    .dataframe tbody tr th {\n",
       "        vertical-align: top;\n",
       "    }\n",
       "\n",
       "    .dataframe thead th {\n",
       "        text-align: right;\n",
       "    }\n",
       "</style>\n",
       "<table border=\"1\" class=\"dataframe\">\n",
       "  <thead>\n",
       "    <tr style=\"text-align: right;\">\n",
       "      <th></th>\n",
       "      <th>GENDER</th>\n",
       "      <th>Order</th>\n",
       "      <th>Items</th>\n",
       "      <th>GMV</th>\n",
       "      <th>AIV</th>\n",
       "      <th>AOV</th>\n",
       "      <th>Last Purchase</th>\n",
       "      <th>Num_of_cate</th>\n",
       "      <th>Check_mua_TP</th>\n",
       "      <th>Age</th>\n",
       "    </tr>\n",
       "  </thead>\n",
       "  <tbody>\n",
       "    <tr>\n",
       "      <th>0</th>\n",
       "      <td>UNDEFINE</td>\n",
       "      <td>1</td>\n",
       "      <td>1</td>\n",
       "      <td>20,000.0000</td>\n",
       "      <td>20,000.0000</td>\n",
       "      <td>20,000.0000</td>\n",
       "      <td>344</td>\n",
       "      <td>1</td>\n",
       "      <td>0</td>\n",
       "      <td>9</td>\n",
       "    </tr>\n",
       "    <tr>\n",
       "      <th>1</th>\n",
       "      <td>UNDEFINE</td>\n",
       "      <td>1</td>\n",
       "      <td>1</td>\n",
       "      <td>20,000.0000</td>\n",
       "      <td>20,000.0000</td>\n",
       "      <td>20,000.0000</td>\n",
       "      <td>344</td>\n",
       "      <td>1</td>\n",
       "      <td>0</td>\n",
       "      <td>9</td>\n",
       "    </tr>\n",
       "    <tr>\n",
       "      <th>2</th>\n",
       "      <td>UNDEFINE</td>\n",
       "      <td>1</td>\n",
       "      <td>1</td>\n",
       "      <td>20,000.0000</td>\n",
       "      <td>20,000.0000</td>\n",
       "      <td>20,000.0000</td>\n",
       "      <td>302</td>\n",
       "      <td>1</td>\n",
       "      <td>0</td>\n",
       "      <td>9</td>\n",
       "    </tr>\n",
       "    <tr>\n",
       "      <th>3</th>\n",
       "      <td>UNDEFINE</td>\n",
       "      <td>1</td>\n",
       "      <td>1</td>\n",
       "      <td>20,000.0000</td>\n",
       "      <td>20,000.0000</td>\n",
       "      <td>20,000.0000</td>\n",
       "      <td>350</td>\n",
       "      <td>1</td>\n",
       "      <td>0</td>\n",
       "      <td>9</td>\n",
       "    </tr>\n",
       "    <tr>\n",
       "      <th>4</th>\n",
       "      <td>UNDEFINE</td>\n",
       "      <td>1</td>\n",
       "      <td>1</td>\n",
       "      <td>20,000.0000</td>\n",
       "      <td>20,000.0000</td>\n",
       "      <td>20,000.0000</td>\n",
       "      <td>303</td>\n",
       "      <td>1</td>\n",
       "      <td>0</td>\n",
       "      <td>9</td>\n",
       "    </tr>\n",
       "  </tbody>\n",
       "</table>\n",
       "</div>"
      ],
      "text/plain": [
       "     GENDER  Order  Items         GMV         AIV         AOV  Last Purchase  \\\n",
       "0  UNDEFINE      1      1 20,000.0000 20,000.0000 20,000.0000            344   \n",
       "1  UNDEFINE      1      1 20,000.0000 20,000.0000 20,000.0000            344   \n",
       "2  UNDEFINE      1      1 20,000.0000 20,000.0000 20,000.0000            302   \n",
       "3  UNDEFINE      1      1 20,000.0000 20,000.0000 20,000.0000            350   \n",
       "4  UNDEFINE      1      1 20,000.0000 20,000.0000 20,000.0000            303   \n",
       "\n",
       "   Num_of_cate  Check_mua_TP  Age  \n",
       "0            1             0    9  \n",
       "1            1             0    9  \n",
       "2            1             0    9  \n",
       "3            1             0    9  \n",
       "4            1             0    9  "
      ]
     },
     "execution_count": 8,
     "metadata": {},
     "output_type": "execute_result"
    }
   ],
   "source": [
    "data = data.drop(['P_BIRTHDAY'], axis=1)\n",
    "data.head()"
   ]
  },
  {
   "cell_type": "code",
   "execution_count": 13,
   "metadata": {},
   "outputs": [
    {
     "data": {
      "text/plain": [
       "0    84121\n",
       "1     7662\n",
       "Name: Check_mua_TP, dtype: int64"
      ]
     },
     "execution_count": 13,
     "metadata": {},
     "output_type": "execute_result"
    }
   ],
   "source": [
    "data['Check_mua_TP'].value_counts()"
   ]
  },
  {
   "cell_type": "code",
   "execution_count": 14,
   "metadata": {},
   "outputs": [
    {
     "data": {
      "image/png": "[encoded data removed]",
      "text/plain": [
       "<Figure size 720x720 with 9 Axes>"
      ]
     },
     "metadata": {},
     "output_type": "display_data"
    }
   ],
   "source": [
    "dataClone.hist(bins=50, figsize=(10,10)) #mean + 3 * std\n",
    "plt.show()"
   ]
  },
  {
   "cell_type": "code",
   "execution_count": 15,
   "metadata": {},
   "outputs": [],
   "source": [
    "corrMatrix = data.corr()"
   ]
  },
  {
   "cell_type": "code",
   "execution_count": 16,
   "metadata": {},
   "outputs": [
    {
     "data": {
      "text/plain": [
       "Check_mua_TP     1.0000\n",
       "Num_of_cate      0.6829\n",
       "Order            0.3768\n",
       "GMV              0.2816\n",
       "Items            0.2650\n",
       "Age              0.1303\n",
       "AOV              0.0116\n",
       "Last Purchase    0.0041\n",
       "AIV             -0.0576\n",
       "Name: Check_mua_TP, dtype: float64"
      ]
     },
     "execution_count": 16,
     "metadata": {},
     "output_type": "execute_result"
    }
   ],
   "source": [
    "corrMatrix[\"Check_mua_TP\"].sort_values(ascending=False)"
   ]
  },
  {
   "cell_type": "code",
   "execution_count": 17,
   "metadata": {},
   "outputs": [],
   "source": [
    "X = data.drop(['Check_mua_TP'], axis = 1)\n",
    "Y = data['Check_mua_TP'].copy()\n",
    "X_train, X_test, y_train, y_test = train_test_split(X,Y,test_size=0.2) #, random_state=42"
   ]
  },
  {
   "cell_type": "code",
   "execution_count": 18,
   "metadata": {},
   "outputs": [
    {
     "name": "stdout",
     "output_type": "stream",
     "text": [
      "(73426, 9)\n",
      "(18357, 9)\n",
      "(73426,)\n",
      "(18357,)\n"
     ]
    }
   ],
   "source": [
    "print(X_train.shape)\n",
    "print(X_test.shape)\n",
    "print(y_train.shape)\n",
    "print(y_test.shape)"
   ]
  },
  {
   "cell_type": "code",
   "execution_count": 22,
   "metadata": {},
   "outputs": [
    {
     "name": "stdout",
     "output_type": "stream",
     "text": [
      "Y_train: \n",
      "0    67295\n",
      "1     6131\n",
      "Name: Check_mua_TP, dtype: int64\n",
      "Y_test:\n",
      "0    16826\n",
      "1     1531\n",
      "Name: Check_mua_TP, dtype: int64\n"
     ]
    }
   ],
   "source": [
    "print('Y_train: ')\n",
    "print(y_train.value_counts())\n",
    "print('Y_test:')\n",
    "print(y_test.value_counts())"
   ]
  },
  {
   "cell_type": "code",
   "execution_count": 23,
   "metadata": {},
   "outputs": [
    {
     "data": {
      "text/html": [
       "<div>\n",
       "<style scoped>\n",
       "    .dataframe tbody tr th:only-of-type {\n",
       "        vertical-align: middle;\n",
       "    }\n",
       "\n",
       "    .dataframe tbody tr th {\n",
       "        vertical-align: top;\n",
       "    }\n",
       "\n",
       "    .dataframe thead th {\n",
       "        text-align: right;\n",
       "    }\n",
       "</style>\n",
       "<table border=\"1\" class=\"dataframe\">\n",
       "  <thead>\n",
       "    <tr style=\"text-align: right;\">\n",
       "      <th></th>\n",
       "      <th>GENDER</th>\n",
       "      <th>Order</th>\n",
       "      <th>Items</th>\n",
       "      <th>GMV</th>\n",
       "      <th>AIV</th>\n",
       "      <th>AOV</th>\n",
       "      <th>Last Purchase</th>\n",
       "      <th>Num_of_cate</th>\n",
       "      <th>Age</th>\n",
       "    </tr>\n",
       "  </thead>\n",
       "  <tbody>\n",
       "    <tr>\n",
       "      <th>84036</th>\n",
       "      <td>FEMALE</td>\n",
       "      <td>1</td>\n",
       "      <td>1</td>\n",
       "      <td>20,000.0000</td>\n",
       "      <td>20,000.0000</td>\n",
       "      <td>20,000.0000</td>\n",
       "      <td>302</td>\n",
       "      <td>1</td>\n",
       "      <td>19</td>\n",
       "    </tr>\n",
       "    <tr>\n",
       "      <th>67954</th>\n",
       "      <td>FEMALE</td>\n",
       "      <td>2</td>\n",
       "      <td>2</td>\n",
       "      <td>2,000,000.0000</td>\n",
       "      <td>1,000,000.0000</td>\n",
       "      <td>1,000,000.0000</td>\n",
       "      <td>134</td>\n",
       "      <td>1</td>\n",
       "      <td>23</td>\n",
       "    </tr>\n",
       "    <tr>\n",
       "      <th>40226</th>\n",
       "      <td>UNDEFINE</td>\n",
       "      <td>5</td>\n",
       "      <td>10</td>\n",
       "      <td>2,000,000.0000</td>\n",
       "      <td>200,000.0000</td>\n",
       "      <td>400,000.0000</td>\n",
       "      <td>36</td>\n",
       "      <td>1</td>\n",
       "      <td>9</td>\n",
       "    </tr>\n",
       "    <tr>\n",
       "      <th>8982</th>\n",
       "      <td>UNDEFINE</td>\n",
       "      <td>1</td>\n",
       "      <td>1</td>\n",
       "      <td>2,390,000.0000</td>\n",
       "      <td>2,390,000.0000</td>\n",
       "      <td>2,390,000.0000</td>\n",
       "      <td>992</td>\n",
       "      <td>1</td>\n",
       "      <td>9</td>\n",
       "    </tr>\n",
       "    <tr>\n",
       "      <th>51330</th>\n",
       "      <td>MALE</td>\n",
       "      <td>7</td>\n",
       "      <td>11</td>\n",
       "      <td>30,788,100.0000</td>\n",
       "      <td>2,798,918.1818</td>\n",
       "      <td>4,398,300.0000</td>\n",
       "      <td>153</td>\n",
       "      <td>3</td>\n",
       "      <td>32</td>\n",
       "    </tr>\n",
       "  </tbody>\n",
       "</table>\n",
       "</div>"
      ],
      "text/plain": [
       "         GENDER  Order  Items             GMV            AIV            AOV  \\\n",
       "84036    FEMALE      1      1     20,000.0000    20,000.0000    20,000.0000   \n",
       "67954    FEMALE      2      2  2,000,000.0000 1,000,000.0000 1,000,000.0000   \n",
       "40226  UNDEFINE      5     10  2,000,000.0000   200,000.0000   400,000.0000   \n",
       "8982   UNDEFINE      1      1  2,390,000.0000 2,390,000.0000 2,390,000.0000   \n",
       "51330      MALE      7     11 30,788,100.0000 2,798,918.1818 4,398,300.0000   \n",
       "\n",
       "       Last Purchase  Num_of_cate  Age  \n",
       "84036            302            1   19  \n",
       "67954            134            1   23  \n",
       "40226             36            1    9  \n",
       "8982             992            1    9  \n",
       "51330            153            3   32  "
      ]
     },
     "execution_count": 23,
     "metadata": {},
     "output_type": "execute_result"
    }
   ],
   "source": [
    "X_train.head()"
   ]
  },
  {
   "cell_type": "code",
   "execution_count": 24,
   "metadata": {},
   "outputs": [],
   "source": [
    "X_num = X_train.drop(\"GENDER\", axis = 1)"
   ]
  },
  {
   "cell_type": "code",
   "execution_count": 30,
   "metadata": {},
   "outputs": [],
   "source": [
    "gender = X_train[[\"GENDER\"]]"
   ]
  },
  {
   "cell_type": "code",
   "execution_count": 31,
   "metadata": {},
   "outputs": [
    {
     "data": {
      "text/html": [
       "<div>\n",
       "<style scoped>\n",
       "    .dataframe tbody tr th:only-of-type {\n",
       "        vertical-align: middle;\n",
       "    }\n",
       "\n",
       "    .dataframe tbody tr th {\n",
       "        vertical-align: top;\n",
       "    }\n",
       "\n",
       "    .dataframe thead th {\n",
       "        text-align: right;\n",
       "    }\n",
       "</style>\n",
       "<table border=\"1\" class=\"dataframe\">\n",
       "  <thead>\n",
       "    <tr style=\"text-align: right;\">\n",
       "      <th></th>\n",
       "      <th>GENDER</th>\n",
       "    </tr>\n",
       "  </thead>\n",
       "  <tbody>\n",
       "    <tr>\n",
       "      <th>84036</th>\n",
       "      <td>FEMALE</td>\n",
       "    </tr>\n",
       "    <tr>\n",
       "      <th>67954</th>\n",
       "      <td>FEMALE</td>\n",
       "    </tr>\n",
       "    <tr>\n",
       "      <th>40226</th>\n",
       "      <td>UNDEFINE</td>\n",
       "    </tr>\n",
       "    <tr>\n",
       "      <th>8982</th>\n",
       "      <td>UNDEFINE</td>\n",
       "    </tr>\n",
       "    <tr>\n",
       "      <th>51330</th>\n",
       "      <td>MALE</td>\n",
       "    </tr>\n",
       "    <tr>\n",
       "      <th>10995</th>\n",
       "      <td>UNDEFINE</td>\n",
       "    </tr>\n",
       "    <tr>\n",
       "      <th>20799</th>\n",
       "      <td>UNDEFINE</td>\n",
       "    </tr>\n",
       "    <tr>\n",
       "      <th>27411</th>\n",
       "      <td>UNDEFINE</td>\n",
       "    </tr>\n",
       "    <tr>\n",
       "      <th>66866</th>\n",
       "      <td>FEMALE</td>\n",
       "    </tr>\n",
       "    <tr>\n",
       "      <th>86268</th>\n",
       "      <td>MALE</td>\n",
       "    </tr>\n",
       "  </tbody>\n",
       "</table>\n",
       "</div>"
      ],
      "text/plain": [
       "         GENDER\n",
       "84036    FEMALE\n",
       "67954    FEMALE\n",
       "40226  UNDEFINE\n",
       "8982   UNDEFINE\n",
       "51330      MALE\n",
       "10995  UNDEFINE\n",
       "20799  UNDEFINE\n",
       "27411  UNDEFINE\n",
       "66866    FEMALE\n",
       "86268      MALE"
      ]
     },
     "execution_count": 31,
     "metadata": {},
     "output_type": "execute_result"
    }
   ],
   "source": [
    "gender.head(10)"
   ]
  },
  {
   "cell_type": "code",
   "execution_count": 33,
   "metadata": {},
   "outputs": [
    {
     "data": {
      "text/plain": [
       "{'FEMALE', 'MALE', 'UNDEFINE'}"
      ]
     },
     "execution_count": 33,
     "metadata": {},
     "output_type": "execute_result"
    }
   ],
   "source": [
    "set(gender[\"GENDER\"])"
   ]
  },
  {
   "cell_type": "code",
   "execution_count": 45,
   "metadata": {},
   "outputs": [],
   "source": [
    "from sklearn.preprocessing import LabelEncoder, OneHotEncoder\n",
    "lblEnc = LabelEncoder()\n",
    "ohEnc = OneHotEncoder()"
   ]
  },
  {
   "cell_type": "code",
   "execution_count": 48,
   "metadata": {},
   "outputs": [
    {
     "name": "stderr",
     "output_type": "stream",
     "text": [
      "/anaconda3/lib/python3.6/site-packages/sklearn/preprocessing/label.py:95: DataConversionWarning: A column-vector y was passed when a 1d array was expected. Please change the shape of y to (n_samples, ), for example using ravel().\n",
      "  y = column_or_1d(y, warn=True)\n",
      "/anaconda3/lib/python3.6/site-packages/sklearn/preprocessing/label.py:128: DataConversionWarning: A column-vector y was passed when a 1d array was expected. Please change the shape of y to (n_samples, ), for example using ravel().\n",
      "  y = column_or_1d(y, warn=True)\n"
     ]
    }
   ],
   "source": [
    "lblEnc.fit(gender)\n",
    "genderLbl = lblEnc.transform(gender)"
   ]
  },
  {
   "cell_type": "code",
   "execution_count": 49,
   "metadata": {},
   "outputs": [
    {
     "data": {
      "text/plain": [
       "array([0, 0, 2, ..., 2, 2, 1])"
      ]
     },
     "execution_count": 49,
     "metadata": {},
     "output_type": "execute_result"
    }
   ],
   "source": [
    "genderLbl"
   ]
  },
  {
   "cell_type": "code",
   "execution_count": null,
   "metadata": {
    "scrolled": true
   },
   "outputs": [],
   "source": [
    "ohEnc.fit(genderLbl)\n",
    "genderOnehot = ohEnc.transform(genderLbl)"
   ]
  },
  {
   "cell_type": "code",
   "execution_count": 50,
   "metadata": {},
   "outputs": [],
   "source": [
    "from sklearn.preprocessing import LabelBinarizer\n",
    "\n",
    "genderEncoder = LabelBinarizer()\n",
    "genderOnehot = genderEncoder.fit_transform(gender)"
   ]
  },
  {
   "cell_type": "code",
   "execution_count": 52,
   "metadata": {},
   "outputs": [],
   "source": [
    "from sklearn.pipeline import Pipeline\n",
    "from sklearn.preprocessing import StandardScaler\n",
    "numPipeline = Pipeline([\n",
    "       # ('imputer', SimpleImputer(strategy=\"median\")),\n",
    "       # ('attribs_adder', CombinedAttributesAdder()),\n",
    "        ('std_scaler', StandardScaler()),\n",
    "    ])\n",
    "X_NumTr = numPipeline.fit_transform(X_num)"
   ]
  },
  {
   "cell_type": "code",
   "execution_count": 53,
   "metadata": {},
   "outputs": [
    {
     "ename": "ModuleNotFoundError",
     "evalue": "No module named 'sklearn.compose'",
     "output_type": "error",
     "traceback": [
      "\u001b[0;31m---------------------------------------------------------------------------\u001b[0m",
      "\u001b[0;31mModuleNotFoundError\u001b[0m                       Traceback (most recent call last)",
      "\u001b[0;32m<ipython-input-53-d0a78099b4d1>\u001b[0m in \u001b[0;36m<module>\u001b[0;34m()\u001b[0m\n\u001b[0;32m----> 1\u001b[0;31m \u001b[0;32mfrom\u001b[0m \u001b[0msklearn\u001b[0m\u001b[0;34m.\u001b[0m\u001b[0mcompose\u001b[0m \u001b[0;32mimport\u001b[0m \u001b[0mColumnTransformer\u001b[0m\u001b[0;34m\u001b[0m\u001b[0;34m\u001b[0m\u001b[0m\n\u001b[0m\u001b[1;32m      2\u001b[0m \u001b[0mnumAttribs\u001b[0m \u001b[0;34m=\u001b[0m \u001b[0mlist\u001b[0m\u001b[0;34m(\u001b[0m\u001b[0mX_num\u001b[0m\u001b[0;34m)\u001b[0m\u001b[0;34m\u001b[0m\u001b[0;34m\u001b[0m\u001b[0m\n\u001b[1;32m      3\u001b[0m \u001b[0mcatAttribs\u001b[0m \u001b[0;34m=\u001b[0m \u001b[0;34m[\u001b[0m\u001b[0;34m\"GENDER\"\u001b[0m\u001b[0;34m]\u001b[0m\u001b[0;34m\u001b[0m\u001b[0;34m\u001b[0m\u001b[0m\n\u001b[1;32m      4\u001b[0m fullPipeline = ColumnTransformer([\n\u001b[1;32m      5\u001b[0m      \u001b[0;34m(\u001b[0m\u001b[0;34m\"num\"\u001b[0m\u001b[0;34m,\u001b[0m \u001b[0mnumPipeline\u001b[0m\u001b[0;34m,\u001b[0m \u001b[0mnumAttribs\u001b[0m\u001b[0;34m)\u001b[0m\u001b[0;34m,\u001b[0m\u001b[0;34m\u001b[0m\u001b[0;34m\u001b[0m\u001b[0m\n",
      "\u001b[0;31mModuleNotFoundError\u001b[0m: No module named 'sklearn.compose'"
     ]
    }
   ],
   "source": [
    "from sklearn.compose import ColumnTransformer \n",
    "numAttribs = list(X_num)\n",
    "catAttribs = [\"GENDER\"]\n",
    "fullPipeline = ColumnTransformer([\n",
    "     (\"num\", numPipeline, numAttribs),\n",
    "     (\"cat\", LabelBinarizer(), catAttribs),\n",
    " ])\n",
    "dataPrepared_X_train = fullPipeline.fit_transform(X_train)\n",
    "dataPrepared_X_test = fullPipeline.fit_transform(X_test)\n"
   ]
  },
  {
   "cell_type": "code",
   "execution_count": 206,
   "metadata": {},
   "outputs": [
    {
     "data": {
      "text/plain": [
       "array([[ 0.26552335, -0.04445053, -0.17544157, ...,  1.        ,\n",
       "         0.        ,  0.        ],\n",
       "       [-0.19837646, -0.09724869, -0.33163047, ...,  0.        ,\n",
       "         0.        ,  1.        ],\n",
       "       [-0.29115642, -0.11836796, -0.33119163, ...,  0.        ,\n",
       "         1.        ,  0.        ],\n",
       "       ...,\n",
       "       [-0.01281654, -0.07612943,  1.00476919, ...,  0.        ,\n",
       "         1.        ,  0.        ],\n",
       "       [ 1.10054301,  0.04002654, -0.27825333, ...,  0.        ,\n",
       "         1.        ,  0.        ],\n",
       "       [-0.29115642, -0.11836796, -0.23889788, ...,  0.        ,\n",
       "         0.        ,  1.        ]])"
      ]
     },
     "execution_count": 206,
     "metadata": {},
     "output_type": "execute_result"
    }
   ],
   "source": [
    "dataPrepared_X_train"
   ]
  },
  {
   "cell_type": "code",
   "execution_count": 207,
   "metadata": {},
   "outputs": [
    {
     "name": "stderr",
     "output_type": "stream",
     "text": [
      "/Users/funny/anaconda3/lib/python3.7/site-packages/sklearn/linear_model/logistic.py:432: FutureWarning: Default solver will be changed to 'lbfgs' in 0.22. Specify a solver to silence this warning.\n",
      "  FutureWarning)\n"
     ]
    },
    {
     "data": {
      "text/plain": [
       "LogisticRegression(C=1.0, class_weight=None, dual=False, fit_intercept=False,\n",
       "                   intercept_scaling=1, l1_ratio=None, max_iter=100,\n",
       "                   multi_class='warn', n_jobs=None, penalty='l2',\n",
       "                   random_state=None, solver='warn', tol=0.0001, verbose=0,\n",
       "                   warm_start=False)"
      ]
     },
     "execution_count": 207,
     "metadata": {},
     "output_type": "execute_result"
    }
   ],
   "source": [
    "from sklearn.linear_model import LogisticRegression \n",
    "\n",
    "logReg = LogisticRegression(fit_intercept = False) #C = 5, penalty='l2'\n",
    "logReg.fit(dataPrepared_X_train, y_train)"
   ]
  },
  {
   "cell_type": "code",
   "execution_count": 208,
   "metadata": {},
   "outputs": [],
   "source": [
    "parameters = logReg.coef_\n",
    "predicted_classes = logReg.predict(dataPrepared_X_test)\n",
    "accuracy = accuracy_score(predicted_classes,y_test)\n",
    "confusion_matrix = confusion_matrix(predicted_classes,y_test)\n"
   ]
  },
  {
   "cell_type": "code",
   "execution_count": 209,
   "metadata": {},
   "outputs": [
    {
     "name": "stdout",
     "output_type": "stream",
     "text": [
      "The accuracy score is 0.9449801165767827\n",
      "confusion_matrix\n",
      "[[16537   722]\n",
      " [  288   810]]\n"
     ]
    }
   ],
   "source": [
    "print('The accuracy score is {}'.format(accuracy))\n",
    "print(\"confusion_matrix\")\n",
    "print(confusion_matrix)"
   ]
  },
  {
   "cell_type": "code",
   "execution_count": 210,
   "metadata": {},
   "outputs": [
    {
     "data": {
      "text/plain": [
       "array([0, 0, 0, ..., 0, 0, 0], dtype=int64)"
      ]
     },
     "execution_count": 210,
     "metadata": {},
     "output_type": "execute_result"
    }
   ],
   "source": [
    "logReg.predict(dataPrepared_X_test)"
   ]
  },
  {
   "cell_type": "code",
   "execution_count": 211,
   "metadata": {},
   "outputs": [],
   "source": [
    "from sklearn.svm import SVC"
   ]
  },
  {
   "cell_type": "code",
   "execution_count": 212,
   "metadata": {},
   "outputs": [
    {
     "name": "stderr",
     "output_type": "stream",
     "text": [
      "/Users/funny/anaconda3/lib/python3.7/site-packages/sklearn/svm/base.py:193: FutureWarning: The default value of gamma will change from 'auto' to 'scale' in version 0.22 to account better for unscaled features. Set gamma explicitly to 'auto' or 'scale' to avoid this warning.\n",
      "  \"avoid this warning.\", FutureWarning)\n"
     ]
    },
    {
     "data": {
      "text/plain": [
       "SVC(C=1.0, cache_size=200, class_weight=None, coef0=0.0,\n",
       "    decision_function_shape='ovr', degree=3, gamma='auto_deprecated',\n",
       "    kernel='rbf', max_iter=-1, probability=False, random_state=None,\n",
       "    shrinking=True, tol=0.001, verbose=False)"
      ]
     },
     "execution_count": 212,
     "metadata": {},
     "output_type": "execute_result"
    }
   ],
   "source": [
    "clf = SVC(kernel = 'rbf')\n",
    "clf.fit(dataPrepared_X_train, y_train)\n"
   ]
  },
  {
   "cell_type": "code",
   "execution_count": 221,
   "metadata": {},
   "outputs": [
    {
     "name": "stdout",
     "output_type": "stream",
     "text": [
      "The accuracy score is 0.953696137713134\n",
      "[[16630   655]\n",
      " [  195   877]]\n"
     ]
    }
   ],
   "source": [
    "predict_svm = clf.predict(dataPrepared_X_test)\n",
    "accuracy_SVM = accuracy_score(predict_svm,y_test)\n",
    "print('The accuracy score is {}'.format(accuracy_SVM))\n",
    "confusion_matrix_SVM = confusion_matrix(predict_svm,y_test)\n",
    "print(confusion_matrix_SVM)"
   ]
  },
  {
   "cell_type": "code",
   "execution_count": 217,
   "metadata": {},
   "outputs": [
    {
     "data": {
      "text/plain": [
       "1072"
      ]
     },
     "execution_count": 217,
     "metadata": {},
     "output_type": "execute_result"
    }
   ],
   "source": [
    "sum(predict_svm)"
   ]
  },
  {
   "cell_type": "code",
   "execution_count": 218,
   "metadata": {},
   "outputs": [],
   "source": [
    "from sklearn.linear_model import SGDClassifier \n",
    "\n",
    "from sklearn.ensemble import BaggingClassifier \n",
    "from sklearn.tree import DecisionTreeClassifier\n",
    "\n",
    "from sklearn.ensemble import RandomForestClassifier\n",
    "\n",
    "from sklearn.model_selection import train_test_split\n",
    "from sklearn.metrics import confusion_matrix\n",
    "from sklearn.utils.multiclass import unique_labels\n",
    "from sklearn.svm import SVC\n",
    "\n",
    "from sklearn.metrics import roc_curve\n",
    "from sklearn.metrics import auc\n",
    "from sklearn.metrics import roc_auc_score\n",
    "\n"
   ]
  },
  {
   "cell_type": "code",
   "execution_count": 219,
   "metadata": {},
   "outputs": [
    {
     "data": {
      "text/plain": [
       "RandomForestClassifier(bootstrap=True, class_weight=None, criterion='gini',\n",
       "                       max_depth=None, max_features='auto', max_leaf_nodes=8,\n",
       "                       min_impurity_decrease=0.0, min_impurity_split=None,\n",
       "                       min_samples_leaf=1, min_samples_split=2,\n",
       "                       min_weight_fraction_leaf=0.0, n_estimators=200,\n",
       "                       n_jobs=None, oob_score=True, random_state=None,\n",
       "                       verbose=0, warm_start=False)"
      ]
     },
     "execution_count": 219,
     "metadata": {},
     "output_type": "execute_result"
    }
   ],
   "source": [
    "model = RandomForestClassifier( n_estimators=200, max_leaf_nodes=8, oob_score=True)\n",
    "\n",
    "model.fit(dataPrepared_X_train, y_train)"
   ]
  },
  {
   "cell_type": "code",
   "execution_count": 220,
   "metadata": {},
   "outputs": [
    {
     "name": "stdout",
     "output_type": "stream",
     "text": [
      "The accuracy score is 0.9478128234460969\n",
      "[[16598   227]\n",
      " [  731   801]]\n"
     ]
    },
    {
     "ename": "ValueError",
     "evalue": "x is neither increasing nor decreasing : [0 0 0 ... 0 0 0].",
     "output_type": "error",
     "traceback": [
      "\u001b[0;31m---------------------------------------------------------------------------\u001b[0m",
      "\u001b[0;31mValueError\u001b[0m                                Traceback (most recent call last)",
      "\u001b[0;32m<ipython-input-220-93563c4687cb>\u001b[0m in \u001b[0;36m<module>\u001b[0;34m\u001b[0m\n\u001b[1;32m      4\u001b[0m \u001b[0mconfusion_matrix_rf\u001b[0m \u001b[0;34m=\u001b[0m \u001b[0mconfusion_matrix\u001b[0m\u001b[0;34m(\u001b[0m\u001b[0my_test\u001b[0m\u001b[0;34m,\u001b[0m\u001b[0mpredict_rf\u001b[0m\u001b[0;34m)\u001b[0m\u001b[0;34m\u001b[0m\u001b[0;34m\u001b[0m\u001b[0m\n\u001b[1;32m      5\u001b[0m \u001b[0mprint\u001b[0m\u001b[0;34m(\u001b[0m\u001b[0mconfusion_matrix_rf\u001b[0m\u001b[0;34m)\u001b[0m\u001b[0;34m\u001b[0m\u001b[0;34m\u001b[0m\u001b[0m\n\u001b[0;32m----> 6\u001b[0;31m \u001b[0mauc_rf\u001b[0m \u001b[0;34m=\u001b[0m \u001b[0mauc\u001b[0m\u001b[0;34m(\u001b[0m\u001b[0mpredict_rf\u001b[0m\u001b[0;34m,\u001b[0m\u001b[0my_test\u001b[0m\u001b[0;34m)\u001b[0m\u001b[0;34m\u001b[0m\u001b[0;34m\u001b[0m\u001b[0m\n\u001b[0m\u001b[1;32m      7\u001b[0m \u001b[0mprint\u001b[0m\u001b[0;34m(\u001b[0m\u001b[0mauc_rf\u001b[0m\u001b[0;34m)\u001b[0m\u001b[0;34m\u001b[0m\u001b[0;34m\u001b[0m\u001b[0m\n\u001b[1;32m      8\u001b[0m \u001b[0;34m\u001b[0m\u001b[0m\n",
      "\u001b[0;32m~/anaconda3/lib/python3.7/site-packages/sklearn/metrics/ranking.py\u001b[0m in \u001b[0;36mauc\u001b[0;34m(x, y, reorder)\u001b[0m\n\u001b[1;32m    116\u001b[0m             \u001b[0;32melse\u001b[0m\u001b[0;34m:\u001b[0m\u001b[0;34m\u001b[0m\u001b[0;34m\u001b[0m\u001b[0m\n\u001b[1;32m    117\u001b[0m                 raise ValueError(\"x is neither increasing nor decreasing \"\n\u001b[0;32m--> 118\u001b[0;31m                                  \": {}.\".format(x))\n\u001b[0m\u001b[1;32m    119\u001b[0m \u001b[0;34m\u001b[0m\u001b[0m\n\u001b[1;32m    120\u001b[0m     \u001b[0marea\u001b[0m \u001b[0;34m=\u001b[0m \u001b[0mdirection\u001b[0m \u001b[0;34m*\u001b[0m \u001b[0mnp\u001b[0m\u001b[0;34m.\u001b[0m\u001b[0mtrapz\u001b[0m\u001b[0;34m(\u001b[0m\u001b[0my\u001b[0m\u001b[0;34m,\u001b[0m \u001b[0mx\u001b[0m\u001b[0;34m)\u001b[0m\u001b[0;34m\u001b[0m\u001b[0;34m\u001b[0m\u001b[0m\n",
      "\u001b[0;31mValueError\u001b[0m: x is neither increasing nor decreasing : [0 0 0 ... 0 0 0]."
     ]
    }
   ],
   "source": [
    "predict_rf = model.predict(dataPrepared_X_test)\n",
    "accuracy_rf = accuracy_score(predict_rf,y_test)\n",
    "print('The accuracy score is {}'.format(accuracy_rf))\n",
    "confusion_matrix_rf = confusion_matrix(y_test,predict_rf)\n",
    "print(confusion_matrix_rf)\n",
    "auc_rf = auc(predict_rf,y_test)\n",
    "print(auc_rf)\n",
    "\n"
   ]
  },
  {
   "cell_type": "code",
   "execution_count": null,
   "metadata": {},
   "outputs": [],
   "source": []
  },
  {
   "cell_type": "code",
   "execution_count": null,
   "metadata": {},
   "outputs": [],
   "source": []
  }
 ],
 "metadata": {
  "kernelspec": {
   "display_name": "Python 3",
   "language": "python",
   "name": "python3"
  },
  "language_info": {
   "codemirror_mode": {
    "name": "ipython",
    "version": 3
   },
   "file_extension": ".py",
   "mimetype": "text/x-python",
   "name": "python",
   "nbconvert_exporter": "python",
   "pygments_lexer": "ipython3",
   "version": "3.6.8"
  }
 },
 "nbformat": 4,
 "nbformat_minor": 2
}
