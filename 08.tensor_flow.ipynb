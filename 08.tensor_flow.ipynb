{
 "cells": [
  {
   "cell_type": "code",
   "execution_count": 6,
   "metadata": {},
   "outputs": [],
   "source": [
    "import datetime"
   ]
  },
  {
   "cell_type": "code",
   "execution_count": 3,
   "metadata": {},
   "outputs": [
    {
     "name": "stdout",
     "output_type": "stream",
     "text": [
      "1.9.0\n"
     ]
    }
   ],
   "source": [
    "import tensorflow as tf\n",
    "from tensorflow import keras \n",
    "print(tf.__version__)"
   ]
  },
  {
   "cell_type": "code",
   "execution_count": 4,
   "metadata": {},
   "outputs": [
    {
     "data": {
      "text/plain": [
       "'2.1.6-tf'"
      ]
     },
     "execution_count": 4,
     "metadata": {},
     "output_type": "execute_result"
    }
   ],
   "source": [
    "keras.__version__"
   ]
  },
  {
   "cell_type": "code",
   "execution_count": 13,
   "metadata": {},
   "outputs": [],
   "source": [
    "def printRuntime():\n",
    "    print(format(datetime.datetime.now().strftime(\"%Y-%m-%d %H:%M\")))\n",
    "    print(\"-\"*16)"
   ]
  },
  {
   "cell_type": "code",
   "execution_count": 14,
   "metadata": {},
   "outputs": [
    {
     "name": "stdout",
     "output_type": "stream",
     "text": [
      "2019-10-16 12:17\n",
      "----------------\n"
     ]
    }
   ],
   "source": [
    "# every image is represented as a 28×28 array rather than a 1D array of size 784\n",
    "fashion_mnist = keras.datasets.fashion_mnist\n",
    "(X_train_full, y_train_full), (X_test, y_test) = fashion_mnist.load_data()\n",
    "printRuntime()"
   ]
  },
  {
   "cell_type": "code",
   "execution_count": 15,
   "metadata": {},
   "outputs": [
    {
     "data": {
      "text/plain": [
       "(60000, 28, 28)"
      ]
     },
     "execution_count": 15,
     "metadata": {},
     "output_type": "execute_result"
    }
   ],
   "source": [
    "X_train_full.shape"
   ]
  },
  {
   "cell_type": "code",
   "execution_count": 16,
   "metadata": {},
   "outputs": [
    {
     "data": {
      "text/plain": [
       "(10000, 28, 28)"
      ]
     },
     "execution_count": 16,
     "metadata": {},
     "output_type": "execute_result"
    }
   ],
   "source": [
    "X_test.shape"
   ]
  },
  {
   "cell_type": "code",
   "execution_count": 18,
   "metadata": {},
   "outputs": [],
   "source": [
    "# Create validation set\n",
    "X_valid, X_train = X_train_full[:5000] / 255.0, X_train_full[5000:] / 255.0\n",
    "y_valid, y_train = y_train_full[:5000], y_train_full[5000:]"
   ]
  },
  {
   "cell_type": "code",
   "execution_count": 19,
   "metadata": {},
   "outputs": [
    {
     "name": "stdout",
     "output_type": "stream",
     "text": [
      "Coat\n"
     ]
    }
   ],
   "source": [
    "# for Fashion MNIST, we need the list of class names\n",
    "class_names = [\"T-shirt/top\", \"Trouser\", \"Pullover\", \"Dress\", \"Coat\",\n",
    "               \"Sandal\", \"Shirt\", \"Sneaker\", \"Bag\", \"Ankle boot\"]\n",
    "print(class_names[y_train[0]])"
   ]
  },
  {
   "cell_type": "code",
   "execution_count": 21,
   "metadata": {},
   "outputs": [
    {
     "name": "stdout",
     "output_type": "stream",
     "text": [
      "2019-10-16 12:32\n",
      "----------------\n"
     ]
    }
   ],
   "source": [
    "# Specifying activation=\"relu\" is equivalent to activation=keras.activations.relu\n",
    "# Other activation functions are available in the keras.activations package, \n",
    "# See https://keras.io/activations/ for the full list.\n",
    "\n",
    "# Creating the Model Using the Sequential API\n",
    "model = keras.models.Sequential()\n",
    "model.add(keras.layers.Flatten(input_shape=[28, 28]))\n",
    "model.add(keras.layers.Dense(300, activation=\"relu\"))\n",
    "model.add(keras.layers.Dense(100, activation=\"relu\"))\n",
    "model.add(keras.layers.Dense(10, activation=\"softmax\"))\n",
    "printRuntime()"
   ]
  },
  {
   "cell_type": "code",
   "execution_count": null,
   "metadata": {},
   "outputs": [],
   "source": [
    "# Alternative way to specify the SAME model\n",
    "model = keras.models.Sequential([\n",
    "    keras.layers.Flatten(input_shape=[28, 28]),\n",
    "    keras.layers.Dense(300, activation=\"relu\"),\n",
    "    keras.layers.Dense(100, activation=\"relu\"),\n",
    "    keras.layers.Dense(10, activation=\"softmax\")\n",
    "])\n",
    "printRuntime()"
   ]
  },
  {
   "cell_type": "markdown",
   "metadata": {},
   "source": [
    "- The first line creates a Sequential model. This is the simplest kind of Keras model, for neural networks that are just composed of a single stack of layers, con‐ nected sequentially. This is called the sequential API.  \n",
    "- Next, we build the first layer and add it to the model. It is a Flatten layer whose role is simply to convert each input image into a 1D array: if it receives input data X, it computes X.reshape(-1, 1). This layer does not have any parameters, it is just there to do some simple preprocessing. Since it is the first layer in the model, you should specify the input_shape: this does not include the batch size, only the shape of the instances. Alternatively, you could add a keras.layers.InputLayer as the first layer, setting shape=[28,28].  \n",
    "- Next we add a Dense hidden layer with 300 neurons. It will use the ReLU activation function. Each Dense layer manages its own weight matrix, containing all the connection weights between the neurons and their inputs. It also manages a vector of bias terms (one per neuron). When it receives some input data, it computes Equation 10-2.  \n",
    "- Next we add a second Dense hidden layer with 100 neurons, also using the ReLU\n",
    "activation function.  \n",
    "- Finally, we add a Dense output layer with 10 neurons (one per class), using the softmax activation function (because the classes are exclusive).  "
   ]
  },
  {
   "cell_type": "code",
   "execution_count": null,
   "metadata": {},
   "outputs": [],
   "source": [
    "# Model information"
   ]
  },
  {
   "cell_type": "code",
   "execution_count": 22,
   "metadata": {},
   "outputs": [
    {
     "name": "stdout",
     "output_type": "stream",
     "text": [
      "_________________________________________________________________\n",
      "Layer (type)                 Output Shape              Param #   \n",
      "=================================================================\n",
      "flatten_1 (Flatten)          (None, 784)               0         \n",
      "_________________________________________________________________\n",
      "dense_3 (Dense)              (None, 300)               235500    \n",
      "_________________________________________________________________\n",
      "dense_4 (Dense)              (None, 100)               30100     \n",
      "_________________________________________________________________\n",
      "dense_5 (Dense)              (None, 10)                1010      \n",
      "=================================================================\n",
      "Total params: 266,610\n",
      "Trainable params: 266,610\n",
      "Non-trainable params: 0\n",
      "_________________________________________________________________\n"
     ]
    }
   ],
   "source": [
    "model.summary()"
   ]
  },
  {
   "cell_type": "code",
   "execution_count": 23,
   "metadata": {},
   "outputs": [
    {
     "data": {
      "text/plain": [
       "[<tensorflow.python.keras.layers.core.Flatten at 0xb44565e48>,\n",
       " <tensorflow.python.keras.layers.core.Dense at 0xb4457cac8>,\n",
       " <tensorflow.python.keras.layers.core.Dense at 0xb4457cb70>,\n",
       " <tensorflow.python.keras.layers.core.Dense at 0xb445a2710>]"
      ]
     },
     "execution_count": 23,
     "metadata": {},
     "output_type": "execute_result"
    }
   ],
   "source": [
    "model.layers"
   ]
  },
  {
   "cell_type": "code",
   "execution_count": 24,
   "metadata": {},
   "outputs": [
    {
     "data": {
      "text/plain": [
       "'dense_3'"
      ]
     },
     "execution_count": 24,
     "metadata": {},
     "output_type": "execute_result"
    }
   ],
   "source": [
    "model.layers[1].name"
   ]
  },
  {
   "cell_type": "code",
   "execution_count": 26,
   "metadata": {},
   "outputs": [],
   "source": [
    "hidden1 = model.layers[1]"
   ]
  },
  {
   "cell_type": "code",
   "execution_count": 27,
   "metadata": {},
   "outputs": [
    {
     "name": "stdout",
     "output_type": "stream",
     "text": [
      "[[-0.0461628   0.04487149 -0.0047088  ... -0.04546276  0.04343\n",
      "  -0.06276635]\n",
      " [ 0.00647467 -0.06553391 -0.0289762  ...  0.04988903 -0.05251116\n",
      "  -0.02262454]\n",
      " [-0.01892196  0.01539844 -0.01335902 ...  0.04929199  0.01365545\n",
      "  -0.06294311]\n",
      " ...\n",
      " [-0.07038769  0.023701    0.02298661 ...  0.02092859  0.00361724\n",
      "  -0.05032304]\n",
      " [ 0.04325142  0.06139988  0.0169751  ... -0.0142545   0.04163028\n",
      "   0.05830692]\n",
      " [-0.02738214 -0.05758239 -0.00317038 ... -0.02429691 -0.00640041\n",
      "  -0.05087147]]\n",
      "(784, 300)\n",
      "[0. 0. 0. 0. 0. 0. 0. 0. 0. 0. 0. 0. 0. 0. 0. 0. 0. 0. 0. 0. 0. 0. 0. 0.\n",
      " 0. 0. 0. 0. 0. 0. 0. 0. 0. 0. 0. 0. 0. 0. 0. 0. 0. 0. 0. 0. 0. 0. 0. 0.\n",
      " 0. 0. 0. 0. 0. 0. 0. 0. 0. 0. 0. 0. 0. 0. 0. 0. 0. 0. 0. 0. 0. 0. 0. 0.\n",
      " 0. 0. 0. 0. 0. 0. 0. 0. 0. 0. 0. 0. 0. 0. 0. 0. 0. 0. 0. 0. 0. 0. 0. 0.\n",
      " 0. 0. 0. 0. 0. 0. 0. 0. 0. 0. 0. 0. 0. 0. 0. 0. 0. 0. 0. 0. 0. 0. 0. 0.\n",
      " 0. 0. 0. 0. 0. 0. 0. 0. 0. 0. 0. 0. 0. 0. 0. 0. 0. 0. 0. 0. 0. 0. 0. 0.\n",
      " 0. 0. 0. 0. 0. 0. 0. 0. 0. 0. 0. 0. 0. 0. 0. 0. 0. 0. 0. 0. 0. 0. 0. 0.\n",
      " 0. 0. 0. 0. 0. 0. 0. 0. 0. 0. 0. 0. 0. 0. 0. 0. 0. 0. 0. 0. 0. 0. 0. 0.\n",
      " 0. 0. 0. 0. 0. 0. 0. 0. 0. 0. 0. 0. 0. 0. 0. 0. 0. 0. 0. 0. 0. 0. 0. 0.\n",
      " 0. 0. 0. 0. 0. 0. 0. 0. 0. 0. 0. 0. 0. 0. 0. 0. 0. 0. 0. 0. 0. 0. 0. 0.\n",
      " 0. 0. 0. 0. 0. 0. 0. 0. 0. 0. 0. 0. 0. 0. 0. 0. 0. 0. 0. 0. 0. 0. 0. 0.\n",
      " 0. 0. 0. 0. 0. 0. 0. 0. 0. 0. 0. 0. 0. 0. 0. 0. 0. 0. 0. 0. 0. 0. 0. 0.\n",
      " 0. 0. 0. 0. 0. 0. 0. 0. 0. 0. 0. 0.]\n",
      "(300,)\n"
     ]
    }
   ],
   "source": [
    "# All the parameters of a layer can be accessed using get_weights() and set_weights() method  \n",
    "weights, biases = hidden1.get_weights()\n",
    "print(weights)\n",
    "print(weights.shape)\n",
    "print(biases)\n",
    "print(biases.shape)"
   ]
  },
  {
   "cell_type": "markdown",
   "metadata": {},
   "source": [
    "#### Compile the model"
   ]
  },
  {
   "cell_type": "code",
   "execution_count": 28,
   "metadata": {},
   "outputs": [
    {
     "name": "stdout",
     "output_type": "stream",
     "text": [
      "2019-10-16 14:57\n",
      "----------------\n"
     ]
    }
   ],
   "source": [
    "model.compile(loss=\"sparse_categorical_crossentropy\",\n",
    "              optimizer=\"sgd\",\n",
    "              metrics=[\"accuracy\"])\n",
    "printRuntime()"
   ]
  },
  {
   "cell_type": "markdown",
   "metadata": {},
   "source": [
    "#### Reference\n",
    "https://keras.io/losses/  \n",
    "https://keras.io/optimizers/   \n",
    "https://keras.io/metrics/  "
   ]
  },
  {
   "cell_type": "markdown",
   "metadata": {},
   "source": [
    "#### Training and evaluating the model"
   ]
  },
  {
   "cell_type": "code",
   "execution_count": 29,
   "metadata": {},
   "outputs": [
    {
     "name": "stdout",
     "output_type": "stream",
     "text": [
      "Train on 55000 samples, validate on 5000 samples\n",
      "Epoch 1/30\n",
      "55000/55000 [==============================] - 4s 77us/step - loss: 0.7231 - acc: 0.7640 - val_loss: 0.5379 - val_acc: 0.8120\n",
      "Epoch 2/30\n",
      "55000/55000 [==============================] - 4s 64us/step - loss: 0.4887 - acc: 0.8293 - val_loss: 0.4511 - val_acc: 0.8380\n",
      "Epoch 3/30\n",
      "55000/55000 [==============================] - 3s 63us/step - loss: 0.4432 - acc: 0.8448 - val_loss: 0.4432 - val_acc: 0.8446\n",
      "Epoch 4/30\n",
      "55000/55000 [==============================] - 4s 66us/step - loss: 0.4143 - acc: 0.8543 - val_loss: 0.4108 - val_acc: 0.8566\n",
      "Epoch 5/30\n",
      "55000/55000 [==============================] - 4s 65us/step - loss: 0.3940 - acc: 0.8618 - val_loss: 0.3780 - val_acc: 0.8722\n",
      "Epoch 6/30\n",
      "55000/55000 [==============================] - 4s 64us/step - loss: 0.3784 - acc: 0.8669 - val_loss: 0.3866 - val_acc: 0.8686\n",
      "Epoch 7/30\n",
      "55000/55000 [==============================] - 4s 64us/step - loss: 0.3644 - acc: 0.8717 - val_loss: 0.3556 - val_acc: 0.8778\n",
      "Epoch 8/30\n",
      "55000/55000 [==============================] - 4s 70us/step - loss: 0.3538 - acc: 0.8758 - val_loss: 0.3748 - val_acc: 0.8696\n",
      "Epoch 9/30\n",
      "55000/55000 [==============================] - 4s 68us/step - loss: 0.3433 - acc: 0.8785 - val_loss: 0.3469 - val_acc: 0.8786\n",
      "Epoch 10/30\n",
      "55000/55000 [==============================] - 4s 66us/step - loss: 0.3346 - acc: 0.8809 - val_loss: 0.3463 - val_acc: 0.8776\n",
      "Epoch 11/30\n",
      "55000/55000 [==============================] - 3s 63us/step - loss: 0.3248 - acc: 0.8850 - val_loss: 0.3368 - val_acc: 0.8788\n",
      "Epoch 12/30\n",
      "55000/55000 [==============================] - 4s 64us/step - loss: 0.3173 - acc: 0.8865 - val_loss: 0.3338 - val_acc: 0.8794\n",
      "Epoch 13/30\n",
      "55000/55000 [==============================] - 4s 65us/step - loss: 0.3103 - acc: 0.8897 - val_loss: 0.3371 - val_acc: 0.8792\n",
      "Epoch 14/30\n",
      "55000/55000 [==============================] - 4s 64us/step - loss: 0.3034 - acc: 0.8917 - val_loss: 0.3214 - val_acc: 0.8856\n",
      "Epoch 15/30\n",
      "55000/55000 [==============================] - 4s 64us/step - loss: 0.2978 - acc: 0.8932 - val_loss: 0.3465 - val_acc: 0.8780\n",
      "Epoch 16/30\n",
      "55000/55000 [==============================] - 4s 64us/step - loss: 0.2913 - acc: 0.8957 - val_loss: 0.3348 - val_acc: 0.8808\n",
      "Epoch 17/30\n",
      "55000/55000 [==============================] - 4s 64us/step - loss: 0.2852 - acc: 0.8977 - val_loss: 0.3161 - val_acc: 0.8854\n",
      "Epoch 18/30\n",
      "55000/55000 [==============================] - 4s 64us/step - loss: 0.2795 - acc: 0.8995 - val_loss: 0.3472 - val_acc: 0.8720\n",
      "Epoch 19/30\n",
      "55000/55000 [==============================] - 4s 67us/step - loss: 0.2753 - acc: 0.9004 - val_loss: 0.3093 - val_acc: 0.8874\n",
      "Epoch 20/30\n",
      "55000/55000 [==============================] - 4s 64us/step - loss: 0.2698 - acc: 0.9024 - val_loss: 0.3049 - val_acc: 0.8896\n",
      "Epoch 21/30\n",
      "55000/55000 [==============================] - 4s 65us/step - loss: 0.2647 - acc: 0.9036 - val_loss: 0.3081 - val_acc: 0.8900\n",
      "Epoch 22/30\n",
      "55000/55000 [==============================] - 4s 64us/step - loss: 0.2597 - acc: 0.9073 - val_loss: 0.3116 - val_acc: 0.8898\n",
      "Epoch 23/30\n",
      "55000/55000 [==============================] - 4s 64us/step - loss: 0.2554 - acc: 0.9075 - val_loss: 0.3061 - val_acc: 0.8886\n",
      "Epoch 24/30\n",
      "55000/55000 [==============================] - 4s 65us/step - loss: 0.2509 - acc: 0.9098 - val_loss: 0.3118 - val_acc: 0.8860\n",
      "Epoch 25/30\n",
      "55000/55000 [==============================] - 4s 64us/step - loss: 0.2476 - acc: 0.9099 - val_loss: 0.3004 - val_acc: 0.8898\n",
      "Epoch 26/30\n",
      "55000/55000 [==============================] - 4s 64us/step - loss: 0.2428 - acc: 0.9127 - val_loss: 0.3179 - val_acc: 0.8848\n",
      "Epoch 27/30\n",
      "55000/55000 [==============================] - 4s 64us/step - loss: 0.2387 - acc: 0.9144 - val_loss: 0.3061 - val_acc: 0.8896\n",
      "Epoch 28/30\n",
      "55000/55000 [==============================] - 4s 66us/step - loss: 0.2341 - acc: 0.9141 - val_loss: 0.3192 - val_acc: 0.8886\n",
      "Epoch 29/30\n",
      "55000/55000 [==============================] - 4s 67us/step - loss: 0.2304 - acc: 0.9163 - val_loss: 0.3118 - val_acc: 0.8874\n",
      "Epoch 30/30\n",
      "55000/55000 [==============================] - 4s 64us/step - loss: 0.2269 - acc: 0.9189 - val_loss: 0.3094 - val_acc: 0.8896\n",
      "2019-10-16 15:23\n",
      "----------------\n"
     ]
    }
   ],
   "source": [
    "# Args:\n",
    "# input features (X_train) and the target classes (y_train)\n",
    "# the number of epochs to train (default = 1)\n",
    "# validation set (Optional): Keras will measure the loss and the extra metrics \n",
    "# on this set at the end of each epoch, which is very useful to see how well \n",
    "# the model really performs\n",
    "history = model.fit(X_train, y_train, epochs=30,\n",
    "                    validation_data=(X_valid, y_valid))\n",
    "printRuntime()"
   ]
  }
 ],
 "metadata": {
  "kernelspec": {
   "display_name": "Python 3",
   "language": "python",
   "name": "python3"
  },
  "language_info": {
   "codemirror_mode": {
    "name": "ipython",
    "version": 3
   },
   "file_extension": ".py",
   "mimetype": "text/x-python",
   "name": "python",
   "nbconvert_exporter": "python",
   "pygments_lexer": "ipython3",
   "version": "3.6.8"
  }
 },
 "nbformat": 4,
 "nbformat_minor": 2
}
