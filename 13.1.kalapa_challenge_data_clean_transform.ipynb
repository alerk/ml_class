{
 "cells": [
  {
   "cell_type": "code",
   "execution_count": 1,
   "metadata": {},
   "outputs": [],
   "source": [
    "import pandas as pd, numpy as np, seaborn as sns\n",
    "from pprint import pprint\n",
    "%matplotlib inline\n",
    "import matplotlib\n",
    "import matplotlib.pyplot as plt\n",
    "\n",
    "import math\n",
    "\n",
    "import datetime, time\n",
    "\n",
    "from pprint import pprint\n",
    "import re"
   ]
  },
  {
   "cell_type": "code",
   "execution_count": 2,
   "metadata": {},
   "outputs": [
    {
     "name": "stdout",
     "output_type": "stream",
     "text": [
      "2020-02-05 00:47:49\n",
      "-------------------\n"
     ]
    }
   ],
   "source": [
    "def printRuntime():\n",
    "    print(datetime.datetime.now().strftime(\"%Y-%m-%d %T\"))\n",
    "    print(\"-\"*19)\n",
    "printRuntime()"
   ]
  },
  {
   "cell_type": "markdown",
   "metadata": {},
   "source": [
    "# 1. Load data"
   ]
  },
  {
   "cell_type": "code",
   "execution_count": 3,
   "metadata": {},
   "outputs": [
    {
     "name": "stdout",
     "output_type": "stream",
     "text": [
      "2020-02-05 00:47:53\n",
      "-------------------\n"
     ]
    }
   ],
   "source": [
    "basePath = \"./kalapa/\"\n",
    "trainPath = basePath + \"train.csv\"\n",
    "testPath = basePath + \"test.csv\"\n",
    "colDesc = basePath + \"column_description.csv\"\n",
    "sampleSubmit = basePath + \"sample_submission.csv\"\n",
    "\n",
    "cleanedTrain = basePath + \"cleanedTrain.pickle\"\n",
    "nb01 = basePath + \"nb01.pickle\"\n",
    "nb02 = basePath + \"nb02.pickle\"\n",
    "nb03 = basePath + \"nb03.pickle\"\n",
    "printRuntime()"
   ]
  },
  {
   "cell_type": "code",
   "execution_count": 4,
   "metadata": {},
   "outputs": [
    {
     "name": "stdout",
     "output_type": "stream",
     "text": [
      "2020-02-05 00:47:54\n",
      "-------------------\n"
     ]
    }
   ],
   "source": [
    "def avgAge(row):\n",
    "    a = row[\"age_source1\"]\n",
    "    b = row[\"age_source2\"]\n",
    "    if np.isnan(a) and np.isnan(b):\n",
    "        return np.nan\n",
    "    elif np.isnan(a):\n",
    "        return b\n",
    "    elif np.isnan(b):\n",
    "        return a\n",
    "    else:\n",
    "        return (a+b)/2.0\n",
    "    \n",
    "def diffAge(row):\n",
    "    a = row[\"age_source1\"]\n",
    "    b = row[\"age_source2\"]\n",
    "    if np.isnan(a) and np.isnan(b):\n",
    "        return np.nan\n",
    "    elif np.isnan(a):\n",
    "        return -b\n",
    "    elif np.isnan(b):\n",
    "        return a\n",
    "    else:\n",
    "        return (a+b)/2.0\n",
    "    \n",
    "def groupAge(age):\n",
    "    # 18-23; 23-35; 35-50; 50+\n",
    "    result = \"\"\n",
    "    if np.isnan(age):\n",
    "        result = \"AGE_NONE\"\n",
    "    elif age <=23:\n",
    "        result = \"AGE_I\"\n",
    "    elif age <=35:\n",
    "        result = \"AGE_II\"\n",
    "    elif age <= 50:\n",
    "        result = \"AGE_III\"\n",
    "    else:\n",
    "        result = \"AGE_IV\"\n",
    "    return result\n",
    "printRuntime()"
   ]
  },
  {
   "cell_type": "markdown",
   "metadata": {},
   "source": [
    "# Train"
   ]
  },
  {
   "cell_type": "code",
   "execution_count": 5,
   "metadata": {},
   "outputs": [
    {
     "name": "stdout",
     "output_type": "stream",
     "text": [
      "2020-02-05 00:47:59\n",
      "-------------------\n"
     ]
    },
    {
     "name": "stderr",
     "output_type": "stream",
     "text": [
      "/Users/quyennguyen/anaconda3/lib/python3.7/site-packages/IPython/core/interactiveshell.py:3057: DtypeWarning: Columns (51) have mixed types. Specify dtype option on import or set low_memory=False.\n",
      "  interactivity=interactivity, compiler=compiler, result=result)\n"
     ]
    }
   ],
   "source": [
    "pdfTrainRaw = pd.read_csv(trainPath)\n",
    "printRuntime()"
   ]
  },
  {
   "cell_type": "code",
   "execution_count": 6,
   "metadata": {},
   "outputs": [
    {
     "name": "stdout",
     "output_type": "stream",
     "text": [
      "2020-02-05 00:48:00\n",
      "-------------------\n"
     ]
    }
   ],
   "source": [
    "cond = (\n",
    "    ~((pdfTrainRaw[\"age_source1\"]<18) | (pdfTrainRaw[\"age_source2\"]<18)) # Filter out age < 18, keep NaN\n",
    ")\n",
    "pdfTrain = pdfTrainRaw[cond].copy()\n",
    "printRuntime()"
   ]
  },
  {
   "cell_type": "code",
   "execution_count": 7,
   "metadata": {},
   "outputs": [
    {
     "data": {
      "text/plain": [
       "(29924, 64)"
      ]
     },
     "execution_count": 7,
     "metadata": {},
     "output_type": "execute_result"
    }
   ],
   "source": [
    "pdfTrain.shape"
   ]
  },
  {
   "cell_type": "code",
   "execution_count": 8,
   "metadata": {
    "collapsed": true
   },
   "outputs": [
    {
     "name": "stdout",
     "output_type": "stream",
     "text": [
      "<class 'pandas.core.frame.DataFrame'>\n",
      "Int64Index: 29924 entries, 0 to 29999\n",
      "Data columns (total 64 columns):\n",
      "id             29924 non-null int64\n",
      "label          29924 non-null int64\n",
      "province       17114 non-null object\n",
      "district       17083 non-null object\n",
      "age_source1    17121 non-null float64\n",
      "age_source2    20253 non-null float64\n",
      "maCv           20252 non-null object\n",
      "FIELD_1        29924 non-null int64\n",
      "FIELD_2        29461 non-null float64\n",
      "FIELD_3        29461 non-null float64\n",
      "FIELD_4        29461 non-null float64\n",
      "FIELD_5        29461 non-null float64\n",
      "FIELD_6        29461 non-null float64\n",
      "FIELD_7        29461 non-null object\n",
      "FIELD_8        20253 non-null object\n",
      "FIELD_9        29924 non-null object\n",
      "FIELD_10       20253 non-null object\n",
      "FIELD_11       20253 non-null object\n",
      "FIELD_12       20253 non-null object\n",
      "FIELD_13       20231 non-null object\n",
      "FIELD_14       29924 non-null int64\n",
      "FIELD_15       29924 non-null int64\n",
      "FIELD_16       20253 non-null float64\n",
      "FIELD_17       20253 non-null object\n",
      "FIELD_18       20253 non-null object\n",
      "FIELD_19       20253 non-null object\n",
      "FIELD_20       20253 non-null object\n",
      "FIELD_21       20253 non-null float64\n",
      "FIELD_22       20253 non-null float64\n",
      "FIELD_23       20253 non-null object\n",
      "FIELD_24       20253 non-null object\n",
      "FIELD_25       20253 non-null object\n",
      "FIELD_26       20253 non-null object\n",
      "FIELD_27       20253 non-null object\n",
      "FIELD_28       20253 non-null object\n",
      "FIELD_29       20253 non-null object\n",
      "FIELD_30       20253 non-null object\n",
      "FIELD_31       20253 non-null object\n",
      "FIELD_32       29924 non-null int64\n",
      "FIELD_33       29924 non-null int64\n",
      "FIELD_34       29924 non-null int64\n",
      "FIELD_35       20253 non-null object\n",
      "FIELD_36       20253 non-null object\n",
      "FIELD_37       20253 non-null object\n",
      "FIELD_38       20253 non-null object\n",
      "FIELD_39       20253 non-null object\n",
      "FIELD_40       20253 non-null object\n",
      "FIELD_41       20253 non-null object\n",
      "FIELD_42       20253 non-null object\n",
      "FIELD_43       20253 non-null object\n",
      "FIELD_44       20253 non-null object\n",
      "FIELD_45       20253 non-null object\n",
      "FIELD_46       29924 non-null int64\n",
      "FIELD_47       29924 non-null bool\n",
      "FIELD_48       29924 non-null bool\n",
      "FIELD_49       29924 non-null bool\n",
      "FIELD_50       20253 non-null float64\n",
      "FIELD_51       20253 non-null float64\n",
      "FIELD_52       20253 non-null float64\n",
      "FIELD_53       20253 non-null float64\n",
      "FIELD_54       20253 non-null float64\n",
      "FIELD_55       20253 non-null float64\n",
      "FIELD_56       20253 non-null float64\n",
      "FIELD_57       20253 non-null float64\n",
      "dtypes: bool(3), float64(18), int64(9), object(34)\n",
      "memory usage: 14.2+ MB\n"
     ]
    }
   ],
   "source": [
    "pdfTrain.info()"
   ]
  },
  {
   "cell_type": "code",
   "execution_count": 9,
   "metadata": {},
   "outputs": [],
   "source": [
    "lsMetaCol = [\"id\", \"label\", \"province\", \"district\", \"age_source1\", \"age_source2\", \"maCv\"]"
   ]
  },
  {
   "cell_type": "markdown",
   "metadata": {},
   "source": [
    "# Test"
   ]
  },
  {
   "cell_type": "code",
   "execution_count": 66,
   "metadata": {},
   "outputs": [
    {
     "name": "stdout",
     "output_type": "stream",
     "text": [
      "2020-02-05 01:18:44\n",
      "-------------------\n"
     ]
    },
    {
     "name": "stderr",
     "output_type": "stream",
     "text": [
      "/Users/quyennguyen/anaconda3/lib/python3.7/site-packages/IPython/core/interactiveshell.py:3057: DtypeWarning: Columns (50) have mixed types. Specify dtype option on import or set low_memory=False.\n",
      "  interactivity=interactivity, compiler=compiler, result=result)\n"
     ]
    }
   ],
   "source": [
    "pdfTestRaw = pd.read_csv(testPath)\n",
    "printRuntime()"
   ]
  },
  {
   "cell_type": "code",
   "execution_count": 67,
   "metadata": {},
   "outputs": [
    {
     "name": "stdout",
     "output_type": "stream",
     "text": [
      "2020-02-05 01:18:44\n",
      "-------------------\n"
     ]
    }
   ],
   "source": [
    "cond = (\n",
    "    ~((pdfTestRaw[\"age_source1\"]<18) | (pdfTestRaw[\"age_source2\"]<18)) # Filter out age < 18, keep NaN\n",
    ")\n",
    "pdfTest = pdfTestRaw[cond].copy()\n",
    "printRuntime()"
   ]
  },
  {
   "cell_type": "markdown",
   "metadata": {},
   "source": [
    "### Clean data"
   ]
  },
  {
   "cell_type": "raw",
   "metadata": {},
   "source": [
    "cat non-ordinal fields\n",
    "FIELD_7 (vector), FIELD_9 35, FIELD_10 3, FIELD_12 5, FIELD_13 227, FIELD_17 8, FIELD_24 4, FIELD_39 46, FIELD_43 7\n",
    "one-hot: 10, 12, 17, 24, 43\n",
    "Duplicated province \"Tỉnh Vĩnh Phúc\" and \"Tỉnh Vĩnh phúc\"\n",
    "# TODO:\n",
    "embedding: 7, 9, 13, 39 TO BE DONE"
   ]
  },
  {
   "cell_type": "raw",
   "metadata": {},
   "source": [
    "# Because nan is float64, convert columns to float64\n",
    "FIELD_1: [1 0]\n",
    "FIELD_2: [ 1.  0. nan] 1. ->1, 0. ->0\n",
    "FIELD_3: float64 multiple values\n",
    "FIELD_4: [ 0.  1. nan  2.  3.  4.  5.  6.  8.  7. 12.] 0->8, 12, nan\n",
    "FIELD_5: [ 0.  1.  4.  2. nan  6.  3.  5.  7.  8. 11.  9. 12. 14. 10. 13.] 0->14, nan\n",
    "FIELD_6: [ 0.  1. nan  2.  3.  4.] -> 1-5 scale (with NULL)\n",
    "FIELD_7: TO BE EMBEDDED\n",
    "FIELD_8: [nan 'MALE' 'FEMALE'] Gender (with NULL)\n",
    "FIELD_9: TO BE EMBEDDED\n",
    "FIELD_10: [nan 'T1' 'GH'] object non-ordinal\n",
    "FIELD_11: numeric string: 'None'->nan, string -> int64\n",
    "FIELD_12: [nan 'None' '0' '1' 'HT' 'TN'] 'None'->nan '0', '1', 'HT', 'TN'  object non-ordinal\n",
    "FIELD_13: object not detected -> TO BE EMBEDDED\n",
    "FIELD_14: [0 1]\n",
    "FIELD_15: [0 1]\n",
    "FIELD_16: 1-5 scale (with NULL)\n",
    "FIELD_17: [nan 'G8' 'None' 'G9' 'G7' 'GX' 'G3' 'G4' 'G2'] 'None' => nan  object non-ordinal\n",
    "FIELD_18: [nan True False]\n",
    "FIELD_19: [nan True False]\n",
    "FIELD_20: [nan True False]\n",
    "FIELD_21: [nan  1.  2.  0.] -> 0, 1, 2 (int64)\n",
    "FIELD_22: float64 multiple values\n",
    "FIELD_23: [nan, True] -> bool\n",
    "FIELD_24: [nan 'None' 'K3' 'K1' 'K2'] 'None' => nan  object non-ordinal\n",
    "FIELD_25: [nan, 'FALSE', 'TRUE'] 'TRUE' -> True, 'FALSE' -> False\n",
    "FIELD_26: [nan True False]\n",
    "FIELD_27: [nan True False]\n",
    "FIELD_28: [nan True False]\n",
    "FIELD_29: [nan, 'None', 'FALSE', 'TRUE'] 'None' => nan, 'TRUE' -> True, 'FALSE' -> False\n",
    "FIELD_30: [nan, 'None', 'FALSE', 'TRUE'] 'None' => nan, 'TRUE' -> True, 'FALSE' -> False\n",
    "FIELD_31: [nan 'None' 'FALSE'] 'None' -> nan, 'FALSE' -> False\n",
    "FIELD_32: int64 but 0-1 ~ bool\n",
    "FIELD_33: int64 but 0-1 ~ bool\n",
    "FIELD_34: int64 but 0-1 ~ bool\n",
    "FIELD_35: [nan 'Zero' 'Four' 'One' 'Three' 'Two'] => 1-5 scale (with NULL)\n",
    "FIELD_36: [nan 'FALSE' 'TRUE' 'None'] 'None' => nan\n",
    "FIELD_37: [nan True False 'TRUE' 'FALSE' 'None'] 'None' => nan, 'TRUE' -> True, 'FALSE' -> False\n",
    "FIELD_38: [nan False True]\n",
    "FIELD_39: object not detected -> TO BE EMBEDDED\n",
    "FIELD_40: [nan 'None' '1' '2' '02 05 08 11' '3' '6' '4' '08 02' '05 08 11 02'] 'None'->nan, !PROBLEM UNKNOWN\n",
    "FIELD_41: [nan 'V' 'I' 'III' 'II' 'IV'] => 1-5 scale (with NULL)\n",
    "FIELD_42: [nan 'Zezo' 'One' 'None'] => 'None' -> nan, 'Zero' -> 0, 'One' -> 1\n",
    "FIELD_43: [nan 'None' 'B' 'D' 'C' 'A' '5' '0']\n",
    "FIELD_44: [nan 'One' 'Two' 'None'] => 'None' -> nan, 'One'->1, 'Two'->2\n",
    "FIELD_45: [nan '1' '2' 'None' 1.0 2.0] => 'None' -> nan, '1'->1, '2'->2, 1.0->1, 2.0->2\n",
    "FIELD_46: [0 1]\n",
    "FIELD_47: [True False]\n",
    "FIELD_48: [True False]\n",
    "FIELD_49: [True False]"
   ]
  },
  {
   "cell_type": "code",
   "execution_count": null,
   "metadata": {},
   "outputs": [],
   "source": [
    "25, 29, 30, 31, 36, 37, : 'TRUE' -> True, 'FALSE' -> False !DONE\n",
    "35: => \"Zero\"-\"Four\" -> 1-5 scale (with NULL) !DONE\n",
    "41: \"I\"-\"V\" -> 1-5 scale (with NULL) !DONE\n",
    "42, 44: \"Zezo\", \"One\", \"Two\" !DONE\n",
    "45: \"1\" 1.0 -> 1; \"2\" 2.0 ->2 !DONE"
   ]
  },
  {
   "cell_type": "markdown",
   "metadata": {},
   "source": [
    "### Break down maCv to (maCv[:2] + maCv[2:])"
   ]
  },
  {
   "cell_type": "code",
   "execution_count": 10,
   "metadata": {},
   "outputs": [
    {
     "name": "stdout",
     "output_type": "stream",
     "text": [
      "('nhân viên', 'phòng thí nghiệm')\n",
      "('nhân viên', 'bảo trì')\n",
      "('công nhân', 'ủi')\n",
      "('cấp dưỡng', 'none')\n",
      "2020-02-05 00:48:16\n",
      "-------------------\n"
     ]
    }
   ],
   "source": [
    "def splitJobType(iStr):\n",
    "    if \"none\" == iStr or \"nan\" == iStr:\n",
    "        return \"none\", \"none\"\n",
    "    # Replace all digit\n",
    "    iStr = re.sub(\"\\d\", \"\", iStr)\n",
    "    # Replace cn to cong nhan\n",
    "    iStr = re.sub(r\"^(cnhân|cn)\", \"công nhân \", iStr)\n",
    "    # Replace nv/nv. to nhan vien\n",
    "    iStr = re.sub(r\"(- nv|nv.|nv)\", \"nhân viên \", iStr)\n",
    "    lsWord = iStr.split()\n",
    "    if len(lsWord) == 0:\n",
    "        return \"none\", \"none\"\n",
    "    \n",
    "    jobCat = \" \".join(lsWord[:2])\n",
    "    jobDesc = \"none\"\n",
    "    if len(lsWord) > 2:\n",
    "        jobDesc = \" \".join(lsWord[2:])\n",
    "    return jobCat, jobDesc\n",
    "\n",
    "# Test\n",
    "print(splitJobType(\"nhân viên phòng thí nghiệm\"))\n",
    "print(splitJobType(\"nhân viên bảo trì\"))\n",
    "print(splitJobType(\"cn ủi\"))\n",
    "print(splitJobType(\"9782cấp dưỡng\"))\n",
    "printRuntime()"
   ]
  },
  {
   "cell_type": "code",
   "execution_count": 11,
   "metadata": {},
   "outputs": [
    {
     "name": "stdout",
     "output_type": "stream",
     "text": [
      "2020-02-05 00:48:19\n",
      "-------------------\n"
     ]
    }
   ],
   "source": [
    "pdfTrain[\"maCv\"] = pdfTrain[\"maCv\"].apply(lambda x: str(x).lower())\n",
    "pdfTrain[\"jobCat\"], pdfTrain[\"jobDesc\"] = zip(*pdfTrain[\"maCv\"].apply(splitJobType))\n",
    "printRuntime()"
   ]
  },
  {
   "cell_type": "code",
   "execution_count": 68,
   "metadata": {},
   "outputs": [
    {
     "name": "stdout",
     "output_type": "stream",
     "text": [
      "2020-02-05 01:19:05\n",
      "-------------------\n"
     ]
    }
   ],
   "source": [
    "pdfTest[\"maCv\"] = pdfTest[\"maCv\"].apply(lambda x: str(x).lower())\n",
    "pdfTest[\"jobCat\"], pdfTest[\"jobDesc\"] = zip(*pdfTest[\"maCv\"].apply(splitJobType))\n",
    "printRuntime()"
   ]
  },
  {
   "cell_type": "code",
   "execution_count": 12,
   "metadata": {},
   "outputs": [],
   "source": [
    "df = (pdfTrain\n",
    "      .replace(\"None\", np.nan) # 'None' -> nan\n",
    "      .replace(\"TRUE\", True) # 'TRUE' -> True\n",
    "      .replace(\"FALSE\", False) # 'FALSE' -> False\n",
    "      .replace(\"Tỉnh Vĩnh phúc\", \"Tỉnh Vĩnh Phúc\") # \"Tỉnh Vĩnh phúc\" -> \"Tỉnh Vĩnh Phúc\"\n",
    "     )"
   ]
  },
  {
   "cell_type": "code",
   "execution_count": 69,
   "metadata": {},
   "outputs": [],
   "source": [
    "dfTest = (pdfTest\n",
    "      .replace(\"None\", np.nan) # 'None' -> nan\n",
    "      .replace(\"TRUE\", True) # 'TRUE' -> True\n",
    "      .replace(\"FALSE\", False) # 'FALSE' -> False\n",
    "      .replace(\"Tỉnh Vĩnh phúc\", \"Tỉnh Vĩnh Phúc\") # \"Tỉnh Vĩnh phúc\" -> \"Tỉnh Vĩnh Phúc\"\n",
    "     )"
   ]
  },
  {
   "cell_type": "markdown",
   "metadata": {},
   "source": [
    "#### Replace ilformed values by columns to safely remove"
   ]
  },
  {
   "cell_type": "code",
   "execution_count": 70,
   "metadata": {},
   "outputs": [],
   "source": [
    "for dfTmp in [df, dfTest]:\n",
    "    # 6\n",
    "    dfTmp[\"FIELD_6\"] = dfTmp[\"FIELD_6\"] + 1\n",
    "\n",
    "    # 35 'Four' 'One' 'Three' 'Two'\n",
    "    dfTmp.loc[dfTmp[\"FIELD_35\"]==\"Zero\", \"FIELD_35\"] = 1\n",
    "    dfTmp.loc[dfTmp[\"FIELD_35\"]==\"One\", \"FIELD_35\"] = 2\n",
    "    dfTmp.loc[dfTmp[\"FIELD_35\"]==\"Two\", \"FIELD_35\"] = 3\n",
    "    dfTmp.loc[dfTmp[\"FIELD_35\"]==\"Three\", \"FIELD_35\"] = 4\n",
    "    dfTmp.loc[dfTmp[\"FIELD_35\"]==\"Four\", \"FIELD_35\"] = 5\n",
    "\n",
    "    # 41 I II III IV V\n",
    "    dfTmp.loc[dfTmp[\"FIELD_41\"]==\"I\", \"FIELD_41\"] = 1\n",
    "    dfTmp.loc[dfTmp[\"FIELD_41\"]==\"II\", \"FIELD_41\"] = 2\n",
    "    dfTmp.loc[dfTmp[\"FIELD_41\"]==\"III\", \"FIELD_41\"] = 3\n",
    "    dfTmp.loc[dfTmp[\"FIELD_41\"]==\"IV\", \"FIELD_41\"] = 4\n",
    "    dfTmp.loc[dfTmp[\"FIELD_41\"]==\"V\", \"FIELD_41\"] = 5\n",
    "\n",
    "    # 42\n",
    "    dfTmp.loc[dfTmp[\"FIELD_42\"]==\"Zezo\", \"FIELD_42\"] = 0\n",
    "    dfTmp.loc[dfTmp[\"FIELD_42\"]==\"One\", \"FIELD_42\"] = 1\n",
    "\n",
    "    # 44\n",
    "    dfTmp.loc[dfTmp[\"FIELD_44\"]==\"One\", \"FIELD_44\"] = 1\n",
    "    dfTmp.loc[dfTmp[\"FIELD_44\"]==\"Two\", \"FIELD_44\"] = 2\n",
    "\n",
    "    # 45\n",
    "    dfTmp.loc[(dfTmp[\"FIELD_45\"]==\"1\")|(dfTmp[\"FIELD_45\"]==1.0), \"FIELD_45\"] = 1\n",
    "    dfTmp.loc[(dfTmp[\"FIELD_45\"]==\"2\")|(dfTmp[\"FIELD_45\"]==2.0), \"FIELD_45\"] = 2"
   ]
  },
  {
   "cell_type": "markdown",
   "metadata": {},
   "source": [
    "### One-hot 8 (gender), 10, 12, 17, 24, 43"
   ]
  },
  {
   "cell_type": "code",
   "execution_count": 19,
   "metadata": {},
   "outputs": [],
   "source": [
    "df_backup = df.copy()"
   ]
  },
  {
   "cell_type": "code",
   "execution_count": 20,
   "metadata": {
    "collapsed": true
   },
   "outputs": [
    {
     "name": "stdout",
     "output_type": "stream",
     "text": [
      "{'FEMALE': 'FIELD_8_FEMALE', 'MALE': 'FIELD_8_MALE', 'None': 'FIELD_8_None'}\n",
      "{'GH': 'FIELD_10_GH', 'None': 'FIELD_10_None', 'T1': 'FIELD_10_T1'}\n",
      "{'0': 'FIELD_12_0',\n",
      " '1': 'FIELD_12_1',\n",
      " 'HT': 'FIELD_12_HT',\n",
      " 'None': 'FIELD_12_None',\n",
      " 'TN': 'FIELD_12_TN'}\n",
      "{'G2': 'FIELD_17_G2',\n",
      " 'G3': 'FIELD_17_G3',\n",
      " 'G4': 'FIELD_17_G4',\n",
      " 'G7': 'FIELD_17_G7',\n",
      " 'G8': 'FIELD_17_G8',\n",
      " 'G9': 'FIELD_17_G9',\n",
      " 'GX': 'FIELD_17_GX',\n",
      " 'None': 'FIELD_17_None'}\n",
      "{'K1': 'FIELD_24_K1',\n",
      " 'K2': 'FIELD_24_K2',\n",
      " 'K3': 'FIELD_24_K3',\n",
      " 'None': 'FIELD_24_None'}\n",
      "{'0': 'FIELD_43_0',\n",
      " '5': 'FIELD_43_5',\n",
      " 'A': 'FIELD_43_A',\n",
      " 'B': 'FIELD_43_B',\n",
      " 'C': 'FIELD_43_C',\n",
      " 'D': 'FIELD_43_D',\n",
      " 'None': 'FIELD_43_None'}\n"
     ]
    }
   ],
   "source": [
    "# Get one hot encoding of columns B\n",
    "lsCol = [8, 10, 12, 17, 24, 43]\n",
    "for d in lsCol:\n",
    "    cName = \"FIELD_%d\" % d\n",
    "    one_hot = pd.get_dummies(df[cName].replace(np.nan, \"None\"))\n",
    "    renameCol = {}\n",
    "    for c in one_hot.columns:\n",
    "        renameCol[c] = \"%s_%s\" % (cName, c)\n",
    "    pprint(renameCol)\n",
    "    one_hot = one_hot.rename(columns=renameCol)\n",
    "    df = df.drop(cName, axis = 1)\n",
    "    # Join the encoded df\n",
    "    df = df.join(one_hot)"
   ]
  },
  {
   "cell_type": "code",
   "execution_count": 74,
   "metadata": {},
   "outputs": [
    {
     "name": "stdout",
     "output_type": "stream",
     "text": [
      "{'FEMALE': 'FIELD_8_FEMALE', 'MALE': 'FIELD_8_MALE', 'None': 'FIELD_8_None'}\n",
      "{'GH': 'FIELD_10_GH', 'None': 'FIELD_10_None', 'T1': 'FIELD_10_T1'}\n",
      "{'0': 'FIELD_12_0',\n",
      " '1': 'FIELD_12_1',\n",
      " 'DK': 'FIELD_12_DK',\n",
      " 'DN': 'FIELD_12_DN',\n",
      " 'DT': 'FIELD_12_DT',\n",
      " 'GD': 'FIELD_12_GD',\n",
      " 'HT': 'FIELD_12_HT',\n",
      " 'None': 'FIELD_12_None',\n",
      " 'XK': 'FIELD_12_XK'}\n",
      "{'G3': 'FIELD_17_G3',\n",
      " 'G4': 'FIELD_17_G4',\n",
      " 'G7': 'FIELD_17_G7',\n",
      " 'G8': 'FIELD_17_G8',\n",
      " 'G9': 'FIELD_17_G9',\n",
      " 'GX': 'FIELD_17_GX',\n",
      " 'None': 'FIELD_17_None'}\n",
      "{'K1': 'FIELD_24_K1',\n",
      " 'K2': 'FIELD_24_K2',\n",
      " 'K3': 'FIELD_24_K3',\n",
      " 'None': 'FIELD_24_None'}\n",
      "{'0': 'FIELD_43_0',\n",
      " '5': 'FIELD_43_5',\n",
      " 'A': 'FIELD_43_A',\n",
      " 'B': 'FIELD_43_B',\n",
      " 'C': 'FIELD_43_C',\n",
      " 'D': 'FIELD_43_D',\n",
      " 'None': 'FIELD_43_None'}\n"
     ]
    }
   ],
   "source": [
    "# Test: Get one hot encoding of columns B\n",
    "lsCol = [8, 10, 12, 17, 24, 43]\n",
    "for d in lsCol:\n",
    "    cName = \"FIELD_%d\" % d\n",
    "    one_hot = pd.get_dummies(dfTest[cName].replace(np.nan, \"None\"))\n",
    "    renameCol = {}\n",
    "    for c in one_hot.columns:\n",
    "        renameCol[c] = \"%s_%s\" % (cName, c)\n",
    "    pprint(renameCol)\n",
    "    one_hot = one_hot.rename(columns=renameCol)\n",
    "    dfTest = dfTest.drop(cName, axis = 1)\n",
    "    # Join the encoded dfTest\n",
    "    dfTest = dfTest.join(one_hot)"
   ]
  },
  {
   "cell_type": "markdown",
   "metadata": {},
   "source": [
    "### Add avg_age, diff_age, group_age"
   ]
  },
  {
   "cell_type": "code",
   "execution_count": 21,
   "metadata": {},
   "outputs": [
    {
     "name": "stdout",
     "output_type": "stream",
     "text": [
      "2020-02-05 00:48:49\n",
      "-------------------\n"
     ]
    }
   ],
   "source": [
    "df[\"avg_age\"] = df.apply(lambda row: avgAge(row), axis=1)\n",
    "df[\"diff_age\"] = df.apply(lambda row: diffAge(row), axis=1)\n",
    "df[\"group_age\"] = df[\"avg_age\"].apply(lambda x: groupAge(x))\n",
    "printRuntime()"
   ]
  },
  {
   "cell_type": "code",
   "execution_count": 75,
   "metadata": {},
   "outputs": [
    {
     "name": "stdout",
     "output_type": "stream",
     "text": [
      "2020-02-05 01:23:35\n",
      "-------------------\n"
     ]
    }
   ],
   "source": [
    "dfTest[\"avg_age\"] = dfTest.apply(lambda row: avgAge(row), axis=1)\n",
    "dfTest[\"diff_age\"] = dfTest.apply(lambda row: diffAge(row), axis=1)\n",
    "dfTest[\"group_age\"] = dfTest[\"avg_age\"].apply(lambda x: groupAge(x))\n",
    "printRuntime()"
   ]
  },
  {
   "cell_type": "markdown",
   "metadata": {},
   "source": [
    "### Add lv3_loc"
   ]
  },
  {
   "cell_type": "code",
   "execution_count": 23,
   "metadata": {},
   "outputs": [
    {
     "name": "stdout",
     "output_type": "stream",
     "text": [
      "65 745\n",
      "2020-02-05 00:48:51\n",
      "-------------------\n"
     ]
    }
   ],
   "source": [
    "df[\"lv3_loc\"] = \"[\" + df[\"province\"] + \"]_[\" + df[\"district\"] + \"]\"\n",
    "lsProvince = df[\"province\"].unique()\n",
    "lsLoc = df[\"lv3_loc\"].unique()\n",
    "print(len(lsProvince), len(lsLoc))\n",
    "printRuntime()"
   ]
  },
  {
   "cell_type": "code",
   "execution_count": 76,
   "metadata": {},
   "outputs": [
    {
     "name": "stdout",
     "output_type": "stream",
     "text": [
      "65 712\n",
      "2020-02-05 01:23:47\n",
      "-------------------\n"
     ]
    }
   ],
   "source": [
    "dfTest[\"lv3_loc\"] = \"[\" + dfTest[\"province\"] + \"]_[\" + dfTest[\"district\"] + \"]\"\n",
    "lsProvince = dfTest[\"province\"].unique()\n",
    "lsLoc = dfTest[\"lv3_loc\"].unique()\n",
    "print(len(lsProvince), len(lsLoc))\n",
    "printRuntime()"
   ]
  },
  {
   "cell_type": "markdown",
   "metadata": {},
   "source": [
    "### Convert data types"
   ]
  },
  {
   "cell_type": "code",
   "execution_count": 32,
   "metadata": {},
   "outputs": [],
   "source": [
    "for c in lsFieldFt:\n",
    "    df[c] = df[c].astype(np.float64)"
   ]
  },
  {
   "cell_type": "markdown",
   "metadata": {},
   "source": [
    "# TODO: One-hot problems! 12 & 17"
   ]
  },
  {
   "cell_type": "code",
   "execution_count": 86,
   "metadata": {},
   "outputs": [
    {
     "name": "stdout",
     "output_type": "stream",
     "text": [
      "['FIELD_8_FEMALE', 'FIELD_8_MALE', 'FIELD_8_None']\n",
      "['FIELD_8_FEMALE', 'FIELD_8_MALE', 'FIELD_8_None']\n",
      "--------------------\n",
      "['FIELD_10_GH', 'FIELD_10_None', 'FIELD_10_T1']\n",
      "['FIELD_10_GH', 'FIELD_10_None', 'FIELD_10_T1']\n",
      "--------------------\n",
      "['FIELD_12_0', 'FIELD_12_1', 'FIELD_12_HT', 'FIELD_12_None', 'FIELD_12_TN']\n",
      "['FIELD_12_0', 'FIELD_12_1', 'FIELD_12_DK', 'FIELD_12_DN', 'FIELD_12_DT', 'FIELD_12_GD', 'FIELD_12_HT', 'FIELD_12_None', 'FIELD_12_XK']\n",
      "--------------------\n",
      "['FIELD_17_G2', 'FIELD_17_G3', 'FIELD_17_G4', 'FIELD_17_G7', 'FIELD_17_G8', 'FIELD_17_G9', 'FIELD_17_GX', 'FIELD_17_None']\n",
      "['FIELD_17_G3', 'FIELD_17_G4', 'FIELD_17_G7', 'FIELD_17_G8', 'FIELD_17_G9', 'FIELD_17_GX', 'FIELD_17_None']\n",
      "--------------------\n",
      "['FIELD_24_K1', 'FIELD_24_K2', 'FIELD_24_K3', 'FIELD_24_None']\n",
      "['FIELD_24_K1', 'FIELD_24_K2', 'FIELD_24_K3', 'FIELD_24_None']\n",
      "--------------------\n",
      "['FIELD_43_0', 'FIELD_43_5', 'FIELD_43_A', 'FIELD_43_B', 'FIELD_43_C', 'FIELD_43_D', 'FIELD_43_None']\n",
      "['FIELD_43_0', 'FIELD_43_5', 'FIELD_43_A', 'FIELD_43_B', 'FIELD_43_C', 'FIELD_43_D', 'FIELD_43_None']\n",
      "--------------------\n"
     ]
    }
   ],
   "source": [
    "lsCol = [8, 10, 12, 17, 24, 43]\n",
    "for d in lsCol:\n",
    "    cName = \"FIELD_%d\" % d\n",
    "    lsF = [c for c in df.columns if cName in c]\n",
    "    lsFTest = [c for c in dfTest.columns if cName in c]\n",
    "    print(lsF)\n",
    "    print(lsFTest)\n",
    "    print(\"-\"*20)"
   ]
  },
  {
   "cell_type": "code",
   "execution_count": 84,
   "metadata": {
    "collapsed": true
   },
   "outputs": [
    {
     "ename": "KeyError",
     "evalue": "'FIELD_12_TN'",
     "output_type": "error",
     "traceback": [
      "\u001b[0;31m---------------------------------------------------------------------------\u001b[0m",
      "\u001b[0;31mKeyError\u001b[0m                                  Traceback (most recent call last)",
      "\u001b[0;32m~/anaconda3/lib/python3.7/site-packages/pandas/core/indexes/base.py\u001b[0m in \u001b[0;36mget_loc\u001b[0;34m(self, key, method, tolerance)\u001b[0m\n\u001b[1;32m   2656\u001b[0m             \u001b[0;32mtry\u001b[0m\u001b[0;34m:\u001b[0m\u001b[0;34m\u001b[0m\u001b[0;34m\u001b[0m\u001b[0m\n\u001b[0;32m-> 2657\u001b[0;31m                 \u001b[0;32mreturn\u001b[0m \u001b[0mself\u001b[0m\u001b[0;34m.\u001b[0m\u001b[0m_engine\u001b[0m\u001b[0;34m.\u001b[0m\u001b[0mget_loc\u001b[0m\u001b[0;34m(\u001b[0m\u001b[0mkey\u001b[0m\u001b[0;34m)\u001b[0m\u001b[0;34m\u001b[0m\u001b[0;34m\u001b[0m\u001b[0m\n\u001b[0m\u001b[1;32m   2658\u001b[0m             \u001b[0;32mexcept\u001b[0m \u001b[0mKeyError\u001b[0m\u001b[0;34m:\u001b[0m\u001b[0;34m\u001b[0m\u001b[0;34m\u001b[0m\u001b[0m\n",
      "\u001b[0;32mpandas/_libs/index.pyx\u001b[0m in \u001b[0;36mpandas._libs.index.IndexEngine.get_loc\u001b[0;34m()\u001b[0m\n",
      "\u001b[0;32mpandas/_libs/index.pyx\u001b[0m in \u001b[0;36mpandas._libs.index.IndexEngine.get_loc\u001b[0;34m()\u001b[0m\n",
      "\u001b[0;32mpandas/_libs/hashtable_class_helper.pxi\u001b[0m in \u001b[0;36mpandas._libs.hashtable.PyObjectHashTable.get_item\u001b[0;34m()\u001b[0m\n",
      "\u001b[0;32mpandas/_libs/hashtable_class_helper.pxi\u001b[0m in \u001b[0;36mpandas._libs.hashtable.PyObjectHashTable.get_item\u001b[0;34m()\u001b[0m\n",
      "\u001b[0;31mKeyError\u001b[0m: 'FIELD_12_TN'",
      "\nDuring handling of the above exception, another exception occurred:\n",
      "\u001b[0;31mKeyError\u001b[0m                                  Traceback (most recent call last)",
      "\u001b[0;32m<ipython-input-84-5f4c2d108800>\u001b[0m in \u001b[0;36m<module>\u001b[0;34m\u001b[0m\n\u001b[1;32m      1\u001b[0m \u001b[0;32mfor\u001b[0m \u001b[0mc\u001b[0m \u001b[0;32min\u001b[0m \u001b[0mlsFieldFt\u001b[0m\u001b[0;34m:\u001b[0m\u001b[0;34m\u001b[0m\u001b[0;34m\u001b[0m\u001b[0m\n\u001b[0;32m----> 2\u001b[0;31m     \u001b[0mdfTest\u001b[0m\u001b[0;34m[\u001b[0m\u001b[0mc\u001b[0m\u001b[0;34m]\u001b[0m \u001b[0;34m=\u001b[0m \u001b[0mdfTest\u001b[0m\u001b[0;34m[\u001b[0m\u001b[0mc\u001b[0m\u001b[0;34m]\u001b[0m\u001b[0;34m.\u001b[0m\u001b[0mastype\u001b[0m\u001b[0;34m(\u001b[0m\u001b[0mnp\u001b[0m\u001b[0;34m.\u001b[0m\u001b[0mfloat64\u001b[0m\u001b[0;34m)\u001b[0m\u001b[0;34m\u001b[0m\u001b[0;34m\u001b[0m\u001b[0m\n\u001b[0m",
      "\u001b[0;32m~/anaconda3/lib/python3.7/site-packages/pandas/core/frame.py\u001b[0m in \u001b[0;36m__getitem__\u001b[0;34m(self, key)\u001b[0m\n\u001b[1;32m   2925\u001b[0m             \u001b[0;32mif\u001b[0m \u001b[0mself\u001b[0m\u001b[0;34m.\u001b[0m\u001b[0mcolumns\u001b[0m\u001b[0;34m.\u001b[0m\u001b[0mnlevels\u001b[0m \u001b[0;34m>\u001b[0m \u001b[0;36m1\u001b[0m\u001b[0;34m:\u001b[0m\u001b[0;34m\u001b[0m\u001b[0;34m\u001b[0m\u001b[0m\n\u001b[1;32m   2926\u001b[0m                 \u001b[0;32mreturn\u001b[0m \u001b[0mself\u001b[0m\u001b[0;34m.\u001b[0m\u001b[0m_getitem_multilevel\u001b[0m\u001b[0;34m(\u001b[0m\u001b[0mkey\u001b[0m\u001b[0;34m)\u001b[0m\u001b[0;34m\u001b[0m\u001b[0;34m\u001b[0m\u001b[0m\n\u001b[0;32m-> 2927\u001b[0;31m             \u001b[0mindexer\u001b[0m \u001b[0;34m=\u001b[0m \u001b[0mself\u001b[0m\u001b[0;34m.\u001b[0m\u001b[0mcolumns\u001b[0m\u001b[0;34m.\u001b[0m\u001b[0mget_loc\u001b[0m\u001b[0;34m(\u001b[0m\u001b[0mkey\u001b[0m\u001b[0;34m)\u001b[0m\u001b[0;34m\u001b[0m\u001b[0;34m\u001b[0m\u001b[0m\n\u001b[0m\u001b[1;32m   2928\u001b[0m             \u001b[0;32mif\u001b[0m \u001b[0mis_integer\u001b[0m\u001b[0;34m(\u001b[0m\u001b[0mindexer\u001b[0m\u001b[0;34m)\u001b[0m\u001b[0;34m:\u001b[0m\u001b[0;34m\u001b[0m\u001b[0;34m\u001b[0m\u001b[0m\n\u001b[1;32m   2929\u001b[0m                 \u001b[0mindexer\u001b[0m \u001b[0;34m=\u001b[0m \u001b[0;34m[\u001b[0m\u001b[0mindexer\u001b[0m\u001b[0;34m]\u001b[0m\u001b[0;34m\u001b[0m\u001b[0;34m\u001b[0m\u001b[0m\n",
      "\u001b[0;32m~/anaconda3/lib/python3.7/site-packages/pandas/core/indexes/base.py\u001b[0m in \u001b[0;36mget_loc\u001b[0;34m(self, key, method, tolerance)\u001b[0m\n\u001b[1;32m   2657\u001b[0m                 \u001b[0;32mreturn\u001b[0m \u001b[0mself\u001b[0m\u001b[0;34m.\u001b[0m\u001b[0m_engine\u001b[0m\u001b[0;34m.\u001b[0m\u001b[0mget_loc\u001b[0m\u001b[0;34m(\u001b[0m\u001b[0mkey\u001b[0m\u001b[0;34m)\u001b[0m\u001b[0;34m\u001b[0m\u001b[0;34m\u001b[0m\u001b[0m\n\u001b[1;32m   2658\u001b[0m             \u001b[0;32mexcept\u001b[0m \u001b[0mKeyError\u001b[0m\u001b[0;34m:\u001b[0m\u001b[0;34m\u001b[0m\u001b[0;34m\u001b[0m\u001b[0m\n\u001b[0;32m-> 2659\u001b[0;31m                 \u001b[0;32mreturn\u001b[0m \u001b[0mself\u001b[0m\u001b[0;34m.\u001b[0m\u001b[0m_engine\u001b[0m\u001b[0;34m.\u001b[0m\u001b[0mget_loc\u001b[0m\u001b[0;34m(\u001b[0m\u001b[0mself\u001b[0m\u001b[0;34m.\u001b[0m\u001b[0m_maybe_cast_indexer\u001b[0m\u001b[0;34m(\u001b[0m\u001b[0mkey\u001b[0m\u001b[0;34m)\u001b[0m\u001b[0;34m)\u001b[0m\u001b[0;34m\u001b[0m\u001b[0;34m\u001b[0m\u001b[0m\n\u001b[0m\u001b[1;32m   2660\u001b[0m         \u001b[0mindexer\u001b[0m \u001b[0;34m=\u001b[0m \u001b[0mself\u001b[0m\u001b[0;34m.\u001b[0m\u001b[0mget_indexer\u001b[0m\u001b[0;34m(\u001b[0m\u001b[0;34m[\u001b[0m\u001b[0mkey\u001b[0m\u001b[0;34m]\u001b[0m\u001b[0;34m,\u001b[0m \u001b[0mmethod\u001b[0m\u001b[0;34m=\u001b[0m\u001b[0mmethod\u001b[0m\u001b[0;34m,\u001b[0m \u001b[0mtolerance\u001b[0m\u001b[0;34m=\u001b[0m\u001b[0mtolerance\u001b[0m\u001b[0;34m)\u001b[0m\u001b[0;34m\u001b[0m\u001b[0;34m\u001b[0m\u001b[0m\n\u001b[1;32m   2661\u001b[0m         \u001b[0;32mif\u001b[0m \u001b[0mindexer\u001b[0m\u001b[0;34m.\u001b[0m\u001b[0mndim\u001b[0m \u001b[0;34m>\u001b[0m \u001b[0;36m1\u001b[0m \u001b[0;32mor\u001b[0m \u001b[0mindexer\u001b[0m\u001b[0;34m.\u001b[0m\u001b[0msize\u001b[0m \u001b[0;34m>\u001b[0m \u001b[0;36m1\u001b[0m\u001b[0;34m:\u001b[0m\u001b[0;34m\u001b[0m\u001b[0;34m\u001b[0m\u001b[0m\n",
      "\u001b[0;32mpandas/_libs/index.pyx\u001b[0m in \u001b[0;36mpandas._libs.index.IndexEngine.get_loc\u001b[0;34m()\u001b[0m\n",
      "\u001b[0;32mpandas/_libs/index.pyx\u001b[0m in \u001b[0;36mpandas._libs.index.IndexEngine.get_loc\u001b[0;34m()\u001b[0m\n",
      "\u001b[0;32mpandas/_libs/hashtable_class_helper.pxi\u001b[0m in \u001b[0;36mpandas._libs.hashtable.PyObjectHashTable.get_item\u001b[0;34m()\u001b[0m\n",
      "\u001b[0;32mpandas/_libs/hashtable_class_helper.pxi\u001b[0m in \u001b[0;36mpandas._libs.hashtable.PyObjectHashTable.get_item\u001b[0;34m()\u001b[0m\n",
      "\u001b[0;31mKeyError\u001b[0m: 'FIELD_12_TN'"
     ]
    }
   ],
   "source": [
    "for c in lsFieldFt:\n",
    "    dfTest[c] = dfTest[c].astype(np.float64)"
   ]
  },
  {
   "cell_type": "markdown",
   "metadata": {},
   "source": [
    "### Add neighbor features\n",
    "Neighbor features: \n",
    "    + avg+std of groupby (province, age_group, maCv)\n",
    "    + avg+std of groupby (lv3_loc, age_group, maCv)\n",
    "    + avg+std of groupby (province, maCv)\n",
    "    "
   ]
  },
  {
   "cell_type": "code",
   "execution_count": 24,
   "metadata": {
    "collapsed": true
   },
   "outputs": [
    {
     "name": "stdout",
     "output_type": "stream",
     "text": [
      "['FIELD_1',\n",
      " 'FIELD_2',\n",
      " 'FIELD_3',\n",
      " 'FIELD_4',\n",
      " 'FIELD_5',\n",
      " 'FIELD_6',\n",
      " 'FIELD_11',\n",
      " 'FIELD_14',\n",
      " 'FIELD_15',\n",
      " 'FIELD_16',\n",
      " 'FIELD_18',\n",
      " 'FIELD_19',\n",
      " 'FIELD_20',\n",
      " 'FIELD_21',\n",
      " 'FIELD_22',\n",
      " 'FIELD_23',\n",
      " 'FIELD_25',\n",
      " 'FIELD_26',\n",
      " 'FIELD_27',\n",
      " 'FIELD_28',\n",
      " 'FIELD_29',\n",
      " 'FIELD_30',\n",
      " 'FIELD_31',\n",
      " 'FIELD_32',\n",
      " 'FIELD_33',\n",
      " 'FIELD_34',\n",
      " 'FIELD_35',\n",
      " 'FIELD_36',\n",
      " 'FIELD_37',\n",
      " 'FIELD_38',\n",
      " 'FIELD_41',\n",
      " 'FIELD_42',\n",
      " 'FIELD_44',\n",
      " 'FIELD_45',\n",
      " 'FIELD_46',\n",
      " 'FIELD_47',\n",
      " 'FIELD_48',\n",
      " 'FIELD_49',\n",
      " 'FIELD_50',\n",
      " 'FIELD_51',\n",
      " 'FIELD_52',\n",
      " 'FIELD_53',\n",
      " 'FIELD_54',\n",
      " 'FIELD_55',\n",
      " 'FIELD_56',\n",
      " 'FIELD_57',\n",
      " 'FIELD_8_FEMALE',\n",
      " 'FIELD_8_MALE',\n",
      " 'FIELD_8_None',\n",
      " 'FIELD_10_GH',\n",
      " 'FIELD_10_None',\n",
      " 'FIELD_10_T1',\n",
      " 'FIELD_12_0',\n",
      " 'FIELD_12_1',\n",
      " 'FIELD_12_HT',\n",
      " 'FIELD_12_None',\n",
      " 'FIELD_12_TN',\n",
      " 'FIELD_17_G2',\n",
      " 'FIELD_17_G3',\n",
      " 'FIELD_17_G4',\n",
      " 'FIELD_17_G7',\n",
      " 'FIELD_17_G8',\n",
      " 'FIELD_17_G9',\n",
      " 'FIELD_17_GX',\n",
      " 'FIELD_17_None',\n",
      " 'FIELD_24_K1',\n",
      " 'FIELD_24_K2',\n",
      " 'FIELD_24_K3',\n",
      " 'FIELD_24_None',\n",
      " 'FIELD_43_0',\n",
      " 'FIELD_43_5',\n",
      " 'FIELD_43_A',\n",
      " 'FIELD_43_B',\n",
      " 'FIELD_43_C',\n",
      " 'FIELD_43_D',\n",
      " 'FIELD_43_None']\n"
     ]
    }
   ],
   "source": [
    "lsFieldFt = [c for c in df.columns \n",
    "             if \"FIELD\" in c \n",
    "             and c not in [\"FIELD_%d\"%d for d in [7, 9, 13, 39, 40]]]\n",
    "pprint(lsFieldFt)"
   ]
  },
  {
   "cell_type": "code",
   "execution_count": 25,
   "metadata": {},
   "outputs": [],
   "source": [
    "aggDict = {}\n",
    "for f in lsFieldFt:\n",
    "    aggDict[f] = [\"mean\", \"std\"]"
   ]
  },
  {
   "cell_type": "code",
   "execution_count": 31,
   "metadata": {},
   "outputs": [],
   "source": [
    "# 1\n",
    "lsMetaCol1 = [\"province\", \"group_age\", \"jobCat\"]\n",
    "lsMetaCol2 = [\"lv3_loc\", \"group_age\", \"jobCat\"]\n",
    "lsMetaCol3 = [\"province\", \"jobCat\"]"
   ]
  },
  {
   "cell_type": "code",
   "execution_count": 33,
   "metadata": {},
   "outputs": [],
   "source": [
    "# for c in lsFieldFt:\n",
    "#    print(c, df[c].dtypes)"
   ]
  },
  {
   "cell_type": "code",
   "execution_count": 48,
   "metadata": {},
   "outputs": [
    {
     "name": "stdout",
     "output_type": "stream",
     "text": [
      "2020-02-05 00:57:12\n",
      "-------------------\n"
     ]
    }
   ],
   "source": [
    "dfNb01 = df.groupby(lsMetaCol1, as_index=False).agg(aggDict)\n",
    "dfNb01.columns = [\"_\".join(x) for x in dfNb01.columns.ravel()]\n",
    "dfNb01 = dfNb01.rename(columns={\"province_\": \"province\", \n",
    "                       \"group_age_\": \"group_age\", \n",
    "                       \"jobCat_\": \"jobCat\"})\n",
    "printRuntime()"
   ]
  },
  {
   "cell_type": "code",
   "execution_count": 49,
   "metadata": {},
   "outputs": [
    {
     "name": "stdout",
     "output_type": "stream",
     "text": [
      "2020-02-05 00:57:13\n",
      "-------------------\n"
     ]
    }
   ],
   "source": [
    "dfNb02 = df.groupby(lsMetaCol2, as_index=False).agg(aggDict)\n",
    "dfNb02.columns = [\"_\".join(x) for x in dfNb02.columns.ravel()]\n",
    "dfNb02 = dfNb02.rename(columns={\"province_\": \"province\", \n",
    "                       \"group_age_\": \"group_age\", \n",
    "                       \"jobCat_\": \"jobCat\"})\n",
    "printRuntime()"
   ]
  },
  {
   "cell_type": "code",
   "execution_count": 50,
   "metadata": {},
   "outputs": [
    {
     "name": "stdout",
     "output_type": "stream",
     "text": [
      "2020-02-05 00:57:13\n",
      "-------------------\n"
     ]
    }
   ],
   "source": [
    "dfNb03 = df.groupby(lsMetaCol3, as_index=False).agg(aggDict)\n",
    "dfNb03.columns = [\"_\".join(x) for x in dfNb03.columns.ravel()]\n",
    "dfNb03 = dfNb03.rename(columns={\"province_\": \"province\", \n",
    "                       \"group_age_\": \"group_age\", \n",
    "                       \"jobCat_\": \"jobCat\"})\n",
    "printRuntime()"
   ]
  },
  {
   "cell_type": "code",
   "execution_count": 77,
   "metadata": {},
   "outputs": [
    {
     "name": "stdout",
     "output_type": "stream",
     "text": [
      "2020-02-05 01:24:15\n",
      "-------------------\n"
     ]
    }
   ],
   "source": [
    "# Save outputs: df, dfNb01, dfNb02, dfNb03\n",
    "df.to_pickle(cleanedTrain, compression=\"bz2\")\n",
    "printRuntime()"
   ]
  },
  {
   "cell_type": "code",
   "execution_count": 78,
   "metadata": {},
   "outputs": [
    {
     "name": "stdout",
     "output_type": "stream",
     "text": [
      "2020-02-05 01:24:16\n",
      "-------------------\n"
     ]
    }
   ],
   "source": [
    "dfNb01.to_pickle(nb01, compression=\"bz2\")\n",
    "dfNb02.to_pickle(nb02, compression=\"bz2\")\n",
    "dfNb03.to_pickle(nb03, compression=\"bz2\")\n",
    "printRuntime()"
   ]
  },
  {
   "cell_type": "code",
   "execution_count": 51,
   "metadata": {
    "collapsed": true
   },
   "outputs": [
    {
     "data": {
      "text/html": [
       "<div>\n",
       "<style scoped>\n",
       "    .dataframe tbody tr th:only-of-type {\n",
       "        vertical-align: middle;\n",
       "    }\n",
       "\n",
       "    .dataframe tbody tr th {\n",
       "        vertical-align: top;\n",
       "    }\n",
       "\n",
       "    .dataframe thead th {\n",
       "        text-align: right;\n",
       "    }\n",
       "</style>\n",
       "<table border=\"1\" class=\"dataframe\">\n",
       "  <thead>\n",
       "    <tr style=\"text-align: right;\">\n",
       "      <th></th>\n",
       "      <th>province</th>\n",
       "      <th>group_age</th>\n",
       "      <th>jobCat</th>\n",
       "      <th>FIELD_1_mean</th>\n",
       "      <th>FIELD_1_std</th>\n",
       "      <th>FIELD_2_mean</th>\n",
       "      <th>FIELD_2_std</th>\n",
       "      <th>FIELD_3_mean</th>\n",
       "      <th>FIELD_3_std</th>\n",
       "      <th>FIELD_4_mean</th>\n",
       "      <th>...</th>\n",
       "      <th>FIELD_43_A_mean</th>\n",
       "      <th>FIELD_43_A_std</th>\n",
       "      <th>FIELD_43_B_mean</th>\n",
       "      <th>FIELD_43_B_std</th>\n",
       "      <th>FIELD_43_C_mean</th>\n",
       "      <th>FIELD_43_C_std</th>\n",
       "      <th>FIELD_43_D_mean</th>\n",
       "      <th>FIELD_43_D_std</th>\n",
       "      <th>FIELD_43_None_mean</th>\n",
       "      <th>FIELD_43_None_std</th>\n",
       "    </tr>\n",
       "  </thead>\n",
       "  <tbody>\n",
       "    <tr>\n",
       "      <th>0</th>\n",
       "      <td>Thành phố Cần Thơ</td>\n",
       "      <td>AGE_I</td>\n",
       "      <td>công nhân</td>\n",
       "      <td>1.000000</td>\n",
       "      <td>0.000000</td>\n",
       "      <td>1.000000</td>\n",
       "      <td>0.000000</td>\n",
       "      <td>1353.750000</td>\n",
       "      <td>451.900708</td>\n",
       "      <td>0.000000</td>\n",
       "      <td>...</td>\n",
       "      <td>0.0</td>\n",
       "      <td>0.0</td>\n",
       "      <td>0.0</td>\n",
       "      <td>0.0</td>\n",
       "      <td>0.0</td>\n",
       "      <td>0.0</td>\n",
       "      <td>0.0</td>\n",
       "      <td>0.0</td>\n",
       "      <td>1.0</td>\n",
       "      <td>0.0</td>\n",
       "    </tr>\n",
       "    <tr>\n",
       "      <th>1</th>\n",
       "      <td>Thành phố Cần Thơ</td>\n",
       "      <td>AGE_I</td>\n",
       "      <td>none</td>\n",
       "      <td>0.529412</td>\n",
       "      <td>0.514496</td>\n",
       "      <td>0.647059</td>\n",
       "      <td>0.492592</td>\n",
       "      <td>700.411765</td>\n",
       "      <td>634.703578</td>\n",
       "      <td>0.352941</td>\n",
       "      <td>...</td>\n",
       "      <td>0.0</td>\n",
       "      <td>0.0</td>\n",
       "      <td>0.0</td>\n",
       "      <td>0.0</td>\n",
       "      <td>0.0</td>\n",
       "      <td>0.0</td>\n",
       "      <td>0.0</td>\n",
       "      <td>0.0</td>\n",
       "      <td>1.0</td>\n",
       "      <td>0.0</td>\n",
       "    </tr>\n",
       "    <tr>\n",
       "      <th>2</th>\n",
       "      <td>Thành phố Cần Thơ</td>\n",
       "      <td>AGE_II</td>\n",
       "      <td>bôi keo</td>\n",
       "      <td>1.000000</td>\n",
       "      <td>NaN</td>\n",
       "      <td>1.000000</td>\n",
       "      <td>NaN</td>\n",
       "      <td>2899.000000</td>\n",
       "      <td>NaN</td>\n",
       "      <td>2.000000</td>\n",
       "      <td>...</td>\n",
       "      <td>0.0</td>\n",
       "      <td>NaN</td>\n",
       "      <td>0.0</td>\n",
       "      <td>NaN</td>\n",
       "      <td>0.0</td>\n",
       "      <td>NaN</td>\n",
       "      <td>0.0</td>\n",
       "      <td>NaN</td>\n",
       "      <td>1.0</td>\n",
       "      <td>NaN</td>\n",
       "    </tr>\n",
       "    <tr>\n",
       "      <th>3</th>\n",
       "      <td>Thành phố Cần Thơ</td>\n",
       "      <td>AGE_II</td>\n",
       "      <td>bảo vệ</td>\n",
       "      <td>0.000000</td>\n",
       "      <td>NaN</td>\n",
       "      <td>1.000000</td>\n",
       "      <td>NaN</td>\n",
       "      <td>2895.000000</td>\n",
       "      <td>NaN</td>\n",
       "      <td>1.000000</td>\n",
       "      <td>...</td>\n",
       "      <td>0.0</td>\n",
       "      <td>NaN</td>\n",
       "      <td>0.0</td>\n",
       "      <td>NaN</td>\n",
       "      <td>0.0</td>\n",
       "      <td>NaN</td>\n",
       "      <td>0.0</td>\n",
       "      <td>NaN</td>\n",
       "      <td>1.0</td>\n",
       "      <td>NaN</td>\n",
       "    </tr>\n",
       "    <tr>\n",
       "      <th>4</th>\n",
       "      <td>Thành phố Cần Thơ</td>\n",
       "      <td>AGE_II</td>\n",
       "      <td>chủ tịch</td>\n",
       "      <td>0.000000</td>\n",
       "      <td>NaN</td>\n",
       "      <td>0.000000</td>\n",
       "      <td>NaN</td>\n",
       "      <td>-1.000000</td>\n",
       "      <td>NaN</td>\n",
       "      <td>2.000000</td>\n",
       "      <td>...</td>\n",
       "      <td>0.0</td>\n",
       "      <td>NaN</td>\n",
       "      <td>0.0</td>\n",
       "      <td>NaN</td>\n",
       "      <td>0.0</td>\n",
       "      <td>NaN</td>\n",
       "      <td>0.0</td>\n",
       "      <td>NaN</td>\n",
       "      <td>1.0</td>\n",
       "      <td>NaN</td>\n",
       "    </tr>\n",
       "  </tbody>\n",
       "</table>\n",
       "<p>5 rows × 155 columns</p>\n",
       "</div>"
      ],
      "text/plain": [
       "            province group_age     jobCat  FIELD_1_mean  FIELD_1_std  \\\n",
       "0  Thành phố Cần Thơ     AGE_I  công nhân      1.000000     0.000000   \n",
       "1  Thành phố Cần Thơ     AGE_I       none      0.529412     0.514496   \n",
       "2  Thành phố Cần Thơ    AGE_II    bôi keo      1.000000          NaN   \n",
       "3  Thành phố Cần Thơ    AGE_II     bảo vệ      0.000000          NaN   \n",
       "4  Thành phố Cần Thơ    AGE_II   chủ tịch      0.000000          NaN   \n",
       "\n",
       "   FIELD_2_mean  FIELD_2_std  FIELD_3_mean  FIELD_3_std  FIELD_4_mean  ...  \\\n",
       "0      1.000000     0.000000   1353.750000   451.900708      0.000000  ...   \n",
       "1      0.647059     0.492592    700.411765   634.703578      0.352941  ...   \n",
       "2      1.000000          NaN   2899.000000          NaN      2.000000  ...   \n",
       "3      1.000000          NaN   2895.000000          NaN      1.000000  ...   \n",
       "4      0.000000          NaN     -1.000000          NaN      2.000000  ...   \n",
       "\n",
       "   FIELD_43_A_mean  FIELD_43_A_std  FIELD_43_B_mean  FIELD_43_B_std  \\\n",
       "0              0.0             0.0              0.0             0.0   \n",
       "1              0.0             0.0              0.0             0.0   \n",
       "2              0.0             NaN              0.0             NaN   \n",
       "3              0.0             NaN              0.0             NaN   \n",
       "4              0.0             NaN              0.0             NaN   \n",
       "\n",
       "   FIELD_43_C_mean  FIELD_43_C_std  FIELD_43_D_mean  FIELD_43_D_std  \\\n",
       "0              0.0             0.0              0.0             0.0   \n",
       "1              0.0             0.0              0.0             0.0   \n",
       "2              0.0             NaN              0.0             NaN   \n",
       "3              0.0             NaN              0.0             NaN   \n",
       "4              0.0             NaN              0.0             NaN   \n",
       "\n",
       "   FIELD_43_None_mean  FIELD_43_None_std  \n",
       "0                 1.0                0.0  \n",
       "1                 1.0                0.0  \n",
       "2                 1.0                NaN  \n",
       "3                 1.0                NaN  \n",
       "4                 1.0                NaN  \n",
       "\n",
       "[5 rows x 155 columns]"
      ]
     },
     "execution_count": 51,
     "metadata": {},
     "output_type": "execute_result"
    }
   ],
   "source": [
    "dfNb01.head()"
   ]
  },
  {
   "cell_type": "markdown",
   "metadata": {},
   "source": [
    "### raw ft + nb ft + standardize raw ft"
   ]
  },
  {
   "cell_type": "code",
   "execution_count": 38,
   "metadata": {},
   "outputs": [
    {
     "name": "stdout",
     "output_type": "stream",
     "text": [
      "2020-02-05 00:54:53\n",
      "-------------------\n"
     ]
    }
   ],
   "source": [
    "lsMetaCol = [\"id\", \"label\", \"province\", \"district\", \"lv3_loc\", \n",
    "              \"age_source1\", \"age_source2\", \"avg_age\", \"diff_age\", \"group_age\",\n",
    "              \"maCv\", \"jobCat\", \"jobDesc\"]\n",
    "# raw ft\n",
    "lsFieldFt = [c for c in df.columns \n",
    "             if \"FIELD\" in c \n",
    "             and c not in [\"FIELD_%d\"%d for d in [7, 9, 13, 39, 40]]]\n",
    "label = \"label\"\n",
    "printRuntime()"
   ]
  },
  {
   "cell_type": "code",
   "execution_count": 52,
   "metadata": {},
   "outputs": [],
   "source": [
    "# nb ft\n",
    "lsNbMetaCol = lsMetaCol1\n",
    "dfNb = dfNb01 # TODO: dfNb02, dfNb03"
   ]
  },
  {
   "cell_type": "code",
   "execution_count": 53,
   "metadata": {},
   "outputs": [],
   "source": [
    "dfITrain = pd.merge(df, dfNb01, on=lsNbMetaCol, how=\"left\")"
   ]
  },
  {
   "cell_type": "code",
   "execution_count": 54,
   "metadata": {},
   "outputs": [
    {
     "data": {
      "text/plain": [
       "(29924, 246)"
      ]
     },
     "execution_count": 54,
     "metadata": {},
     "output_type": "execute_result"
    }
   ],
   "source": [
    "dfITrain.shape"
   ]
  },
  {
   "cell_type": "code",
   "execution_count": 61,
   "metadata": {
    "collapsed": true
   },
   "outputs": [
    {
     "name": "stdout",
     "output_type": "stream",
     "text": [
      "['id',\n",
      " 'label',\n",
      " 'province',\n",
      " 'district',\n",
      " 'age_source1',\n",
      " 'age_source2',\n",
      " 'maCv',\n",
      " 'FIELD_7',\n",
      " 'FIELD_9',\n",
      " 'FIELD_13',\n",
      " 'FIELD_39',\n",
      " 'FIELD_40',\n",
      " 'jobCat',\n",
      " 'jobDesc',\n",
      " 'avg_age',\n",
      " 'diff_age',\n",
      " 'group_age',\n",
      " 'lv3_loc',\n",
      " 'FIELD_1_mean',\n",
      " 'FIELD_1_std',\n",
      " 'FIELD_2_mean',\n",
      " 'FIELD_2_std',\n",
      " 'FIELD_3_mean',\n",
      " 'FIELD_3_std',\n",
      " 'FIELD_4_mean',\n",
      " 'FIELD_4_std',\n",
      " 'FIELD_5_mean',\n",
      " 'FIELD_5_std',\n",
      " 'FIELD_6_mean',\n",
      " 'FIELD_6_std',\n",
      " 'FIELD_11_mean',\n",
      " 'FIELD_11_std',\n",
      " 'FIELD_14_mean',\n",
      " 'FIELD_14_std',\n",
      " 'FIELD_15_mean',\n",
      " 'FIELD_15_std',\n",
      " 'FIELD_16_mean',\n",
      " 'FIELD_16_std',\n",
      " 'FIELD_18_mean',\n",
      " 'FIELD_18_std',\n",
      " 'FIELD_19_mean',\n",
      " 'FIELD_19_std',\n",
      " 'FIELD_20_mean',\n",
      " 'FIELD_20_std',\n",
      " 'FIELD_21_mean',\n",
      " 'FIELD_21_std',\n",
      " 'FIELD_22_mean',\n",
      " 'FIELD_22_std',\n",
      " 'FIELD_23_mean',\n",
      " 'FIELD_23_std',\n",
      " 'FIELD_25_mean',\n",
      " 'FIELD_25_std',\n",
      " 'FIELD_26_mean',\n",
      " 'FIELD_26_std',\n",
      " 'FIELD_27_mean',\n",
      " 'FIELD_27_std',\n",
      " 'FIELD_28_mean',\n",
      " 'FIELD_28_std',\n",
      " 'FIELD_29_mean',\n",
      " 'FIELD_29_std',\n",
      " 'FIELD_30_mean',\n",
      " 'FIELD_30_std',\n",
      " 'FIELD_31_mean',\n",
      " 'FIELD_31_std',\n",
      " 'FIELD_32_mean',\n",
      " 'FIELD_32_std',\n",
      " 'FIELD_33_mean',\n",
      " 'FIELD_33_std',\n",
      " 'FIELD_34_mean',\n",
      " 'FIELD_34_std',\n",
      " 'FIELD_35_mean',\n",
      " 'FIELD_35_std',\n",
      " 'FIELD_36_mean',\n",
      " 'FIELD_36_std',\n",
      " 'FIELD_37_mean',\n",
      " 'FIELD_37_std',\n",
      " 'FIELD_38_mean',\n",
      " 'FIELD_38_std',\n",
      " 'FIELD_41_mean',\n",
      " 'FIELD_41_std',\n",
      " 'FIELD_42_mean',\n",
      " 'FIELD_42_std',\n",
      " 'FIELD_44_mean',\n",
      " 'FIELD_44_std',\n",
      " 'FIELD_45_mean',\n",
      " 'FIELD_45_std',\n",
      " 'FIELD_46_mean',\n",
      " 'FIELD_46_std',\n",
      " 'FIELD_47_mean',\n",
      " 'FIELD_47_std',\n",
      " 'FIELD_48_mean',\n",
      " 'FIELD_48_std',\n",
      " 'FIELD_49_mean',\n",
      " 'FIELD_49_std',\n",
      " 'FIELD_50_mean',\n",
      " 'FIELD_50_std',\n",
      " 'FIELD_51_mean',\n",
      " 'FIELD_51_std',\n",
      " 'FIELD_52_mean',\n",
      " 'FIELD_52_std',\n",
      " 'FIELD_53_mean',\n",
      " 'FIELD_53_std',\n",
      " 'FIELD_54_mean',\n",
      " 'FIELD_54_std',\n",
      " 'FIELD_55_mean',\n",
      " 'FIELD_55_std',\n",
      " 'FIELD_56_mean',\n",
      " 'FIELD_56_std',\n",
      " 'FIELD_57_mean',\n",
      " 'FIELD_57_std',\n",
      " 'FIELD_8_FEMALE_mean',\n",
      " 'FIELD_8_FEMALE_std',\n",
      " 'FIELD_8_MALE_mean',\n",
      " 'FIELD_8_MALE_std',\n",
      " 'FIELD_8_None_mean',\n",
      " 'FIELD_8_None_std',\n",
      " 'FIELD_10_GH_mean',\n",
      " 'FIELD_10_GH_std',\n",
      " 'FIELD_10_None_mean',\n",
      " 'FIELD_10_None_std',\n",
      " 'FIELD_10_T1_mean',\n",
      " 'FIELD_10_T1_std',\n",
      " 'FIELD_12_0_mean',\n",
      " 'FIELD_12_0_std',\n",
      " 'FIELD_12_1_mean',\n",
      " 'FIELD_12_1_std',\n",
      " 'FIELD_12_HT_mean',\n",
      " 'FIELD_12_HT_std',\n",
      " 'FIELD_12_None_mean',\n",
      " 'FIELD_12_None_std',\n",
      " 'FIELD_12_TN_mean',\n",
      " 'FIELD_12_TN_std',\n",
      " 'FIELD_17_G2_mean',\n",
      " 'FIELD_17_G2_std',\n",
      " 'FIELD_17_G3_mean',\n",
      " 'FIELD_17_G3_std',\n",
      " 'FIELD_17_G4_mean',\n",
      " 'FIELD_17_G4_std',\n",
      " 'FIELD_17_G7_mean',\n",
      " 'FIELD_17_G7_std',\n",
      " 'FIELD_17_G8_mean',\n",
      " 'FIELD_17_G8_std',\n",
      " 'FIELD_17_G9_mean',\n",
      " 'FIELD_17_G9_std',\n",
      " 'FIELD_17_GX_mean',\n",
      " 'FIELD_17_GX_std',\n",
      " 'FIELD_17_None_mean',\n",
      " 'FIELD_17_None_std',\n",
      " 'FIELD_24_K1_mean',\n",
      " 'FIELD_24_K1_std',\n",
      " 'FIELD_24_K2_mean',\n",
      " 'FIELD_24_K2_std',\n",
      " 'FIELD_24_K3_mean',\n",
      " 'FIELD_24_K3_std',\n",
      " 'FIELD_24_None_mean',\n",
      " 'FIELD_24_None_std',\n",
      " 'FIELD_43_0_mean',\n",
      " 'FIELD_43_0_std',\n",
      " 'FIELD_43_5_mean',\n",
      " 'FIELD_43_5_std',\n",
      " 'FIELD_43_A_mean',\n",
      " 'FIELD_43_A_std',\n",
      " 'FIELD_43_B_mean',\n",
      " 'FIELD_43_B_std',\n",
      " 'FIELD_43_C_mean',\n",
      " 'FIELD_43_C_std',\n",
      " 'FIELD_43_D_mean',\n",
      " 'FIELD_43_D_std',\n",
      " 'FIELD_43_None_mean',\n",
      " 'FIELD_43_None_std']\n"
     ]
    }
   ],
   "source": [
    "lsTmp = [c for c in dfITrain.columns if c not in lsFieldFt]\n",
    "pprint(lsTmp)"
   ]
  },
  {
   "cell_type": "code",
   "execution_count": 55,
   "metadata": {
    "collapsed": true
   },
   "outputs": [
    {
     "data": {
      "text/html": [
       "<div>\n",
       "<style scoped>\n",
       "    .dataframe tbody tr th:only-of-type {\n",
       "        vertical-align: middle;\n",
       "    }\n",
       "\n",
       "    .dataframe tbody tr th {\n",
       "        vertical-align: top;\n",
       "    }\n",
       "\n",
       "    .dataframe thead th {\n",
       "        text-align: right;\n",
       "    }\n",
       "</style>\n",
       "<table border=\"1\" class=\"dataframe\">\n",
       "  <thead>\n",
       "    <tr style=\"text-align: right;\">\n",
       "      <th></th>\n",
       "      <th>id</th>\n",
       "      <th>label</th>\n",
       "      <th>province</th>\n",
       "      <th>district</th>\n",
       "      <th>age_source1</th>\n",
       "      <th>age_source2</th>\n",
       "      <th>maCv</th>\n",
       "      <th>FIELD_1</th>\n",
       "      <th>FIELD_2</th>\n",
       "      <th>FIELD_3</th>\n",
       "      <th>...</th>\n",
       "      <th>FIELD_43_A_mean</th>\n",
       "      <th>FIELD_43_A_std</th>\n",
       "      <th>FIELD_43_B_mean</th>\n",
       "      <th>FIELD_43_B_std</th>\n",
       "      <th>FIELD_43_C_mean</th>\n",
       "      <th>FIELD_43_C_std</th>\n",
       "      <th>FIELD_43_D_mean</th>\n",
       "      <th>FIELD_43_D_std</th>\n",
       "      <th>FIELD_43_None_mean</th>\n",
       "      <th>FIELD_43_None_std</th>\n",
       "    </tr>\n",
       "  </thead>\n",
       "  <tbody>\n",
       "    <tr>\n",
       "      <th>0</th>\n",
       "      <td>0</td>\n",
       "      <td>0</td>\n",
       "      <td>NaN</td>\n",
       "      <td>NaN</td>\n",
       "      <td>NaN</td>\n",
       "      <td>NaN</td>\n",
       "      <td>nan</td>\n",
       "      <td>1.0</td>\n",
       "      <td>1.0</td>\n",
       "      <td>2547.0</td>\n",
       "      <td>...</td>\n",
       "      <td>NaN</td>\n",
       "      <td>NaN</td>\n",
       "      <td>NaN</td>\n",
       "      <td>NaN</td>\n",
       "      <td>NaN</td>\n",
       "      <td>NaN</td>\n",
       "      <td>NaN</td>\n",
       "      <td>NaN</td>\n",
       "      <td>NaN</td>\n",
       "      <td>NaN</td>\n",
       "    </tr>\n",
       "    <tr>\n",
       "      <th>1</th>\n",
       "      <td>1</td>\n",
       "      <td>0</td>\n",
       "      <td>Tỉnh Đồng Nai</td>\n",
       "      <td>Thành phố Biên Hòa</td>\n",
       "      <td>44.0</td>\n",
       "      <td>44.0</td>\n",
       "      <td>none</td>\n",
       "      <td>1.0</td>\n",
       "      <td>0.0</td>\n",
       "      <td>-1.0</td>\n",
       "      <td>...</td>\n",
       "      <td>0.0</td>\n",
       "      <td>0.0</td>\n",
       "      <td>0.0</td>\n",
       "      <td>0.0</td>\n",
       "      <td>0.048128</td>\n",
       "      <td>0.214612</td>\n",
       "      <td>0.000000</td>\n",
       "      <td>0.000000</td>\n",
       "      <td>0.951872</td>\n",
       "      <td>0.214612</td>\n",
       "    </tr>\n",
       "    <tr>\n",
       "      <th>2</th>\n",
       "      <td>2</td>\n",
       "      <td>0</td>\n",
       "      <td>Tỉnh Đồng Nai</td>\n",
       "      <td>Huyện Long Thành</td>\n",
       "      <td>30.0</td>\n",
       "      <td>30.0</td>\n",
       "      <td>công nhân</td>\n",
       "      <td>0.0</td>\n",
       "      <td>1.0</td>\n",
       "      <td>3273.0</td>\n",
       "      <td>...</td>\n",
       "      <td>0.0</td>\n",
       "      <td>0.0</td>\n",
       "      <td>0.0</td>\n",
       "      <td>0.0</td>\n",
       "      <td>0.047619</td>\n",
       "      <td>0.213524</td>\n",
       "      <td>0.015873</td>\n",
       "      <td>0.125316</td>\n",
       "      <td>0.936508</td>\n",
       "      <td>0.244494</td>\n",
       "    </tr>\n",
       "    <tr>\n",
       "      <th>3</th>\n",
       "      <td>3</td>\n",
       "      <td>0</td>\n",
       "      <td>Tỉnh Tuyên Quang</td>\n",
       "      <td>Thành phố Tuyên Quang</td>\n",
       "      <td>43.0</td>\n",
       "      <td>NaN</td>\n",
       "      <td>nan</td>\n",
       "      <td>0.0</td>\n",
       "      <td>1.0</td>\n",
       "      <td>3991.0</td>\n",
       "      <td>...</td>\n",
       "      <td>0.0</td>\n",
       "      <td>0.0</td>\n",
       "      <td>0.0</td>\n",
       "      <td>0.0</td>\n",
       "      <td>0.000000</td>\n",
       "      <td>0.000000</td>\n",
       "      <td>0.000000</td>\n",
       "      <td>0.000000</td>\n",
       "      <td>1.000000</td>\n",
       "      <td>0.000000</td>\n",
       "    </tr>\n",
       "    <tr>\n",
       "      <th>4</th>\n",
       "      <td>4</td>\n",
       "      <td>0</td>\n",
       "      <td>Thành phố Hồ Chí Minh</td>\n",
       "      <td>Quận 1</td>\n",
       "      <td>21.0</td>\n",
       "      <td>21.0</td>\n",
       "      <td>none</td>\n",
       "      <td>0.0</td>\n",
       "      <td>1.0</td>\n",
       "      <td>1450.0</td>\n",
       "      <td>...</td>\n",
       "      <td>0.0</td>\n",
       "      <td>0.0</td>\n",
       "      <td>0.0</td>\n",
       "      <td>0.0</td>\n",
       "      <td>0.000000</td>\n",
       "      <td>0.000000</td>\n",
       "      <td>0.000000</td>\n",
       "      <td>0.000000</td>\n",
       "      <td>1.000000</td>\n",
       "      <td>0.000000</td>\n",
       "    </tr>\n",
       "  </tbody>\n",
       "</table>\n",
       "<p>5 rows × 246 columns</p>\n",
       "</div>"
      ],
      "text/plain": [
       "   id  label               province               district  age_source1  \\\n",
       "0   0      0                    NaN                    NaN          NaN   \n",
       "1   1      0          Tỉnh Đồng Nai     Thành phố Biên Hòa         44.0   \n",
       "2   2      0          Tỉnh Đồng Nai       Huyện Long Thành         30.0   \n",
       "3   3      0       Tỉnh Tuyên Quang  Thành phố Tuyên Quang         43.0   \n",
       "4   4      0  Thành phố Hồ Chí Minh                 Quận 1         21.0   \n",
       "\n",
       "   age_source2       maCv  FIELD_1  FIELD_2  FIELD_3  ...  FIELD_43_A_mean  \\\n",
       "0          NaN        nan      1.0      1.0   2547.0  ...              NaN   \n",
       "1         44.0       none      1.0      0.0     -1.0  ...              0.0   \n",
       "2         30.0  công nhân      0.0      1.0   3273.0  ...              0.0   \n",
       "3          NaN        nan      0.0      1.0   3991.0  ...              0.0   \n",
       "4         21.0       none      0.0      1.0   1450.0  ...              0.0   \n",
       "\n",
       "   FIELD_43_A_std  FIELD_43_B_mean FIELD_43_B_std FIELD_43_C_mean  \\\n",
       "0             NaN              NaN            NaN             NaN   \n",
       "1             0.0              0.0            0.0        0.048128   \n",
       "2             0.0              0.0            0.0        0.047619   \n",
       "3             0.0              0.0            0.0        0.000000   \n",
       "4             0.0              0.0            0.0        0.000000   \n",
       "\n",
       "   FIELD_43_C_std FIELD_43_D_mean  FIELD_43_D_std  FIELD_43_None_mean  \\\n",
       "0             NaN             NaN             NaN                 NaN   \n",
       "1        0.214612        0.000000        0.000000            0.951872   \n",
       "2        0.213524        0.015873        0.125316            0.936508   \n",
       "3        0.000000        0.000000        0.000000            1.000000   \n",
       "4        0.000000        0.000000        0.000000            1.000000   \n",
       "\n",
       "   FIELD_43_None_std  \n",
       "0                NaN  \n",
       "1           0.214612  \n",
       "2           0.244494  \n",
       "3           0.000000  \n",
       "4           0.000000  \n",
       "\n",
       "[5 rows x 246 columns]"
      ]
     },
     "execution_count": 55,
     "metadata": {},
     "output_type": "execute_result"
    }
   ],
   "source": [
    "dfITrain.head()"
   ]
  },
  {
   "cell_type": "code",
   "execution_count": 62,
   "metadata": {},
   "outputs": [
    {
     "name": "stdout",
     "output_type": "stream",
     "text": [
      "2020-02-05 01:00:23\n",
      "-------------------\n"
     ]
    }
   ],
   "source": [
    "for c in lsFieldFt:\n",
    "    dfITrain[\"%s_stdized\"%c] = (dfITrain[c] - dfITrain[c+\"_mean\"])/dfITrain[c+\"_std\"]\n",
    "printRuntime()"
   ]
  },
  {
   "cell_type": "code",
   "execution_count": 63,
   "metadata": {},
   "outputs": [
    {
     "data": {
      "text/plain": [
       "(29924, 322)"
      ]
     },
     "execution_count": 63,
     "metadata": {},
     "output_type": "execute_result"
    }
   ],
   "source": [
    "dfITrain.shape"
   ]
  },
  {
   "cell_type": "code",
   "execution_count": 64,
   "metadata": {},
   "outputs": [
    {
     "name": "stdout",
     "output_type": "stream",
     "text": [
      "2020-02-05 01:00:48\n",
      "-------------------\n"
     ]
    }
   ],
   "source": [
    "iTrainPath = basePath + \"itrain.pickle\"\n",
    "dfITrain.to_pickle(iTrainPath, compression=\"bz2\")\n",
    "printRuntime()"
   ]
  },
  {
   "cell_type": "code",
   "execution_count": 65,
   "metadata": {
    "collapsed": true
   },
   "outputs": [
    {
     "data": {
      "text/html": [
       "<div>\n",
       "<style scoped>\n",
       "    .dataframe tbody tr th:only-of-type {\n",
       "        vertical-align: middle;\n",
       "    }\n",
       "\n",
       "    .dataframe tbody tr th {\n",
       "        vertical-align: top;\n",
       "    }\n",
       "\n",
       "    .dataframe thead th {\n",
       "        text-align: right;\n",
       "    }\n",
       "</style>\n",
       "<table border=\"1\" class=\"dataframe\">\n",
       "  <thead>\n",
       "    <tr style=\"text-align: right;\">\n",
       "      <th></th>\n",
       "      <th>id</th>\n",
       "      <th>label</th>\n",
       "      <th>province</th>\n",
       "      <th>district</th>\n",
       "      <th>age_source1</th>\n",
       "      <th>age_source2</th>\n",
       "      <th>maCv</th>\n",
       "      <th>FIELD_1</th>\n",
       "      <th>FIELD_2</th>\n",
       "      <th>FIELD_3</th>\n",
       "      <th>...</th>\n",
       "      <th>FIELD_24_K2_stdized</th>\n",
       "      <th>FIELD_24_K3_stdized</th>\n",
       "      <th>FIELD_24_None_stdized</th>\n",
       "      <th>FIELD_43_0_stdized</th>\n",
       "      <th>FIELD_43_5_stdized</th>\n",
       "      <th>FIELD_43_A_stdized</th>\n",
       "      <th>FIELD_43_B_stdized</th>\n",
       "      <th>FIELD_43_C_stdized</th>\n",
       "      <th>FIELD_43_D_stdized</th>\n",
       "      <th>FIELD_43_None_stdized</th>\n",
       "    </tr>\n",
       "  </thead>\n",
       "  <tbody>\n",
       "    <tr>\n",
       "      <th>0</th>\n",
       "      <td>0</td>\n",
       "      <td>0</td>\n",
       "      <td>NaN</td>\n",
       "      <td>NaN</td>\n",
       "      <td>NaN</td>\n",
       "      <td>NaN</td>\n",
       "      <td>nan</td>\n",
       "      <td>1.0</td>\n",
       "      <td>1.0</td>\n",
       "      <td>2547.0</td>\n",
       "      <td>...</td>\n",
       "      <td>NaN</td>\n",
       "      <td>NaN</td>\n",
       "      <td>NaN</td>\n",
       "      <td>NaN</td>\n",
       "      <td>NaN</td>\n",
       "      <td>NaN</td>\n",
       "      <td>NaN</td>\n",
       "      <td>NaN</td>\n",
       "      <td>NaN</td>\n",
       "      <td>NaN</td>\n",
       "    </tr>\n",
       "    <tr>\n",
       "      <th>1</th>\n",
       "      <td>1</td>\n",
       "      <td>0</td>\n",
       "      <td>Tỉnh Đồng Nai</td>\n",
       "      <td>Thành phố Biên Hòa</td>\n",
       "      <td>44.0</td>\n",
       "      <td>44.0</td>\n",
       "      <td>none</td>\n",
       "      <td>1.0</td>\n",
       "      <td>0.0</td>\n",
       "      <td>-1.0</td>\n",
       "      <td>...</td>\n",
       "      <td>NaN</td>\n",
       "      <td>NaN</td>\n",
       "      <td>NaN</td>\n",
       "      <td>NaN</td>\n",
       "      <td>NaN</td>\n",
       "      <td>NaN</td>\n",
       "      <td>NaN</td>\n",
       "      <td>-0.224257</td>\n",
       "      <td>NaN</td>\n",
       "      <td>0.224257</td>\n",
       "    </tr>\n",
       "    <tr>\n",
       "      <th>2</th>\n",
       "      <td>2</td>\n",
       "      <td>0</td>\n",
       "      <td>Tỉnh Đồng Nai</td>\n",
       "      <td>Huyện Long Thành</td>\n",
       "      <td>30.0</td>\n",
       "      <td>30.0</td>\n",
       "      <td>công nhân</td>\n",
       "      <td>0.0</td>\n",
       "      <td>1.0</td>\n",
       "      <td>3273.0</td>\n",
       "      <td>...</td>\n",
       "      <td>NaN</td>\n",
       "      <td>NaN</td>\n",
       "      <td>NaN</td>\n",
       "      <td>NaN</td>\n",
       "      <td>NaN</td>\n",
       "      <td>NaN</td>\n",
       "      <td>NaN</td>\n",
       "      <td>-0.223014</td>\n",
       "      <td>-0.126664</td>\n",
       "      <td>0.259688</td>\n",
       "    </tr>\n",
       "    <tr>\n",
       "      <th>3</th>\n",
       "      <td>3</td>\n",
       "      <td>0</td>\n",
       "      <td>Tỉnh Tuyên Quang</td>\n",
       "      <td>Thành phố Tuyên Quang</td>\n",
       "      <td>43.0</td>\n",
       "      <td>NaN</td>\n",
       "      <td>nan</td>\n",
       "      <td>0.0</td>\n",
       "      <td>1.0</td>\n",
       "      <td>3991.0</td>\n",
       "      <td>...</td>\n",
       "      <td>-0.288675</td>\n",
       "      <td>NaN</td>\n",
       "      <td>0.288675</td>\n",
       "      <td>NaN</td>\n",
       "      <td>NaN</td>\n",
       "      <td>NaN</td>\n",
       "      <td>NaN</td>\n",
       "      <td>NaN</td>\n",
       "      <td>NaN</td>\n",
       "      <td>NaN</td>\n",
       "    </tr>\n",
       "    <tr>\n",
       "      <th>4</th>\n",
       "      <td>4</td>\n",
       "      <td>0</td>\n",
       "      <td>Thành phố Hồ Chí Minh</td>\n",
       "      <td>Quận 1</td>\n",
       "      <td>21.0</td>\n",
       "      <td>21.0</td>\n",
       "      <td>none</td>\n",
       "      <td>0.0</td>\n",
       "      <td>1.0</td>\n",
       "      <td>1450.0</td>\n",
       "      <td>...</td>\n",
       "      <td>NaN</td>\n",
       "      <td>NaN</td>\n",
       "      <td>NaN</td>\n",
       "      <td>NaN</td>\n",
       "      <td>NaN</td>\n",
       "      <td>NaN</td>\n",
       "      <td>NaN</td>\n",
       "      <td>NaN</td>\n",
       "      <td>NaN</td>\n",
       "      <td>NaN</td>\n",
       "    </tr>\n",
       "  </tbody>\n",
       "</table>\n",
       "<p>5 rows × 322 columns</p>\n",
       "</div>"
      ],
      "text/plain": [
       "   id  label               province               district  age_source1  \\\n",
       "0   0      0                    NaN                    NaN          NaN   \n",
       "1   1      0          Tỉnh Đồng Nai     Thành phố Biên Hòa         44.0   \n",
       "2   2      0          Tỉnh Đồng Nai       Huyện Long Thành         30.0   \n",
       "3   3      0       Tỉnh Tuyên Quang  Thành phố Tuyên Quang         43.0   \n",
       "4   4      0  Thành phố Hồ Chí Minh                 Quận 1         21.0   \n",
       "\n",
       "   age_source2       maCv  FIELD_1  FIELD_2  FIELD_3  ...  \\\n",
       "0          NaN        nan      1.0      1.0   2547.0  ...   \n",
       "1         44.0       none      1.0      0.0     -1.0  ...   \n",
       "2         30.0  công nhân      0.0      1.0   3273.0  ...   \n",
       "3          NaN        nan      0.0      1.0   3991.0  ...   \n",
       "4         21.0       none      0.0      1.0   1450.0  ...   \n",
       "\n",
       "   FIELD_24_K2_stdized  FIELD_24_K3_stdized  FIELD_24_None_stdized  \\\n",
       "0                  NaN                  NaN                    NaN   \n",
       "1                  NaN                  NaN                    NaN   \n",
       "2                  NaN                  NaN                    NaN   \n",
       "3            -0.288675                  NaN               0.288675   \n",
       "4                  NaN                  NaN                    NaN   \n",
       "\n",
       "  FIELD_43_0_stdized FIELD_43_5_stdized  FIELD_43_A_stdized  \\\n",
       "0                NaN                NaN                 NaN   \n",
       "1                NaN                NaN                 NaN   \n",
       "2                NaN                NaN                 NaN   \n",
       "3                NaN                NaN                 NaN   \n",
       "4                NaN                NaN                 NaN   \n",
       "\n",
       "  FIELD_43_B_stdized  FIELD_43_C_stdized  FIELD_43_D_stdized  \\\n",
       "0                NaN                 NaN                 NaN   \n",
       "1                NaN           -0.224257                 NaN   \n",
       "2                NaN           -0.223014           -0.126664   \n",
       "3                NaN                 NaN                 NaN   \n",
       "4                NaN                 NaN                 NaN   \n",
       "\n",
       "   FIELD_43_None_stdized  \n",
       "0                    NaN  \n",
       "1               0.224257  \n",
       "2               0.259688  \n",
       "3                    NaN  \n",
       "4                    NaN  \n",
       "\n",
       "[5 rows x 322 columns]"
      ]
     },
     "execution_count": 65,
     "metadata": {},
     "output_type": "execute_result"
    }
   ],
   "source": [
    "dfITrain.head()"
   ]
  },
  {
   "cell_type": "markdown",
   "metadata": {},
   "source": [
    "# Prepare itest"
   ]
  },
  {
   "cell_type": "code",
   "execution_count": 79,
   "metadata": {},
   "outputs": [],
   "source": [
    "dfITest = pd.merge(dfTest, dfNb01, on=lsNbMetaCol, how=\"left\")"
   ]
  },
  {
   "cell_type": "code",
   "execution_count": 80,
   "metadata": {},
   "outputs": [
    {
     "data": {
      "text/plain": [
       "(19936, 248)"
      ]
     },
     "execution_count": 80,
     "metadata": {},
     "output_type": "execute_result"
    }
   ],
   "source": [
    "dfITest.shape"
   ]
  },
  {
   "cell_type": "code",
   "execution_count": 81,
   "metadata": {
    "collapsed": true
   },
   "outputs": [
    {
     "name": "stdout",
     "output_type": "stream",
     "text": [
      "['id',\n",
      " 'province',\n",
      " 'district',\n",
      " 'age_source1',\n",
      " 'age_source2',\n",
      " 'maCv',\n",
      " 'FIELD_7',\n",
      " 'FIELD_9',\n",
      " 'FIELD_13',\n",
      " 'FIELD_39',\n",
      " 'FIELD_40',\n",
      " 'jobCat',\n",
      " 'jobDesc',\n",
      " 'FIELD_12_DK',\n",
      " 'FIELD_12_DN',\n",
      " 'FIELD_12_DT',\n",
      " 'FIELD_12_GD',\n",
      " 'FIELD_12_XK',\n",
      " 'avg_age',\n",
      " 'diff_age',\n",
      " 'group_age',\n",
      " 'lv3_loc',\n",
      " 'FIELD_1_mean',\n",
      " 'FIELD_1_std',\n",
      " 'FIELD_2_mean',\n",
      " 'FIELD_2_std',\n",
      " 'FIELD_3_mean',\n",
      " 'FIELD_3_std',\n",
      " 'FIELD_4_mean',\n",
      " 'FIELD_4_std',\n",
      " 'FIELD_5_mean',\n",
      " 'FIELD_5_std',\n",
      " 'FIELD_6_mean',\n",
      " 'FIELD_6_std',\n",
      " 'FIELD_11_mean',\n",
      " 'FIELD_11_std',\n",
      " 'FIELD_14_mean',\n",
      " 'FIELD_14_std',\n",
      " 'FIELD_15_mean',\n",
      " 'FIELD_15_std',\n",
      " 'FIELD_16_mean',\n",
      " 'FIELD_16_std',\n",
      " 'FIELD_18_mean',\n",
      " 'FIELD_18_std',\n",
      " 'FIELD_19_mean',\n",
      " 'FIELD_19_std',\n",
      " 'FIELD_20_mean',\n",
      " 'FIELD_20_std',\n",
      " 'FIELD_21_mean',\n",
      " 'FIELD_21_std',\n",
      " 'FIELD_22_mean',\n",
      " 'FIELD_22_std',\n",
      " 'FIELD_23_mean',\n",
      " 'FIELD_23_std',\n",
      " 'FIELD_25_mean',\n",
      " 'FIELD_25_std',\n",
      " 'FIELD_26_mean',\n",
      " 'FIELD_26_std',\n",
      " 'FIELD_27_mean',\n",
      " 'FIELD_27_std',\n",
      " 'FIELD_28_mean',\n",
      " 'FIELD_28_std',\n",
      " 'FIELD_29_mean',\n",
      " 'FIELD_29_std',\n",
      " 'FIELD_30_mean',\n",
      " 'FIELD_30_std',\n",
      " 'FIELD_31_mean',\n",
      " 'FIELD_31_std',\n",
      " 'FIELD_32_mean',\n",
      " 'FIELD_32_std',\n",
      " 'FIELD_33_mean',\n",
      " 'FIELD_33_std',\n",
      " 'FIELD_34_mean',\n",
      " 'FIELD_34_std',\n",
      " 'FIELD_35_mean',\n",
      " 'FIELD_35_std',\n",
      " 'FIELD_36_mean',\n",
      " 'FIELD_36_std',\n",
      " 'FIELD_37_mean',\n",
      " 'FIELD_37_std',\n",
      " 'FIELD_38_mean',\n",
      " 'FIELD_38_std',\n",
      " 'FIELD_41_mean',\n",
      " 'FIELD_41_std',\n",
      " 'FIELD_42_mean',\n",
      " 'FIELD_42_std',\n",
      " 'FIELD_44_mean',\n",
      " 'FIELD_44_std',\n",
      " 'FIELD_45_mean',\n",
      " 'FIELD_45_std',\n",
      " 'FIELD_46_mean',\n",
      " 'FIELD_46_std',\n",
      " 'FIELD_47_mean',\n",
      " 'FIELD_47_std',\n",
      " 'FIELD_48_mean',\n",
      " 'FIELD_48_std',\n",
      " 'FIELD_49_mean',\n",
      " 'FIELD_49_std',\n",
      " 'FIELD_50_mean',\n",
      " 'FIELD_50_std',\n",
      " 'FIELD_51_mean',\n",
      " 'FIELD_51_std',\n",
      " 'FIELD_52_mean',\n",
      " 'FIELD_52_std',\n",
      " 'FIELD_53_mean',\n",
      " 'FIELD_53_std',\n",
      " 'FIELD_54_mean',\n",
      " 'FIELD_54_std',\n",
      " 'FIELD_55_mean',\n",
      " 'FIELD_55_std',\n",
      " 'FIELD_56_mean',\n",
      " 'FIELD_56_std',\n",
      " 'FIELD_57_mean',\n",
      " 'FIELD_57_std',\n",
      " 'FIELD_8_FEMALE_mean',\n",
      " 'FIELD_8_FEMALE_std',\n",
      " 'FIELD_8_MALE_mean',\n",
      " 'FIELD_8_MALE_std',\n",
      " 'FIELD_8_None_mean',\n",
      " 'FIELD_8_None_std',\n",
      " 'FIELD_10_GH_mean',\n",
      " 'FIELD_10_GH_std',\n",
      " 'FIELD_10_None_mean',\n",
      " 'FIELD_10_None_std',\n",
      " 'FIELD_10_T1_mean',\n",
      " 'FIELD_10_T1_std',\n",
      " 'FIELD_12_0_mean',\n",
      " 'FIELD_12_0_std',\n",
      " 'FIELD_12_1_mean',\n",
      " 'FIELD_12_1_std',\n",
      " 'FIELD_12_HT_mean',\n",
      " 'FIELD_12_HT_std',\n",
      " 'FIELD_12_None_mean',\n",
      " 'FIELD_12_None_std',\n",
      " 'FIELD_12_TN_mean',\n",
      " 'FIELD_12_TN_std',\n",
      " 'FIELD_17_G2_mean',\n",
      " 'FIELD_17_G2_std',\n",
      " 'FIELD_17_G3_mean',\n",
      " 'FIELD_17_G3_std',\n",
      " 'FIELD_17_G4_mean',\n",
      " 'FIELD_17_G4_std',\n",
      " 'FIELD_17_G7_mean',\n",
      " 'FIELD_17_G7_std',\n",
      " 'FIELD_17_G8_mean',\n",
      " 'FIELD_17_G8_std',\n",
      " 'FIELD_17_G9_mean',\n",
      " 'FIELD_17_G9_std',\n",
      " 'FIELD_17_GX_mean',\n",
      " 'FIELD_17_GX_std',\n",
      " 'FIELD_17_None_mean',\n",
      " 'FIELD_17_None_std',\n",
      " 'FIELD_24_K1_mean',\n",
      " 'FIELD_24_K1_std',\n",
      " 'FIELD_24_K2_mean',\n",
      " 'FIELD_24_K2_std',\n",
      " 'FIELD_24_K3_mean',\n",
      " 'FIELD_24_K3_std',\n",
      " 'FIELD_24_None_mean',\n",
      " 'FIELD_24_None_std',\n",
      " 'FIELD_43_0_mean',\n",
      " 'FIELD_43_0_std',\n",
      " 'FIELD_43_5_mean',\n",
      " 'FIELD_43_5_std',\n",
      " 'FIELD_43_A_mean',\n",
      " 'FIELD_43_A_std',\n",
      " 'FIELD_43_B_mean',\n",
      " 'FIELD_43_B_std',\n",
      " 'FIELD_43_C_mean',\n",
      " 'FIELD_43_C_std',\n",
      " 'FIELD_43_D_mean',\n",
      " 'FIELD_43_D_std',\n",
      " 'FIELD_43_None_mean',\n",
      " 'FIELD_43_None_std']\n"
     ]
    }
   ],
   "source": [
    "lsTmp = [c for c in dfITest.columns if c not in lsFieldFt]\n",
    "pprint(lsTmp)"
   ]
  },
  {
   "cell_type": "code",
   "execution_count": 82,
   "metadata": {},
   "outputs": [
    {
     "data": {
      "text/html": [
       "<div>\n",
       "<style scoped>\n",
       "    .dataframe tbody tr th:only-of-type {\n",
       "        vertical-align: middle;\n",
       "    }\n",
       "\n",
       "    .dataframe tbody tr th {\n",
       "        vertical-align: top;\n",
       "    }\n",
       "\n",
       "    .dataframe thead th {\n",
       "        text-align: right;\n",
       "    }\n",
       "</style>\n",
       "<table border=\"1\" class=\"dataframe\">\n",
       "  <thead>\n",
       "    <tr style=\"text-align: right;\">\n",
       "      <th></th>\n",
       "      <th>id</th>\n",
       "      <th>province</th>\n",
       "      <th>district</th>\n",
       "      <th>age_source1</th>\n",
       "      <th>age_source2</th>\n",
       "      <th>maCv</th>\n",
       "      <th>FIELD_1</th>\n",
       "      <th>FIELD_2</th>\n",
       "      <th>FIELD_3</th>\n",
       "      <th>FIELD_4</th>\n",
       "      <th>...</th>\n",
       "      <th>FIELD_43_A_mean</th>\n",
       "      <th>FIELD_43_A_std</th>\n",
       "      <th>FIELD_43_B_mean</th>\n",
       "      <th>FIELD_43_B_std</th>\n",
       "      <th>FIELD_43_C_mean</th>\n",
       "      <th>FIELD_43_C_std</th>\n",
       "      <th>FIELD_43_D_mean</th>\n",
       "      <th>FIELD_43_D_std</th>\n",
       "      <th>FIELD_43_None_mean</th>\n",
       "      <th>FIELD_43_None_std</th>\n",
       "    </tr>\n",
       "  </thead>\n",
       "  <tbody>\n",
       "    <tr>\n",
       "      <th>0</th>\n",
       "      <td>30000</td>\n",
       "      <td>NaN</td>\n",
       "      <td>NaN</td>\n",
       "      <td>NaN</td>\n",
       "      <td>NaN</td>\n",
       "      <td>nan</td>\n",
       "      <td>1</td>\n",
       "      <td>1.0</td>\n",
       "      <td>719.0</td>\n",
       "      <td>0.0</td>\n",
       "      <td>...</td>\n",
       "      <td>NaN</td>\n",
       "      <td>NaN</td>\n",
       "      <td>NaN</td>\n",
       "      <td>NaN</td>\n",
       "      <td>NaN</td>\n",
       "      <td>NaN</td>\n",
       "      <td>NaN</td>\n",
       "      <td>NaN</td>\n",
       "      <td>NaN</td>\n",
       "      <td>NaN</td>\n",
       "    </tr>\n",
       "    <tr>\n",
       "      <th>1</th>\n",
       "      <td>30001</td>\n",
       "      <td>NaN</td>\n",
       "      <td>NaN</td>\n",
       "      <td>NaN</td>\n",
       "      <td>NaN</td>\n",
       "      <td>nan</td>\n",
       "      <td>1</td>\n",
       "      <td>1.0</td>\n",
       "      <td>1442.0</td>\n",
       "      <td>0.0</td>\n",
       "      <td>...</td>\n",
       "      <td>NaN</td>\n",
       "      <td>NaN</td>\n",
       "      <td>NaN</td>\n",
       "      <td>NaN</td>\n",
       "      <td>NaN</td>\n",
       "      <td>NaN</td>\n",
       "      <td>NaN</td>\n",
       "      <td>NaN</td>\n",
       "      <td>NaN</td>\n",
       "      <td>NaN</td>\n",
       "    </tr>\n",
       "    <tr>\n",
       "      <th>2</th>\n",
       "      <td>30002</td>\n",
       "      <td>Thành phố Hà Nội</td>\n",
       "      <td>Huyện Mỹ Đức</td>\n",
       "      <td>32.0</td>\n",
       "      <td>32.0</td>\n",
       "      <td>trưởng dây chuyền phòng sản xuất</td>\n",
       "      <td>0</td>\n",
       "      <td>1.0</td>\n",
       "      <td>4000.0</td>\n",
       "      <td>2.0</td>\n",
       "      <td>...</td>\n",
       "      <td>NaN</td>\n",
       "      <td>NaN</td>\n",
       "      <td>NaN</td>\n",
       "      <td>NaN</td>\n",
       "      <td>NaN</td>\n",
       "      <td>NaN</td>\n",
       "      <td>NaN</td>\n",
       "      <td>NaN</td>\n",
       "      <td>NaN</td>\n",
       "      <td>NaN</td>\n",
       "    </tr>\n",
       "    <tr>\n",
       "      <th>3</th>\n",
       "      <td>30003</td>\n",
       "      <td>NaN</td>\n",
       "      <td>NaN</td>\n",
       "      <td>NaN</td>\n",
       "      <td>25.0</td>\n",
       "      <td>none</td>\n",
       "      <td>0</td>\n",
       "      <td>1.0</td>\n",
       "      <td>1073.0</td>\n",
       "      <td>0.0</td>\n",
       "      <td>...</td>\n",
       "      <td>NaN</td>\n",
       "      <td>NaN</td>\n",
       "      <td>NaN</td>\n",
       "      <td>NaN</td>\n",
       "      <td>NaN</td>\n",
       "      <td>NaN</td>\n",
       "      <td>NaN</td>\n",
       "      <td>NaN</td>\n",
       "      <td>NaN</td>\n",
       "      <td>NaN</td>\n",
       "    </tr>\n",
       "    <tr>\n",
       "      <th>4</th>\n",
       "      <td>30004</td>\n",
       "      <td>NaN</td>\n",
       "      <td>NaN</td>\n",
       "      <td>NaN</td>\n",
       "      <td>NaN</td>\n",
       "      <td>nan</td>\n",
       "      <td>1</td>\n",
       "      <td>1.0</td>\n",
       "      <td>703.0</td>\n",
       "      <td>0.0</td>\n",
       "      <td>...</td>\n",
       "      <td>NaN</td>\n",
       "      <td>NaN</td>\n",
       "      <td>NaN</td>\n",
       "      <td>NaN</td>\n",
       "      <td>NaN</td>\n",
       "      <td>NaN</td>\n",
       "      <td>NaN</td>\n",
       "      <td>NaN</td>\n",
       "      <td>NaN</td>\n",
       "      <td>NaN</td>\n",
       "    </tr>\n",
       "  </tbody>\n",
       "</table>\n",
       "<p>5 rows × 248 columns</p>\n",
       "</div>"
      ],
      "text/plain": [
       "      id          province      district  age_source1  age_source2  \\\n",
       "0  30000               NaN           NaN          NaN          NaN   \n",
       "1  30001               NaN           NaN          NaN          NaN   \n",
       "2  30002  Thành phố Hà Nội  Huyện Mỹ Đức         32.0         32.0   \n",
       "3  30003               NaN           NaN          NaN         25.0   \n",
       "4  30004               NaN           NaN          NaN          NaN   \n",
       "\n",
       "                               maCv  FIELD_1  FIELD_2  FIELD_3  FIELD_4  ...  \\\n",
       "0                               nan        1      1.0    719.0      0.0  ...   \n",
       "1                               nan        1      1.0   1442.0      0.0  ...   \n",
       "2  trưởng dây chuyền phòng sản xuất        0      1.0   4000.0      2.0  ...   \n",
       "3                              none        0      1.0   1073.0      0.0  ...   \n",
       "4                               nan        1      1.0    703.0      0.0  ...   \n",
       "\n",
       "   FIELD_43_A_mean  FIELD_43_A_std FIELD_43_B_mean FIELD_43_B_std  \\\n",
       "0              NaN             NaN             NaN            NaN   \n",
       "1              NaN             NaN             NaN            NaN   \n",
       "2              NaN             NaN             NaN            NaN   \n",
       "3              NaN             NaN             NaN            NaN   \n",
       "4              NaN             NaN             NaN            NaN   \n",
       "\n",
       "  FIELD_43_C_mean FIELD_43_C_std  FIELD_43_D_mean  FIELD_43_D_std  \\\n",
       "0             NaN            NaN              NaN             NaN   \n",
       "1             NaN            NaN              NaN             NaN   \n",
       "2             NaN            NaN              NaN             NaN   \n",
       "3             NaN            NaN              NaN             NaN   \n",
       "4             NaN            NaN              NaN             NaN   \n",
       "\n",
       "   FIELD_43_None_mean FIELD_43_None_std  \n",
       "0                 NaN               NaN  \n",
       "1                 NaN               NaN  \n",
       "2                 NaN               NaN  \n",
       "3                 NaN               NaN  \n",
       "4                 NaN               NaN  \n",
       "\n",
       "[5 rows x 248 columns]"
      ]
     },
     "execution_count": 82,
     "metadata": {},
     "output_type": "execute_result"
    }
   ],
   "source": [
    "dfITest.head()"
   ]
  },
  {
   "cell_type": "code",
   "execution_count": 83,
   "metadata": {
    "collapsed": true
   },
   "outputs": [
    {
     "ename": "TypeError",
     "evalue": "ufunc 'subtract' did not contain a loop with signature matching types dtype('<U32') dtype('<U32') dtype('<U32')",
     "output_type": "error",
     "traceback": [
      "\u001b[0;31m---------------------------------------------------------------------------\u001b[0m",
      "\u001b[0;31mTypeError\u001b[0m                                 Traceback (most recent call last)",
      "\u001b[0;32m~/anaconda3/lib/python3.7/site-packages/pandas/core/ops.py\u001b[0m in \u001b[0;36mna_op\u001b[0;34m(x, y)\u001b[0m\n\u001b[1;32m   1504\u001b[0m         \u001b[0;32mtry\u001b[0m\u001b[0;34m:\u001b[0m\u001b[0;34m\u001b[0m\u001b[0;34m\u001b[0m\u001b[0m\n\u001b[0;32m-> 1505\u001b[0;31m             \u001b[0mresult\u001b[0m \u001b[0;34m=\u001b[0m \u001b[0mexpressions\u001b[0m\u001b[0;34m.\u001b[0m\u001b[0mevaluate\u001b[0m\u001b[0;34m(\u001b[0m\u001b[0mop\u001b[0m\u001b[0;34m,\u001b[0m \u001b[0mstr_rep\u001b[0m\u001b[0;34m,\u001b[0m \u001b[0mx\u001b[0m\u001b[0;34m,\u001b[0m \u001b[0my\u001b[0m\u001b[0;34m,\u001b[0m \u001b[0;34m**\u001b[0m\u001b[0meval_kwargs\u001b[0m\u001b[0;34m)\u001b[0m\u001b[0;34m\u001b[0m\u001b[0;34m\u001b[0m\u001b[0m\n\u001b[0m\u001b[1;32m   1506\u001b[0m         \u001b[0;32mexcept\u001b[0m \u001b[0mTypeError\u001b[0m\u001b[0;34m:\u001b[0m\u001b[0;34m\u001b[0m\u001b[0;34m\u001b[0m\u001b[0m\n",
      "\u001b[0;32m~/anaconda3/lib/python3.7/site-packages/pandas/core/computation/expressions.py\u001b[0m in \u001b[0;36mevaluate\u001b[0;34m(op, op_str, a, b, use_numexpr, **eval_kwargs)\u001b[0m\n\u001b[1;32m    207\u001b[0m     \u001b[0;32mif\u001b[0m \u001b[0muse_numexpr\u001b[0m\u001b[0;34m:\u001b[0m\u001b[0;34m\u001b[0m\u001b[0;34m\u001b[0m\u001b[0m\n\u001b[0;32m--> 208\u001b[0;31m         \u001b[0;32mreturn\u001b[0m \u001b[0m_evaluate\u001b[0m\u001b[0;34m(\u001b[0m\u001b[0mop\u001b[0m\u001b[0;34m,\u001b[0m \u001b[0mop_str\u001b[0m\u001b[0;34m,\u001b[0m \u001b[0ma\u001b[0m\u001b[0;34m,\u001b[0m \u001b[0mb\u001b[0m\u001b[0;34m,\u001b[0m \u001b[0;34m**\u001b[0m\u001b[0meval_kwargs\u001b[0m\u001b[0;34m)\u001b[0m\u001b[0;34m\u001b[0m\u001b[0;34m\u001b[0m\u001b[0m\n\u001b[0m\u001b[1;32m    209\u001b[0m     \u001b[0;32mreturn\u001b[0m \u001b[0m_evaluate_standard\u001b[0m\u001b[0;34m(\u001b[0m\u001b[0mop\u001b[0m\u001b[0;34m,\u001b[0m \u001b[0mop_str\u001b[0m\u001b[0;34m,\u001b[0m \u001b[0ma\u001b[0m\u001b[0;34m,\u001b[0m \u001b[0mb\u001b[0m\u001b[0;34m)\u001b[0m\u001b[0;34m\u001b[0m\u001b[0;34m\u001b[0m\u001b[0m\n",
      "\u001b[0;32m~/anaconda3/lib/python3.7/site-packages/pandas/core/computation/expressions.py\u001b[0m in \u001b[0;36m_evaluate_numexpr\u001b[0;34m(op, op_str, a, b, truediv, reversed, **eval_kwargs)\u001b[0m\n\u001b[1;32m    122\u001b[0m     \u001b[0;32mif\u001b[0m \u001b[0mresult\u001b[0m \u001b[0;32mis\u001b[0m \u001b[0;32mNone\u001b[0m\u001b[0;34m:\u001b[0m\u001b[0;34m\u001b[0m\u001b[0;34m\u001b[0m\u001b[0m\n\u001b[0;32m--> 123\u001b[0;31m         \u001b[0mresult\u001b[0m \u001b[0;34m=\u001b[0m \u001b[0m_evaluate_standard\u001b[0m\u001b[0;34m(\u001b[0m\u001b[0mop\u001b[0m\u001b[0;34m,\u001b[0m \u001b[0mop_str\u001b[0m\u001b[0;34m,\u001b[0m \u001b[0ma\u001b[0m\u001b[0;34m,\u001b[0m \u001b[0mb\u001b[0m\u001b[0;34m)\u001b[0m\u001b[0;34m\u001b[0m\u001b[0;34m\u001b[0m\u001b[0m\n\u001b[0m\u001b[1;32m    124\u001b[0m \u001b[0;34m\u001b[0m\u001b[0m\n",
      "\u001b[0;32m~/anaconda3/lib/python3.7/site-packages/pandas/core/computation/expressions.py\u001b[0m in \u001b[0;36m_evaluate_standard\u001b[0;34m(op, op_str, a, b, **eval_kwargs)\u001b[0m\n\u001b[1;32m     67\u001b[0m     \u001b[0;32mwith\u001b[0m \u001b[0mnp\u001b[0m\u001b[0;34m.\u001b[0m\u001b[0merrstate\u001b[0m\u001b[0;34m(\u001b[0m\u001b[0mall\u001b[0m\u001b[0;34m=\u001b[0m\u001b[0;34m'ignore'\u001b[0m\u001b[0;34m)\u001b[0m\u001b[0;34m:\u001b[0m\u001b[0;34m\u001b[0m\u001b[0;34m\u001b[0m\u001b[0m\n\u001b[0;32m---> 68\u001b[0;31m         \u001b[0;32mreturn\u001b[0m \u001b[0mop\u001b[0m\u001b[0;34m(\u001b[0m\u001b[0ma\u001b[0m\u001b[0;34m,\u001b[0m \u001b[0mb\u001b[0m\u001b[0;34m)\u001b[0m\u001b[0;34m\u001b[0m\u001b[0;34m\u001b[0m\u001b[0m\n\u001b[0m\u001b[1;32m     69\u001b[0m \u001b[0;34m\u001b[0m\u001b[0m\n",
      "\u001b[0;31mTypeError\u001b[0m: unsupported operand type(s) for -: 'str' and 'float'",
      "\nDuring handling of the above exception, another exception occurred:\n",
      "\u001b[0;31mTypeError\u001b[0m                                 Traceback (most recent call last)",
      "\u001b[0;32m~/anaconda3/lib/python3.7/site-packages/pandas/core/ops.py\u001b[0m in \u001b[0;36msafe_na_op\u001b[0;34m(lvalues, rvalues)\u001b[0m\n\u001b[1;32m   1528\u001b[0m             \u001b[0;32mwith\u001b[0m \u001b[0mnp\u001b[0m\u001b[0;34m.\u001b[0m\u001b[0merrstate\u001b[0m\u001b[0;34m(\u001b[0m\u001b[0mall\u001b[0m\u001b[0;34m=\u001b[0m\u001b[0;34m'ignore'\u001b[0m\u001b[0;34m)\u001b[0m\u001b[0;34m:\u001b[0m\u001b[0;34m\u001b[0m\u001b[0;34m\u001b[0m\u001b[0m\n\u001b[0;32m-> 1529\u001b[0;31m                 \u001b[0;32mreturn\u001b[0m \u001b[0mna_op\u001b[0m\u001b[0;34m(\u001b[0m\u001b[0mlvalues\u001b[0m\u001b[0;34m,\u001b[0m \u001b[0mrvalues\u001b[0m\u001b[0;34m)\u001b[0m\u001b[0;34m\u001b[0m\u001b[0;34m\u001b[0m\u001b[0m\n\u001b[0m\u001b[1;32m   1530\u001b[0m         \u001b[0;32mexcept\u001b[0m \u001b[0mException\u001b[0m\u001b[0;34m:\u001b[0m\u001b[0;34m\u001b[0m\u001b[0;34m\u001b[0m\u001b[0m\n",
      "\u001b[0;32m~/anaconda3/lib/python3.7/site-packages/pandas/core/ops.py\u001b[0m in \u001b[0;36mna_op\u001b[0;34m(x, y)\u001b[0m\n\u001b[1;32m   1506\u001b[0m         \u001b[0;32mexcept\u001b[0m \u001b[0mTypeError\u001b[0m\u001b[0;34m:\u001b[0m\u001b[0;34m\u001b[0m\u001b[0;34m\u001b[0m\u001b[0m\n\u001b[0;32m-> 1507\u001b[0;31m             \u001b[0mresult\u001b[0m \u001b[0;34m=\u001b[0m \u001b[0mmasked_arith_op\u001b[0m\u001b[0;34m(\u001b[0m\u001b[0mx\u001b[0m\u001b[0;34m,\u001b[0m \u001b[0my\u001b[0m\u001b[0;34m,\u001b[0m \u001b[0mop\u001b[0m\u001b[0;34m)\u001b[0m\u001b[0;34m\u001b[0m\u001b[0;34m\u001b[0m\u001b[0m\n\u001b[0m\u001b[1;32m   1508\u001b[0m \u001b[0;34m\u001b[0m\u001b[0m\n",
      "\u001b[0;32m~/anaconda3/lib/python3.7/site-packages/pandas/core/ops.py\u001b[0m in \u001b[0;36mmasked_arith_op\u001b[0;34m(x, y, op)\u001b[0m\n\u001b[1;32m   1008\u001b[0m                 result[mask] = op(xrav[mask],\n\u001b[0;32m-> 1009\u001b[0;31m                                   com.values_from_object(yrav[mask]))\n\u001b[0m\u001b[1;32m   1010\u001b[0m \u001b[0;34m\u001b[0m\u001b[0m\n",
      "\u001b[0;31mTypeError\u001b[0m: unsupported operand type(s) for -: 'str' and 'float'",
      "\nDuring handling of the above exception, another exception occurred:\n",
      "\u001b[0;31mTypeError\u001b[0m                                 Traceback (most recent call last)",
      "\u001b[0;32m<ipython-input-83-69a444286073>\u001b[0m in \u001b[0;36m<module>\u001b[0;34m\u001b[0m\n\u001b[1;32m      1\u001b[0m \u001b[0;32mfor\u001b[0m \u001b[0mc\u001b[0m \u001b[0;32min\u001b[0m \u001b[0mlsFieldFt\u001b[0m\u001b[0;34m:\u001b[0m\u001b[0;34m\u001b[0m\u001b[0;34m\u001b[0m\u001b[0m\n\u001b[0;32m----> 2\u001b[0;31m     \u001b[0mdfITest\u001b[0m\u001b[0;34m[\u001b[0m\u001b[0;34m\"%s_stdized\"\u001b[0m\u001b[0;34m%\u001b[0m\u001b[0mc\u001b[0m\u001b[0;34m]\u001b[0m \u001b[0;34m=\u001b[0m \u001b[0;34m(\u001b[0m\u001b[0mdfITest\u001b[0m\u001b[0;34m[\u001b[0m\u001b[0mc\u001b[0m\u001b[0;34m]\u001b[0m \u001b[0;34m-\u001b[0m \u001b[0mdfITest\u001b[0m\u001b[0;34m[\u001b[0m\u001b[0mc\u001b[0m\u001b[0;34m+\u001b[0m\u001b[0;34m\"_mean\"\u001b[0m\u001b[0;34m]\u001b[0m\u001b[0;34m)\u001b[0m\u001b[0;34m/\u001b[0m\u001b[0mdfITest\u001b[0m\u001b[0;34m[\u001b[0m\u001b[0mc\u001b[0m\u001b[0;34m+\u001b[0m\u001b[0;34m\"_std\"\u001b[0m\u001b[0;34m]\u001b[0m\u001b[0;34m\u001b[0m\u001b[0;34m\u001b[0m\u001b[0m\n\u001b[0m\u001b[1;32m      3\u001b[0m \u001b[0mprintRuntime\u001b[0m\u001b[0;34m(\u001b[0m\u001b[0;34m)\u001b[0m\u001b[0;34m\u001b[0m\u001b[0;34m\u001b[0m\u001b[0m\n",
      "\u001b[0;32m~/anaconda3/lib/python3.7/site-packages/pandas/core/ops.py\u001b[0m in \u001b[0;36mwrapper\u001b[0;34m(left, right)\u001b[0m\n\u001b[1;32m   1581\u001b[0m             \u001b[0mrvalues\u001b[0m \u001b[0;34m=\u001b[0m \u001b[0mrvalues\u001b[0m\u001b[0;34m.\u001b[0m\u001b[0mvalues\u001b[0m\u001b[0;34m\u001b[0m\u001b[0;34m\u001b[0m\u001b[0m\n\u001b[1;32m   1582\u001b[0m \u001b[0;34m\u001b[0m\u001b[0m\n\u001b[0;32m-> 1583\u001b[0;31m         \u001b[0mresult\u001b[0m \u001b[0;34m=\u001b[0m \u001b[0msafe_na_op\u001b[0m\u001b[0;34m(\u001b[0m\u001b[0mlvalues\u001b[0m\u001b[0;34m,\u001b[0m \u001b[0mrvalues\u001b[0m\u001b[0;34m)\u001b[0m\u001b[0;34m\u001b[0m\u001b[0;34m\u001b[0m\u001b[0m\n\u001b[0m\u001b[1;32m   1584\u001b[0m         return construct_result(left, result,\n\u001b[1;32m   1585\u001b[0m                                 index=left.index, name=res_name, dtype=None)\n",
      "\u001b[0;32m~/anaconda3/lib/python3.7/site-packages/pandas/core/ops.py\u001b[0m in \u001b[0;36msafe_na_op\u001b[0;34m(lvalues, rvalues)\u001b[0m\n\u001b[1;32m   1531\u001b[0m             \u001b[0;32mif\u001b[0m \u001b[0mis_object_dtype\u001b[0m\u001b[0;34m(\u001b[0m\u001b[0mlvalues\u001b[0m\u001b[0;34m)\u001b[0m\u001b[0;34m:\u001b[0m\u001b[0;34m\u001b[0m\u001b[0;34m\u001b[0m\u001b[0m\n\u001b[1;32m   1532\u001b[0m                 return libalgos.arrmap_object(lvalues,\n\u001b[0;32m-> 1533\u001b[0;31m                                               lambda x: op(x, rvalues))\n\u001b[0m\u001b[1;32m   1534\u001b[0m             \u001b[0;32mraise\u001b[0m\u001b[0;34m\u001b[0m\u001b[0;34m\u001b[0m\u001b[0m\n\u001b[1;32m   1535\u001b[0m \u001b[0;34m\u001b[0m\u001b[0m\n",
      "\u001b[0;32mpandas/_libs/algos.pyx\u001b[0m in \u001b[0;36mpandas._libs.algos.arrmap\u001b[0;34m()\u001b[0m\n",
      "\u001b[0;32m~/anaconda3/lib/python3.7/site-packages/pandas/core/ops.py\u001b[0m in \u001b[0;36m<lambda>\u001b[0;34m(x)\u001b[0m\n\u001b[1;32m   1531\u001b[0m             \u001b[0;32mif\u001b[0m \u001b[0mis_object_dtype\u001b[0m\u001b[0;34m(\u001b[0m\u001b[0mlvalues\u001b[0m\u001b[0;34m)\u001b[0m\u001b[0;34m:\u001b[0m\u001b[0;34m\u001b[0m\u001b[0;34m\u001b[0m\u001b[0m\n\u001b[1;32m   1532\u001b[0m                 return libalgos.arrmap_object(lvalues,\n\u001b[0;32m-> 1533\u001b[0;31m                                               lambda x: op(x, rvalues))\n\u001b[0m\u001b[1;32m   1534\u001b[0m             \u001b[0;32mraise\u001b[0m\u001b[0;34m\u001b[0m\u001b[0;34m\u001b[0m\u001b[0m\n\u001b[1;32m   1535\u001b[0m \u001b[0;34m\u001b[0m\u001b[0m\n",
      "\u001b[0;31mTypeError\u001b[0m: ufunc 'subtract' did not contain a loop with signature matching types dtype('<U32') dtype('<U32') dtype('<U32')"
     ]
    }
   ],
   "source": [
    "for c in lsFieldFt:\n",
    "    dfITest[\"%s_stdized\"%c] = (dfITest[c] - dfITest[c+\"_mean\"])/dfITest[c+\"_std\"]\n",
    "printRuntime()"
   ]
  },
  {
   "cell_type": "code",
   "execution_count": 63,
   "metadata": {},
   "outputs": [
    {
     "data": {
      "text/plain": [
       "(29924, 322)"
      ]
     },
     "execution_count": 63,
     "metadata": {},
     "output_type": "execute_result"
    }
   ],
   "source": [
    "dfITest.shape"
   ]
  },
  {
   "cell_type": "code",
   "execution_count": 64,
   "metadata": {},
   "outputs": [
    {
     "name": "stdout",
     "output_type": "stream",
     "text": [
      "2020-02-05 01:00:48\n",
      "-------------------\n"
     ]
    }
   ],
   "source": [
    "iTestPath = basePath + \"itest.pickle\"\n",
    "dfITest.to_pickle(iTestPath, compression=\"bz2\")\n",
    "printRuntime()"
   ]
  },
  {
   "cell_type": "code",
   "execution_count": 65,
   "metadata": {
    "collapsed": true
   },
   "outputs": [
    {
     "data": {
      "text/html": [
       "<div>\n",
       "<style scoped>\n",
       "    .dataframe tbody tr th:only-of-type {\n",
       "        vertical-align: middle;\n",
       "    }\n",
       "\n",
       "    .dataframe tbody tr th {\n",
       "        vertical-align: top;\n",
       "    }\n",
       "\n",
       "    .dataframe thead th {\n",
       "        text-align: right;\n",
       "    }\n",
       "</style>\n",
       "<table border=\"1\" class=\"dataframe\">\n",
       "  <thead>\n",
       "    <tr style=\"text-align: right;\">\n",
       "      <th></th>\n",
       "      <th>id</th>\n",
       "      <th>label</th>\n",
       "      <th>province</th>\n",
       "      <th>district</th>\n",
       "      <th>age_source1</th>\n",
       "      <th>age_source2</th>\n",
       "      <th>maCv</th>\n",
       "      <th>FIELD_1</th>\n",
       "      <th>FIELD_2</th>\n",
       "      <th>FIELD_3</th>\n",
       "      <th>...</th>\n",
       "      <th>FIELD_24_K2_stdized</th>\n",
       "      <th>FIELD_24_K3_stdized</th>\n",
       "      <th>FIELD_24_None_stdized</th>\n",
       "      <th>FIELD_43_0_stdized</th>\n",
       "      <th>FIELD_43_5_stdized</th>\n",
       "      <th>FIELD_43_A_stdized</th>\n",
       "      <th>FIELD_43_B_stdized</th>\n",
       "      <th>FIELD_43_C_stdized</th>\n",
       "      <th>FIELD_43_D_stdized</th>\n",
       "      <th>FIELD_43_None_stdized</th>\n",
       "    </tr>\n",
       "  </thead>\n",
       "  <tbody>\n",
       "    <tr>\n",
       "      <th>0</th>\n",
       "      <td>0</td>\n",
       "      <td>0</td>\n",
       "      <td>NaN</td>\n",
       "      <td>NaN</td>\n",
       "      <td>NaN</td>\n",
       "      <td>NaN</td>\n",
       "      <td>nan</td>\n",
       "      <td>1.0</td>\n",
       "      <td>1.0</td>\n",
       "      <td>2547.0</td>\n",
       "      <td>...</td>\n",
       "      <td>NaN</td>\n",
       "      <td>NaN</td>\n",
       "      <td>NaN</td>\n",
       "      <td>NaN</td>\n",
       "      <td>NaN</td>\n",
       "      <td>NaN</td>\n",
       "      <td>NaN</td>\n",
       "      <td>NaN</td>\n",
       "      <td>NaN</td>\n",
       "      <td>NaN</td>\n",
       "    </tr>\n",
       "    <tr>\n",
       "      <th>1</th>\n",
       "      <td>1</td>\n",
       "      <td>0</td>\n",
       "      <td>Tỉnh Đồng Nai</td>\n",
       "      <td>Thành phố Biên Hòa</td>\n",
       "      <td>44.0</td>\n",
       "      <td>44.0</td>\n",
       "      <td>none</td>\n",
       "      <td>1.0</td>\n",
       "      <td>0.0</td>\n",
       "      <td>-1.0</td>\n",
       "      <td>...</td>\n",
       "      <td>NaN</td>\n",
       "      <td>NaN</td>\n",
       "      <td>NaN</td>\n",
       "      <td>NaN</td>\n",
       "      <td>NaN</td>\n",
       "      <td>NaN</td>\n",
       "      <td>NaN</td>\n",
       "      <td>-0.224257</td>\n",
       "      <td>NaN</td>\n",
       "      <td>0.224257</td>\n",
       "    </tr>\n",
       "    <tr>\n",
       "      <th>2</th>\n",
       "      <td>2</td>\n",
       "      <td>0</td>\n",
       "      <td>Tỉnh Đồng Nai</td>\n",
       "      <td>Huyện Long Thành</td>\n",
       "      <td>30.0</td>\n",
       "      <td>30.0</td>\n",
       "      <td>công nhân</td>\n",
       "      <td>0.0</td>\n",
       "      <td>1.0</td>\n",
       "      <td>3273.0</td>\n",
       "      <td>...</td>\n",
       "      <td>NaN</td>\n",
       "      <td>NaN</td>\n",
       "      <td>NaN</td>\n",
       "      <td>NaN</td>\n",
       "      <td>NaN</td>\n",
       "      <td>NaN</td>\n",
       "      <td>NaN</td>\n",
       "      <td>-0.223014</td>\n",
       "      <td>-0.126664</td>\n",
       "      <td>0.259688</td>\n",
       "    </tr>\n",
       "    <tr>\n",
       "      <th>3</th>\n",
       "      <td>3</td>\n",
       "      <td>0</td>\n",
       "      <td>Tỉnh Tuyên Quang</td>\n",
       "      <td>Thành phố Tuyên Quang</td>\n",
       "      <td>43.0</td>\n",
       "      <td>NaN</td>\n",
       "      <td>nan</td>\n",
       "      <td>0.0</td>\n",
       "      <td>1.0</td>\n",
       "      <td>3991.0</td>\n",
       "      <td>...</td>\n",
       "      <td>-0.288675</td>\n",
       "      <td>NaN</td>\n",
       "      <td>0.288675</td>\n",
       "      <td>NaN</td>\n",
       "      <td>NaN</td>\n",
       "      <td>NaN</td>\n",
       "      <td>NaN</td>\n",
       "      <td>NaN</td>\n",
       "      <td>NaN</td>\n",
       "      <td>NaN</td>\n",
       "    </tr>\n",
       "    <tr>\n",
       "      <th>4</th>\n",
       "      <td>4</td>\n",
       "      <td>0</td>\n",
       "      <td>Thành phố Hồ Chí Minh</td>\n",
       "      <td>Quận 1</td>\n",
       "      <td>21.0</td>\n",
       "      <td>21.0</td>\n",
       "      <td>none</td>\n",
       "      <td>0.0</td>\n",
       "      <td>1.0</td>\n",
       "      <td>1450.0</td>\n",
       "      <td>...</td>\n",
       "      <td>NaN</td>\n",
       "      <td>NaN</td>\n",
       "      <td>NaN</td>\n",
       "      <td>NaN</td>\n",
       "      <td>NaN</td>\n",
       "      <td>NaN</td>\n",
       "      <td>NaN</td>\n",
       "      <td>NaN</td>\n",
       "      <td>NaN</td>\n",
       "      <td>NaN</td>\n",
       "    </tr>\n",
       "  </tbody>\n",
       "</table>\n",
       "<p>5 rows × 322 columns</p>\n",
       "</div>"
      ],
      "text/plain": [
       "   id  label               province               district  age_source1  \\\n",
       "0   0      0                    NaN                    NaN          NaN   \n",
       "1   1      0          Tỉnh Đồng Nai     Thành phố Biên Hòa         44.0   \n",
       "2   2      0          Tỉnh Đồng Nai       Huyện Long Thành         30.0   \n",
       "3   3      0       Tỉnh Tuyên Quang  Thành phố Tuyên Quang         43.0   \n",
       "4   4      0  Thành phố Hồ Chí Minh                 Quận 1         21.0   \n",
       "\n",
       "   age_source2       maCv  FIELD_1  FIELD_2  FIELD_3  ...  \\\n",
       "0          NaN        nan      1.0      1.0   2547.0  ...   \n",
       "1         44.0       none      1.0      0.0     -1.0  ...   \n",
       "2         30.0  công nhân      0.0      1.0   3273.0  ...   \n",
       "3          NaN        nan      0.0      1.0   3991.0  ...   \n",
       "4         21.0       none      0.0      1.0   1450.0  ...   \n",
       "\n",
       "   FIELD_24_K2_stdized  FIELD_24_K3_stdized  FIELD_24_None_stdized  \\\n",
       "0                  NaN                  NaN                    NaN   \n",
       "1                  NaN                  NaN                    NaN   \n",
       "2                  NaN                  NaN                    NaN   \n",
       "3            -0.288675                  NaN               0.288675   \n",
       "4                  NaN                  NaN                    NaN   \n",
       "\n",
       "  FIELD_43_0_stdized FIELD_43_5_stdized  FIELD_43_A_stdized  \\\n",
       "0                NaN                NaN                 NaN   \n",
       "1                NaN                NaN                 NaN   \n",
       "2                NaN                NaN                 NaN   \n",
       "3                NaN                NaN                 NaN   \n",
       "4                NaN                NaN                 NaN   \n",
       "\n",
       "  FIELD_43_B_stdized  FIELD_43_C_stdized  FIELD_43_D_stdized  \\\n",
       "0                NaN                 NaN                 NaN   \n",
       "1                NaN           -0.224257                 NaN   \n",
       "2                NaN           -0.223014           -0.126664   \n",
       "3                NaN                 NaN                 NaN   \n",
       "4                NaN                 NaN                 NaN   \n",
       "\n",
       "   FIELD_43_None_stdized  \n",
       "0                    NaN  \n",
       "1               0.224257  \n",
       "2               0.259688  \n",
       "3                    NaN  \n",
       "4                    NaN  \n",
       "\n",
       "[5 rows x 322 columns]"
      ]
     },
     "execution_count": 65,
     "metadata": {},
     "output_type": "execute_result"
    }
   ],
   "source": [
    "dfITest.head()"
   ]
  },
  {
   "cell_type": "code",
   "execution_count": null,
   "metadata": {},
   "outputs": [],
   "source": []
  }
 ],
 "metadata": {
  "kernelspec": {
   "display_name": "Python 3",
   "language": "python",
   "name": "python3"
  },
  "language_info": {
   "codemirror_mode": {
    "name": "ipython",
    "version": 3
   },
   "file_extension": ".py",
   "mimetype": "text/x-python",
   "name": "python",
   "nbconvert_exporter": "python",
   "pygments_lexer": "ipython3",
   "version": "3.7.3"
  }
 },
 "nbformat": 4,
 "nbformat_minor": 2
}
