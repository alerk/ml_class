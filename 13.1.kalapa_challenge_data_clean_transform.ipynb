{
 "cells": [
  {
   "cell_type": "code",
   "execution_count": 1,
   "metadata": {},
   "outputs": [],
   "source": [
    "import pandas as pd, numpy as np, seaborn as sns\n",
    "from pprint import pprint\n",
    "%matplotlib inline\n",
    "import matplotlib\n",
    "import matplotlib.pyplot as plt\n",
    "\n",
    "import math\n",
    "from collections import Counter\n",
    "\n",
    "import datetime, time\n",
    "\n",
    "from pprint import pprint\n",
    "import re"
   ]
  },
  {
   "cell_type": "code",
   "execution_count": 2,
   "metadata": {},
   "outputs": [
    {
     "name": "stdout",
     "output_type": "stream",
     "text": [
      "2020-03-01 23:00:45\n",
      "-------------------\n"
     ]
    }
   ],
   "source": [
    "def printRuntime():\n",
    "    print(datetime.datetime.now().strftime(\"%Y-%m-%d %T\"))\n",
    "    print(\"-\"*19)\n",
    "printRuntime()"
   ]
  },
  {
   "cell_type": "markdown",
   "metadata": {},
   "source": [
    "# 1. Load data"
   ]
  },
  {
   "cell_type": "code",
   "execution_count": 3,
   "metadata": {},
   "outputs": [
    {
     "name": "stdout",
     "output_type": "stream",
     "text": [
      "2020-03-01 23:00:45\n",
      "-------------------\n"
     ]
    }
   ],
   "source": [
    "basePath = \"./kalapa/\"\n",
    "trainPath = basePath + \"train.csv\"\n",
    "testPath = basePath + \"test.csv\"\n",
    "colDesc = basePath + \"column_description.csv\"\n",
    "sampleSubmit = basePath + \"sample_submission.csv\"\n",
    "\n",
    "cleanedTrain = basePath + \"cleanedTrain.pickle\"\n",
    "cleanedTest = basePath + \"cleanedTest.pickle\"\n",
    "nb01 = basePath + \"nb01.pickle\"\n",
    "nb02 = basePath + \"nb02.pickle\"\n",
    "nb03 = basePath + \"nb03.pickle\"\n",
    "printRuntime()"
   ]
  },
  {
   "cell_type": "code",
   "execution_count": 4,
   "metadata": {},
   "outputs": [
    {
     "name": "stdout",
     "output_type": "stream",
     "text": [
      "2020-03-01 23:00:45\n",
      "-------------------\n"
     ]
    }
   ],
   "source": [
    "def avgAge(row):\n",
    "    a = row[\"age_source1\"]\n",
    "    b = row[\"age_source2\"]\n",
    "    if np.isnan(a) and np.isnan(b):\n",
    "        return np.nan\n",
    "    elif np.isnan(a):\n",
    "        return b\n",
    "    elif np.isnan(b):\n",
    "        return a\n",
    "    else:\n",
    "        return (a+b)/2.0\n",
    "    \n",
    "def diffAge(row):\n",
    "    a = row[\"age_source1\"]\n",
    "    b = row[\"age_source2\"]\n",
    "    if np.isnan(a) and np.isnan(b):\n",
    "        return np.nan\n",
    "    elif np.isnan(a):\n",
    "        return -b\n",
    "    elif np.isnan(b):\n",
    "        return a\n",
    "    else:\n",
    "        return (a+b)/2.0\n",
    "    \n",
    "def groupAge(age):\n",
    "    # 18-23; 23-35; 35-50; 50+\n",
    "    result = \"\"\n",
    "    if np.isnan(age):\n",
    "        result = \"AGE_NONE\"\n",
    "    elif age <= 18:\n",
    "        result = \"AGE_0\"\n",
    "    elif age <=23:\n",
    "        result = \"AGE_1\"\n",
    "    elif age <=35:\n",
    "        result = \"AGE_2\"\n",
    "    elif age <= 50:\n",
    "        result = \"AGE_3\"\n",
    "    else:\n",
    "        result = \"AGE_4\"\n",
    "    return result\n",
    "printRuntime()"
   ]
  },
  {
   "cell_type": "markdown",
   "metadata": {},
   "source": [
    "# Train"
   ]
  },
  {
   "cell_type": "code",
   "execution_count": 5,
   "metadata": {},
   "outputs": [
    {
     "name": "stdout",
     "output_type": "stream",
     "text": [
      "2020-03-01 23:00:46\n",
      "-------------------\n"
     ]
    },
    {
     "name": "stderr",
     "output_type": "stream",
     "text": [
      "/Users/newuser/anaconda3/lib/python3.6/site-packages/IPython/core/interactiveshell.py:2728: DtypeWarning: Columns (51) have mixed types. Specify dtype option on import or set low_memory=False.\n",
      "  interactivity=interactivity, compiler=compiler, result=result)\n"
     ]
    }
   ],
   "source": [
    "pdfTrainRaw = pd.read_csv(trainPath)\n",
    "printRuntime()"
   ]
  },
  {
   "cell_type": "code",
   "execution_count": 6,
   "metadata": {},
   "outputs": [
    {
     "name": "stdout",
     "output_type": "stream",
     "text": [
      "(30000, 64)\n",
      "2020-03-01 23:00:46\n",
      "-------------------\n"
     ]
    }
   ],
   "source": [
    "cond = (\n",
    "    ~((pdfTrainRaw[\"age_source1\"]<18) | (pdfTrainRaw[\"age_source2\"]<18)) # Filter out age < 18, keep NaN\n",
    ")\n",
    "# pdfTrain = pdfTrainRaw[cond].copy()\n",
    "pdfTrain = pdfTrainRaw.copy()\n",
    "pdfTrain[\"maCv\"] = pdfTrain[\"maCv\"].apply(lambda x: str(x).lower())\n",
    "pdfTrain[\"province\"] = pdfTrain[\"province\"].apply(lambda x: str(x).lower())\n",
    "pdfTrain[\"district\"] = pdfTrain[\"district\"].apply(lambda x: str(x).lower())\n",
    "print(pdfTrain.shape)\n",
    "printRuntime()"
   ]
  },
  {
   "cell_type": "code",
   "execution_count": 7,
   "metadata": {},
   "outputs": [],
   "source": [
    "lsMetaCol = [\"id\", \"label\", \"province\", \"district\", \"age_source1\", \"age_source2\", \"maCv\"]"
   ]
  },
  {
   "cell_type": "markdown",
   "metadata": {},
   "source": [
    "# Test"
   ]
  },
  {
   "cell_type": "code",
   "execution_count": 8,
   "metadata": {},
   "outputs": [
    {
     "name": "stdout",
     "output_type": "stream",
     "text": [
      "2020-03-01 23:00:47\n",
      "-------------------\n"
     ]
    },
    {
     "name": "stderr",
     "output_type": "stream",
     "text": [
      "/Users/newuser/anaconda3/lib/python3.6/site-packages/IPython/core/interactiveshell.py:2728: DtypeWarning: Columns (50) have mixed types. Specify dtype option on import or set low_memory=False.\n",
      "  interactivity=interactivity, compiler=compiler, result=result)\n"
     ]
    }
   ],
   "source": [
    "pdfTestRaw = pd.read_csv(testPath)\n",
    "printRuntime()"
   ]
  },
  {
   "cell_type": "code",
   "execution_count": 9,
   "metadata": {},
   "outputs": [
    {
     "name": "stdout",
     "output_type": "stream",
     "text": [
      "(20000, 63)\n",
      "2020-03-01 23:00:47\n",
      "-------------------\n"
     ]
    }
   ],
   "source": [
    "cond = (\n",
    "    ~((pdfTestRaw[\"age_source1\"]<18) | (pdfTestRaw[\"age_source2\"]<18)) # Filter out age < 18, keep NaN\n",
    ")\n",
    "# pdfTest = pdfTestRaw[cond].copy()\n",
    "pdfTest = pdfTestRaw.copy()\n",
    "pdfTest[\"maCv\"] = pdfTest[\"maCv\"].apply(lambda x: str(x).lower())\n",
    "pdfTest[\"province\"] = pdfTest[\"province\"].apply(lambda x: str(x).lower())\n",
    "pdfTest[\"district\"] = pdfTest[\"district\"].apply(lambda x: str(x).lower())\n",
    "print(pdfTest.shape)\n",
    "printRuntime()"
   ]
  },
  {
   "cell_type": "markdown",
   "metadata": {},
   "source": [
    "### Clean data"
   ]
  },
  {
   "cell_type": "raw",
   "metadata": {},
   "source": [
    "cat non-ordinal fields\n",
    "FIELD_7 (vector), FIELD_9 35, FIELD_10 3, FIELD_12 5, FIELD_13 227, FIELD_17 8, FIELD_24 4, FIELD_39 46, FIELD_43 7\n",
    "one-hot: 10, 12, 17, 24, 43\n",
    "Duplicated province \"Tỉnh Vĩnh Phúc\" and \"Tỉnh Vĩnh phúc\"\n",
    "# TODO:\n",
    "embedding: 7, 9, 13, 39 TO BE DONE"
   ]
  },
  {
   "cell_type": "raw",
   "metadata": {},
   "source": [
    "# Because nan is float64, convert columns to float64\n",
    "FIELD_1: [1 0]\n",
    "FIELD_2: [ 1.  0. nan] 1. ->1, 0. ->0\n",
    "FIELD_3: float64 multiple values\n",
    "FIELD_4: [ 0.  1. nan  2.  3.  4.  5.  6.  8.  7. 12.] 0->8, 12, nan\n",
    "FIELD_5: [ 0.  1.  4.  2. nan  6.  3.  5.  7.  8. 11.  9. 12. 14. 10. 13.] 0->14, nan\n",
    "FIELD_6: [ 0.  1. nan  2.  3.  4.] -> 1-5 scale (with NULL)\n",
    "FIELD_7: TO BE EMBEDDED\n",
    "FIELD_8: [nan 'MALE' 'FEMALE'] Gender (with NULL)\n",
    "FIELD_9: TO BE EMBEDDED\n",
    "FIELD_10: [nan 'T1' 'GH'] object non-ordinal\n",
    "FIELD_11: numeric string: 'None'->nan, string -> int64\n",
    "FIELD_12: [nan 'None' '0' '1' 'HT' 'TN'] (nan, 'HT', 'TN') -> 'None' '0', '1', ('HT', 'TN', ...) -> 'None' \n",
    "FIELD_13: object not detected -> TO BE EMBEDDED\n",
    "FIELD_14: [0 1]\n",
    "FIELD_15: [0 1]\n",
    "FIELD_16: 1-5 scale (with NULL)\n",
    "FIELD_17: [nan 'G8' 'None' 'G9' 'G7' 'GX' 'G3' 'G4' 'G2'] 'None' => nan  object non-ordinal\n",
    "FIELD_18: [nan True False]\n",
    "FIELD_19: [nan True False]\n",
    "FIELD_20: [nan True False]\n",
    "FIELD_21: [nan  1.  2.  0.] -> 0, 1, 2 (int64)\n",
    "FIELD_22: float64 multiple values\n",
    "FIELD_23: [nan, True] -> bool\n",
    "FIELD_24: [nan 'None' 'K3' 'K1' 'K2'] 'None' => nan  object non-ordinal\n",
    "FIELD_25: [nan, 'FALSE', 'TRUE'] 'TRUE' -> True, 'FALSE' -> False\n",
    "FIELD_26: [nan True False]\n",
    "FIELD_27: [nan True False]\n",
    "FIELD_28: [nan True False]\n",
    "FIELD_29: [nan, 'None', 'FALSE', 'TRUE'] 'None' => nan, 'TRUE' -> True, 'FALSE' -> False\n",
    "FIELD_30: [nan, 'None', 'FALSE', 'TRUE'] 'None' => nan, 'TRUE' -> True, 'FALSE' -> False\n",
    "FIELD_31: [nan 'None' 'FALSE'] 'None' -> nan, 'FALSE' -> False\n",
    "FIELD_32: int64 but 0-1 ~ bool\n",
    "FIELD_33: int64 but 0-1 ~ bool\n",
    "FIELD_34: int64 but 0-1 ~ bool\n",
    "FIELD_35: [nan 'Zero' 'Four' 'One' 'Three' 'Two'] => 1-5 scale (with NULL)\n",
    "FIELD_36: [nan 'FALSE' 'TRUE' 'None'] 'None' => nan\n",
    "FIELD_37: [nan True False 'TRUE' 'FALSE' 'None'] 'None' => nan, 'TRUE' -> True, 'FALSE' -> False\n",
    "FIELD_38: [nan False True]\n",
    "FIELD_39: object not detected -> TO BE EMBEDDED\n",
    "FIELD_40: [nan 'None' '1' '2' '02 05 08 11' '3' '6' '4' '08 02' '05 08 11 02'] nan->'None'->nan, ('08 02', '05 08 11 02') -> '02 05 08 11'\n",
    "FIELD_41: [nan 'V' 'I' 'III' 'II' 'IV'] => 1-5 scale (with NULL)\n",
    "FIELD_42: [nan 'Zezo' 'One' 'None'] => 'None' -> nan, 'Zero' -> 0, 'One' -> 1\n",
    "FIELD_43: [nan 'None' 'B' 'D' 'C' 'A' '5' '0']\n",
    "FIELD_44: [nan 'One' 'Two' 'None'] => 'None' -> nan, 'One'->1, 'Two'->2\n",
    "FIELD_45: [nan '1' '2' 'None' 1.0 2.0] => 'None' -> nan, '1'->1, '2'->2, 1.0->1, 2.0->2\n",
    "FIELD_46: [0 1]\n",
    "FIELD_47: [True False]\n",
    "FIELD_48: [True False]\n",
    "FIELD_49: [True False]"
   ]
  },
  {
   "cell_type": "raw",
   "metadata": {},
   "source": [
    "25, 29, 30, 31, 36, 37, : 'TRUE' -> True, 'FALSE' -> False !DONE\n",
    "35: => \"Zero\"-\"Four\" -> 1-5 scale (with NULL) !DONE\n",
    "41: \"I\"-\"V\" -> 1-5 scale (with NULL) !DONE\n",
    "42, 44: \"Zezo\", \"One\", \"Two\" !DONE\n",
    "45: \"1\" 1.0 -> 1; \"2\" 2.0 ->2 !DONE"
   ]
  },
  {
   "cell_type": "markdown",
   "metadata": {},
   "source": [
    "### Break down maCv to (maCv[:2] + maCv[2:])"
   ]
  },
  {
   "cell_type": "code",
   "execution_count": 11,
   "metadata": {},
   "outputs": [
    {
     "name": "stdout",
     "output_type": "stream",
     "text": [
      "('nhân viên', 'phòng thí nghiệm')\n",
      "('nhân viên', 'bảo trì')\n",
      "('công nhân', 'ủi')\n",
      "('cấp dưỡng', 'none')\n",
      "('trưởng dây chuyền', 'phòng sản xuất')\n",
      "('phó trưởng phòng', 'none')\n",
      "2020-03-01 23:00:54\n",
      "-------------------\n"
     ]
    }
   ],
   "source": [
    "def formatJob(iStr):\n",
    "    if \"none\" == iStr or \"nan\" == iStr:\n",
    "        return \"none\"\n",
    "    # Replace all digit\n",
    "    iStr = re.sub(\"\\d\", \"\", iStr)\n",
    "    # Replace cn to cong nhan\n",
    "    iStr = re.sub(r\"^(cnhân|cn|coõng nhaõn)\", \"công nhân \", iStr)\n",
    "    # Replace nv/nv. to nhan vien\n",
    "    iStr = re.sub(r\"(- nv|nv.|nv)\", \"nhân viên \", iStr)\n",
    "    # Replace p. to phó\n",
    "    iStr = re.sub(r\"(^p\\.)\", \"phó \", iStr)\n",
    "    \n",
    "    iStr = (iStr.replace(\"-\", \" \")\n",
    "            .replace(\"cty\", \"công ty\")\n",
    "            .replace(\".\", \" \")\n",
    "            .replace(\"(\", \" \").\n",
    "            replace(\")\", \" \")\n",
    "           )\n",
    "    return iStr\n",
    "\n",
    "def splitJobType(iStr):\n",
    "    if \"none\" == iStr or \"nan\" == iStr:\n",
    "        return \"none\", \"none\"\n",
    "    iStr = formatJob(iStr)\n",
    "    \n",
    "    lsWord = iStr.split()\n",
    "    if len(lsWord) == 0:\n",
    "        return \"none\", \"none\"\n",
    "    splitIdx = 2\n",
    "    if \"phó chánh\" in iStr or (\"phó trưởng\" in iStr \n",
    "                               and \"phó trưởng phòng\" not in iStr\n",
    "                               and \"phó trưởng ban\" not in iStr):\n",
    "        splitIdx = 4\n",
    "    elif (\"phó phòng\" not in iStr) and (lsWord[0] == \"phó\" or lsWord[0] == \"trưởng\"):\n",
    "        splitIdx = 3\n",
    "    \n",
    "    jobCat = \" \".join(lsWord[:splitIdx])\n",
    "    jobDesc = \"none\"\n",
    "    if len(lsWord) > splitIdx:\n",
    "        jobDesc = \" \".join(lsWord[splitIdx:])\n",
    "    return jobCat, jobDesc\n",
    "\n",
    "# Test\n",
    "print(splitJobType(\"nhân viên phòng thí nghiệm\"))\n",
    "print(splitJobType(\"nhân viên bảo trì\"))\n",
    "print(splitJobType(\"cn ủi\"))\n",
    "print(splitJobType(\"9782cấp dưỡng\"))\n",
    "print(splitJobType(\"trưởng dây chuyền phòng sản xuất\"))\n",
    "print(splitJobType(\"p. trưởng phòng\"))\n",
    "printRuntime()"
   ]
  },
  {
   "cell_type": "code",
   "execution_count": 12,
   "metadata": {},
   "outputs": [
    {
     "name": "stdout",
     "output_type": "stream",
     "text": [
      "CPU times: user 2 µs, sys: 0 ns, total: 2 µs\n",
      "Wall time: 5.01 µs\n",
      "2020-03-01 23:00:55\n",
      "-------------------\n"
     ]
    }
   ],
   "source": [
    "# pdfTrain[\"jobCat\"], pdfTrain[\"jobDesc\"] = pdfTrain[\"maCv\"].apply(lambda x: splitJobType(x))\n",
    "%time\n",
    "pdfTrain[\"maCv\"] = pdfTrain[\"maCv\"].apply(formatJob)\n",
    "pdfTrain[\"maCv_vector\"] = pdfTrain[\"maCv\"].apply(lambda x: x.split())\n",
    "pdfTrain[\"jobCat\"], pdfTrain[\"jobDesc\"] = zip(*pdfTrain[\"maCv\"].apply(splitJobType))\n",
    "printRuntime()"
   ]
  },
  {
   "cell_type": "code",
   "execution_count": 13,
   "metadata": {},
   "outputs": [
    {
     "name": "stdout",
     "output_type": "stream",
     "text": [
      "CPU times: user 1e+03 ns, sys: 0 ns, total: 1e+03 ns\n",
      "Wall time: 4.77 µs\n",
      "2020-03-01 23:00:55\n",
      "-------------------\n"
     ]
    }
   ],
   "source": [
    "# pdfTest[\"jobCat\"], pdfTest[\"jobDesc\"] = pdfTest[\"maCv\"].apply(lambda x: splitJobType(x))\n",
    "%time\n",
    "pdfTest[\"maCv\"] = pdfTest[\"maCv\"].apply(formatJob)\n",
    "pdfTest[\"maCv_vector\"] = pdfTest[\"maCv\"].apply(lambda x: x.split())\n",
    "pdfTest[\"jobCat\"], pdfTest[\"jobDesc\"] = zip(*pdfTest[\"maCv\"].apply(splitJobType))\n",
    "printRuntime()"
   ]
  },
  {
   "cell_type": "code",
   "execution_count": 14,
   "metadata": {},
   "outputs": [],
   "source": [
    "pdfTrain = (pdfTrain\n",
    "      .replace(np.nan, \"None\") # 'None' -> nan\n",
    "      .replace(\"TRUE\", True) # 'TRUE' -> True\n",
    "      .replace(\"FALSE\", False) # 'FALSE' -> False\n",
    "     )"
   ]
  },
  {
   "cell_type": "code",
   "execution_count": 15,
   "metadata": {},
   "outputs": [],
   "source": [
    "pdfTest = (pdfTest\n",
    "      .replace(np.nan, \"None\") # 'None' -> nan\n",
    "      .replace(\"TRUE\", True) # 'TRUE' -> True\n",
    "      .replace(\"FALSE\", False) # 'FALSE' -> False\n",
    "     )"
   ]
  },
  {
   "cell_type": "code",
   "execution_count": 16,
   "metadata": {},
   "outputs": [],
   "source": [
    "pdfTrainBk = pdfTrain.copy()\n",
    "\n",
    "pdfTestBk = pdfTest.copy()"
   ]
  },
  {
   "cell_type": "markdown",
   "metadata": {},
   "source": [
    "#### Replace ilformed values by columns to safely remove"
   ]
  },
  {
   "cell_type": "code",
   "execution_count": 17,
   "metadata": {},
   "outputs": [],
   "source": [
    "for dfTmp in [pdfTrain, pdfTest]:\n",
    "    # 6\n",
    "    dfTmp.loc[dfTmp[\"FIELD_6\"]==\"None\", \"FIELD_6\"] = np.nan\n",
    "    # dfTmp[\"FIELD_6\"] = dfTmp[\"FIELD_6\"] + 1\n",
    "    \n",
    "    # 12\n",
    "    dfTmp.loc[~dfTmp[\"FIELD_12\"].isin([\"None\", \"0\", \"1\"]), \"FIELD_12\"] = \"None\"\n",
    "\n",
    "    # 35 'Four' 'One' 'Three' 'Two'\n",
    "    dfTmp.loc[dfTmp[\"FIELD_35\"]==\"Zero\", \"FIELD_35\"] = 1\n",
    "    dfTmp.loc[dfTmp[\"FIELD_35\"]==\"One\", \"FIELD_35\"] = 2\n",
    "    dfTmp.loc[dfTmp[\"FIELD_35\"]==\"Two\", \"FIELD_35\"] = 3\n",
    "    dfTmp.loc[dfTmp[\"FIELD_35\"]==\"Three\", \"FIELD_35\"] = 4\n",
    "    dfTmp.loc[dfTmp[\"FIELD_35\"]==\"Four\", \"FIELD_35\"] = 5\n",
    "    \n",
    "    # 40 \n",
    "    dfTmp.loc[dfTmp[\"FIELD_40\"].isin([\"05 08 11 02\", \"08 02\"]), \"FIELD_40\"] = \"02 05 08 11\"\n",
    "    \n",
    "    # 41 I II III IV V\n",
    "    dfTmp.loc[dfTmp[\"FIELD_41\"]==\"I\", \"FIELD_41\"] = 1\n",
    "    dfTmp.loc[dfTmp[\"FIELD_41\"]==\"II\", \"FIELD_41\"] = 2\n",
    "    dfTmp.loc[dfTmp[\"FIELD_41\"]==\"III\", \"FIELD_41\"] = 3\n",
    "    dfTmp.loc[dfTmp[\"FIELD_41\"]==\"IV\", \"FIELD_41\"] = 4\n",
    "    dfTmp.loc[dfTmp[\"FIELD_41\"]==\"V\", \"FIELD_41\"] = 5\n",
    "\n",
    "    # 42\n",
    "    dfTmp.loc[dfTmp[\"FIELD_42\"]==\"Zezo\", \"FIELD_42\"] = 0\n",
    "    dfTmp.loc[dfTmp[\"FIELD_42\"]==\"One\", \"FIELD_42\"] = 1\n",
    "\n",
    "    # 44\n",
    "    dfTmp.loc[dfTmp[\"FIELD_44\"]==\"One\", \"FIELD_44\"] = 1\n",
    "    dfTmp.loc[dfTmp[\"FIELD_44\"]==\"Two\", \"FIELD_44\"] = 2\n",
    "\n",
    "    # 45\n",
    "    dfTmp.loc[(dfTmp[\"FIELD_45\"]==\"1\")|(dfTmp[\"FIELD_45\"]==1.0), \"FIELD_45\"] = 1\n",
    "    dfTmp.loc[(dfTmp[\"FIELD_45\"]==\"2\")|(dfTmp[\"FIELD_45\"]==2.0), \"FIELD_45\"] = 2"
   ]
  },
  {
   "cell_type": "markdown",
   "metadata": {},
   "source": [
    "### One-hot 8 (gender), 10, 12, 17, 24, 40, 43"
   ]
  },
  {
   "cell_type": "code",
   "execution_count": 18,
   "metadata": {},
   "outputs": [],
   "source": [
    "pdfTrainBk1 = pdfTrain.copy()\n",
    "pdfTestBk1 = pdfTest.copy()"
   ]
  },
  {
   "cell_type": "raw",
   "metadata": {},
   "source": [
    "# reload data\n",
    "pdfTrain = pdfTrainBk1.copy()\n",
    "pdfTest = pdfTestBk1.copy()"
   ]
  },
  {
   "cell_type": "code",
   "execution_count": 19,
   "metadata": {},
   "outputs": [],
   "source": [
    "lsCol = [8, 10, 12, 17, 24, 40, 43]"
   ]
  },
  {
   "cell_type": "code",
   "execution_count": 20,
   "metadata": {},
   "outputs": [
    {
     "name": "stdout",
     "output_type": "stream",
     "text": [
      "FIELD_8\n",
      "FIELD_10\n",
      "FIELD_12\n",
      "FIELD_17\n",
      "FIELD_24\n",
      "FIELD_40\n",
      "FIELD_43\n"
     ]
    }
   ],
   "source": [
    "# Get one hot encoding of columns for pdfTrain pdfTest\n",
    "for d in lsCol:\n",
    "    cName = \"FIELD_%d\" % d\n",
    "    print(cName)\n",
    "    one_hot = pd.get_dummies(pdfTrain[cName].replace(np.nan, \"None\"))\n",
    "    renameCol = {}\n",
    "    for c in one_hot.columns:\n",
    "        renameCol[c] = \"%s_%s\" % (cName, c)\n",
    "    # pprint(renameCol)\n",
    "    one_hot = one_hot.rename(columns=renameCol)\n",
    "#     pdfTrain = pdfTrain.drop(cName, axis = 1)\n",
    "    # Join the encoded pdfTrain\n",
    "    pdfTrain = pdfTrain.join(one_hot)"
   ]
  },
  {
   "cell_type": "code",
   "execution_count": 21,
   "metadata": {},
   "outputs": [
    {
     "name": "stdout",
     "output_type": "stream",
     "text": [
      "FIELD_8\n",
      "FIELD_10\n",
      "FIELD_12\n",
      "FIELD_17\n",
      "FIELD_24\n",
      "FIELD_40\n",
      "FIELD_43\n"
     ]
    }
   ],
   "source": [
    "for d in lsCol:\n",
    "    cName = \"FIELD_%d\" % d\n",
    "    print(cName)\n",
    "    one_hot = pd.get_dummies(pdfTest[cName].replace(np.nan, \"None\"))\n",
    "    renameCol = {}\n",
    "    for c in one_hot.columns:\n",
    "        renameCol[c] = \"%s_%s\" % (cName, c)\n",
    "    # pprint(renameCol)\n",
    "    one_hot = one_hot.rename(columns=renameCol)\n",
    "#     pdfTest = pdfTest.drop(cName, axis = 1)\n",
    "    # Join the encoded pdfTest\n",
    "    pdfTest = pdfTest.join(one_hot)"
   ]
  },
  {
   "cell_type": "raw",
   "metadata": {},
   "source": [
    "# Get target/mean encoding of columns B\n",
    "print(\"Target encoding for train\")\n",
    "meanEcd = {}\n",
    "for d in lsCol:\n",
    "    cName = \"FIELD_%d\" % d\n",
    "    print(cName)\n",
    "    meanEcd[cName] = pdfTrain.groupby([cName], as_index=False).agg({\"label\":[\"mean\", \"std\"]})\n",
    "    meanEcd[cName].columns = [\"_\".join(x) for x in meanEcd[cName].columns.ravel()]\n",
    "    meanEcd[cName] = meanEcd[cName].rename(columns={cName+\"_\": cName, \n",
    "                                      \"label_mean\": cName+\"_ecdmean\", \n",
    "                                      \"label_std\": cName+\"_ecdstd\"})\n",
    "#     display(meanEcd[cName])\n",
    "    pdfTrain = pd.merge(pdfTrain, meanEcd[cName], on=cName, how=\"inner\")\n",
    "#     display(pdfTrain[[cName, \"label\", \"id\", cName+\"_ecdmean\", cName+\"_ecdstd\"]].iloc[:5])\n",
    "printRuntime()\n",
    "    "
   ]
  },
  {
   "cell_type": "raw",
   "metadata": {},
   "source": [
    "# Get target/mean encoding of columns B in pdfTest\n",
    "print(\"Target encoding for test using train data\")\n",
    "for d in lsCol:\n",
    "    cName = \"FIELD_%d\" % d\n",
    "    print(cName)\n",
    "    # display(meanEcd[cName])\n",
    "    pdfTest = pd.merge(pdfTest, meanEcd[cName], on=cName, how=\"inner\")\n",
    "    # display(pdfTest[[cName, \"label\", \"id\", cName+\"_ecdmean\", cName+\"_ecdstd\"]].iloc[:5])\n",
    "printRuntime()"
   ]
  },
  {
   "cell_type": "raw",
   "metadata": {},
   "source": [
    "# Get target/mean encoding of columns B in pdfValidateX\n",
    "print(\"Target encoding for ValidateX using train data\")\n",
    "for d in lsCol:\n",
    "    cName = \"FIELD_%d\" % d\n",
    "    print(cName)\n",
    "    # display(meanEcd[cName])\n",
    "    pdfValidateX = pd.merge(pdfValidateX, meanEcd[cName], on=cName, how=\"inner\")\n",
    "    # display(pdfValidateX[[cName, \"label\", \"id\", cName+\"_ecdmean\", cName+\"_ecdstd\"]].iloc[:5])\n",
    "printRuntime()"
   ]
  },
  {
   "cell_type": "code",
   "execution_count": null,
   "metadata": {},
   "outputs": [],
   "source": []
  },
  {
   "cell_type": "code",
   "execution_count": 22,
   "metadata": {},
   "outputs": [
    {
     "name": "stdout",
     "output_type": "stream",
     "text": [
      "FIELD_17\n",
      "Add missing columns for test\n",
      "FIELD_17_G2\n",
      "FIELD_40\n",
      "Add missing columns for test\n",
      "FIELD_40_4\n"
     ]
    }
   ],
   "source": [
    "for d in lsCol:\n",
    "    cName = \"FIELD_%d\" % d\n",
    "    lsMissCol = [c for c in pdfTrain.columns if cName in c and c not in pdfTest.columns]\n",
    "    for c in lsMissCol:\n",
    "        print(cName)\n",
    "        print(\"Add missing columns for test\")        \n",
    "        print(c)\n",
    "        pdfTest[c] = 0\n",
    "\n",
    "    lsRedCol = [c for c in pdfTest.columns if cName in c and c not in pdfTrain.columns]\n",
    "    for c in lsRedCol:\n",
    "        print(\"Remove redundant columns for test\")\n",
    "        print(c)\n",
    "        pdfTest = pdfTest.drop(c, axis=1)"
   ]
  },
  {
   "cell_type": "code",
   "execution_count": 23,
   "metadata": {},
   "outputs": [
    {
     "name": "stdout",
     "output_type": "stream",
     "text": [
      "Index(['id', 'label', 'province', 'district', 'age_source1', 'age_source2',\n",
      "       'maCv', 'FIELD_1', 'FIELD_2', 'FIELD_3',\n",
      "       ...\n",
      "       'FIELD_40_4', 'FIELD_40_6', 'FIELD_40_None', 'FIELD_43_0', 'FIELD_43_5',\n",
      "       'FIELD_43_A', 'FIELD_43_B', 'FIELD_43_C', 'FIELD_43_D',\n",
      "       'FIELD_43_None'],\n",
      "      dtype='object', length=102)\n"
     ]
    }
   ],
   "source": [
    "print(pdfTrain.columns)"
   ]
  },
  {
   "cell_type": "code",
   "execution_count": 146,
   "metadata": {},
   "outputs": [
    {
     "data": {
      "text/plain": [
       "True"
      ]
     },
     "execution_count": 146,
     "metadata": {},
     "output_type": "execute_result"
    }
   ],
   "source": [
    "\"FIELD_43\" in pdfTrain.columns"
   ]
  },
  {
   "cell_type": "code",
   "execution_count": 147,
   "metadata": {},
   "outputs": [
    {
     "data": {
      "text/plain": [
       "True"
      ]
     },
     "execution_count": 147,
     "metadata": {},
     "output_type": "execute_result"
    }
   ],
   "source": [
    "\"FIELD_43\" in pdfTest.columns"
   ]
  },
  {
   "cell_type": "raw",
   "metadata": {},
   "source": [
    "# Drop categorical columns\n",
    "for d in lsCol:\n",
    "    cName = \"FIELD_%d\"%d\n",
    "    print(\"Drop\", cName)\n",
    "    pdfTrain = pdfTrain.drop(cName, axis = 1)\n",
    "    pdfTest = pdfTest.drop(cName, axis = 1)\n",
    "printRuntime()"
   ]
  },
  {
   "cell_type": "markdown",
   "metadata": {},
   "source": [
    "### Add FIELD_7_MOST, FIELD_7_LEN, FIELD_9_APPEAR, FIELD_9_INDEX"
   ]
  },
  {
   "cell_type": "code",
   "execution_count": 24,
   "metadata": {},
   "outputs": [
    {
     "name": "stdout",
     "output_type": "stream",
     "text": [
      "[3]\n",
      "['GD']\n",
      "2020-03-01 23:01:16\n",
      "-------------------\n"
     ]
    }
   ],
   "source": [
    "def mostFrequent(List): \n",
    "    occurenceCount = Counter(List) \n",
    "    lsCount = occurenceCount.most_common()\n",
    "    maxAppear = lsCount[0][1]\n",
    "    # print(lsCount)\n",
    "    # print(maxAppear)\n",
    "    lsVal = [v[0] for v in lsCount if v[1] == maxAppear]\n",
    "    # Return list of most common items (if equally appeared)\n",
    "    return lsVal\n",
    "\n",
    "def mostAppear(iStr):\n",
    "    if iStr == \"[]\" or iStr is np.nan:\n",
    "        return \"na\"\n",
    "    lsChar = iStr.replace(\"'\", \"\").replace(\"[\", \"\").replace(\"]\", \"\").replace(\" \", \"\").split(\",\")\n",
    "    return mostFrequent(lsChar)\n",
    "\n",
    "# Test\n",
    "print(mostFrequent([2, 2, 3, 3, 3, 4, 5, 6])) # Expect [3]\n",
    "print(mostAppear(\"['GD', 'GD', 'TE']\")) # Expect [\"GD\"]\n",
    "\n",
    "def index_7_9(row):\n",
    "    \"\"\"\n",
    "    Return: (is_appear, index)\n",
    "    \"\"\"\n",
    "    lsMostAppear7 = row[\"FIELD_7_MOST\"]\n",
    "    val9 = row[\"FIELD_9\"]\n",
    "    if val9 == \"[]\" or val9 == \"na\":\n",
    "        return -2, -1\n",
    "    elif lsMostAppear7 == \"na\":\n",
    "        return -1, -1\n",
    "    elif val9 in lsMostAppear7:\n",
    "        return 1, lsMostAppear7.index(val9)\n",
    "    else:\n",
    "        # lsMostAppear7 is not null but 9 doesn't appear\n",
    "        return 0, -1\n",
    "    \n",
    "printRuntime()"
   ]
  },
  {
   "cell_type": "code",
   "execution_count": 25,
   "metadata": {},
   "outputs": [],
   "source": [
    "# Add col as most appear FIELD_7\n",
    "pdfTrain[\"FIELD_7_MOST\"] = pdfTrain[\"FIELD_7\"].apply(lambda x: mostAppear(x))\n",
    "pdfTrain[\"FIELD_7_LEN\"] = pdfTrain[\"FIELD_7_MOST\"].apply(len)\n",
    "# Add col as 9 appear in 7_MOST\n",
    "pdfTrain[\"FIELD_9_APPEAR\"], pdfTrain[\"FIELD_9_INDEX\"] = zip(*pdfTrain.apply(lambda row: index_7_9(row), axis=1))"
   ]
  },
  {
   "cell_type": "code",
   "execution_count": 26,
   "metadata": {},
   "outputs": [],
   "source": [
    "# Add col as most appear FIELD_7\n",
    "pdfTest[\"FIELD_7_MOST\"] = pdfTest[\"FIELD_7\"].apply(lambda x: mostAppear(x))\n",
    "pdfTest[\"FIELD_7_LEN\"] = pdfTest[\"FIELD_7_MOST\"].apply(len)\n",
    "# Add col as 9 appear in 7_MOST\n",
    "pdfTest[\"FIELD_9_APPEAR\"], pdfTest[\"FIELD_9_INDEX\"] = zip(*pdfTest.apply(lambda row: index_7_9(row), axis=1))"
   ]
  },
  {
   "cell_type": "code",
   "execution_count": 27,
   "metadata": {},
   "outputs": [],
   "source": [
    "pdfTrain = pdfTrain.drop(\"FIELD_7_MOST\", axis = 1)\n",
    "\n",
    "pdfTest = pdfTest.drop(\"FIELD_7_MOST\", axis = 1)"
   ]
  },
  {
   "cell_type": "markdown",
   "metadata": {},
   "source": [
    "### Add avg_age, diff_age, group_age"
   ]
  },
  {
   "cell_type": "code",
   "execution_count": 28,
   "metadata": {},
   "outputs": [],
   "source": [
    "pdfTrain.loc[pdfTrain[\"age_source1\"]==\"None\", \"age_source1\"] = np.nan\n",
    "pdfTrain.loc[pdfTrain[\"age_source2\"]==\"None\", \"age_source2\"] = np.nan"
   ]
  },
  {
   "cell_type": "code",
   "execution_count": 29,
   "metadata": {},
   "outputs": [
    {
     "name": "stdout",
     "output_type": "stream",
     "text": [
      "2020-03-01 23:01:22\n",
      "-------------------\n"
     ]
    }
   ],
   "source": [
    "pdfTrain[\"FIELD_avg_age\"] = pdfTrain.apply(lambda row: avgAge(row), axis=1)\n",
    "pdfTrain[\"FIELD_diff_age\"] = pdfTrain.apply(lambda row: diffAge(row), axis=1)\n",
    "pdfTrain[\"group_age\"] = pdfTrain[\"FIELD_avg_age\"].apply(lambda x: groupAge(x))\n",
    "printRuntime()"
   ]
  },
  {
   "cell_type": "code",
   "execution_count": 30,
   "metadata": {},
   "outputs": [],
   "source": [
    "pdfTest.loc[pdfTest[\"age_source1\"]==\"None\", \"age_source1\"] = np.nan\n",
    "pdfTest.loc[pdfTest[\"age_source2\"]==\"None\", \"age_source2\"] = np.nan"
   ]
  },
  {
   "cell_type": "code",
   "execution_count": 31,
   "metadata": {},
   "outputs": [
    {
     "name": "stdout",
     "output_type": "stream",
     "text": [
      "2020-03-01 23:01:24\n",
      "-------------------\n"
     ]
    }
   ],
   "source": [
    "pdfTest[\"FIELD_avg_age\"] = pdfTest.apply(lambda row: avgAge(row), axis=1)\n",
    "pdfTest[\"FIELD_diff_age\"] = pdfTest.apply(lambda row: diffAge(row), axis=1)\n",
    "pdfTest[\"group_age\"] = pdfTest[\"FIELD_avg_age\"].apply(lambda x: groupAge(x))\n",
    "printRuntime()"
   ]
  },
  {
   "cell_type": "markdown",
   "metadata": {},
   "source": [
    "### One hot group_age"
   ]
  },
  {
   "cell_type": "code",
   "execution_count": 32,
   "metadata": {},
   "outputs": [
    {
     "name": "stdout",
     "output_type": "stream",
     "text": [
      "{'AGE_0': 'FIELD_AGE_0',\n",
      " 'AGE_1': 'FIELD_AGE_1',\n",
      " 'AGE_2': 'FIELD_AGE_2',\n",
      " 'AGE_3': 'FIELD_AGE_3',\n",
      " 'AGE_4': 'FIELD_AGE_4',\n",
      " 'AGE_NONE': 'FIELD_AGE_NONE'}\n",
      "2020-03-01 23:01:24\n",
      "-------------------\n"
     ]
    }
   ],
   "source": [
    "cName = \"group_age\"\n",
    "one_hot = pd.get_dummies(pdfTrain[cName].replace(np.nan, \"None\"))\n",
    "renameCol = {}\n",
    "for c in one_hot.columns:\n",
    "    renameCol[c] = \"FIELD_%s\" % (c)\n",
    "pprint(renameCol)\n",
    "one_hot = one_hot.rename(columns=renameCol)\n",
    "\n",
    "# pdfTrain = pdfTrain.drop(cName, axis = 1)\n",
    "# Join the encoded pdfTrain\n",
    "pdfTrain = pdfTrain.join(one_hot)\n",
    "printRuntime()"
   ]
  },
  {
   "cell_type": "code",
   "execution_count": 33,
   "metadata": {},
   "outputs": [
    {
     "name": "stdout",
     "output_type": "stream",
     "text": [
      "{'AGE_0': 'FIELD_AGE_0',\n",
      " 'AGE_1': 'FIELD_AGE_1',\n",
      " 'AGE_2': 'FIELD_AGE_2',\n",
      " 'AGE_3': 'FIELD_AGE_3',\n",
      " 'AGE_4': 'FIELD_AGE_4',\n",
      " 'AGE_NONE': 'FIELD_AGE_NONE'}\n",
      "2020-03-01 23:01:24\n",
      "-------------------\n"
     ]
    }
   ],
   "source": [
    "cName = \"group_age\"\n",
    "one_hot = pd.get_dummies(pdfTest[cName].replace(np.nan, \"None\"))\n",
    "renameCol = {}\n",
    "for c in one_hot.columns:\n",
    "    renameCol[c] = \"FIELD_%s\" % (c)\n",
    "pprint(renameCol)\n",
    "one_hot = one_hot.rename(columns=renameCol)\n",
    "\n",
    "# pdfTest = pdfTest.drop(cName, axis = 1)\n",
    "# Join the encoded pdfTest\n",
    "pdfTest = pdfTest.join(one_hot)\n",
    "printRuntime()"
   ]
  },
  {
   "cell_type": "code",
   "execution_count": 34,
   "metadata": {},
   "outputs": [],
   "source": [
    "pdfTrainBk2 = pdfTrain.copy()\n",
    "\n",
    "pdfTestBk2 = pdfTest.copy()"
   ]
  },
  {
   "cell_type": "raw",
   "metadata": {},
   "source": [
    "# Reload\n",
    "pdfTrain = pdfTrainBk2.copy()\n",
    "\n",
    "pdfTest = pdfTestBk2.copy()"
   ]
  },
  {
   "cell_type": "raw",
   "metadata": {},
   "source": [
    "# Target encoding group_age\n",
    "print(\"Target encoding for train\")\n",
    "cName = \"group_age\"\n",
    "print(cName)\n",
    "meanEcd[cName] = pdfTrain.groupby([cName], as_index=False).agg({\"label\":[\"mean\", \"std\"]})\n",
    "meanEcd[cName].columns = [\"_\".join(x) for x in meanEcd[cName].columns.ravel()]\n",
    "# Rename => FIELD FT\n",
    "meanEcd[cName] = meanEcd[cName].rename(columns={cName+\"_\": cName, \n",
    "                                  \"label_mean\": \"FIELD_\" + cName + \"_ecdmean\", \n",
    "                                  \"label_std\": \"FIELD_\" + cName + \"_ecdstd\"})\n",
    "display(meanEcd[cName])\n",
    "pdfTrain = pd.merge(pdfTrain, meanEcd[cName], on=cName, how=\"inner\")\n",
    "\n",
    "display(pdfTrain[[cName, \"label\", \"id\", \n",
    "                  \"FIELD_\" + cName+\"_ecdmean\", \n",
    "                  \"FIELD_\" + cName+\"_ecdstd\"]].iloc[:5])\n",
    "\n",
    "print(\"Target encoding for test using train data\")\n",
    "print(cName)\n",
    "pdfTest = pd.merge(pdfTest, meanEcd[cName], on=cName, how=\"inner\")\n",
    "\n",
    "display(pdfTest[[cName, \"id\", \n",
    "                 \"FIELD_\" + cName+\"_ecdmean\", \n",
    "                 \"FIELD_\" + cName+\"_ecdstd\"]].iloc[:5])\n",
    "\n",
    "printRuntime()"
   ]
  },
  {
   "cell_type": "markdown",
   "metadata": {},
   "source": [
    "### Add lv3_loc"
   ]
  },
  {
   "cell_type": "code",
   "execution_count": 35,
   "metadata": {},
   "outputs": [
    {
     "name": "stdout",
     "output_type": "stream",
     "text": [
      "65 766\n",
      "2020-03-01 23:01:30\n",
      "-------------------\n"
     ]
    }
   ],
   "source": [
    "pdfTrain[\"lv3_loc\"] = \"[\" + pdfTrain[\"province\"] + \"]_[\" + pdfTrain[\"district\"] + \"]\"\n",
    "lsProvince = pdfTrain[\"province\"].unique()\n",
    "lsLoc = pdfTrain[\"lv3_loc\"].unique()\n",
    "print(len(lsProvince), len(lsLoc))\n",
    "printRuntime()"
   ]
  },
  {
   "cell_type": "code",
   "execution_count": 36,
   "metadata": {},
   "outputs": [
    {
     "name": "stdout",
     "output_type": "stream",
     "text": [
      "65 724\n",
      "2020-03-01 23:01:31\n",
      "-------------------\n"
     ]
    }
   ],
   "source": [
    "pdfTest[\"lv3_loc\"] = \"[\" + pdfTest[\"province\"] + \"]_[\" + pdfTest[\"district\"] + \"]\"\n",
    "lsProvince = pdfTest[\"province\"].unique()\n",
    "lsLoc = pdfTest[\"lv3_loc\"].unique()\n",
    "print(len(lsProvince), len(lsLoc))\n",
    "printRuntime()"
   ]
  },
  {
   "cell_type": "markdown",
   "metadata": {},
   "source": [
    "### Convert data types"
   ]
  },
  {
   "cell_type": "code",
   "execution_count": 37,
   "metadata": {},
   "outputs": [],
   "source": [
    "lsExtraFt = ([\"FIELD_7_LEN\", \"FIELD_9_APPEAR\", \"FIELD_9_INDEX\"]  + [\"avg_age\", \"diff_age\"]\n",
    "             )"
   ]
  },
  {
   "cell_type": "code",
   "execution_count": 38,
   "metadata": {},
   "outputs": [
    {
     "name": "stdout",
     "output_type": "stream",
     "text": [
      "2020-03-01 23:01:35\n",
      "-------------------\n"
     ]
    }
   ],
   "source": [
    "lsFieldFt = ([c for c in pdfTrain.columns \n",
    "              if \"FIELD\" in c \n",
    "              and c not in [\"FIELD_%d\"%d for d in [7, 9, 13, 39]]] \n",
    "#              + lsExtraFt\n",
    "            )\n",
    "# pprint(lsFieldFt)\n",
    "printRuntime()"
   ]
  },
  {
   "cell_type": "code",
   "execution_count": 39,
   "metadata": {},
   "outputs": [
    {
     "name": "stdout",
     "output_type": "stream",
     "text": [
      "True\n",
      "2020-03-01 23:01:37\n",
      "-------------------\n"
     ]
    }
   ],
   "source": [
    "lsFieldFtTest = ([c for c in pdfTest.columns \n",
    "                  if \"FIELD\" in c \n",
    "                  and c not in [\"FIELD_%d\"%d for d in [7, 9, 13, 39]]]\n",
    "#                  + lsExtraFt\n",
    "                )\n",
    "print(sorted(lsFieldFtTest) == sorted(lsFieldFt))\n",
    "printRuntime()"
   ]
  },
  {
   "cell_type": "code",
   "execution_count": 40,
   "metadata": {
    "collapsed": true
   },
   "outputs": [
    {
     "data": {
      "text/plain": [
       "['FIELD_1',\n",
       " 'FIELD_2',\n",
       " 'FIELD_3',\n",
       " 'FIELD_4',\n",
       " 'FIELD_5',\n",
       " 'FIELD_6',\n",
       " 'FIELD_8',\n",
       " 'FIELD_10',\n",
       " 'FIELD_11',\n",
       " 'FIELD_12',\n",
       " 'FIELD_14',\n",
       " 'FIELD_15',\n",
       " 'FIELD_16',\n",
       " 'FIELD_17',\n",
       " 'FIELD_18',\n",
       " 'FIELD_19',\n",
       " 'FIELD_20',\n",
       " 'FIELD_21',\n",
       " 'FIELD_22',\n",
       " 'FIELD_23',\n",
       " 'FIELD_24',\n",
       " 'FIELD_25',\n",
       " 'FIELD_26',\n",
       " 'FIELD_27',\n",
       " 'FIELD_28',\n",
       " 'FIELD_29',\n",
       " 'FIELD_30',\n",
       " 'FIELD_31',\n",
       " 'FIELD_32',\n",
       " 'FIELD_33',\n",
       " 'FIELD_34',\n",
       " 'FIELD_35',\n",
       " 'FIELD_36',\n",
       " 'FIELD_37',\n",
       " 'FIELD_38',\n",
       " 'FIELD_40',\n",
       " 'FIELD_41',\n",
       " 'FIELD_42',\n",
       " 'FIELD_43',\n",
       " 'FIELD_44',\n",
       " 'FIELD_45',\n",
       " 'FIELD_46',\n",
       " 'FIELD_47',\n",
       " 'FIELD_48',\n",
       " 'FIELD_49',\n",
       " 'FIELD_50',\n",
       " 'FIELD_51',\n",
       " 'FIELD_52',\n",
       " 'FIELD_53',\n",
       " 'FIELD_54',\n",
       " 'FIELD_55',\n",
       " 'FIELD_56',\n",
       " 'FIELD_57',\n",
       " 'FIELD_8_FEMALE',\n",
       " 'FIELD_8_MALE',\n",
       " 'FIELD_8_None',\n",
       " 'FIELD_10_GH',\n",
       " 'FIELD_10_None',\n",
       " 'FIELD_10_T1',\n",
       " 'FIELD_12_0',\n",
       " 'FIELD_12_1',\n",
       " 'FIELD_12_None',\n",
       " 'FIELD_17_G2',\n",
       " 'FIELD_17_G3',\n",
       " 'FIELD_17_G4',\n",
       " 'FIELD_17_G7',\n",
       " 'FIELD_17_G8',\n",
       " 'FIELD_17_G9',\n",
       " 'FIELD_17_GX',\n",
       " 'FIELD_17_None',\n",
       " 'FIELD_24_K1',\n",
       " 'FIELD_24_K2',\n",
       " 'FIELD_24_K3',\n",
       " 'FIELD_24_None',\n",
       " 'FIELD_40_02 05 08 11',\n",
       " 'FIELD_40_1',\n",
       " 'FIELD_40_2',\n",
       " 'FIELD_40_3',\n",
       " 'FIELD_40_4',\n",
       " 'FIELD_40_6',\n",
       " 'FIELD_40_None',\n",
       " 'FIELD_43_0',\n",
       " 'FIELD_43_5',\n",
       " 'FIELD_43_A',\n",
       " 'FIELD_43_B',\n",
       " 'FIELD_43_C',\n",
       " 'FIELD_43_D',\n",
       " 'FIELD_43_None',\n",
       " 'FIELD_7_LEN',\n",
       " 'FIELD_9_APPEAR',\n",
       " 'FIELD_9_INDEX',\n",
       " 'FIELD_avg_age',\n",
       " 'FIELD_diff_age',\n",
       " 'FIELD_AGE_0',\n",
       " 'FIELD_AGE_1',\n",
       " 'FIELD_AGE_2',\n",
       " 'FIELD_AGE_3',\n",
       " 'FIELD_AGE_4',\n",
       " 'FIELD_AGE_NONE']"
      ]
     },
     "execution_count": 40,
     "metadata": {},
     "output_type": "execute_result"
    }
   ],
   "source": [
    "lsFieldFt"
   ]
  },
  {
   "cell_type": "code",
   "execution_count": 41,
   "metadata": {},
   "outputs": [
    {
     "name": "stdout",
     "output_type": "stream",
     "text": [
      "FIELD_8\n",
      "FIELD_10\n",
      "FIELD_17\n",
      "FIELD_24\n",
      "FIELD_40\n",
      "FIELD_43\n",
      "2020-03-01 23:01:53\n",
      "-------------------\n"
     ]
    }
   ],
   "source": [
    "for c in lsFieldFt:\n",
    "    try:\n",
    "        pdfTrain.loc[pdfTrain[c].isin([\"None\", \"na\"]), c] = np.nan\n",
    "        pdfTrain[c] = pdfTrain[c].astype(np.float64)\n",
    "        pdfTest.loc[pdfTest[c].isin([\"None\", \"na\"]), c] = np.nan\n",
    "        pdfTest[c] = pdfTest[c].astype(np.float64)\n",
    "    except:\n",
    "        print(c)\n",
    "printRuntime()"
   ]
  },
  {
   "cell_type": "code",
   "execution_count": null,
   "metadata": {},
   "outputs": [],
   "source": [
    "# 2\n",
    "lsCatCol = [\"FIELD_%d\"%d for d in [8, 10, 17, 24, 40, 43]]\n",
    "lsNumCol = [c for c in lsFieldFt if c not in lsCatCol]"
   ]
  },
  {
   "cell_type": "markdown",
   "metadata": {},
   "source": [
    "## Cluster test, use predicted cluster in train & test, add as 1-hot features"
   ]
  },
  {
   "cell_type": "code",
   "execution_count": 91,
   "metadata": {},
   "outputs": [],
   "source": [
    "from sklearn.cluster import KMeans\n",
    "from sklearn.preprocessing import MinMaxScaler\n",
    "from sklearn.decomposition import PCA\n",
    "#from sklearn.impute import SimpleImputer"
   ]
  },
  {
   "cell_type": "code",
   "execution_count": 92,
   "metadata": {},
   "outputs": [
    {
     "name": "stdout",
     "output_type": "stream",
     "text": [
      "2020-03-01 23:36:48\n",
      "-------------------\n"
     ]
    }
   ],
   "source": [
    "pdfTrainFillna = pdfTrain.replace([np.inf, -np.inf], np.nan).fillna(0.0)\n",
    "pdfTestFillna = pdfTest.replace([np.inf, -np.inf], np.nan).fillna(0.0)\n",
    "printRuntime()"
   ]
  },
  {
   "cell_type": "code",
   "execution_count": 94,
   "metadata": {},
   "outputs": [
    {
     "name": "stdout",
     "output_type": "stream",
     "text": [
      "2020-03-01 23:37:56\n",
      "-------------------\n"
     ]
    }
   ],
   "source": [
    "X = pdfTrainFillna[lsNumCol].values\n",
    "Y = pdfTestFillna[lsNumCol].values\n",
    "scaler = MinMaxScaler()\n",
    "Y_scaled = scaler.fit_transform(Y)\n",
    "X_scaled = scaler.transform(X) # Use scaler by Y\n",
    "printRuntime()"
   ]
  },
  {
   "cell_type": "code",
   "execution_count": 95,
   "metadata": {},
   "outputs": [],
   "source": [
    "ky_15 = KMeans(n_clusters=15).fit(Y_scaled)"
   ]
  },
  {
   "cell_type": "code",
   "execution_count": 96,
   "metadata": {},
   "outputs": [],
   "source": [
    "X_cluster = ky_15.predict(X_scaled)"
   ]
  },
  {
   "cell_type": "code",
   "execution_count": 97,
   "metadata": {},
   "outputs": [],
   "source": [
    "Y_cluster = ky_15.predict(Y_scaled)"
   ]
  },
  {
   "cell_type": "code",
   "execution_count": 98,
   "metadata": {},
   "outputs": [
    {
     "data": {
      "text/plain": [
       "((30000,), (20000,))"
      ]
     },
     "execution_count": 98,
     "metadata": {},
     "output_type": "execute_result"
    }
   ],
   "source": [
    "X_cluster.shape, Y_cluster.shape"
   ]
  },
  {
   "cell_type": "code",
   "execution_count": 99,
   "metadata": {},
   "outputs": [],
   "source": [
    "pdfTrain[\"kmean_cluster\"] = X_cluster\n",
    "pdfTest[\"kmean_cluster\"] = Y_cluster"
   ]
  },
  {
   "cell_type": "code",
   "execution_count": 100,
   "metadata": {},
   "outputs": [
    {
     "data": {
      "text/plain": [
       "<matplotlib.axes._subplots.AxesSubplot at 0x1a1b148f98>"
      ]
     },
     "execution_count": 100,
     "metadata": {},
     "output_type": "execute_result"
    },
    {
     "data": {
      "image/png": "[encoded data removed]",
      "text/plain": [
       "<matplotlib.figure.Figure at 0x1a1b1482b0>"
      ]
     },
     "metadata": {},
     "output_type": "display_data"
    }
   ],
   "source": [
    "pdfTrain[\"kmean_cluster\"].hist()"
   ]
  },
  {
   "cell_type": "code",
   "execution_count": 108,
   "metadata": {
    "collapsed": true
   },
   "outputs": [
    {
     "data": {
      "text/html": [
       "<div>\n",
       "<style scoped>\n",
       "    .dataframe tbody tr th:only-of-type {\n",
       "        vertical-align: middle;\n",
       "    }\n",
       "\n",
       "    .dataframe tbody tr th {\n",
       "        vertical-align: top;\n",
       "    }\n",
       "\n",
       "    .dataframe thead tr th {\n",
       "        text-align: left;\n",
       "    }\n",
       "</style>\n",
       "<table border=\"1\" class=\"dataframe\">\n",
       "  <thead>\n",
       "    <tr>\n",
       "      <th></th>\n",
       "      <th>kmean_cluster</th>\n",
       "      <th>jobCat</th>\n",
       "      <th>id</th>\n",
       "      <th colspan=\"2\" halign=\"left\">label</th>\n",
       "    </tr>\n",
       "    <tr>\n",
       "      <th></th>\n",
       "      <th></th>\n",
       "      <th></th>\n",
       "      <th>count</th>\n",
       "      <th>sum</th>\n",
       "      <th>mean</th>\n",
       "    </tr>\n",
       "  </thead>\n",
       "  <tbody>\n",
       "    <tr>\n",
       "      <th>0</th>\n",
       "      <td>0</td>\n",
       "      <td>bác sĩ</td>\n",
       "      <td>1</td>\n",
       "      <td>0</td>\n",
       "      <td>0.000000</td>\n",
       "    </tr>\n",
       "    <tr>\n",
       "      <th>1</th>\n",
       "      <td>0</td>\n",
       "      <td>bảo mẫu</td>\n",
       "      <td>1</td>\n",
       "      <td>0</td>\n",
       "      <td>0.000000</td>\n",
       "    </tr>\n",
       "    <tr>\n",
       "      <th>2</th>\n",
       "      <td>0</td>\n",
       "      <td>bảo vệ</td>\n",
       "      <td>5</td>\n",
       "      <td>0</td>\n",
       "      <td>0.000000</td>\n",
       "    </tr>\n",
       "    <tr>\n",
       "      <th>3</th>\n",
       "      <td>0</td>\n",
       "      <td>bếp trưởng</td>\n",
       "      <td>1</td>\n",
       "      <td>0</td>\n",
       "      <td>0.000000</td>\n",
       "    </tr>\n",
       "    <tr>\n",
       "      <th>4</th>\n",
       "      <td>0</td>\n",
       "      <td>chuyên viên</td>\n",
       "      <td>7</td>\n",
       "      <td>1</td>\n",
       "      <td>0.142857</td>\n",
       "    </tr>\n",
       "    <tr>\n",
       "      <th>5</th>\n",
       "      <td>0</td>\n",
       "      <td>chuyền may</td>\n",
       "      <td>1</td>\n",
       "      <td>0</td>\n",
       "      <td>0.000000</td>\n",
       "    </tr>\n",
       "    <tr>\n",
       "      <th>6</th>\n",
       "      <td>0</td>\n",
       "      <td>chỉ huy</td>\n",
       "      <td>1</td>\n",
       "      <td>0</td>\n",
       "      <td>0.000000</td>\n",
       "    </tr>\n",
       "    <tr>\n",
       "      <th>7</th>\n",
       "      <td>0</td>\n",
       "      <td>cod</td>\n",
       "      <td>2</td>\n",
       "      <td>0</td>\n",
       "      <td>0.000000</td>\n",
       "    </tr>\n",
       "    <tr>\n",
       "      <th>8</th>\n",
       "      <td>0</td>\n",
       "      <td>cán bộ</td>\n",
       "      <td>8</td>\n",
       "      <td>0</td>\n",
       "      <td>0.000000</td>\n",
       "    </tr>\n",
       "    <tr>\n",
       "      <th>9</th>\n",
       "      <td>0</td>\n",
       "      <td>công an</td>\n",
       "      <td>1</td>\n",
       "      <td>0</td>\n",
       "      <td>0.000000</td>\n",
       "    </tr>\n",
       "    <tr>\n",
       "      <th>10</th>\n",
       "      <td>0</td>\n",
       "      <td>công chức</td>\n",
       "      <td>1</td>\n",
       "      <td>0</td>\n",
       "      <td>0.000000</td>\n",
       "    </tr>\n",
       "    <tr>\n",
       "      <th>11</th>\n",
       "      <td>0</td>\n",
       "      <td>công nhân</td>\n",
       "      <td>383</td>\n",
       "      <td>4</td>\n",
       "      <td>0.010444</td>\n",
       "    </tr>\n",
       "    <tr>\n",
       "      <th>12</th>\n",
       "      <td>0</td>\n",
       "      <td>công nhân_chuẩn</td>\n",
       "      <td>1</td>\n",
       "      <td>0</td>\n",
       "      <td>0.000000</td>\n",
       "    </tr>\n",
       "    <tr>\n",
       "      <th>13</th>\n",
       "      <td>0</td>\n",
       "      <td>cửa hàng</td>\n",
       "      <td>1</td>\n",
       "      <td>0</td>\n",
       "      <td>0.000000</td>\n",
       "    </tr>\n",
       "    <tr>\n",
       "      <th>14</th>\n",
       "      <td>0</td>\n",
       "      <td>cấp dưỡng</td>\n",
       "      <td>2</td>\n",
       "      <td>0</td>\n",
       "      <td>0.000000</td>\n",
       "    </tr>\n",
       "    <tr>\n",
       "      <th>15</th>\n",
       "      <td>0</td>\n",
       "      <td>cụng nhõn</td>\n",
       "      <td>1</td>\n",
       "      <td>0</td>\n",
       "      <td>0.000000</td>\n",
       "    </tr>\n",
       "    <tr>\n",
       "      <th>16</th>\n",
       "      <td>0</td>\n",
       "      <td>giám sát</td>\n",
       "      <td>2</td>\n",
       "      <td>0</td>\n",
       "      <td>0.000000</td>\n",
       "    </tr>\n",
       "    <tr>\n",
       "      <th>17</th>\n",
       "      <td>0</td>\n",
       "      <td>giám đốc</td>\n",
       "      <td>2</td>\n",
       "      <td>0</td>\n",
       "      <td>0.000000</td>\n",
       "    </tr>\n",
       "    <tr>\n",
       "      <th>18</th>\n",
       "      <td>0</td>\n",
       "      <td>giáo viên</td>\n",
       "      <td>27</td>\n",
       "      <td>0</td>\n",
       "      <td>0.000000</td>\n",
       "    </tr>\n",
       "    <tr>\n",
       "      <th>19</th>\n",
       "      <td>0</td>\n",
       "      <td>gíao viên</td>\n",
       "      <td>1</td>\n",
       "      <td>0</td>\n",
       "      <td>0.000000</td>\n",
       "    </tr>\n",
       "  </tbody>\n",
       "</table>\n",
       "</div>"
      ],
      "text/plain": [
       "   kmean_cluster           jobCat    id label          \n",
       "                                  count   sum      mean\n",
       "0              0           bác sĩ     1     0  0.000000\n",
       "1              0          bảo mẫu     1     0  0.000000\n",
       "2              0           bảo vệ     5     0  0.000000\n",
       "3              0       bếp trưởng     1     0  0.000000\n",
       "4              0      chuyên viên     7     1  0.142857\n",
       "5              0       chuyền may     1     0  0.000000\n",
       "6              0          chỉ huy     1     0  0.000000\n",
       "7              0              cod     2     0  0.000000\n",
       "8              0           cán bộ     8     0  0.000000\n",
       "9              0          công an     1     0  0.000000\n",
       "10             0        công chức     1     0  0.000000\n",
       "11             0        công nhân   383     4  0.010444\n",
       "12             0  công nhân_chuẩn     1     0  0.000000\n",
       "13             0       cửa hàng     1     0  0.000000\n",
       "14             0        cấp dưỡng     2     0  0.000000\n",
       "15             0        cụng nhõn     1     0  0.000000\n",
       "16             0         giám sát     2     0  0.000000\n",
       "17             0         giám đốc     2     0  0.000000\n",
       "18             0        giáo viên    27     0  0.000000\n",
       "19             0        gíao viên     1     0  0.000000"
      ]
     },
     "execution_count": 108,
     "metadata": {},
     "output_type": "execute_result"
    }
   ],
   "source": [
    "pdfB = (pdfTrain.groupby([\"kmean_cluster\", \"jobCat\"], as_index=False)\n",
    "        .agg({\"id\": \"count\", \"label\":(\"sum\", \"mean\")})\n",
    "       )\n",
    "pdfB.head(20)"
   ]
  },
  {
   "cell_type": "code",
   "execution_count": 105,
   "metadata": {
    "collapsed": true
   },
   "outputs": [
    {
     "data": {
      "text/html": [
       "<div>\n",
       "<style scoped>\n",
       "    .dataframe tbody tr th:only-of-type {\n",
       "        vertical-align: middle;\n",
       "    }\n",
       "\n",
       "    .dataframe tbody tr th {\n",
       "        vertical-align: top;\n",
       "    }\n",
       "\n",
       "    .dataframe thead th {\n",
       "        text-align: right;\n",
       "    }\n",
       "</style>\n",
       "<table border=\"1\" class=\"dataframe\">\n",
       "  <thead>\n",
       "    <tr style=\"text-align: right;\">\n",
       "      <th>label</th>\n",
       "      <th>0</th>\n",
       "      <th>1</th>\n",
       "      <th>ratio</th>\n",
       "    </tr>\n",
       "  </thead>\n",
       "  <tbody>\n",
       "    <tr>\n",
       "      <th>14</th>\n",
       "      <td>1803</td>\n",
       "      <td>12</td>\n",
       "      <td>0.006656</td>\n",
       "    </tr>\n",
       "    <tr>\n",
       "      <th>3</th>\n",
       "      <td>1563</td>\n",
       "      <td>13</td>\n",
       "      <td>0.008317</td>\n",
       "    </tr>\n",
       "    <tr>\n",
       "      <th>12</th>\n",
       "      <td>1970</td>\n",
       "      <td>17</td>\n",
       "      <td>0.008629</td>\n",
       "    </tr>\n",
       "    <tr>\n",
       "      <th>8</th>\n",
       "      <td>1620</td>\n",
       "      <td>16</td>\n",
       "      <td>0.009877</td>\n",
       "    </tr>\n",
       "    <tr>\n",
       "      <th>5</th>\n",
       "      <td>1667</td>\n",
       "      <td>17</td>\n",
       "      <td>0.010198</td>\n",
       "    </tr>\n",
       "    <tr>\n",
       "      <th>0</th>\n",
       "      <td>1730</td>\n",
       "      <td>18</td>\n",
       "      <td>0.010405</td>\n",
       "    </tr>\n",
       "    <tr>\n",
       "      <th>9</th>\n",
       "      <td>1701</td>\n",
       "      <td>18</td>\n",
       "      <td>0.010582</td>\n",
       "    </tr>\n",
       "    <tr>\n",
       "      <th>13</th>\n",
       "      <td>1612</td>\n",
       "      <td>26</td>\n",
       "      <td>0.016129</td>\n",
       "    </tr>\n",
       "    <tr>\n",
       "      <th>7</th>\n",
       "      <td>1321</td>\n",
       "      <td>25</td>\n",
       "      <td>0.018925</td>\n",
       "    </tr>\n",
       "    <tr>\n",
       "      <th>4</th>\n",
       "      <td>4863</td>\n",
       "      <td>93</td>\n",
       "      <td>0.019124</td>\n",
       "    </tr>\n",
       "    <tr>\n",
       "      <th>2</th>\n",
       "      <td>1075</td>\n",
       "      <td>23</td>\n",
       "      <td>0.021395</td>\n",
       "    </tr>\n",
       "    <tr>\n",
       "      <th>1</th>\n",
       "      <td>4613</td>\n",
       "      <td>109</td>\n",
       "      <td>0.023629</td>\n",
       "    </tr>\n",
       "    <tr>\n",
       "      <th>10</th>\n",
       "      <td>1467</td>\n",
       "      <td>36</td>\n",
       "      <td>0.024540</td>\n",
       "    </tr>\n",
       "    <tr>\n",
       "      <th>11</th>\n",
       "      <td>570</td>\n",
       "      <td>14</td>\n",
       "      <td>0.024561</td>\n",
       "    </tr>\n",
       "    <tr>\n",
       "      <th>6</th>\n",
       "      <td>1939</td>\n",
       "      <td>49</td>\n",
       "      <td>0.025271</td>\n",
       "    </tr>\n",
       "  </tbody>\n",
       "</table>\n",
       "</div>"
      ],
      "text/plain": [
       "label     0    1     ratio\n",
       "14     1803   12  0.006656\n",
       "3      1563   13  0.008317\n",
       "12     1970   17  0.008629\n",
       "8      1620   16  0.009877\n",
       "5      1667   17  0.010198\n",
       "0      1730   18  0.010405\n",
       "9      1701   18  0.010582\n",
       "13     1612   26  0.016129\n",
       "7      1321   25  0.018925\n",
       "4      4863   93  0.019124\n",
       "2      1075   23  0.021395\n",
       "1      4613  109  0.023629\n",
       "10     1467   36  0.024540\n",
       "11      570   14  0.024561\n",
       "6      1939   49  0.025271"
      ]
     },
     "execution_count": 105,
     "metadata": {},
     "output_type": "execute_result"
    }
   ],
   "source": [
    "pdfA = (pdfTrain.groupby([\"kmean_cluster\", \"label\"], as_index=False).agg({\"id\": \"count\"})\n",
    "        .pivot(index=\"kmean_cluster\", columns=\"label\", values=\"id\").rename_axis(None)\n",
    "       )\n",
    "pdfA[\"ratio\"] = pdfA[1]/pdfA[0]\n",
    "pdfA.sort_values([\"ratio\"])"
   ]
  },
  {
   "cell_type": "code",
   "execution_count": 101,
   "metadata": {},
   "outputs": [
    {
     "data": {
      "text/plain": [
       "<matplotlib.axes._subplots.AxesSubplot at 0x1a1b148550>"
      ]
     },
     "execution_count": 101,
     "metadata": {},
     "output_type": "execute_result"
    },
    {
     "data": {
      "image/png": "[encoded data removed]",
      "text/plain": [
       "<matplotlib.figure.Figure at 0x1a1ca82860>"
      ]
     },
     "metadata": {},
     "output_type": "display_data"
    }
   ],
   "source": [
    "pdfTest[\"kmean_cluster\"].hist()"
   ]
  },
  {
   "cell_type": "code",
   "execution_count": 110,
   "metadata": {},
   "outputs": [
    {
     "name": "stdout",
     "output_type": "stream",
     "text": [
      "{0: 'FIELD_KMeans_0',\n",
      " 1: 'FIELD_KMeans_1',\n",
      " 2: 'FIELD_KMeans_2',\n",
      " 3: 'FIELD_KMeans_3',\n",
      " 4: 'FIELD_KMeans_4',\n",
      " 5: 'FIELD_KMeans_5',\n",
      " 6: 'FIELD_KMeans_6',\n",
      " 7: 'FIELD_KMeans_7',\n",
      " 8: 'FIELD_KMeans_8',\n",
      " 9: 'FIELD_KMeans_9',\n",
      " 10: 'FIELD_KMeans_10',\n",
      " 11: 'FIELD_KMeans_11',\n",
      " 12: 'FIELD_KMeans_12',\n",
      " 13: 'FIELD_KMeans_13',\n",
      " 14: 'FIELD_KMeans_14'}\n",
      "2020-03-01 23:52:19\n",
      "-------------------\n"
     ]
    }
   ],
   "source": [
    "# 1 hot kmean_cluster columns\n",
    "cName = \"kmean_cluster\"\n",
    "# -- Train -- #\n",
    "one_hot = pd.get_dummies(pdfTrain[cName].replace(np.nan, \"None\"))\n",
    "renameCol = {}\n",
    "for c in one_hot.columns:\n",
    "    renameCol[c] = \"FIELD_KMeans_%s\" % (c)\n",
    "pprint(renameCol)\n",
    "one_hot = one_hot.rename(columns=renameCol)\n",
    "pdfTrain = pdfTrain.join(one_hot)\n",
    "\n",
    "# -- Test -- #\n",
    "one_hot = pd.get_dummies(pdfTest[cName].replace(np.nan, \"None\"))\n",
    "renameCol = {}\n",
    "for c in one_hot.columns:\n",
    "    renameCol[c] = \"FIELD_KMeans_%s\" % (c)\n",
    "# pprint(renameCol)\n",
    "one_hot = one_hot.rename(columns=renameCol)\n",
    "pdfTest = pdfTest.join(one_hot)\n",
    "\n",
    "printRuntime()"
   ]
  },
  {
   "cell_type": "code",
   "execution_count": 111,
   "metadata": {
    "collapsed": true
   },
   "outputs": [
    {
     "name": "stdout",
     "output_type": "stream",
     "text": [
      "uint8\n",
      "uint8\n",
      "uint8\n",
      "uint8\n",
      "uint8\n",
      "uint8\n",
      "uint8\n",
      "uint8\n",
      "uint8\n",
      "uint8\n",
      "uint8\n",
      "uint8\n",
      "uint8\n",
      "uint8\n",
      "uint8\n"
     ]
    }
   ],
   "source": [
    "lsKMeansFt = [c for c in pdfTrain.columns if \"KMeans\" in c]\n",
    "for c in lsKMeansFt:\n",
    "    print(pdfTrain[c].dtypes)"
   ]
  },
  {
   "cell_type": "markdown",
   "metadata": {},
   "source": [
    "### Add neighbor features\n",
    "Neighbor features: \n",
    "    + avg+std of groupby (province, age_group, maCv)\n",
    "    + avg+std of groupby (lv3_loc, age_group, maCv)\n",
    "    + avg+std of groupby (province, maCv)\n",
    "    "
   ]
  },
  {
   "cell_type": "code",
   "execution_count": 119,
   "metadata": {},
   "outputs": [],
   "source": [
    "lsExtraFt = ([\"FIELD_7_LEN\", \"FIELD_9_APPEAR\", \"FIELD_9_INDEX\"]  + [\"avg_age\", \"diff_age\"]\n",
    "             )"
   ]
  },
  {
   "cell_type": "code",
   "execution_count": 120,
   "metadata": {},
   "outputs": [
    {
     "name": "stdout",
     "output_type": "stream",
     "text": [
      "2020-03-01 23:56:54\n",
      "-------------------\n"
     ]
    }
   ],
   "source": [
    "lsFieldFt = ([c for c in pdfTrain.columns \n",
    "              if \"FIELD\" in c \n",
    "              and c not in [\"FIELD_%d\"%d for d in [7, 9, 13, 39]]] \n",
    "#              + lsExtraFt\n",
    "            )\n",
    "# pprint(lsFieldFt)\n",
    "printRuntime()"
   ]
  },
  {
   "cell_type": "code",
   "execution_count": 121,
   "metadata": {},
   "outputs": [
    {
     "name": "stdout",
     "output_type": "stream",
     "text": [
      "True\n",
      "2020-03-01 23:56:58\n",
      "-------------------\n"
     ]
    }
   ],
   "source": [
    "lsFieldFtTest = ([c for c in pdfTest.columns \n",
    "                  if \"FIELD\" in c \n",
    "                  and c not in [\"FIELD_%d\"%d for d in [7, 9, 13, 39]]]\n",
    "#                  + lsExtraFt\n",
    "                )\n",
    "print(sorted(lsFieldFtTest) == sorted(lsFieldFt))\n",
    "printRuntime()"
   ]
  },
  {
   "cell_type": "code",
   "execution_count": 123,
   "metadata": {},
   "outputs": [],
   "source": [
    "# 1\n",
    "lsMetaCol1 = [\"province\", \"group_age\", \"jobCat\"]\n",
    "lsMetaCol2 = [\"lv3_loc\", \"group_age\", \"jobCat\"]\n",
    "lsMetaCol3 = [\"province\", \"jobCat\"]\n",
    "# 2\n",
    "lsCatCol = [\"FIELD_%d\"%d for d in [8, 10, 17, 24, 40, 43]]\n",
    "lsNumCol = [c for c in lsFieldFt if c not in lsCatCol]"
   ]
  },
  {
   "cell_type": "code",
   "execution_count": 124,
   "metadata": {},
   "outputs": [
    {
     "data": {
      "text/plain": [
       "108"
      ]
     },
     "execution_count": 124,
     "metadata": {},
     "output_type": "execute_result"
    }
   ],
   "source": [
    "len(lsNumCol) # 92 vs. 108"
   ]
  },
  {
   "cell_type": "code",
   "execution_count": 125,
   "metadata": {},
   "outputs": [],
   "source": [
    "aggDict = {}\n",
    "for f in lsNumCol:\n",
    "    aggDict[f] = [\"mean\", \"std\"]"
   ]
  },
  {
   "cell_type": "code",
   "execution_count": 126,
   "metadata": {},
   "outputs": [
    {
     "name": "stdout",
     "output_type": "stream",
     "text": [
      "2020-03-01 23:57:33\n",
      "-------------------\n"
     ]
    }
   ],
   "source": [
    "dfNb01 = pdfTrain[lsMetaCol1+lsNumCol].groupby(lsMetaCol1, as_index=False).agg(aggDict)\n",
    "dfNb01.columns = [\"_\".join(x) for x in dfNb01.columns.ravel()]\n",
    "dfNb01 = dfNb01.rename(columns={\"province_\": \"province\", \n",
    "                       \"group_age_\": \"group_age\", \n",
    "                       \"jobCat_\": \"jobCat\"})\n",
    "printRuntime()"
   ]
  },
  {
   "cell_type": "code",
   "execution_count": 127,
   "metadata": {},
   "outputs": [
    {
     "name": "stdout",
     "output_type": "stream",
     "text": [
      "2020-03-01 23:57:35\n",
      "-------------------\n"
     ]
    }
   ],
   "source": [
    "dfNb02 = pdfTrain[lsMetaCol2+lsNumCol].groupby(lsMetaCol2, as_index=False).agg(aggDict)\n",
    "dfNb02.columns = [\"_\".join(x) for x in dfNb02.columns.ravel()]\n",
    "dfNb02 = dfNb02.rename(columns={\"province_\": \"province\", \n",
    "                       \"group_age_\": \"group_age\", \n",
    "                       \"jobCat_\": \"jobCat\"})\n",
    "printRuntime()"
   ]
  },
  {
   "cell_type": "code",
   "execution_count": 128,
   "metadata": {},
   "outputs": [
    {
     "name": "stdout",
     "output_type": "stream",
     "text": [
      "2020-03-01 23:57:36\n",
      "-------------------\n"
     ]
    }
   ],
   "source": [
    "dfNb03 = pdfTrain[lsMetaCol3+lsNumCol].groupby(lsMetaCol3, as_index=False).agg(aggDict)\n",
    "dfNb03.columns = [\"_\".join(x) for x in dfNb03.columns.ravel()]\n",
    "dfNb03 = dfNb03.rename(columns={\"province_\": \"province\", \n",
    "                       \"group_age_\": \"group_age\", \n",
    "                       \"jobCat_\": \"jobCat\"})\n",
    "printRuntime()"
   ]
  },
  {
   "cell_type": "raw",
   "metadata": {},
   "source": [
    "# Save outputs: pdfTrain, dfNb01, dfNb02, dfNb03\n",
    "pdfTrain.to_pickle(cleanedTrain, compression=\"bz2\")\n",
    "pdfTest.to_pickle(cleanedTest, compression=\"bz2\")\n",
    "dfNb01.to_pickle(nb01, compression=\"bz2\")\n",
    "dfNb02.to_pickle(nb02, compression=\"bz2\")\n",
    "dfNb03.to_pickle(nb03, compression=\"bz2\")\n",
    "printRuntime()"
   ]
  },
  {
   "cell_type": "raw",
   "metadata": {},
   "source": [
    "dfNb01.head()"
   ]
  },
  {
   "cell_type": "markdown",
   "metadata": {},
   "source": [
    "### raw ft + nb ft + standardize raw ft"
   ]
  },
  {
   "cell_type": "code",
   "execution_count": 129,
   "metadata": {},
   "outputs": [
    {
     "name": "stdout",
     "output_type": "stream",
     "text": [
      "2020-03-01 23:58:06\n",
      "-------------------\n"
     ]
    }
   ],
   "source": [
    "lsMetaCol = [\"id\", \"label\", \"province\", \"district\", \"lv3_loc\", \n",
    "              \"age_source1\", \"age_source2\", \"avg_age\", \"diff_age\", \"group_age\",\n",
    "              \"maCv\", \"jobCat\", \"jobDesc\"]\n",
    "lsEmbedFt = [\"FIELD_%d\"%d for d in [7, 9, 13, 39]]\n",
    "lsCol = [8, 10, 12, 17, 24, 40, 43] # For target encoding\n",
    "lsCatCol = [\"FIELD_%d\"%d for d in lsCol] + [\"group_age\", \"kmean_cluster\"]\n",
    "# raw ft\n",
    "lsFieldFt = ([c for c in pdfTrain.columns \n",
    "             if \"FIELD\" in c \n",
    "             and c not in lsEmbedFt and c not in lsCatCol]\n",
    "            )\n",
    "\n",
    "label = \"label\"\n",
    "printRuntime()"
   ]
  },
  {
   "cell_type": "markdown",
   "metadata": {},
   "source": [
    "#### NB Ft1: province, group_age, jobCat"
   ]
  },
  {
   "cell_type": "code",
   "execution_count": 130,
   "metadata": {},
   "outputs": [
    {
     "name": "stdout",
     "output_type": "stream",
     "text": [
      "Merge nb01\n",
      "(30000, 347)\n",
      "2020-03-01 23:58:10\n",
      "-------------------\n"
     ]
    }
   ],
   "source": [
    "# nb ft\n",
    "print(\"Merge nb01\")\n",
    "lsNbMetaCol = lsMetaCol1\n",
    "dfNb = dfNb01 \n",
    "\n",
    "dfITrain = pd.merge(pdfTrain, dfNb01, on=lsNbMetaCol, how=\"left\")\n",
    "\n",
    "print(dfITrain.shape)\n",
    "printRuntime()"
   ]
  },
  {
   "cell_type": "code",
   "execution_count": 131,
   "metadata": {},
   "outputs": [],
   "source": [
    "lsTmp = [c for c in dfITrain.columns if c not in lsFieldFt]\n",
    "# pprint(lsTmp)"
   ]
  },
  {
   "cell_type": "raw",
   "metadata": {},
   "source": [
    "dfITrain[[\"FIELD_22\", \"FIELD_3\"]].hist(bins=40, figsize=(10,10))\n",
    "plt.show()"
   ]
  },
  {
   "cell_type": "code",
   "execution_count": 177,
   "metadata": {
    "collapsed": true
   },
   "outputs": [
    {
     "data": {
      "text/plain": [
       "Index(['id', 'label', 'province', 'district', 'age_source1', 'age_source2',\n",
       "       'maCv', 'FIELD_1', 'FIELD_2', 'FIELD_3',\n",
       "       ...\n",
       "       'FIELD_AGE_3_mean', 'FIELD_AGE_3_std', 'FIELD_AGE_4_mean',\n",
       "       'FIELD_AGE_4_std', 'FIELD_AGE_NONE_mean', 'FIELD_AGE_NONE_std',\n",
       "       'FIELD_group_age_ecdmean_mean', 'FIELD_group_age_ecdmean_std',\n",
       "       'FIELD_group_age_ecdstd_mean', 'FIELD_group_age_ecdstd_std'],\n",
       "      dtype='object', length=331)"
      ]
     },
     "execution_count": 177,
     "metadata": {},
     "output_type": "execute_result"
    }
   ],
   "source": [
    "dfITrain.columns"
   ]
  },
  {
   "cell_type": "code",
   "execution_count": 178,
   "metadata": {
    "collapsed": true
   },
   "outputs": [
    {
     "data": {
      "text/html": [
       "<div>\n",
       "<style scoped>\n",
       "    .dataframe tbody tr th:only-of-type {\n",
       "        vertical-align: middle;\n",
       "    }\n",
       "\n",
       "    .dataframe tbody tr th {\n",
       "        vertical-align: top;\n",
       "    }\n",
       "\n",
       "    .dataframe thead th {\n",
       "        text-align: right;\n",
       "    }\n",
       "</style>\n",
       "<table border=\"1\" class=\"dataframe\">\n",
       "  <thead>\n",
       "    <tr style=\"text-align: right;\">\n",
       "      <th></th>\n",
       "      <th>id</th>\n",
       "      <th>label</th>\n",
       "      <th>province</th>\n",
       "      <th>district</th>\n",
       "      <th>age_source1</th>\n",
       "      <th>age_source2</th>\n",
       "      <th>maCv</th>\n",
       "      <th>FIELD_1</th>\n",
       "      <th>FIELD_2</th>\n",
       "      <th>FIELD_3</th>\n",
       "      <th>...</th>\n",
       "      <th>FIELD_AGE_3_mean</th>\n",
       "      <th>FIELD_AGE_3_std</th>\n",
       "      <th>FIELD_AGE_4_mean</th>\n",
       "      <th>FIELD_AGE_4_std</th>\n",
       "      <th>FIELD_AGE_NONE_mean</th>\n",
       "      <th>FIELD_AGE_NONE_std</th>\n",
       "      <th>FIELD_group_age_ecdmean_mean</th>\n",
       "      <th>FIELD_group_age_ecdmean_std</th>\n",
       "      <th>FIELD_group_age_ecdstd_mean</th>\n",
       "      <th>FIELD_group_age_ecdstd_std</th>\n",
       "    </tr>\n",
       "  </thead>\n",
       "  <tbody>\n",
       "    <tr>\n",
       "      <th>0</th>\n",
       "      <td>0</td>\n",
       "      <td>0</td>\n",
       "      <td>nan</td>\n",
       "      <td>nan</td>\n",
       "      <td>NaN</td>\n",
       "      <td>NaN</td>\n",
       "      <td>none</td>\n",
       "      <td>1.0</td>\n",
       "      <td>1.0</td>\n",
       "      <td>2547.0</td>\n",
       "      <td>...</td>\n",
       "      <td>0.0</td>\n",
       "      <td>0.0</td>\n",
       "      <td>0.0</td>\n",
       "      <td>0.0</td>\n",
       "      <td>1.0</td>\n",
       "      <td>0.0</td>\n",
       "      <td>0.019980</td>\n",
       "      <td>0.0</td>\n",
       "      <td>0.139941</td>\n",
       "      <td>0.0</td>\n",
       "    </tr>\n",
       "    <tr>\n",
       "      <th>1</th>\n",
       "      <td>1</td>\n",
       "      <td>0</td>\n",
       "      <td>tỉnh đồng nai</td>\n",
       "      <td>thành phố biên hòa</td>\n",
       "      <td>44</td>\n",
       "      <td>44</td>\n",
       "      <td>none</td>\n",
       "      <td>1.0</td>\n",
       "      <td>0.0</td>\n",
       "      <td>-1.0</td>\n",
       "      <td>...</td>\n",
       "      <td>1.0</td>\n",
       "      <td>0.0</td>\n",
       "      <td>0.0</td>\n",
       "      <td>0.0</td>\n",
       "      <td>0.0</td>\n",
       "      <td>0.0</td>\n",
       "      <td>0.016651</td>\n",
       "      <td>0.0</td>\n",
       "      <td>0.127971</td>\n",
       "      <td>0.0</td>\n",
       "    </tr>\n",
       "    <tr>\n",
       "      <th>2</th>\n",
       "      <td>2</td>\n",
       "      <td>0</td>\n",
       "      <td>tỉnh đồng nai</td>\n",
       "      <td>huyện long thành</td>\n",
       "      <td>30</td>\n",
       "      <td>30</td>\n",
       "      <td>công nhân</td>\n",
       "      <td>0.0</td>\n",
       "      <td>1.0</td>\n",
       "      <td>3273.0</td>\n",
       "      <td>...</td>\n",
       "      <td>0.0</td>\n",
       "      <td>0.0</td>\n",
       "      <td>0.0</td>\n",
       "      <td>0.0</td>\n",
       "      <td>0.0</td>\n",
       "      <td>0.0</td>\n",
       "      <td>0.013346</td>\n",
       "      <td>0.0</td>\n",
       "      <td>0.114758</td>\n",
       "      <td>0.0</td>\n",
       "    </tr>\n",
       "    <tr>\n",
       "      <th>3</th>\n",
       "      <td>3</td>\n",
       "      <td>0</td>\n",
       "      <td>tỉnh tuyên quang</td>\n",
       "      <td>thành phố tuyên quang</td>\n",
       "      <td>43</td>\n",
       "      <td>NaN</td>\n",
       "      <td>none</td>\n",
       "      <td>0.0</td>\n",
       "      <td>1.0</td>\n",
       "      <td>3991.0</td>\n",
       "      <td>...</td>\n",
       "      <td>1.0</td>\n",
       "      <td>0.0</td>\n",
       "      <td>0.0</td>\n",
       "      <td>0.0</td>\n",
       "      <td>0.0</td>\n",
       "      <td>0.0</td>\n",
       "      <td>0.016651</td>\n",
       "      <td>0.0</td>\n",
       "      <td>0.127971</td>\n",
       "      <td>0.0</td>\n",
       "    </tr>\n",
       "    <tr>\n",
       "      <th>4</th>\n",
       "      <td>4</td>\n",
       "      <td>0</td>\n",
       "      <td>thành phố hồ chí minh</td>\n",
       "      <td>quận 1</td>\n",
       "      <td>21</td>\n",
       "      <td>21</td>\n",
       "      <td>none</td>\n",
       "      <td>0.0</td>\n",
       "      <td>1.0</td>\n",
       "      <td>1450.0</td>\n",
       "      <td>...</td>\n",
       "      <td>0.0</td>\n",
       "      <td>0.0</td>\n",
       "      <td>0.0</td>\n",
       "      <td>0.0</td>\n",
       "      <td>0.0</td>\n",
       "      <td>0.0</td>\n",
       "      <td>0.014498</td>\n",
       "      <td>0.0</td>\n",
       "      <td>0.119550</td>\n",
       "      <td>0.0</td>\n",
       "    </tr>\n",
       "  </tbody>\n",
       "</table>\n",
       "<p>5 rows × 331 columns</p>\n",
       "</div>"
      ],
      "text/plain": [
       "   id  label               province               district age_source1  \\\n",
       "0   0      0                    nan                    nan         NaN   \n",
       "1   1      0          tỉnh đồng nai     thành phố biên hòa          44   \n",
       "2   2      0          tỉnh đồng nai       huyện long thành          30   \n",
       "3   3      0       tỉnh tuyên quang  thành phố tuyên quang          43   \n",
       "4   4      0  thành phố hồ chí minh                 quận 1          21   \n",
       "\n",
       "  age_source2       maCv  FIELD_1  FIELD_2  FIELD_3  ...  FIELD_AGE_3_mean  \\\n",
       "0         NaN       none      1.0      1.0   2547.0  ...               0.0   \n",
       "1          44       none      1.0      0.0     -1.0  ...               1.0   \n",
       "2          30  công nhân      0.0      1.0   3273.0  ...               0.0   \n",
       "3         NaN       none      0.0      1.0   3991.0  ...               1.0   \n",
       "4          21       none      0.0      1.0   1450.0  ...               0.0   \n",
       "\n",
       "   FIELD_AGE_3_std  FIELD_AGE_4_mean FIELD_AGE_4_std FIELD_AGE_NONE_mean  \\\n",
       "0              0.0               0.0             0.0                 1.0   \n",
       "1              0.0               0.0             0.0                 0.0   \n",
       "2              0.0               0.0             0.0                 0.0   \n",
       "3              0.0               0.0             0.0                 0.0   \n",
       "4              0.0               0.0             0.0                 0.0   \n",
       "\n",
       "  FIELD_AGE_NONE_std FIELD_group_age_ecdmean_mean  \\\n",
       "0                0.0                     0.019980   \n",
       "1                0.0                     0.016651   \n",
       "2                0.0                     0.013346   \n",
       "3                0.0                     0.016651   \n",
       "4                0.0                     0.014498   \n",
       "\n",
       "   FIELD_group_age_ecdmean_std  FIELD_group_age_ecdstd_mean  \\\n",
       "0                          0.0                     0.139941   \n",
       "1                          0.0                     0.127971   \n",
       "2                          0.0                     0.114758   \n",
       "3                          0.0                     0.127971   \n",
       "4                          0.0                     0.119550   \n",
       "\n",
       "  FIELD_group_age_ecdstd_std  \n",
       "0                        0.0  \n",
       "1                        0.0  \n",
       "2                        0.0  \n",
       "3                        0.0  \n",
       "4                        0.0  \n",
       "\n",
       "[5 rows x 331 columns]"
      ]
     },
     "execution_count": 178,
     "metadata": {},
     "output_type": "execute_result"
    }
   ],
   "source": [
    "dfITrain.head()"
   ]
  },
  {
   "cell_type": "code",
   "execution_count": 132,
   "metadata": {},
   "outputs": [
    {
     "name": "stdout",
     "output_type": "stream",
     "text": [
      "(30000, 454)\n",
      "2020-03-01 23:58:17\n",
      "-------------------\n"
     ]
    }
   ],
   "source": [
    "for c in lsFieldFt:\n",
    "    dfITrain[\"%s_stdized1\"%c] = (dfITrain[c] - dfITrain[c+\"_mean\"])/dfITrain[c+\"_std\"]\n",
    "print(dfITrain.shape) # (29924, 353)\n",
    "printRuntime()"
   ]
  },
  {
   "cell_type": "code",
   "execution_count": 134,
   "metadata": {
    "collapsed": true
   },
   "outputs": [
    {
     "data": {
      "text/plain": [
       "['FIELD_1_mean',\n",
       " 'FIELD_1_std',\n",
       " 'FIELD_2_mean',\n",
       " 'FIELD_2_std',\n",
       " 'FIELD_3_mean',\n",
       " 'FIELD_3_std',\n",
       " 'FIELD_4_mean',\n",
       " 'FIELD_4_std',\n",
       " 'FIELD_5_mean',\n",
       " 'FIELD_5_std',\n",
       " 'FIELD_6_mean',\n",
       " 'FIELD_6_std',\n",
       " 'FIELD_11_mean',\n",
       " 'FIELD_11_std',\n",
       " 'FIELD_12_mean',\n",
       " 'FIELD_12_std',\n",
       " 'FIELD_14_mean',\n",
       " 'FIELD_14_std',\n",
       " 'FIELD_15_mean',\n",
       " 'FIELD_15_std',\n",
       " 'FIELD_16_mean',\n",
       " 'FIELD_16_std',\n",
       " 'FIELD_18_mean',\n",
       " 'FIELD_18_std',\n",
       " 'FIELD_19_mean',\n",
       " 'FIELD_19_std',\n",
       " 'FIELD_20_mean',\n",
       " 'FIELD_20_std',\n",
       " 'FIELD_21_mean',\n",
       " 'FIELD_21_std',\n",
       " 'FIELD_22_mean',\n",
       " 'FIELD_22_std',\n",
       " 'FIELD_23_mean',\n",
       " 'FIELD_23_std',\n",
       " 'FIELD_25_mean',\n",
       " 'FIELD_25_std',\n",
       " 'FIELD_26_mean',\n",
       " 'FIELD_26_std',\n",
       " 'FIELD_27_mean',\n",
       " 'FIELD_27_std',\n",
       " 'FIELD_28_mean',\n",
       " 'FIELD_28_std',\n",
       " 'FIELD_29_mean',\n",
       " 'FIELD_29_std',\n",
       " 'FIELD_30_mean',\n",
       " 'FIELD_30_std',\n",
       " 'FIELD_31_mean',\n",
       " 'FIELD_31_std',\n",
       " 'FIELD_32_mean',\n",
       " 'FIELD_32_std',\n",
       " 'FIELD_33_mean',\n",
       " 'FIELD_33_std',\n",
       " 'FIELD_34_mean',\n",
       " 'FIELD_34_std',\n",
       " 'FIELD_35_mean',\n",
       " 'FIELD_35_std',\n",
       " 'FIELD_36_mean',\n",
       " 'FIELD_36_std',\n",
       " 'FIELD_37_mean',\n",
       " 'FIELD_37_std',\n",
       " 'FIELD_38_mean',\n",
       " 'FIELD_38_std',\n",
       " 'FIELD_41_mean',\n",
       " 'FIELD_41_std',\n",
       " 'FIELD_42_mean',\n",
       " 'FIELD_42_std',\n",
       " 'FIELD_44_mean',\n",
       " 'FIELD_44_std',\n",
       " 'FIELD_45_mean',\n",
       " 'FIELD_45_std',\n",
       " 'FIELD_46_mean',\n",
       " 'FIELD_46_std',\n",
       " 'FIELD_47_mean',\n",
       " 'FIELD_47_std',\n",
       " 'FIELD_48_mean',\n",
       " 'FIELD_48_std',\n",
       " 'FIELD_49_mean',\n",
       " 'FIELD_49_std',\n",
       " 'FIELD_50_mean',\n",
       " 'FIELD_50_std',\n",
       " 'FIELD_51_mean',\n",
       " 'FIELD_51_std',\n",
       " 'FIELD_52_mean',\n",
       " 'FIELD_52_std',\n",
       " 'FIELD_53_mean',\n",
       " 'FIELD_53_std',\n",
       " 'FIELD_54_mean',\n",
       " 'FIELD_54_std',\n",
       " 'FIELD_55_mean',\n",
       " 'FIELD_55_std',\n",
       " 'FIELD_56_mean',\n",
       " 'FIELD_56_std',\n",
       " 'FIELD_57_mean',\n",
       " 'FIELD_57_std',\n",
       " 'FIELD_8_FEMALE_mean',\n",
       " 'FIELD_8_FEMALE_std',\n",
       " 'FIELD_8_MALE_mean',\n",
       " 'FIELD_8_MALE_std',\n",
       " 'FIELD_8_None_mean',\n",
       " 'FIELD_8_None_std',\n",
       " 'FIELD_10_GH_mean',\n",
       " 'FIELD_10_GH_std',\n",
       " 'FIELD_10_None_mean',\n",
       " 'FIELD_10_None_std',\n",
       " 'FIELD_10_T1_mean',\n",
       " 'FIELD_10_T1_std',\n",
       " 'FIELD_12_0_mean',\n",
       " 'FIELD_12_0_std',\n",
       " 'FIELD_12_1_mean',\n",
       " 'FIELD_12_1_std',\n",
       " 'FIELD_12_None_mean',\n",
       " 'FIELD_12_None_std',\n",
       " 'FIELD_17_G2_mean',\n",
       " 'FIELD_17_G2_std',\n",
       " 'FIELD_17_G3_mean',\n",
       " 'FIELD_17_G3_std',\n",
       " 'FIELD_17_G4_mean',\n",
       " 'FIELD_17_G4_std',\n",
       " 'FIELD_17_G7_mean',\n",
       " 'FIELD_17_G7_std',\n",
       " 'FIELD_17_G8_mean',\n",
       " 'FIELD_17_G8_std',\n",
       " 'FIELD_17_G9_mean',\n",
       " 'FIELD_17_G9_std',\n",
       " 'FIELD_17_GX_mean',\n",
       " 'FIELD_17_GX_std',\n",
       " 'FIELD_17_None_mean',\n",
       " 'FIELD_17_None_std',\n",
       " 'FIELD_24_K1_mean',\n",
       " 'FIELD_24_K1_std',\n",
       " 'FIELD_24_K2_mean',\n",
       " 'FIELD_24_K2_std',\n",
       " 'FIELD_24_K3_mean',\n",
       " 'FIELD_24_K3_std',\n",
       " 'FIELD_24_None_mean',\n",
       " 'FIELD_24_None_std',\n",
       " 'FIELD_40_02 05 08 11_mean',\n",
       " 'FIELD_40_02 05 08 11_std',\n",
       " 'FIELD_40_1_mean',\n",
       " 'FIELD_40_1_std',\n",
       " 'FIELD_40_2_mean',\n",
       " 'FIELD_40_2_std',\n",
       " 'FIELD_40_3_mean',\n",
       " 'FIELD_40_3_std',\n",
       " 'FIELD_40_4_mean',\n",
       " 'FIELD_40_4_std',\n",
       " 'FIELD_40_6_mean',\n",
       " 'FIELD_40_6_std',\n",
       " 'FIELD_40_None_mean',\n",
       " 'FIELD_40_None_std',\n",
       " 'FIELD_43_0_mean',\n",
       " 'FIELD_43_0_std',\n",
       " 'FIELD_43_5_mean',\n",
       " 'FIELD_43_5_std',\n",
       " 'FIELD_43_A_mean',\n",
       " 'FIELD_43_A_std',\n",
       " 'FIELD_43_B_mean',\n",
       " 'FIELD_43_B_std',\n",
       " 'FIELD_43_C_mean',\n",
       " 'FIELD_43_C_std',\n",
       " 'FIELD_43_D_mean',\n",
       " 'FIELD_43_D_std',\n",
       " 'FIELD_43_None_mean',\n",
       " 'FIELD_43_None_std',\n",
       " 'FIELD_7_LEN_mean',\n",
       " 'FIELD_7_LEN_std',\n",
       " 'FIELD_9_APPEAR_mean',\n",
       " 'FIELD_9_APPEAR_std',\n",
       " 'FIELD_9_INDEX_mean',\n",
       " 'FIELD_9_INDEX_std',\n",
       " 'FIELD_avg_age_mean',\n",
       " 'FIELD_avg_age_std',\n",
       " 'FIELD_diff_age_mean',\n",
       " 'FIELD_diff_age_std',\n",
       " 'FIELD_AGE_0_mean',\n",
       " 'FIELD_AGE_0_std',\n",
       " 'FIELD_AGE_1_mean',\n",
       " 'FIELD_AGE_1_std',\n",
       " 'FIELD_AGE_2_mean',\n",
       " 'FIELD_AGE_2_std',\n",
       " 'FIELD_AGE_3_mean',\n",
       " 'FIELD_AGE_3_std',\n",
       " 'FIELD_AGE_4_mean',\n",
       " 'FIELD_AGE_4_std',\n",
       " 'FIELD_AGE_NONE_mean',\n",
       " 'FIELD_AGE_NONE_std',\n",
       " 'FIELD_KMeans_0_mean',\n",
       " 'FIELD_KMeans_0_std',\n",
       " 'FIELD_KMeans_1_mean',\n",
       " 'FIELD_KMeans_1_std',\n",
       " 'FIELD_KMeans_2_mean',\n",
       " 'FIELD_KMeans_2_std',\n",
       " 'FIELD_KMeans_3_mean',\n",
       " 'FIELD_KMeans_3_std',\n",
       " 'FIELD_KMeans_4_mean',\n",
       " 'FIELD_KMeans_4_std',\n",
       " 'FIELD_KMeans_5_mean',\n",
       " 'FIELD_KMeans_5_std',\n",
       " 'FIELD_KMeans_6_mean',\n",
       " 'FIELD_KMeans_6_std',\n",
       " 'FIELD_KMeans_7_mean',\n",
       " 'FIELD_KMeans_7_std',\n",
       " 'FIELD_KMeans_8_mean',\n",
       " 'FIELD_KMeans_8_std',\n",
       " 'FIELD_KMeans_9_mean',\n",
       " 'FIELD_KMeans_9_std',\n",
       " 'FIELD_KMeans_10_mean',\n",
       " 'FIELD_KMeans_10_std',\n",
       " 'FIELD_KMeans_11_mean',\n",
       " 'FIELD_KMeans_11_std',\n",
       " 'FIELD_KMeans_12_mean',\n",
       " 'FIELD_KMeans_12_std',\n",
       " 'FIELD_KMeans_13_mean',\n",
       " 'FIELD_KMeans_13_std',\n",
       " 'FIELD_KMeans_14_mean',\n",
       " 'FIELD_KMeans_14_std']"
      ]
     },
     "execution_count": 134,
     "metadata": {},
     "output_type": "execute_result"
    }
   ],
   "source": [
    "lsNb01Ft"
   ]
  },
  {
   "cell_type": "code",
   "execution_count": 133,
   "metadata": {},
   "outputs": [
    {
     "name": "stdout",
     "output_type": "stream",
     "text": [
      "Drop nb01 group ft (mean, std)\n",
      "216 columns\n",
      "(30000, 238)\n",
      "2020-03-01 23:58:19\n",
      "-------------------\n"
     ]
    }
   ],
   "source": [
    "print(\"Drop nb01 group ft (mean, std)\")\n",
    "lsNb01Ft = [c for c in dfNb01.columns if \"FIELD\" in c]\n",
    "print(\"%d columns\"%len(lsNb01Ft))\n",
    "dfITrain = dfITrain.drop(lsNb01Ft, axis=1)\n",
    "print(dfITrain.shape)\n",
    "printRuntime()"
   ]
  },
  {
   "cell_type": "markdown",
   "metadata": {},
   "source": [
    "#### NB Ft3: province, group_age, jobCat"
   ]
  },
  {
   "cell_type": "code",
   "execution_count": 135,
   "metadata": {},
   "outputs": [
    {
     "name": "stdout",
     "output_type": "stream",
     "text": [
      "2020-03-01 23:59:07\n",
      "-------------------\n"
     ]
    }
   ],
   "source": [
    "# nb ft\n",
    "lsNbMetaCol = lsMetaCol3\n",
    "dfNb = dfNb03\n",
    "printRuntime()"
   ]
  },
  {
   "cell_type": "code",
   "execution_count": 136,
   "metadata": {},
   "outputs": [
    {
     "name": "stdout",
     "output_type": "stream",
     "text": [
      "Pre-merge shape: (30000, 238)\n",
      "Post-merge shape: (30000, 454)\n",
      "2020-03-01 23:59:10\n",
      "-------------------\n"
     ]
    }
   ],
   "source": [
    "print(\"Pre-merge shape:\", dfITrain.shape)\n",
    "dfITrain = pd.merge(dfITrain, dfNb, on=lsNbMetaCol, how=\"left\")\n",
    "\n",
    "print(\"Post-merge shape:\", dfITrain.shape)\n",
    "printRuntime()"
   ]
  },
  {
   "cell_type": "code",
   "execution_count": 137,
   "metadata": {},
   "outputs": [
    {
     "name": "stdout",
     "output_type": "stream",
     "text": [
      "(30000, 561)\n",
      "2020-03-01 23:59:14\n",
      "-------------------\n"
     ]
    }
   ],
   "source": [
    "for c in lsFieldFt:\n",
    "    dfITrain[\"%s_stdized2\"%c] = (dfITrain[c] - dfITrain[c+\"_mean\"])/dfITrain[c+\"_std\"]\n",
    "print(dfITrain.shape) # (29924, 353)\n",
    "printRuntime()"
   ]
  },
  {
   "cell_type": "code",
   "execution_count": 138,
   "metadata": {},
   "outputs": [
    {
     "name": "stdout",
     "output_type": "stream",
     "text": [
      "Drop nb03 group ft (mean, std)\n",
      "216 columns\n",
      "(30000, 345)\n",
      "2020-03-01 23:59:17\n",
      "-------------------\n"
     ]
    }
   ],
   "source": [
    "print(\"Drop nb03 group ft (mean, std)\")\n",
    "lsNb03Ft = [c for c in dfNb03.columns if \"FIELD\" in c]\n",
    "print(\"%d columns\"%len(lsNb03Ft))\n",
    "dfITrain = dfITrain.drop(lsNb03Ft, axis=1)\n",
    "print(dfITrain.shape)\n",
    "printRuntime()"
   ]
  },
  {
   "cell_type": "markdown",
   "metadata": {},
   "source": [
    "### Save iTrain data"
   ]
  },
  {
   "cell_type": "code",
   "execution_count": 139,
   "metadata": {},
   "outputs": [
    {
     "name": "stdout",
     "output_type": "stream",
     "text": [
      "./kalapa/itrain_20200301.pickle\n",
      "2020-03-01 23:59:32\n",
      "-------------------\n"
     ]
    }
   ],
   "source": [
    "ymd = datetime.datetime.now().strftime(\"%Y%m%d\")\n",
    "iTrainPath = basePath + \"itrain_{}.pickle\".format(ymd)\n",
    "print(iTrainPath)\n",
    "dfITrain.to_pickle(iTrainPath, compression=\"bz2\")\n",
    "printRuntime()"
   ]
  },
  {
   "cell_type": "code",
   "execution_count": 181,
   "metadata": {
    "collapsed": true
   },
   "outputs": [
    {
     "data": {
      "text/html": [
       "<div>\n",
       "<style scoped>\n",
       "    .dataframe tbody tr th:only-of-type {\n",
       "        vertical-align: middle;\n",
       "    }\n",
       "\n",
       "    .dataframe tbody tr th {\n",
       "        vertical-align: top;\n",
       "    }\n",
       "\n",
       "    .dataframe thead th {\n",
       "        text-align: right;\n",
       "    }\n",
       "</style>\n",
       "<table border=\"1\" class=\"dataframe\">\n",
       "  <thead>\n",
       "    <tr style=\"text-align: right;\">\n",
       "      <th></th>\n",
       "      <th>id</th>\n",
       "      <th>label</th>\n",
       "      <th>province</th>\n",
       "      <th>district</th>\n",
       "      <th>age_source1</th>\n",
       "      <th>age_source2</th>\n",
       "      <th>maCv</th>\n",
       "      <th>FIELD_1</th>\n",
       "      <th>FIELD_2</th>\n",
       "      <th>FIELD_3</th>\n",
       "      <th>...</th>\n",
       "      <th>FIELD_9_APPEAR_stdized</th>\n",
       "      <th>FIELD_9_INDEX_stdized</th>\n",
       "      <th>FIELD_avg_age_stdized</th>\n",
       "      <th>FIELD_diff_age_stdized</th>\n",
       "      <th>FIELD_AGE_0_stdized</th>\n",
       "      <th>FIELD_AGE_1_stdized</th>\n",
       "      <th>FIELD_AGE_2_stdized</th>\n",
       "      <th>FIELD_AGE_3_stdized</th>\n",
       "      <th>FIELD_AGE_4_stdized</th>\n",
       "      <th>FIELD_AGE_NONE_stdized</th>\n",
       "    </tr>\n",
       "  </thead>\n",
       "  <tbody>\n",
       "    <tr>\n",
       "      <th>0</th>\n",
       "      <td>0</td>\n",
       "      <td>0</td>\n",
       "      <td>nan</td>\n",
       "      <td>nan</td>\n",
       "      <td>NaN</td>\n",
       "      <td>NaN</td>\n",
       "      <td>none</td>\n",
       "      <td>1.0</td>\n",
       "      <td>1.0</td>\n",
       "      <td>2547.0</td>\n",
       "      <td>...</td>\n",
       "      <td>NaN</td>\n",
       "      <td>NaN</td>\n",
       "      <td>NaN</td>\n",
       "      <td>NaN</td>\n",
       "      <td>NaN</td>\n",
       "      <td>NaN</td>\n",
       "      <td>NaN</td>\n",
       "      <td>NaN</td>\n",
       "      <td>NaN</td>\n",
       "      <td>NaN</td>\n",
       "    </tr>\n",
       "    <tr>\n",
       "      <th>1</th>\n",
       "      <td>1</td>\n",
       "      <td>0</td>\n",
       "      <td>tỉnh đồng nai</td>\n",
       "      <td>thành phố biên hòa</td>\n",
       "      <td>44</td>\n",
       "      <td>44</td>\n",
       "      <td>none</td>\n",
       "      <td>1.0</td>\n",
       "      <td>0.0</td>\n",
       "      <td>-1.0</td>\n",
       "      <td>...</td>\n",
       "      <td>0.637609</td>\n",
       "      <td>0.193968</td>\n",
       "      <td>0.228218</td>\n",
       "      <td>0.228218</td>\n",
       "      <td>NaN</td>\n",
       "      <td>NaN</td>\n",
       "      <td>NaN</td>\n",
       "      <td>NaN</td>\n",
       "      <td>NaN</td>\n",
       "      <td>NaN</td>\n",
       "    </tr>\n",
       "    <tr>\n",
       "      <th>2</th>\n",
       "      <td>2</td>\n",
       "      <td>0</td>\n",
       "      <td>tỉnh đồng nai</td>\n",
       "      <td>huyện long thành</td>\n",
       "      <td>30</td>\n",
       "      <td>30</td>\n",
       "      <td>công nhân</td>\n",
       "      <td>0.0</td>\n",
       "      <td>1.0</td>\n",
       "      <td>3273.0</td>\n",
       "      <td>...</td>\n",
       "      <td>0.664303</td>\n",
       "      <td>0.202861</td>\n",
       "      <td>0.150470</td>\n",
       "      <td>0.150470</td>\n",
       "      <td>NaN</td>\n",
       "      <td>NaN</td>\n",
       "      <td>NaN</td>\n",
       "      <td>NaN</td>\n",
       "      <td>NaN</td>\n",
       "      <td>NaN</td>\n",
       "    </tr>\n",
       "    <tr>\n",
       "      <th>3</th>\n",
       "      <td>3</td>\n",
       "      <td>0</td>\n",
       "      <td>tỉnh tuyên quang</td>\n",
       "      <td>thành phố tuyên quang</td>\n",
       "      <td>43</td>\n",
       "      <td>NaN</td>\n",
       "      <td>none</td>\n",
       "      <td>0.0</td>\n",
       "      <td>1.0</td>\n",
       "      <td>3991.0</td>\n",
       "      <td>...</td>\n",
       "      <td>-1.306296</td>\n",
       "      <td>-0.957427</td>\n",
       "      <td>0.593771</td>\n",
       "      <td>0.593771</td>\n",
       "      <td>NaN</td>\n",
       "      <td>NaN</td>\n",
       "      <td>NaN</td>\n",
       "      <td>NaN</td>\n",
       "      <td>NaN</td>\n",
       "      <td>NaN</td>\n",
       "    </tr>\n",
       "    <tr>\n",
       "      <th>4</th>\n",
       "      <td>4</td>\n",
       "      <td>0</td>\n",
       "      <td>thành phố hồ chí minh</td>\n",
       "      <td>quận 1</td>\n",
       "      <td>21</td>\n",
       "      <td>21</td>\n",
       "      <td>none</td>\n",
       "      <td>0.0</td>\n",
       "      <td>1.0</td>\n",
       "      <td>1450.0</td>\n",
       "      <td>...</td>\n",
       "      <td>0.591361</td>\n",
       "      <td>1.803420</td>\n",
       "      <td>-0.710923</td>\n",
       "      <td>-0.710923</td>\n",
       "      <td>NaN</td>\n",
       "      <td>NaN</td>\n",
       "      <td>NaN</td>\n",
       "      <td>NaN</td>\n",
       "      <td>NaN</td>\n",
       "      <td>NaN</td>\n",
       "    </tr>\n",
       "  </tbody>\n",
       "</table>\n",
       "<p>5 rows × 423 columns</p>\n",
       "</div>"
      ],
      "text/plain": [
       "   id  label               province               district age_source1  \\\n",
       "0   0      0                    nan                    nan         NaN   \n",
       "1   1      0          tỉnh đồng nai     thành phố biên hòa          44   \n",
       "2   2      0          tỉnh đồng nai       huyện long thành          30   \n",
       "3   3      0       tỉnh tuyên quang  thành phố tuyên quang          43   \n",
       "4   4      0  thành phố hồ chí minh                 quận 1          21   \n",
       "\n",
       "  age_source2       maCv  FIELD_1  FIELD_2  FIELD_3  ...  \\\n",
       "0         NaN       none      1.0      1.0   2547.0  ...   \n",
       "1          44       none      1.0      0.0     -1.0  ...   \n",
       "2          30  công nhân      0.0      1.0   3273.0  ...   \n",
       "3         NaN       none      0.0      1.0   3991.0  ...   \n",
       "4          21       none      0.0      1.0   1450.0  ...   \n",
       "\n",
       "   FIELD_9_APPEAR_stdized  FIELD_9_INDEX_stdized  FIELD_avg_age_stdized  \\\n",
       "0                     NaN                    NaN                    NaN   \n",
       "1                0.637609               0.193968               0.228218   \n",
       "2                0.664303               0.202861               0.150470   \n",
       "3               -1.306296              -0.957427               0.593771   \n",
       "4                0.591361               1.803420              -0.710923   \n",
       "\n",
       "  FIELD_diff_age_stdized FIELD_AGE_0_stdized FIELD_AGE_1_stdized  \\\n",
       "0                    NaN                 NaN                 NaN   \n",
       "1               0.228218                 NaN                 NaN   \n",
       "2               0.150470                 NaN                 NaN   \n",
       "3               0.593771                 NaN                 NaN   \n",
       "4              -0.710923                 NaN                 NaN   \n",
       "\n",
       "  FIELD_AGE_2_stdized  FIELD_AGE_3_stdized  FIELD_AGE_4_stdized  \\\n",
       "0                 NaN                  NaN                  NaN   \n",
       "1                 NaN                  NaN                  NaN   \n",
       "2                 NaN                  NaN                  NaN   \n",
       "3                 NaN                  NaN                  NaN   \n",
       "4                 NaN                  NaN                  NaN   \n",
       "\n",
       "  FIELD_AGE_NONE_stdized  \n",
       "0                    NaN  \n",
       "1                    NaN  \n",
       "2                    NaN  \n",
       "3                    NaN  \n",
       "4                    NaN  \n",
       "\n",
       "[5 rows x 423 columns]"
      ]
     },
     "execution_count": 181,
     "metadata": {},
     "output_type": "execute_result"
    }
   ],
   "source": [
    "dfITrain.head()"
   ]
  },
  {
   "cell_type": "markdown",
   "metadata": {},
   "source": [
    "# Prepare itest"
   ]
  },
  {
   "cell_type": "raw",
   "metadata": {},
   "source": [
    "pdfTest.columns"
   ]
  },
  {
   "cell_type": "code",
   "execution_count": 140,
   "metadata": {},
   "outputs": [
    {
     "name": "stdout",
     "output_type": "stream",
     "text": [
      "Merge nb01\n"
     ]
    }
   ],
   "source": [
    "print(\"Merge nb01\")\n",
    "lsNbMetaCol = lsMetaCol1\n",
    "dfNb = dfNb01\n",
    "dfITest = pd.merge(pdfTest, dfNb, on=lsNbMetaCol, how=\"left\")\n",
    "\n",
    "dfITest.shape # label col is missing\n",
    "\n",
    "lsTmp = [c for c in dfITest.columns if c not in lsFieldFt]\n",
    "# pprint(lsTmp)"
   ]
  },
  {
   "cell_type": "code",
   "execution_count": 187,
   "metadata": {
    "collapsed": true
   },
   "outputs": [
    {
     "data": {
      "text/html": [
       "<div>\n",
       "<style scoped>\n",
       "    .dataframe tbody tr th:only-of-type {\n",
       "        vertical-align: middle;\n",
       "    }\n",
       "\n",
       "    .dataframe tbody tr th {\n",
       "        vertical-align: top;\n",
       "    }\n",
       "\n",
       "    .dataframe thead th {\n",
       "        text-align: right;\n",
       "    }\n",
       "</style>\n",
       "<table border=\"1\" class=\"dataframe\">\n",
       "  <thead>\n",
       "    <tr style=\"text-align: right;\">\n",
       "      <th></th>\n",
       "      <th>id</th>\n",
       "      <th>province</th>\n",
       "      <th>district</th>\n",
       "      <th>age_source1</th>\n",
       "      <th>age_source2</th>\n",
       "      <th>maCv</th>\n",
       "      <th>FIELD_1</th>\n",
       "      <th>FIELD_2</th>\n",
       "      <th>FIELD_3</th>\n",
       "      <th>FIELD_4</th>\n",
       "      <th>...</th>\n",
       "      <th>FIELD_AGE_3_mean</th>\n",
       "      <th>FIELD_AGE_3_std</th>\n",
       "      <th>FIELD_AGE_4_mean</th>\n",
       "      <th>FIELD_AGE_4_std</th>\n",
       "      <th>FIELD_AGE_NONE_mean</th>\n",
       "      <th>FIELD_AGE_NONE_std</th>\n",
       "      <th>FIELD_group_age_ecdmean_mean</th>\n",
       "      <th>FIELD_group_age_ecdmean_std</th>\n",
       "      <th>FIELD_group_age_ecdstd_mean</th>\n",
       "      <th>FIELD_group_age_ecdstd_std</th>\n",
       "    </tr>\n",
       "  </thead>\n",
       "  <tbody>\n",
       "    <tr>\n",
       "      <th>0</th>\n",
       "      <td>30000</td>\n",
       "      <td>nan</td>\n",
       "      <td>nan</td>\n",
       "      <td>NaN</td>\n",
       "      <td>NaN</td>\n",
       "      <td>none</td>\n",
       "      <td>1.0</td>\n",
       "      <td>1.0</td>\n",
       "      <td>719.0</td>\n",
       "      <td>0.0</td>\n",
       "      <td>...</td>\n",
       "      <td>0.0</td>\n",
       "      <td>0.0</td>\n",
       "      <td>0.0</td>\n",
       "      <td>0.0</td>\n",
       "      <td>1.0</td>\n",
       "      <td>0.0</td>\n",
       "      <td>0.019980</td>\n",
       "      <td>0.0</td>\n",
       "      <td>0.139941</td>\n",
       "      <td>0.0</td>\n",
       "    </tr>\n",
       "    <tr>\n",
       "      <th>1</th>\n",
       "      <td>30001</td>\n",
       "      <td>nan</td>\n",
       "      <td>nan</td>\n",
       "      <td>NaN</td>\n",
       "      <td>NaN</td>\n",
       "      <td>none</td>\n",
       "      <td>1.0</td>\n",
       "      <td>1.0</td>\n",
       "      <td>1442.0</td>\n",
       "      <td>0.0</td>\n",
       "      <td>...</td>\n",
       "      <td>0.0</td>\n",
       "      <td>0.0</td>\n",
       "      <td>0.0</td>\n",
       "      <td>0.0</td>\n",
       "      <td>1.0</td>\n",
       "      <td>0.0</td>\n",
       "      <td>0.019980</td>\n",
       "      <td>0.0</td>\n",
       "      <td>0.139941</td>\n",
       "      <td>0.0</td>\n",
       "    </tr>\n",
       "    <tr>\n",
       "      <th>2</th>\n",
       "      <td>30002</td>\n",
       "      <td>thành phố hà nội</td>\n",
       "      <td>huyện mỹ đức</td>\n",
       "      <td>32</td>\n",
       "      <td>32</td>\n",
       "      <td>trưởng dây chuyền phòng sản xuất</td>\n",
       "      <td>0.0</td>\n",
       "      <td>1.0</td>\n",
       "      <td>4000.0</td>\n",
       "      <td>2.0</td>\n",
       "      <td>...</td>\n",
       "      <td>NaN</td>\n",
       "      <td>NaN</td>\n",
       "      <td>NaN</td>\n",
       "      <td>NaN</td>\n",
       "      <td>NaN</td>\n",
       "      <td>NaN</td>\n",
       "      <td>NaN</td>\n",
       "      <td>NaN</td>\n",
       "      <td>NaN</td>\n",
       "      <td>NaN</td>\n",
       "    </tr>\n",
       "    <tr>\n",
       "      <th>3</th>\n",
       "      <td>30003</td>\n",
       "      <td>nan</td>\n",
       "      <td>nan</td>\n",
       "      <td>NaN</td>\n",
       "      <td>25</td>\n",
       "      <td>none</td>\n",
       "      <td>0.0</td>\n",
       "      <td>1.0</td>\n",
       "      <td>1073.0</td>\n",
       "      <td>0.0</td>\n",
       "      <td>...</td>\n",
       "      <td>0.0</td>\n",
       "      <td>0.0</td>\n",
       "      <td>0.0</td>\n",
       "      <td>0.0</td>\n",
       "      <td>0.0</td>\n",
       "      <td>0.0</td>\n",
       "      <td>0.013346</td>\n",
       "      <td>0.0</td>\n",
       "      <td>0.114758</td>\n",
       "      <td>0.0</td>\n",
       "    </tr>\n",
       "    <tr>\n",
       "      <th>4</th>\n",
       "      <td>30004</td>\n",
       "      <td>nan</td>\n",
       "      <td>nan</td>\n",
       "      <td>NaN</td>\n",
       "      <td>NaN</td>\n",
       "      <td>none</td>\n",
       "      <td>1.0</td>\n",
       "      <td>1.0</td>\n",
       "      <td>703.0</td>\n",
       "      <td>0.0</td>\n",
       "      <td>...</td>\n",
       "      <td>0.0</td>\n",
       "      <td>0.0</td>\n",
       "      <td>0.0</td>\n",
       "      <td>0.0</td>\n",
       "      <td>1.0</td>\n",
       "      <td>0.0</td>\n",
       "      <td>0.019980</td>\n",
       "      <td>0.0</td>\n",
       "      <td>0.139941</td>\n",
       "      <td>0.0</td>\n",
       "    </tr>\n",
       "  </tbody>\n",
       "</table>\n",
       "<p>5 rows × 330 columns</p>\n",
       "</div>"
      ],
      "text/plain": [
       "      id          province      district age_source1 age_source2  \\\n",
       "0  30000               nan           nan         NaN         NaN   \n",
       "1  30001               nan           nan         NaN         NaN   \n",
       "2  30002  thành phố hà nội  huyện mỹ đức          32          32   \n",
       "3  30003               nan           nan         NaN          25   \n",
       "4  30004               nan           nan         NaN         NaN   \n",
       "\n",
       "                               maCv  FIELD_1  FIELD_2  FIELD_3  FIELD_4  ...  \\\n",
       "0                              none      1.0      1.0    719.0      0.0  ...   \n",
       "1                              none      1.0      1.0   1442.0      0.0  ...   \n",
       "2  trưởng dây chuyền phòng sản xuất      0.0      1.0   4000.0      2.0  ...   \n",
       "3                              none      0.0      1.0   1073.0      0.0  ...   \n",
       "4                              none      1.0      1.0    703.0      0.0  ...   \n",
       "\n",
       "   FIELD_AGE_3_mean  FIELD_AGE_3_std FIELD_AGE_4_mean FIELD_AGE_4_std  \\\n",
       "0               0.0              0.0              0.0             0.0   \n",
       "1               0.0              0.0              0.0             0.0   \n",
       "2               NaN              NaN              NaN             NaN   \n",
       "3               0.0              0.0              0.0             0.0   \n",
       "4               0.0              0.0              0.0             0.0   \n",
       "\n",
       "  FIELD_AGE_NONE_mean FIELD_AGE_NONE_std  FIELD_group_age_ecdmean_mean  \\\n",
       "0                 1.0                0.0                      0.019980   \n",
       "1                 1.0                0.0                      0.019980   \n",
       "2                 NaN                NaN                           NaN   \n",
       "3                 0.0                0.0                      0.013346   \n",
       "4                 1.0                0.0                      0.019980   \n",
       "\n",
       "   FIELD_group_age_ecdmean_std FIELD_group_age_ecdstd_mean  \\\n",
       "0                          0.0                    0.139941   \n",
       "1                          0.0                    0.139941   \n",
       "2                          NaN                         NaN   \n",
       "3                          0.0                    0.114758   \n",
       "4                          0.0                    0.139941   \n",
       "\n",
       "   FIELD_group_age_ecdstd_std  \n",
       "0                         0.0  \n",
       "1                         0.0  \n",
       "2                         NaN  \n",
       "3                         0.0  \n",
       "4                         0.0  \n",
       "\n",
       "[5 rows x 330 columns]"
      ]
     },
     "execution_count": 187,
     "metadata": {},
     "output_type": "execute_result"
    }
   ],
   "source": [
    "dfITest.head()"
   ]
  },
  {
   "cell_type": "code",
   "execution_count": 141,
   "metadata": {},
   "outputs": [
    {
     "name": "stdout",
     "output_type": "stream",
     "text": [
      "(20000, 453)\n",
      "2020-03-01 23:59:48\n",
      "-------------------\n"
     ]
    }
   ],
   "source": [
    "for c in lsFieldFt:\n",
    "    # stdized1 and stdized3\n",
    "    dfITest[\"%s_stdized1\"%c] = (dfITest[c] - dfITest[c+\"_mean\"])/dfITest[c+\"_std\"]\n",
    "print(dfITest.shape) # (19936, 340)\n",
    "printRuntime()"
   ]
  },
  {
   "cell_type": "code",
   "execution_count": 142,
   "metadata": {},
   "outputs": [
    {
     "name": "stdout",
     "output_type": "stream",
     "text": [
      "Drop nb01 group ft (mean, std)\n",
      "(20000, 237)\n",
      "2020-03-01 23:59:50\n",
      "-------------------\n"
     ]
    }
   ],
   "source": [
    "print(\"Drop nb01 group ft (mean, std)\")\n",
    "lsNb01Ft = [c for c in dfNb01.columns if \"FIELD\" in c]\n",
    "dfITest = dfITest.drop(lsNb01Ft, axis=1)\n",
    "print(dfITest.shape)\n",
    "printRuntime()"
   ]
  },
  {
   "cell_type": "markdown",
   "metadata": {},
   "source": [
    "#### NB Ft3: province, group_age, jobCat"
   ]
  },
  {
   "cell_type": "code",
   "execution_count": 143,
   "metadata": {},
   "outputs": [
    {
     "name": "stdout",
     "output_type": "stream",
     "text": [
      "Merge nb03\n",
      "Pre-merge shape: (20000, 237)\n",
      "Post-merge shape: (20000, 453)\n",
      "2020-03-01 23:59:53\n",
      "-------------------\n"
     ]
    }
   ],
   "source": [
    "# nb ft\n",
    "print(\"Merge nb03\")\n",
    "lsNbMetaCol = lsMetaCol3\n",
    "dfNb = dfNb03\n",
    "\n",
    "print(\"Pre-merge shape:\", dfITest.shape)\n",
    "dfITest = pd.merge(dfITest, dfNb, on=lsNbMetaCol, how=\"left\")\n",
    "\n",
    "print(\"Post-merge shape:\", dfITest.shape)\n",
    "printRuntime()"
   ]
  },
  {
   "cell_type": "code",
   "execution_count": 144,
   "metadata": {},
   "outputs": [
    {
     "name": "stdout",
     "output_type": "stream",
     "text": [
      "(20000, 560)\n",
      "2020-03-01 23:59:58\n",
      "-------------------\n"
     ]
    }
   ],
   "source": [
    "for c in lsFieldFt:\n",
    "    dfITest[\"%s_stdized2\"%c] = (dfITest[c] - dfITest[c+\"_mean\"])/dfITest[c+\"_std\"]\n",
    "print(dfITest.shape) # (29924, 353)\n",
    "printRuntime()"
   ]
  },
  {
   "cell_type": "code",
   "execution_count": 145,
   "metadata": {},
   "outputs": [
    {
     "name": "stdout",
     "output_type": "stream",
     "text": [
      "Drop nb03 group ft (mean, std)\n",
      "(20000, 344)\n",
      "2020-03-02 00:00:00\n",
      "-------------------\n"
     ]
    }
   ],
   "source": [
    "print(\"Drop nb03 group ft (mean, std)\")\n",
    "lsNb03Ft = [c for c in dfNb03.columns if \"FIELD\" in c]\n",
    "dfITest = dfITest.drop(lsNb03Ft, axis=1)\n",
    "print(dfITest.shape)\n",
    "printRuntime()"
   ]
  },
  {
   "cell_type": "code",
   "execution_count": null,
   "metadata": {},
   "outputs": [],
   "source": []
  },
  {
   "cell_type": "markdown",
   "metadata": {},
   "source": [
    "### Save iTest data"
   ]
  },
  {
   "cell_type": "code",
   "execution_count": 146,
   "metadata": {},
   "outputs": [
    {
     "data": {
      "text/plain": [
       "((30000, 345), (20000, 344))"
      ]
     },
     "execution_count": 146,
     "metadata": {},
     "output_type": "execute_result"
    }
   ],
   "source": [
    "dfITrain.shape, dfITest.shape"
   ]
  },
  {
   "cell_type": "code",
   "execution_count": 147,
   "metadata": {},
   "outputs": [
    {
     "name": "stdout",
     "output_type": "stream",
     "text": [
      "2020-03-02 00:00:33\n",
      "-------------------\n"
     ]
    }
   ],
   "source": [
    "iTestPath = basePath + \"itest_{}.pickle\".format(ymd)\n",
    "dfITest.to_pickle(iTestPath, compression=\"bz2\")\n",
    "printRuntime()"
   ]
  },
  {
   "cell_type": "code",
   "execution_count": null,
   "metadata": {},
   "outputs": [],
   "source": []
  }
 ],
 "metadata": {
  "kernelspec": {
   "display_name": "Python 3",
   "language": "python",
   "name": "python3"
  },
  "language_info": {
   "codemirror_mode": {
    "name": "ipython",
    "version": 3
   },
   "file_extension": ".py",
   "mimetype": "text/x-python",
   "name": "python",
   "nbconvert_exporter": "python",
   "pygments_lexer": "ipython3",
   "version": "3.6.4"
  }
 },
 "nbformat": 4,
 "nbformat_minor": 2
}
