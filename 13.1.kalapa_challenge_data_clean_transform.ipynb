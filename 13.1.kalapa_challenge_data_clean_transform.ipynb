{
 "cells": [
  {
   "cell_type": "code",
   "execution_count": 1,
   "metadata": {},
   "outputs": [],
   "source": [
    "import pandas as pd, numpy as np, seaborn as sns\n",
    "from pprint import pprint\n",
    "%matplotlib inline\n",
    "import matplotlib\n",
    "import matplotlib.pyplot as plt\n",
    "\n",
    "import math\n",
    "from collections import Counter\n",
    "\n",
    "import datetime, time\n",
    "\n",
    "from pprint import pprint\n",
    "import re"
   ]
  },
  {
   "cell_type": "code",
   "execution_count": 2,
   "metadata": {},
   "outputs": [
    {
     "name": "stdout",
     "output_type": "stream",
     "text": [
      "2020-03-02 23:12:59\n",
      "-------------------\n"
     ]
    }
   ],
   "source": [
    "def printRuntime():\n",
    "    print(datetime.datetime.now().strftime(\"%Y-%m-%d %T\"))\n",
    "    print(\"-\"*19)\n",
    "printRuntime()"
   ]
  },
  {
   "cell_type": "markdown",
   "metadata": {},
   "source": [
    "# 1. Load data"
   ]
  },
  {
   "cell_type": "code",
   "execution_count": 3,
   "metadata": {},
   "outputs": [
    {
     "name": "stdout",
     "output_type": "stream",
     "text": [
      "2020-03-02 23:12:59\n",
      "-------------------\n"
     ]
    }
   ],
   "source": [
    "basePath = \"./kalapa/\"\n",
    "trainPath = basePath + \"train.csv\"\n",
    "testPath = basePath + \"test.csv\"\n",
    "colDesc = basePath + \"column_description.csv\"\n",
    "sampleSubmit = basePath + \"sample_submission.csv\"\n",
    "\n",
    "cleanedTrain = basePath + \"cleanedTrain.pickle\"\n",
    "cleanedTest = basePath + \"cleanedTest.pickle\"\n",
    "nb01 = basePath + \"nb01.pickle\"\n",
    "nb02 = basePath + \"nb02.pickle\"\n",
    "nb03 = basePath + \"nb03.pickle\"\n",
    "printRuntime()"
   ]
  },
  {
   "cell_type": "code",
   "execution_count": 4,
   "metadata": {},
   "outputs": [
    {
     "name": "stdout",
     "output_type": "stream",
     "text": [
      "2020-03-02 23:12:59\n",
      "-------------------\n"
     ]
    }
   ],
   "source": [
    "def avgAge(row):\n",
    "    a = row[\"age_source1\"]\n",
    "    b = row[\"age_source2\"]\n",
    "    if np.isnan(a) and np.isnan(b):\n",
    "        return np.nan\n",
    "    elif np.isnan(a):\n",
    "        return b\n",
    "    elif np.isnan(b):\n",
    "        return a\n",
    "    else:\n",
    "        return (a+b)/2.0\n",
    "    \n",
    "def diffAge(row):\n",
    "    a = row[\"age_source1\"]\n",
    "    b = row[\"age_source2\"]\n",
    "    if np.isnan(a) and np.isnan(b):\n",
    "        return np.nan\n",
    "    elif np.isnan(a):\n",
    "        return -b\n",
    "    elif np.isnan(b):\n",
    "        return a\n",
    "    else:\n",
    "        return (a+b)/2.0\n",
    "    \n",
    "def groupAge(age):\n",
    "    # Based on distribution of bad label and bad ratio\n",
    "    # 18-21; 21-30; 30-45; 45+\n",
    "    result = \"\"\n",
    "    if np.isnan(age):\n",
    "        result = \"AGE_NONE\"\n",
    "    elif age <= 18:\n",
    "        result = \"AGE_0\"\n",
    "    elif age <= 21:\n",
    "        result = \"AGE_1\"\n",
    "    elif age <= 30:\n",
    "        result = \"AGE_2\"\n",
    "    elif age <= 45:\n",
    "        result = \"AGE_3\"\n",
    "    else:\n",
    "        result = \"AGE_4\"\n",
    "    return result\n",
    "printRuntime()"
   ]
  },
  {
   "cell_type": "markdown",
   "metadata": {},
   "source": [
    "# Train"
   ]
  },
  {
   "cell_type": "code",
   "execution_count": 5,
   "metadata": {},
   "outputs": [
    {
     "name": "stdout",
     "output_type": "stream",
     "text": [
      "2020-03-02 23:13:01\n",
      "-------------------\n"
     ]
    },
    {
     "name": "stderr",
     "output_type": "stream",
     "text": [
      "/Users/newuser/anaconda3/lib/python3.6/site-packages/IPython/core/interactiveshell.py:2728: DtypeWarning: Columns (51) have mixed types. Specify dtype option on import or set low_memory=False.\n",
      "  interactivity=interactivity, compiler=compiler, result=result)\n"
     ]
    }
   ],
   "source": [
    "pdfTrainRaw = pd.read_csv(trainPath)\n",
    "printRuntime()"
   ]
  },
  {
   "cell_type": "code",
   "execution_count": 6,
   "metadata": {},
   "outputs": [
    {
     "name": "stdout",
     "output_type": "stream",
     "text": [
      "(30000, 64)\n",
      "2020-03-02 23:13:01\n",
      "-------------------\n"
     ]
    }
   ],
   "source": [
    "cond = (\n",
    "    ~((pdfTrainRaw[\"age_source1\"]<18) | (pdfTrainRaw[\"age_source2\"]<18)) # Filter out age < 18, keep NaN\n",
    ")\n",
    "# pdfTrain = pdfTrainRaw[cond].copy()\n",
    "pdfTrain = pdfTrainRaw.copy()\n",
    "pdfTrain[\"maCv\"] = pdfTrain[\"maCv\"].apply(lambda x: str(x).lower())\n",
    "pdfTrain[\"province\"] = pdfTrain[\"province\"].apply(lambda x: str(x).lower())\n",
    "pdfTrain[\"district\"] = pdfTrain[\"district\"].apply(lambda x: str(x).lower())\n",
    "print(pdfTrain.shape)\n",
    "printRuntime()"
   ]
  },
  {
   "cell_type": "code",
   "execution_count": 7,
   "metadata": {},
   "outputs": [],
   "source": [
    "lsMetaCol = [\"id\", \"label\", \"province\", \"district\", \"age_source1\", \"age_source2\", \"maCv\"]"
   ]
  },
  {
   "cell_type": "markdown",
   "metadata": {},
   "source": [
    "# Test"
   ]
  },
  {
   "cell_type": "code",
   "execution_count": 8,
   "metadata": {},
   "outputs": [
    {
     "name": "stdout",
     "output_type": "stream",
     "text": [
      "2020-03-02 23:13:02\n",
      "-------------------\n"
     ]
    },
    {
     "name": "stderr",
     "output_type": "stream",
     "text": [
      "/Users/newuser/anaconda3/lib/python3.6/site-packages/IPython/core/interactiveshell.py:2728: DtypeWarning: Columns (50) have mixed types. Specify dtype option on import or set low_memory=False.\n",
      "  interactivity=interactivity, compiler=compiler, result=result)\n"
     ]
    }
   ],
   "source": [
    "pdfTestRaw = pd.read_csv(testPath)\n",
    "printRuntime()"
   ]
  },
  {
   "cell_type": "code",
   "execution_count": 9,
   "metadata": {},
   "outputs": [
    {
     "name": "stdout",
     "output_type": "stream",
     "text": [
      "(20000, 63)\n",
      "2020-03-02 23:13:03\n",
      "-------------------\n"
     ]
    }
   ],
   "source": [
    "cond = (\n",
    "    ~((pdfTestRaw[\"age_source1\"]<18) | (pdfTestRaw[\"age_source2\"]<18)) # Filter out age < 18, keep NaN\n",
    ")\n",
    "# pdfTest = pdfTestRaw[cond].copy()\n",
    "pdfTest = pdfTestRaw.copy()\n",
    "pdfTest[\"maCv\"] = pdfTest[\"maCv\"].apply(lambda x: str(x).lower())\n",
    "pdfTest[\"province\"] = pdfTest[\"province\"].apply(lambda x: str(x).lower())\n",
    "pdfTest[\"district\"] = pdfTest[\"district\"].apply(lambda x: str(x).lower())\n",
    "print(pdfTest.shape)\n",
    "printRuntime()"
   ]
  },
  {
   "cell_type": "markdown",
   "metadata": {},
   "source": [
    "### Clean data"
   ]
  },
  {
   "cell_type": "raw",
   "metadata": {},
   "source": [
    "cat non-ordinal fields\n",
    "FIELD_7 (vector), FIELD_9 35, FIELD_10 3, FIELD_12 5, FIELD_13 227, FIELD_17 8, FIELD_24 4, FIELD_39 46, FIELD_43 7\n",
    "one-hot: 10, 12, 17, 24, 43\n",
    "Duplicated province \"Tỉnh Vĩnh Phúc\" and \"Tỉnh Vĩnh phúc\"\n",
    "# TODO:\n",
    "embedding: 7, 9, 13, 39 TO BE DONE"
   ]
  },
  {
   "cell_type": "raw",
   "metadata": {},
   "source": [
    "# Because nan is float64, convert columns to float64\n",
    "FIELD_1: [1 0]\n",
    "FIELD_2: [ 1.  0. nan] 1. ->1, 0. ->0\n",
    "FIELD_3: float64 multiple values\n",
    "FIELD_4: [ 0.  1. nan  2.  3.  4.  5.  6.  8.  7. 12.] 0->8, 12, nan\n",
    "FIELD_5: [ 0.  1.  4.  2. nan  6.  3.  5.  7.  8. 11.  9. 12. 14. 10. 13.] 0->14, nan\n",
    "FIELD_6: [ 0.  1. nan  2.  3.  4.] -> 1-5 scale (with NULL)\n",
    "FIELD_7: TO BE EMBEDDED\n",
    "FIELD_8: [nan 'MALE' 'FEMALE'] Gender (with NULL)\n",
    "FIELD_9: TO BE EMBEDDED\n",
    "FIELD_10: [nan 'T1' 'GH'] object non-ordinal\n",
    "FIELD_11: numeric string: 'None'->nan, string -> int64\n",
    "FIELD_12: [nan 'None' '0' '1' 'HT' 'TN'] (nan, 'HT', 'TN') -> 'None' '0', '1', ('HT', 'TN', ...) -> 'None' \n",
    "FIELD_13: object not detected -> TO BE EMBEDDED\n",
    "FIELD_14: [0 1]\n",
    "FIELD_15: [0 1]\n",
    "FIELD_16: 1-5 scale (with NULL)\n",
    "FIELD_17: [nan 'G8' 'None' 'G9' 'G7' 'GX' 'G3' 'G4' 'G2'] 'None' => nan  object non-ordinal\n",
    "FIELD_18: [nan True False]\n",
    "FIELD_19: [nan True False]\n",
    "FIELD_20: [nan True False]\n",
    "FIELD_21: [nan  1.  2.  0.] -> 0, 1, 2 (int64)\n",
    "FIELD_22: float64 multiple values\n",
    "FIELD_23: [nan, True] -> bool\n",
    "FIELD_24: [nan 'None' 'K3' 'K1' 'K2'] 'None' => nan  object non-ordinal\n",
    "FIELD_25: [nan, 'FALSE', 'TRUE'] 'TRUE' -> True, 'FALSE' -> False\n",
    "FIELD_26: [nan True False]\n",
    "FIELD_27: [nan True False]\n",
    "FIELD_28: [nan True False]\n",
    "FIELD_29: [nan, 'None', 'FALSE', 'TRUE'] 'None' => nan, 'TRUE' -> True, 'FALSE' -> False\n",
    "FIELD_30: [nan, 'None', 'FALSE', 'TRUE'] 'None' => nan, 'TRUE' -> True, 'FALSE' -> False\n",
    "FIELD_31: [nan 'None' 'FALSE'] 'None' -> nan, 'FALSE' -> False\n",
    "FIELD_32: int64 but 0-1 ~ bool\n",
    "FIELD_33: int64 but 0-1 ~ bool\n",
    "FIELD_34: int64 but 0-1 ~ bool\n",
    "FIELD_35: [nan 'Zero' 'Four' 'One' 'Three' 'Two'] => 1-5 scale (with NULL)\n",
    "FIELD_36: [nan 'FALSE' 'TRUE' 'None'] 'None' => nan\n",
    "FIELD_37: [nan True False 'TRUE' 'FALSE' 'None'] 'None' => nan, 'TRUE' -> True, 'FALSE' -> False\n",
    "FIELD_38: [nan False True]\n",
    "FIELD_39: object not detected -> TO BE EMBEDDED\n",
    "FIELD_40: [nan 'None' '1' '2' '02 05 08 11' '3' '6' '4' '08 02' '05 08 11 02'] nan->'None'->nan, ('08 02', '05 08 11 02') -> '02 05 08 11'\n",
    "FIELD_41: [nan 'V' 'I' 'III' 'II' 'IV'] => 1-5 scale (with NULL)\n",
    "FIELD_42: [nan 'Zezo' 'One' 'None'] => 'None' -> nan, 'Zero' -> 0, 'One' -> 1\n",
    "FIELD_43: [nan 'None' 'B' 'D' 'C' 'A' '5' '0']\n",
    "FIELD_44: [nan 'One' 'Two' 'None'] => 'None' -> nan, 'One'->1, 'Two'->2\n",
    "FIELD_45: [nan '1' '2' 'None' 1.0 2.0] => 'None' -> nan, '1'->1, '2'->2, 1.0->1, 2.0->2\n",
    "FIELD_46: [0 1]\n",
    "FIELD_47: [True False]\n",
    "FIELD_48: [True False]\n",
    "FIELD_49: [True False]"
   ]
  },
  {
   "cell_type": "raw",
   "metadata": {},
   "source": [
    "25, 29, 30, 31, 36, 37, : 'TRUE' -> True, 'FALSE' -> False !DONE\n",
    "35: => \"Zero\"-\"Four\" -> 1-5 scale (with NULL) !DONE\n",
    "41: \"I\"-\"V\" -> 1-5 scale (with NULL) !DONE\n",
    "42, 44: \"Zezo\", \"One\", \"Two\" !DONE\n",
    "45: \"1\" 1.0 -> 1; \"2\" 2.0 ->2 !DONE"
   ]
  },
  {
   "cell_type": "markdown",
   "metadata": {},
   "source": [
    "### Break down maCv to (maCv[:2] + maCv[2:])"
   ]
  },
  {
   "cell_type": "code",
   "execution_count": 10,
   "metadata": {},
   "outputs": [
    {
     "name": "stdout",
     "output_type": "stream",
     "text": [
      "('nhân viên', 'phòng thí nghiệm')\n",
      "('nhân viên', 'bảo trì')\n",
      "('công nhân', 'ủi')\n",
      "('cấp dưỡng', 'none')\n",
      "('trưởng dây chuyền', 'phòng sản xuất')\n",
      "('phó trưởng phòng', 'none')\n",
      "2020-03-02 23:13:06\n",
      "-------------------\n"
     ]
    }
   ],
   "source": [
    "def formatJob(iStr):\n",
    "    if \"none\" == iStr or \"nan\" == iStr:\n",
    "        return \"none\"\n",
    "    # Replace all digit\n",
    "    iStr = re.sub(\"\\d\", \"\", iStr)\n",
    "    # Replace cn to cong nhan\n",
    "    iStr = re.sub(r\"^(cnhân|cn|coõng nhaõn)\", \"công nhân \", iStr)\n",
    "    # Replace nv/nv. to nhan vien\n",
    "    iStr = re.sub(r\"(- nv|nv.|nv)\", \"nhân viên \", iStr)\n",
    "    # Replace p. to phó\n",
    "    iStr = re.sub(r\"(^p\\.)\", \"phó \", iStr)\n",
    "    \n",
    "    iStr = (iStr.replace(\"-\", \" \")\n",
    "            .replace(\"cty\", \"công ty\")\n",
    "            .replace(\".\", \" \")\n",
    "            .replace(\"(\", \" \").\n",
    "            replace(\")\", \" \")\n",
    "           )\n",
    "    return iStr\n",
    "\n",
    "def splitJobType(iStr):\n",
    "    if \"none\" == iStr or \"nan\" == iStr:\n",
    "        return \"none\", \"none\"\n",
    "    iStr = formatJob(iStr)\n",
    "    \n",
    "    lsWord = iStr.split()\n",
    "    if len(lsWord) == 0:\n",
    "        return \"none\", \"none\"\n",
    "    splitIdx = 2\n",
    "    if \"phó chánh\" in iStr or (\"phó trưởng\" in iStr \n",
    "                               and \"phó trưởng phòng\" not in iStr\n",
    "                               and \"phó trưởng ban\" not in iStr):\n",
    "        splitIdx = 4\n",
    "    elif (\"phó phòng\" not in iStr) and (lsWord[0] == \"phó\" or lsWord[0] == \"trưởng\"):\n",
    "        splitIdx = 3\n",
    "    \n",
    "    jobCat = \" \".join(lsWord[:splitIdx])\n",
    "    jobDesc = \"none\"\n",
    "    if len(lsWord) > splitIdx:\n",
    "        jobDesc = \" \".join(lsWord[splitIdx:])\n",
    "    return jobCat, jobDesc\n",
    "\n",
    "# Test\n",
    "print(splitJobType(\"nhân viên phòng thí nghiệm\"))\n",
    "print(splitJobType(\"nhân viên bảo trì\"))\n",
    "print(splitJobType(\"cn ủi\"))\n",
    "print(splitJobType(\"9782cấp dưỡng\"))\n",
    "print(splitJobType(\"trưởng dây chuyền phòng sản xuất\"))\n",
    "print(splitJobType(\"p. trưởng phòng\"))\n",
    "printRuntime()"
   ]
  },
  {
   "cell_type": "code",
   "execution_count": 11,
   "metadata": {},
   "outputs": [
    {
     "name": "stdout",
     "output_type": "stream",
     "text": [
      "CPU times: user 2 µs, sys: 0 ns, total: 2 µs\n",
      "Wall time: 4.77 µs\n",
      "2020-03-02 23:13:06\n",
      "-------------------\n"
     ]
    }
   ],
   "source": [
    "# pdfTrain[\"jobCat\"], pdfTrain[\"jobDesc\"] = pdfTrain[\"maCv\"].apply(lambda x: splitJobType(x))\n",
    "%time\n",
    "pdfTrain[\"maCv\"] = pdfTrain[\"maCv\"].apply(formatJob)\n",
    "pdfTrain[\"maCv_vector\"] = pdfTrain[\"maCv\"].apply(lambda x: x.split())\n",
    "pdfTrain[\"jobCat\"], pdfTrain[\"jobDesc\"] = zip(*pdfTrain[\"maCv\"].apply(splitJobType))\n",
    "printRuntime()"
   ]
  },
  {
   "cell_type": "code",
   "execution_count": 12,
   "metadata": {},
   "outputs": [
    {
     "name": "stdout",
     "output_type": "stream",
     "text": [
      "CPU times: user 2 µs, sys: 0 ns, total: 2 µs\n",
      "Wall time: 5.25 µs\n",
      "2020-03-02 23:13:07\n",
      "-------------------\n"
     ]
    }
   ],
   "source": [
    "# pdfTest[\"jobCat\"], pdfTest[\"jobDesc\"] = pdfTest[\"maCv\"].apply(lambda x: splitJobType(x))\n",
    "%time\n",
    "pdfTest[\"maCv\"] = pdfTest[\"maCv\"].apply(formatJob)\n",
    "pdfTest[\"maCv_vector\"] = pdfTest[\"maCv\"].apply(lambda x: x.split())\n",
    "pdfTest[\"jobCat\"], pdfTest[\"jobDesc\"] = zip(*pdfTest[\"maCv\"].apply(splitJobType))\n",
    "printRuntime()"
   ]
  },
  {
   "cell_type": "code",
   "execution_count": 13,
   "metadata": {},
   "outputs": [],
   "source": [
    "pdfTrain = (pdfTrain\n",
    "      .replace(np.nan, \"None\") # 'None' -> nan\n",
    "      .replace(\"TRUE\", True) # 'TRUE' -> True\n",
    "      .replace(\"FALSE\", False) # 'FALSE' -> False\n",
    "     )"
   ]
  },
  {
   "cell_type": "code",
   "execution_count": 14,
   "metadata": {},
   "outputs": [],
   "source": [
    "pdfTest = (pdfTest\n",
    "      .replace(np.nan, \"None\") # 'None' -> nan\n",
    "      .replace(\"TRUE\", True) # 'TRUE' -> True\n",
    "      .replace(\"FALSE\", False) # 'FALSE' -> False\n",
    "     )"
   ]
  },
  {
   "cell_type": "code",
   "execution_count": 15,
   "metadata": {},
   "outputs": [],
   "source": [
    "pdfTrainBk = pdfTrain.copy()\n",
    "\n",
    "pdfTestBk = pdfTest.copy()"
   ]
  },
  {
   "cell_type": "markdown",
   "metadata": {},
   "source": [
    "#### Replace ilformed values by columns to safely remove"
   ]
  },
  {
   "cell_type": "code",
   "execution_count": 16,
   "metadata": {},
   "outputs": [],
   "source": [
    "for dfTmp in [pdfTrain, pdfTest]:\n",
    "    # 6\n",
    "    dfTmp.loc[dfTmp[\"FIELD_6\"]==\"None\", \"FIELD_6\"] = np.nan\n",
    "    # dfTmp[\"FIELD_6\"] = dfTmp[\"FIELD_6\"] + 1\n",
    "    \n",
    "    # 12\n",
    "    dfTmp.loc[~dfTmp[\"FIELD_12\"].isin([\"None\", \"0\", \"1\"]), \"FIELD_12\"] = \"None\"\n",
    "\n",
    "    # 35 'Four' 'One' 'Three' 'Two'\n",
    "    dfTmp.loc[dfTmp[\"FIELD_35\"]==\"Zero\", \"FIELD_35\"] = 1\n",
    "    dfTmp.loc[dfTmp[\"FIELD_35\"]==\"One\", \"FIELD_35\"] = 2\n",
    "    dfTmp.loc[dfTmp[\"FIELD_35\"]==\"Two\", \"FIELD_35\"] = 3\n",
    "    dfTmp.loc[dfTmp[\"FIELD_35\"]==\"Three\", \"FIELD_35\"] = 4\n",
    "    dfTmp.loc[dfTmp[\"FIELD_35\"]==\"Four\", \"FIELD_35\"] = 5\n",
    "    \n",
    "    # 40 \n",
    "    dfTmp.loc[dfTmp[\"FIELD_40\"].isin([\"02 05 08 11\", \"05 08 11 02\", \"08 02\"]), \"FIELD_40\"] = \"02_05_08_11\"\n",
    "    \n",
    "    # 41 I II III IV V\n",
    "    dfTmp.loc[dfTmp[\"FIELD_41\"]==\"I\", \"FIELD_41\"] = 1\n",
    "    dfTmp.loc[dfTmp[\"FIELD_41\"]==\"II\", \"FIELD_41\"] = 2\n",
    "    dfTmp.loc[dfTmp[\"FIELD_41\"]==\"III\", \"FIELD_41\"] = 3\n",
    "    dfTmp.loc[dfTmp[\"FIELD_41\"]==\"IV\", \"FIELD_41\"] = 4\n",
    "    dfTmp.loc[dfTmp[\"FIELD_41\"]==\"V\", \"FIELD_41\"] = 5\n",
    "\n",
    "    # 42\n",
    "    dfTmp.loc[dfTmp[\"FIELD_42\"]==\"Zezo\", \"FIELD_42\"] = 0\n",
    "    dfTmp.loc[dfTmp[\"FIELD_42\"]==\"One\", \"FIELD_42\"] = 1\n",
    "\n",
    "    # 44\n",
    "    dfTmp.loc[dfTmp[\"FIELD_44\"]==\"One\", \"FIELD_44\"] = 1\n",
    "    dfTmp.loc[dfTmp[\"FIELD_44\"]==\"Two\", \"FIELD_44\"] = 2\n",
    "\n",
    "    # 45\n",
    "    dfTmp.loc[(dfTmp[\"FIELD_45\"]==\"1\")|(dfTmp[\"FIELD_45\"]==1.0), \"FIELD_45\"] = 1\n",
    "    dfTmp.loc[(dfTmp[\"FIELD_45\"]==\"2\")|(dfTmp[\"FIELD_45\"]==2.0), \"FIELD_45\"] = 2"
   ]
  },
  {
   "cell_type": "markdown",
   "metadata": {},
   "source": [
    "### One-hot 8 (gender), 10, 12, 17, 24, 40, 43"
   ]
  },
  {
   "cell_type": "code",
   "execution_count": 17,
   "metadata": {},
   "outputs": [],
   "source": [
    "pdfTrainBk1 = pdfTrain.copy()\n",
    "pdfTestBk1 = pdfTest.copy()"
   ]
  },
  {
   "cell_type": "raw",
   "metadata": {},
   "source": [
    "# reload data\n",
    "pdfTrain = pdfTrainBk1.copy()\n",
    "pdfTest = pdfTestBk1.copy()"
   ]
  },
  {
   "cell_type": "code",
   "execution_count": 18,
   "metadata": {},
   "outputs": [],
   "source": [
    "lsCol = [8, 10, 12, 17, 24, 40, 43]"
   ]
  },
  {
   "cell_type": "code",
   "execution_count": 19,
   "metadata": {},
   "outputs": [
    {
     "name": "stdout",
     "output_type": "stream",
     "text": [
      "FIELD_8\n",
      "FIELD_10\n",
      "FIELD_12\n",
      "FIELD_17\n",
      "FIELD_24\n",
      "FIELD_40\n",
      "FIELD_43\n"
     ]
    }
   ],
   "source": [
    "# Get one hot encoding of columns for pdfTrain pdfTest\n",
    "for d in lsCol:\n",
    "    cName = \"FIELD_%d\" % d\n",
    "    print(cName)\n",
    "    one_hot = pd.get_dummies(pdfTrain[cName].replace(np.nan, \"None\"))\n",
    "    renameCol = {}\n",
    "    for c in one_hot.columns:\n",
    "        renameCol[c] = \"%s_%s\" % (cName, c)\n",
    "    # pprint(renameCol)\n",
    "    one_hot = one_hot.rename(columns=renameCol)\n",
    "#     pdfTrain = pdfTrain.drop(cName, axis = 1)\n",
    "    # Join the encoded pdfTrain\n",
    "    pdfTrain = pdfTrain.join(one_hot)"
   ]
  },
  {
   "cell_type": "code",
   "execution_count": 20,
   "metadata": {},
   "outputs": [
    {
     "name": "stdout",
     "output_type": "stream",
     "text": [
      "FIELD_8\n",
      "FIELD_10\n",
      "FIELD_12\n",
      "FIELD_17\n",
      "FIELD_24\n",
      "FIELD_40\n",
      "FIELD_43\n"
     ]
    }
   ],
   "source": [
    "for d in lsCol:\n",
    "    cName = \"FIELD_%d\" % d\n",
    "    print(cName)\n",
    "    one_hot = pd.get_dummies(pdfTest[cName].replace(np.nan, \"None\"))\n",
    "    renameCol = {}\n",
    "    for c in one_hot.columns:\n",
    "        renameCol[c] = \"%s_%s\" % (cName, c)\n",
    "    # pprint(renameCol)\n",
    "    one_hot = one_hot.rename(columns=renameCol)\n",
    "#     pdfTest = pdfTest.drop(cName, axis = 1)\n",
    "    # Join the encoded pdfTest\n",
    "    pdfTest = pdfTest.join(one_hot)"
   ]
  },
  {
   "cell_type": "raw",
   "metadata": {},
   "source": [
    "# Get target/mean encoding of columns B\n",
    "print(\"Target encoding for train\")\n",
    "meanEcd = {}\n",
    "for d in lsCol:\n",
    "    cName = \"FIELD_%d\" % d\n",
    "    print(cName)\n",
    "    meanEcd[cName] = pdfTrain.groupby([cName], as_index=False).agg({\"label\":[\"mean\", \"std\"]})\n",
    "    meanEcd[cName].columns = [\"_\".join(x) for x in meanEcd[cName].columns.ravel()]\n",
    "    meanEcd[cName] = meanEcd[cName].rename(columns={cName+\"_\": cName, \n",
    "                                      \"label_mean\": cName+\"_ecdmean\", \n",
    "                                      \"label_std\": cName+\"_ecdstd\"})\n",
    "#     display(meanEcd[cName])\n",
    "    pdfTrain = pd.merge(pdfTrain, meanEcd[cName], on=cName, how=\"inner\")\n",
    "#     display(pdfTrain[[cName, \"label\", \"id\", cName+\"_ecdmean\", cName+\"_ecdstd\"]].iloc[:5])\n",
    "printRuntime()\n",
    "    "
   ]
  },
  {
   "cell_type": "raw",
   "metadata": {},
   "source": [
    "# Get target/mean encoding of columns B in pdfTest\n",
    "print(\"Target encoding for test using train data\")\n",
    "for d in lsCol:\n",
    "    cName = \"FIELD_%d\" % d\n",
    "    print(cName)\n",
    "    # display(meanEcd[cName])\n",
    "    pdfTest = pd.merge(pdfTest, meanEcd[cName], on=cName, how=\"inner\")\n",
    "    # display(pdfTest[[cName, \"label\", \"id\", cName+\"_ecdmean\", cName+\"_ecdstd\"]].iloc[:5])\n",
    "printRuntime()"
   ]
  },
  {
   "cell_type": "raw",
   "metadata": {},
   "source": [
    "# Get target/mean encoding of columns B in pdfValidateX\n",
    "print(\"Target encoding for ValidateX using train data\")\n",
    "for d in lsCol:\n",
    "    cName = \"FIELD_%d\" % d\n",
    "    print(cName)\n",
    "    # display(meanEcd[cName])\n",
    "    pdfValidateX = pd.merge(pdfValidateX, meanEcd[cName], on=cName, how=\"inner\")\n",
    "    # display(pdfValidateX[[cName, \"label\", \"id\", cName+\"_ecdmean\", cName+\"_ecdstd\"]].iloc[:5])\n",
    "printRuntime()"
   ]
  },
  {
   "cell_type": "code",
   "execution_count": null,
   "metadata": {},
   "outputs": [],
   "source": []
  },
  {
   "cell_type": "code",
   "execution_count": 21,
   "metadata": {},
   "outputs": [
    {
     "name": "stdout",
     "output_type": "stream",
     "text": [
      "FIELD_17\n",
      "Add missing columns for test\n",
      "FIELD_17_G2\n",
      "FIELD_40\n",
      "Add missing columns for test\n",
      "FIELD_40_4\n"
     ]
    }
   ],
   "source": [
    "for d in lsCol:\n",
    "    cName = \"FIELD_%d\" % d\n",
    "    lsMissCol = [c for c in pdfTrain.columns if cName in c and c not in pdfTest.columns]\n",
    "    for c in lsMissCol:\n",
    "        print(cName)\n",
    "        print(\"Add missing columns for test\")        \n",
    "        print(c)\n",
    "        pdfTest[c] = 0\n",
    "\n",
    "    lsRedCol = [c for c in pdfTest.columns if cName in c and c not in pdfTrain.columns]\n",
    "    for c in lsRedCol:\n",
    "        print(\"Remove redundant columns for test\")\n",
    "        print(c)\n",
    "        pdfTest = pdfTest.drop(c, axis=1)"
   ]
  },
  {
   "cell_type": "code",
   "execution_count": null,
   "metadata": {},
   "outputs": [],
   "source": [
    "print(pdfTrain.columns)"
   ]
  },
  {
   "cell_type": "code",
   "execution_count": null,
   "metadata": {},
   "outputs": [],
   "source": [
    "\"FIELD_43\" in pdfTrain.columns"
   ]
  },
  {
   "cell_type": "code",
   "execution_count": null,
   "metadata": {},
   "outputs": [],
   "source": [
    "\"FIELD_43\" in pdfTest.columns"
   ]
  },
  {
   "cell_type": "raw",
   "metadata": {},
   "source": [
    "# Drop categorical columns\n",
    "for d in lsCol:\n",
    "    cName = \"FIELD_%d\"%d\n",
    "    print(\"Drop\", cName)\n",
    "    pdfTrain = pdfTrain.drop(cName, axis = 1)\n",
    "    pdfTest = pdfTest.drop(cName, axis = 1)\n",
    "printRuntime()"
   ]
  },
  {
   "cell_type": "markdown",
   "metadata": {},
   "source": [
    "### Add FIELD_7_MOST, FIELD_7_LEN, FIELD_9_APPEAR, FIELD_9_INDEX"
   ]
  },
  {
   "cell_type": "code",
   "execution_count": 22,
   "metadata": {},
   "outputs": [
    {
     "name": "stdout",
     "output_type": "stream",
     "text": [
      "[3]\n",
      "['GD']\n",
      "2020-03-02 23:13:33\n",
      "-------------------\n"
     ]
    }
   ],
   "source": [
    "def mostFrequent(List): \n",
    "    occurenceCount = Counter(List) \n",
    "    lsCount = occurenceCount.most_common()\n",
    "    maxAppear = lsCount[0][1]\n",
    "    # print(lsCount)\n",
    "    # print(maxAppear)\n",
    "    lsVal = [v[0] for v in lsCount if v[1] == maxAppear]\n",
    "    # Return list of most common items (if equally appeared)\n",
    "    return lsVal\n",
    "\n",
    "def mostAppear(iStr):\n",
    "    if iStr == \"[]\" or iStr is np.nan:\n",
    "        return \"na\"\n",
    "    lsChar = iStr.replace(\"'\", \"\").replace(\"[\", \"\").replace(\"]\", \"\").replace(\" \", \"\").split(\",\")\n",
    "    return mostFrequent(lsChar)\n",
    "\n",
    "# Test\n",
    "print(mostFrequent([2, 2, 3, 3, 3, 4, 5, 6])) # Expect [3]\n",
    "print(mostAppear(\"['GD', 'GD', 'TE']\")) # Expect [\"GD\"]\n",
    "\n",
    "def index_7_9(row):\n",
    "    \"\"\"\n",
    "    Return: (is_appear, index)\n",
    "    \"\"\"\n",
    "    lsMostAppear7 = row[\"FIELD_7_MOST\"]\n",
    "    val9 = row[\"FIELD_9\"]\n",
    "    if val9 == \"[]\" or val9 == \"na\":\n",
    "        return -2, -1\n",
    "    elif lsMostAppear7 == \"na\":\n",
    "        return -1, -1\n",
    "    elif val9 in lsMostAppear7:\n",
    "        return 1, lsMostAppear7.index(val9)\n",
    "    else:\n",
    "        # lsMostAppear7 is not null but 9 doesn't appear\n",
    "        return 0, -1\n",
    "    \n",
    "printRuntime()"
   ]
  },
  {
   "cell_type": "code",
   "execution_count": 23,
   "metadata": {},
   "outputs": [],
   "source": [
    "# Add col as most appear FIELD_7\n",
    "pdfTrain[\"FIELD_7_MOST\"] = pdfTrain[\"FIELD_7\"].apply(lambda x: mostAppear(x))\n",
    "pdfTrain[\"FIELD_7_LEN\"] = pdfTrain[\"FIELD_7_MOST\"].apply(len)\n",
    "# Add col as 9 appear in 7_MOST\n",
    "pdfTrain[\"FIELD_9_APPEAR\"], pdfTrain[\"FIELD_9_INDEX\"] = zip(*pdfTrain.apply(lambda row: index_7_9(row), axis=1))"
   ]
  },
  {
   "cell_type": "code",
   "execution_count": 24,
   "metadata": {},
   "outputs": [],
   "source": [
    "# Add col as most appear FIELD_7\n",
    "pdfTest[\"FIELD_7_MOST\"] = pdfTest[\"FIELD_7\"].apply(lambda x: mostAppear(x))\n",
    "pdfTest[\"FIELD_7_LEN\"] = pdfTest[\"FIELD_7_MOST\"].apply(len)\n",
    "# Add col as 9 appear in 7_MOST\n",
    "pdfTest[\"FIELD_9_APPEAR\"], pdfTest[\"FIELD_9_INDEX\"] = zip(*pdfTest.apply(lambda row: index_7_9(row), axis=1))"
   ]
  },
  {
   "cell_type": "code",
   "execution_count": 25,
   "metadata": {},
   "outputs": [],
   "source": [
    "pdfTrain = pdfTrain.drop(\"FIELD_7_MOST\", axis = 1)\n",
    "\n",
    "pdfTest = pdfTest.drop(\"FIELD_7_MOST\", axis = 1)"
   ]
  },
  {
   "cell_type": "markdown",
   "metadata": {},
   "source": [
    "### Add avg_age, diff_age, group_age"
   ]
  },
  {
   "cell_type": "code",
   "execution_count": 26,
   "metadata": {},
   "outputs": [],
   "source": [
    "pdfTrain.loc[pdfTrain[\"age_source1\"]==\"None\", \"age_source1\"] = np.nan\n",
    "pdfTrain.loc[pdfTrain[\"age_source2\"]==\"None\", \"age_source2\"] = np.nan"
   ]
  },
  {
   "cell_type": "code",
   "execution_count": 27,
   "metadata": {},
   "outputs": [
    {
     "name": "stdout",
     "output_type": "stream",
     "text": [
      "2020-03-02 23:13:40\n",
      "-------------------\n"
     ]
    }
   ],
   "source": [
    "pdfTrain[\"FIELD_avg_age\"] = pdfTrain.apply(lambda row: avgAge(row), axis=1)\n",
    "pdfTrain[\"FIELD_diff_age\"] = pdfTrain.apply(lambda row: diffAge(row), axis=1)\n",
    "pdfTrain[\"group_age\"] = pdfTrain[\"FIELD_avg_age\"].apply(lambda x: groupAge(x))\n",
    "printRuntime()"
   ]
  },
  {
   "cell_type": "code",
   "execution_count": 28,
   "metadata": {},
   "outputs": [],
   "source": [
    "pdfTest.loc[pdfTest[\"age_source1\"]==\"None\", \"age_source1\"] = np.nan\n",
    "pdfTest.loc[pdfTest[\"age_source2\"]==\"None\", \"age_source2\"] = np.nan"
   ]
  },
  {
   "cell_type": "code",
   "execution_count": 29,
   "metadata": {},
   "outputs": [
    {
     "name": "stdout",
     "output_type": "stream",
     "text": [
      "2020-03-02 23:13:42\n",
      "-------------------\n"
     ]
    }
   ],
   "source": [
    "pdfTest[\"FIELD_avg_age\"] = pdfTest.apply(lambda row: avgAge(row), axis=1)\n",
    "pdfTest[\"FIELD_diff_age\"] = pdfTest.apply(lambda row: diffAge(row), axis=1)\n",
    "pdfTest[\"group_age\"] = pdfTest[\"FIELD_avg_age\"].apply(lambda x: groupAge(x))\n",
    "printRuntime()"
   ]
  },
  {
   "cell_type": "markdown",
   "metadata": {},
   "source": [
    "### One hot group_age"
   ]
  },
  {
   "cell_type": "code",
   "execution_count": 30,
   "metadata": {},
   "outputs": [
    {
     "name": "stdout",
     "output_type": "stream",
     "text": [
      "{'AGE_0': 'FIELD_AGE_0',\n",
      " 'AGE_1': 'FIELD_AGE_1',\n",
      " 'AGE_2': 'FIELD_AGE_2',\n",
      " 'AGE_3': 'FIELD_AGE_3',\n",
      " 'AGE_4': 'FIELD_AGE_4',\n",
      " 'AGE_NONE': 'FIELD_AGE_NONE'}\n",
      "2020-03-02 23:13:42\n",
      "-------------------\n"
     ]
    }
   ],
   "source": [
    "cName = \"group_age\"\n",
    "one_hot = pd.get_dummies(pdfTrain[cName].replace(np.nan, \"None\"))\n",
    "renameCol = {}\n",
    "for c in one_hot.columns:\n",
    "    renameCol[c] = \"FIELD_%s\" % (c)\n",
    "pprint(renameCol)\n",
    "one_hot = one_hot.rename(columns=renameCol)\n",
    "\n",
    "# pdfTrain = pdfTrain.drop(cName, axis = 1)\n",
    "# Join the encoded pdfTrain\n",
    "pdfTrain = pdfTrain.join(one_hot)\n",
    "printRuntime()"
   ]
  },
  {
   "cell_type": "code",
   "execution_count": 31,
   "metadata": {},
   "outputs": [
    {
     "name": "stdout",
     "output_type": "stream",
     "text": [
      "{'AGE_0': 'FIELD_AGE_0',\n",
      " 'AGE_1': 'FIELD_AGE_1',\n",
      " 'AGE_2': 'FIELD_AGE_2',\n",
      " 'AGE_3': 'FIELD_AGE_3',\n",
      " 'AGE_4': 'FIELD_AGE_4',\n",
      " 'AGE_NONE': 'FIELD_AGE_NONE'}\n",
      "2020-03-02 23:13:42\n",
      "-------------------\n"
     ]
    }
   ],
   "source": [
    "cName = \"group_age\"\n",
    "one_hot = pd.get_dummies(pdfTest[cName].replace(np.nan, \"None\"))\n",
    "renameCol = {}\n",
    "for c in one_hot.columns:\n",
    "    renameCol[c] = \"FIELD_%s\" % (c)\n",
    "pprint(renameCol)\n",
    "one_hot = one_hot.rename(columns=renameCol)\n",
    "\n",
    "# pdfTest = pdfTest.drop(cName, axis = 1)\n",
    "# Join the encoded pdfTest\n",
    "pdfTest = pdfTest.join(one_hot)\n",
    "printRuntime()"
   ]
  },
  {
   "cell_type": "code",
   "execution_count": 32,
   "metadata": {},
   "outputs": [],
   "source": [
    "pdfTrainBk2 = pdfTrain.copy()\n",
    "\n",
    "pdfTestBk2 = pdfTest.copy()"
   ]
  },
  {
   "cell_type": "raw",
   "metadata": {},
   "source": [
    "# Reload\n",
    "pdfTrain = pdfTrainBk2.copy()\n",
    "\n",
    "pdfTest = pdfTestBk2.copy()"
   ]
  },
  {
   "cell_type": "raw",
   "metadata": {},
   "source": [
    "# Target encoding group_age\n",
    "print(\"Target encoding for train\")\n",
    "cName = \"group_age\"\n",
    "print(cName)\n",
    "meanEcd[cName] = pdfTrain.groupby([cName], as_index=False).agg({\"label\":[\"mean\", \"std\"]})\n",
    "meanEcd[cName].columns = [\"_\".join(x) for x in meanEcd[cName].columns.ravel()]\n",
    "# Rename => FIELD FT\n",
    "meanEcd[cName] = meanEcd[cName].rename(columns={cName+\"_\": cName, \n",
    "                                  \"label_mean\": \"FIELD_\" + cName + \"_ecdmean\", \n",
    "                                  \"label_std\": \"FIELD_\" + cName + \"_ecdstd\"})\n",
    "display(meanEcd[cName])\n",
    "pdfTrain = pd.merge(pdfTrain, meanEcd[cName], on=cName, how=\"inner\")\n",
    "\n",
    "display(pdfTrain[[cName, \"label\", \"id\", \n",
    "                  \"FIELD_\" + cName+\"_ecdmean\", \n",
    "                  \"FIELD_\" + cName+\"_ecdstd\"]].iloc[:5])\n",
    "\n",
    "print(\"Target encoding for test using train data\")\n",
    "print(cName)\n",
    "pdfTest = pd.merge(pdfTest, meanEcd[cName], on=cName, how=\"inner\")\n",
    "\n",
    "display(pdfTest[[cName, \"id\", \n",
    "                 \"FIELD_\" + cName+\"_ecdmean\", \n",
    "                 \"FIELD_\" + cName+\"_ecdstd\"]].iloc[:5])\n",
    "\n",
    "printRuntime()"
   ]
  },
  {
   "cell_type": "markdown",
   "metadata": {},
   "source": [
    "### Add lv3_loc"
   ]
  },
  {
   "cell_type": "code",
   "execution_count": 33,
   "metadata": {},
   "outputs": [
    {
     "name": "stdout",
     "output_type": "stream",
     "text": [
      "65 766\n",
      "2020-03-02 23:13:51\n",
      "-------------------\n"
     ]
    }
   ],
   "source": [
    "pdfTrain[\"lv3_loc\"] = \"[\" + pdfTrain[\"province\"] + \"]_[\" + pdfTrain[\"district\"] + \"]\"\n",
    "lsProvince = pdfTrain[\"province\"].unique()\n",
    "lsLoc = pdfTrain[\"lv3_loc\"].unique()\n",
    "print(len(lsProvince), len(lsLoc))\n",
    "printRuntime()"
   ]
  },
  {
   "cell_type": "code",
   "execution_count": 34,
   "metadata": {},
   "outputs": [
    {
     "name": "stdout",
     "output_type": "stream",
     "text": [
      "65 724\n",
      "2020-03-02 23:13:51\n",
      "-------------------\n"
     ]
    }
   ],
   "source": [
    "pdfTest[\"lv3_loc\"] = \"[\" + pdfTest[\"province\"] + \"]_[\" + pdfTest[\"district\"] + \"]\"\n",
    "lsProvince = pdfTest[\"province\"].unique()\n",
    "lsLoc = pdfTest[\"lv3_loc\"].unique()\n",
    "print(len(lsProvince), len(lsLoc))\n",
    "printRuntime()"
   ]
  },
  {
   "cell_type": "markdown",
   "metadata": {},
   "source": [
    "### Convert data types"
   ]
  },
  {
   "cell_type": "code",
   "execution_count": 35,
   "metadata": {},
   "outputs": [],
   "source": [
    "lsExtraFt = ([\"FIELD_7_LEN\", \"FIELD_9_APPEAR\", \"FIELD_9_INDEX\"]  + [\"avg_age\", \"diff_age\"]\n",
    "             )"
   ]
  },
  {
   "cell_type": "code",
   "execution_count": 36,
   "metadata": {},
   "outputs": [
    {
     "name": "stdout",
     "output_type": "stream",
     "text": [
      "2020-03-02 23:13:57\n",
      "-------------------\n"
     ]
    }
   ],
   "source": [
    "lsFieldFt = ([c for c in pdfTrain.columns \n",
    "              if \"FIELD\" in c \n",
    "              and c not in [\"FIELD_%d\"%d for d in [7, 9, 13, 39]]] \n",
    "#              + lsExtraFt\n",
    "            )\n",
    "# pprint(lsFieldFt)\n",
    "printRuntime()"
   ]
  },
  {
   "cell_type": "code",
   "execution_count": 37,
   "metadata": {},
   "outputs": [
    {
     "name": "stdout",
     "output_type": "stream",
     "text": [
      "True\n",
      "2020-03-02 23:13:58\n",
      "-------------------\n"
     ]
    }
   ],
   "source": [
    "lsFieldFtTest = ([c for c in pdfTest.columns \n",
    "                  if \"FIELD\" in c \n",
    "                  and c not in [\"FIELD_%d\"%d for d in [7, 9, 13, 39]]]\n",
    "#                  + lsExtraFt\n",
    "                )\n",
    "print(sorted(lsFieldFtTest) == sorted(lsFieldFt))\n",
    "printRuntime()"
   ]
  },
  {
   "cell_type": "code",
   "execution_count": 38,
   "metadata": {},
   "outputs": [
    {
     "data": {
      "text/plain": [
       "['FIELD_1',\n",
       " 'FIELD_2',\n",
       " 'FIELD_3',\n",
       " 'FIELD_4',\n",
       " 'FIELD_5',\n",
       " 'FIELD_6',\n",
       " 'FIELD_8',\n",
       " 'FIELD_10',\n",
       " 'FIELD_11',\n",
       " 'FIELD_12',\n",
       " 'FIELD_14',\n",
       " 'FIELD_15',\n",
       " 'FIELD_16',\n",
       " 'FIELD_17',\n",
       " 'FIELD_18',\n",
       " 'FIELD_19',\n",
       " 'FIELD_20',\n",
       " 'FIELD_21',\n",
       " 'FIELD_22',\n",
       " 'FIELD_23',\n",
       " 'FIELD_24',\n",
       " 'FIELD_25',\n",
       " 'FIELD_26',\n",
       " 'FIELD_27',\n",
       " 'FIELD_28',\n",
       " 'FIELD_29',\n",
       " 'FIELD_30',\n",
       " 'FIELD_31',\n",
       " 'FIELD_32',\n",
       " 'FIELD_33',\n",
       " 'FIELD_34',\n",
       " 'FIELD_35',\n",
       " 'FIELD_36',\n",
       " 'FIELD_37',\n",
       " 'FIELD_38',\n",
       " 'FIELD_40',\n",
       " 'FIELD_41',\n",
       " 'FIELD_42',\n",
       " 'FIELD_43',\n",
       " 'FIELD_44',\n",
       " 'FIELD_45',\n",
       " 'FIELD_46',\n",
       " 'FIELD_47',\n",
       " 'FIELD_48',\n",
       " 'FIELD_49',\n",
       " 'FIELD_50',\n",
       " 'FIELD_51',\n",
       " 'FIELD_52',\n",
       " 'FIELD_53',\n",
       " 'FIELD_54',\n",
       " 'FIELD_55',\n",
       " 'FIELD_56',\n",
       " 'FIELD_57',\n",
       " 'FIELD_8_FEMALE',\n",
       " 'FIELD_8_MALE',\n",
       " 'FIELD_8_None',\n",
       " 'FIELD_10_GH',\n",
       " 'FIELD_10_None',\n",
       " 'FIELD_10_T1',\n",
       " 'FIELD_12_0',\n",
       " 'FIELD_12_1',\n",
       " 'FIELD_12_None',\n",
       " 'FIELD_17_G2',\n",
       " 'FIELD_17_G3',\n",
       " 'FIELD_17_G4',\n",
       " 'FIELD_17_G7',\n",
       " 'FIELD_17_G8',\n",
       " 'FIELD_17_G9',\n",
       " 'FIELD_17_GX',\n",
       " 'FIELD_17_None',\n",
       " 'FIELD_24_K1',\n",
       " 'FIELD_24_K2',\n",
       " 'FIELD_24_K3',\n",
       " 'FIELD_24_None',\n",
       " 'FIELD_40_02 05 08 11',\n",
       " 'FIELD_40_1',\n",
       " 'FIELD_40_2',\n",
       " 'FIELD_40_3',\n",
       " 'FIELD_40_4',\n",
       " 'FIELD_40_6',\n",
       " 'FIELD_40_None',\n",
       " 'FIELD_43_0',\n",
       " 'FIELD_43_5',\n",
       " 'FIELD_43_A',\n",
       " 'FIELD_43_B',\n",
       " 'FIELD_43_C',\n",
       " 'FIELD_43_D',\n",
       " 'FIELD_43_None',\n",
       " 'FIELD_7_LEN',\n",
       " 'FIELD_9_APPEAR',\n",
       " 'FIELD_9_INDEX',\n",
       " 'FIELD_avg_age',\n",
       " 'FIELD_diff_age',\n",
       " 'FIELD_AGE_0',\n",
       " 'FIELD_AGE_1',\n",
       " 'FIELD_AGE_2',\n",
       " 'FIELD_AGE_3',\n",
       " 'FIELD_AGE_4',\n",
       " 'FIELD_AGE_NONE']"
      ]
     },
     "execution_count": 38,
     "metadata": {},
     "output_type": "execute_result"
    }
   ],
   "source": [
    "lsFieldFt"
   ]
  },
  {
   "cell_type": "code",
   "execution_count": 39,
   "metadata": {},
   "outputs": [
    {
     "name": "stdout",
     "output_type": "stream",
     "text": [
      "FIELD_8\n",
      "FIELD_10\n",
      "FIELD_17\n",
      "FIELD_24\n",
      "FIELD_40\n",
      "FIELD_43\n",
      "2020-03-02 23:14:03\n",
      "-------------------\n"
     ]
    }
   ],
   "source": [
    "for c in lsFieldFt:\n",
    "    try:\n",
    "        pdfTrain.loc[pdfTrain[c].isin([\"None\", \"na\"]), c] = np.nan\n",
    "        pdfTrain[c] = pdfTrain[c].astype(np.float64)\n",
    "        pdfTest.loc[pdfTest[c].isin([\"None\", \"na\"]), c] = np.nan\n",
    "        pdfTest[c] = pdfTest[c].astype(np.float64)\n",
    "    except:\n",
    "        print(c)\n",
    "printRuntime()"
   ]
  },
  {
   "cell_type": "code",
   "execution_count": 40,
   "metadata": {},
   "outputs": [],
   "source": [
    "# 2\n",
    "lsCatCol = [\"FIELD_%d\"%d for d in [8, 10, 17, 24, 40, 43]]\n",
    "lsNumCol = [c for c in lsFieldFt if c not in lsCatCol]"
   ]
  },
  {
   "cell_type": "markdown",
   "metadata": {},
   "source": [
    "## Cluster test, use predicted cluster in train & test, add as 1-hot features"
   ]
  },
  {
   "cell_type": "code",
   "execution_count": 41,
   "metadata": {},
   "outputs": [],
   "source": [
    "from sklearn.cluster import KMeans\n",
    "from sklearn.preprocessing import MinMaxScaler\n",
    "from sklearn.decomposition import PCA\n",
    "#from sklearn.impute import SimpleImputer"
   ]
  },
  {
   "cell_type": "code",
   "execution_count": 42,
   "metadata": {},
   "outputs": [
    {
     "name": "stdout",
     "output_type": "stream",
     "text": [
      "2020-03-02 23:14:07\n",
      "-------------------\n"
     ]
    }
   ],
   "source": [
    "pdfTrainFillna = pdfTrain.replace([np.inf, -np.inf], np.nan).fillna(0.0)\n",
    "pdfTestFillna = pdfTest.replace([np.inf, -np.inf], np.nan).fillna(0.0)\n",
    "printRuntime()"
   ]
  },
  {
   "cell_type": "code",
   "execution_count": 43,
   "metadata": {},
   "outputs": [
    {
     "name": "stdout",
     "output_type": "stream",
     "text": [
      "2020-03-02 23:14:08\n",
      "-------------------\n"
     ]
    }
   ],
   "source": [
    "X = pdfTrainFillna[lsNumCol].values\n",
    "Y = pdfTestFillna[lsNumCol].values\n",
    "scaler = MinMaxScaler()\n",
    "Y_scaled = scaler.fit_transform(Y)\n",
    "X_scaled = scaler.transform(X) # Use scaler by Y\n",
    "printRuntime()"
   ]
  },
  {
   "cell_type": "code",
   "execution_count": 44,
   "metadata": {},
   "outputs": [],
   "source": [
    "ky_15 = KMeans(n_clusters=15).fit(Y_scaled)"
   ]
  },
  {
   "cell_type": "code",
   "execution_count": 45,
   "metadata": {},
   "outputs": [],
   "source": [
    "X_cluster = ky_15.predict(X_scaled)"
   ]
  },
  {
   "cell_type": "code",
   "execution_count": 46,
   "metadata": {},
   "outputs": [],
   "source": [
    "Y_cluster = ky_15.predict(Y_scaled)"
   ]
  },
  {
   "cell_type": "code",
   "execution_count": 47,
   "metadata": {},
   "outputs": [
    {
     "data": {
      "text/plain": [
       "((30000,), (20000,))"
      ]
     },
     "execution_count": 47,
     "metadata": {},
     "output_type": "execute_result"
    }
   ],
   "source": [
    "X_cluster.shape, Y_cluster.shape"
   ]
  },
  {
   "cell_type": "code",
   "execution_count": 48,
   "metadata": {},
   "outputs": [],
   "source": [
    "pdfTrain[\"kmean_cluster\"] = X_cluster\n",
    "pdfTest[\"kmean_cluster\"] = Y_cluster"
   ]
  },
  {
   "cell_type": "code",
   "execution_count": 50,
   "metadata": {},
   "outputs": [
    {
     "data": {
      "text/plain": [
       "<matplotlib.axes._subplots.AxesSubplot at 0x1a18f250b8>"
      ]
     },
     "execution_count": 50,
     "metadata": {},
     "output_type": "execute_result"
    },
    {
     "data": {
      "image/png": "[encoded data removed]",
      "text/plain": [
       "<matplotlib.figure.Figure at 0x1a190253c8>"
      ]
     },
     "metadata": {},
     "output_type": "display_data"
    }
   ],
   "source": [
    "pdfTrain[pdfTrain[\"label\"]==1][\"kmean_cluster\"].hist(bins=15)"
   ]
  },
  {
   "cell_type": "code",
   "execution_count": 51,
   "metadata": {},
   "outputs": [
    {
     "data": {
      "text/plain": [
       "<matplotlib.axes._subplots.AxesSubplot at 0x1a18ff9860>"
      ]
     },
     "execution_count": 51,
     "metadata": {},
     "output_type": "execute_result"
    },
    {
     "data": {
      "image/png": "[encoded data removed]",
      "text/plain": [
       "<matplotlib.figure.Figure at 0x1a18fee198>"
      ]
     },
     "metadata": {},
     "output_type": "display_data"
    }
   ],
   "source": [
    "pdfTrain[pdfTrain[\"label\"]==0][\"kmean_cluster\"].hist(bins=15)"
   ]
  },
  {
   "cell_type": "code",
   "execution_count": null,
   "metadata": {},
   "outputs": [],
   "source": [
    "pdfB = (pdfTrain.groupby([\"kmean_cluster\", \"jobCat\"], as_index=False)\n",
    "        .agg({\"id\": \"count\", \"label\":(\"sum\", \"mean\")})\n",
    "       )\n",
    "pdfB.head(20)"
   ]
  },
  {
   "cell_type": "code",
   "execution_count": null,
   "metadata": {},
   "outputs": [],
   "source": [
    "pdfA = (pdfTrain.groupby([\"kmean_cluster\", \"label\"], as_index=False).agg({\"id\": \"count\"})\n",
    "        .pivot(index=\"kmean_cluster\", columns=\"label\", values=\"id\").rename_axis(None)\n",
    "       )\n",
    "pdfA[\"ratio\"] = pdfA[1]/pdfA[0]\n",
    "pdfA.sort_values([\"ratio\"])"
   ]
  },
  {
   "cell_type": "code",
   "execution_count": null,
   "metadata": {},
   "outputs": [],
   "source": [
    "pdfTest[\"kmean_cluster\"].hist()"
   ]
  },
  {
   "cell_type": "code",
   "execution_count": 52,
   "metadata": {},
   "outputs": [
    {
     "name": "stdout",
     "output_type": "stream",
     "text": [
      "{0: 'FIELD_KMeans_0',\n",
      " 1: 'FIELD_KMeans_1',\n",
      " 2: 'FIELD_KMeans_2',\n",
      " 3: 'FIELD_KMeans_3',\n",
      " 4: 'FIELD_KMeans_4',\n",
      " 5: 'FIELD_KMeans_5',\n",
      " 6: 'FIELD_KMeans_6',\n",
      " 7: 'FIELD_KMeans_7',\n",
      " 8: 'FIELD_KMeans_8',\n",
      " 9: 'FIELD_KMeans_9',\n",
      " 10: 'FIELD_KMeans_10',\n",
      " 11: 'FIELD_KMeans_11',\n",
      " 12: 'FIELD_KMeans_12',\n",
      " 13: 'FIELD_KMeans_13',\n",
      " 14: 'FIELD_KMeans_14'}\n",
      "2020-03-02 23:15:41\n",
      "-------------------\n"
     ]
    }
   ],
   "source": [
    "# 1 hot kmean_cluster columns\n",
    "cName = \"kmean_cluster\"\n",
    "# -- Train -- #\n",
    "one_hot = pd.get_dummies(pdfTrain[cName].replace(np.nan, \"None\"))\n",
    "renameCol = {}\n",
    "for c in one_hot.columns:\n",
    "    renameCol[c] = \"FIELD_KMeans_%s\" % (c)\n",
    "pprint(renameCol)\n",
    "one_hot = one_hot.rename(columns=renameCol)\n",
    "pdfTrain = pdfTrain.join(one_hot)\n",
    "\n",
    "# -- Test -- #\n",
    "one_hot = pd.get_dummies(pdfTest[cName].replace(np.nan, \"None\"))\n",
    "renameCol = {}\n",
    "for c in one_hot.columns:\n",
    "    renameCol[c] = \"FIELD_KMeans_%s\" % (c)\n",
    "# pprint(renameCol)\n",
    "one_hot = one_hot.rename(columns=renameCol)\n",
    "pdfTest = pdfTest.join(one_hot)\n",
    "\n",
    "printRuntime()"
   ]
  },
  {
   "cell_type": "code",
   "execution_count": 53,
   "metadata": {},
   "outputs": [
    {
     "name": "stdout",
     "output_type": "stream",
     "text": [
      "uint8\n",
      "uint8\n",
      "uint8\n",
      "uint8\n",
      "uint8\n",
      "uint8\n",
      "uint8\n",
      "uint8\n",
      "uint8\n",
      "uint8\n",
      "uint8\n",
      "uint8\n",
      "uint8\n",
      "uint8\n",
      "uint8\n"
     ]
    }
   ],
   "source": [
    "lsKMeansFt = [c for c in pdfTrain.columns if \"KMeans\" in c]\n",
    "for c in lsKMeansFt:\n",
    "    print(pdfTrain[c].dtypes)"
   ]
  },
  {
   "cell_type": "markdown",
   "metadata": {},
   "source": [
    "### Add neighbor features\n",
    "Neighbor features: \n",
    "    + avg+std of groupby (province, age_group, maCv)\n",
    "    + avg+std of groupby (lv3_loc, age_group, maCv)\n",
    "    + avg+std of groupby (province, maCv)\n",
    "    "
   ]
  },
  {
   "cell_type": "code",
   "execution_count": 54,
   "metadata": {},
   "outputs": [],
   "source": [
    "lsExtraFt = ([\"FIELD_7_LEN\", \"FIELD_9_APPEAR\", \"FIELD_9_INDEX\"]  + [\"avg_age\", \"diff_age\"]\n",
    "             )"
   ]
  },
  {
   "cell_type": "code",
   "execution_count": 55,
   "metadata": {},
   "outputs": [
    {
     "name": "stdout",
     "output_type": "stream",
     "text": [
      "2020-03-02 23:15:49\n",
      "-------------------\n"
     ]
    }
   ],
   "source": [
    "lsFieldFt = ([c for c in pdfTrain.columns \n",
    "              if \"FIELD\" in c \n",
    "              and c not in [\"FIELD_%d\"%d for d in [7, 9, 13, 39]]] \n",
    "#              + lsExtraFt\n",
    "            )\n",
    "# pprint(lsFieldFt)\n",
    "printRuntime()"
   ]
  },
  {
   "cell_type": "code",
   "execution_count": 56,
   "metadata": {},
   "outputs": [
    {
     "name": "stdout",
     "output_type": "stream",
     "text": [
      "True\n",
      "2020-03-02 23:15:52\n",
      "-------------------\n"
     ]
    }
   ],
   "source": [
    "lsFieldFtTest = ([c for c in pdfTest.columns \n",
    "                  if \"FIELD\" in c \n",
    "                  and c not in [\"FIELD_%d\"%d for d in [7, 9, 13, 39]]]\n",
    "#                  + lsExtraFt\n",
    "                )\n",
    "print(sorted(lsFieldFtTest) == sorted(lsFieldFt))\n",
    "printRuntime()"
   ]
  },
  {
   "cell_type": "code",
   "execution_count": 57,
   "metadata": {},
   "outputs": [],
   "source": [
    "# 1\n",
    "lsMetaCol1 = [\"province\", \"group_age\", \"jobCat\"]\n",
    "lsMetaCol2 = [\"province\", \"group_age\"]\n",
    "lsMetaCol3 = [\"province\", \"jobCat\"]\n",
    "# 2\n",
    "lsCatCol = [\"FIELD_%d\"%d for d in [8, 10, 17, 24, 40, 43]]\n",
    "lsNumCol = [c for c in lsFieldFt if c not in lsCatCol]"
   ]
  },
  {
   "cell_type": "code",
   "execution_count": 59,
   "metadata": {},
   "outputs": [
    {
     "data": {
      "text/plain": [
       "108"
      ]
     },
     "execution_count": 59,
     "metadata": {},
     "output_type": "execute_result"
    }
   ],
   "source": [
    "len(lsNumCol) # 92 vs. 108"
   ]
  },
  {
   "cell_type": "code",
   "execution_count": 58,
   "metadata": {},
   "outputs": [],
   "source": [
    "aggDict = {}\n",
    "for f in lsNumCol:\n",
    "    aggDict[f] = [\"mean\", \"std\"]"
   ]
  },
  {
   "cell_type": "code",
   "execution_count": 60,
   "metadata": {},
   "outputs": [
    {
     "name": "stdout",
     "output_type": "stream",
     "text": [
      "2020-03-02 23:16:43\n",
      "-------------------\n"
     ]
    }
   ],
   "source": [
    "dfNb01 = pdfTrain[lsMetaCol1+lsNumCol].groupby(lsMetaCol1, as_index=False).agg(aggDict)\n",
    "dfNb01.columns = [\"_\".join(x) for x in dfNb01.columns.ravel()]\n",
    "dfNb01 = dfNb01.rename(columns={\"province_\": \"province\", \n",
    "                       \"group_age_\": \"group_age\", \n",
    "                       \"jobCat_\": \"jobCat\"})\n",
    "printRuntime()"
   ]
  },
  {
   "cell_type": "code",
   "execution_count": 61,
   "metadata": {},
   "outputs": [
    {
     "name": "stdout",
     "output_type": "stream",
     "text": [
      "2020-03-02 23:16:44\n",
      "-------------------\n"
     ]
    }
   ],
   "source": [
    "dfNb02 = pdfTrain[lsMetaCol2+lsNumCol].groupby(lsMetaCol2, as_index=False).agg(aggDict)\n",
    "dfNb02.columns = [\"_\".join(x) for x in dfNb02.columns.ravel()]\n",
    "dfNb02 = dfNb02.rename(columns={\"province_\": \"province\", \n",
    "                       \"group_age_\": \"group_age\", \n",
    "                       \"jobCat_\": \"jobCat\"})\n",
    "printRuntime()"
   ]
  },
  {
   "cell_type": "code",
   "execution_count": 62,
   "metadata": {},
   "outputs": [
    {
     "name": "stdout",
     "output_type": "stream",
     "text": [
      "2020-03-02 23:16:45\n",
      "-------------------\n"
     ]
    }
   ],
   "source": [
    "dfNb03 = pdfTrain[lsMetaCol3+lsNumCol].groupby(lsMetaCol3, as_index=False).agg(aggDict)\n",
    "dfNb03.columns = [\"_\".join(x) for x in dfNb03.columns.ravel()]\n",
    "dfNb03 = dfNb03.rename(columns={\"province_\": \"province\", \n",
    "                       \"group_age_\": \"group_age\", \n",
    "                       \"jobCat_\": \"jobCat\"})\n",
    "printRuntime()"
   ]
  },
  {
   "cell_type": "raw",
   "metadata": {},
   "source": [
    "# Save outputs: pdfTrain, dfNb01, dfNb02, dfNb03\n",
    "pdfTrain.to_pickle(cleanedTrain, compression=\"bz2\")\n",
    "pdfTest.to_pickle(cleanedTest, compression=\"bz2\")\n",
    "dfNb01.to_pickle(nb01, compression=\"bz2\")\n",
    "dfNb02.to_pickle(nb02, compression=\"bz2\")\n",
    "dfNb03.to_pickle(nb03, compression=\"bz2\")\n",
    "printRuntime()"
   ]
  },
  {
   "cell_type": "raw",
   "metadata": {},
   "source": [
    "dfNb01.head()"
   ]
  },
  {
   "cell_type": "markdown",
   "metadata": {},
   "source": [
    "### raw ft + nb ft + standardize raw ft"
   ]
  },
  {
   "cell_type": "code",
   "execution_count": 63,
   "metadata": {},
   "outputs": [
    {
     "name": "stdout",
     "output_type": "stream",
     "text": [
      "2020-03-02 23:17:01\n",
      "-------------------\n"
     ]
    }
   ],
   "source": [
    "lsMetaCol = [\"id\", \"label\", \"province\", \"district\", \"lv3_loc\", \n",
    "              \"age_source1\", \"age_source2\", \"avg_age\", \"diff_age\", \"group_age\",\n",
    "              \"maCv\", \"jobCat\", \"jobDesc\"]\n",
    "lsEmbedFt = [\"FIELD_%d\"%d for d in [7, 9, 13, 39]]\n",
    "lsCol = [8, 10, 12, 17, 24, 40, 43] # For target encoding\n",
    "lsCatCol = [\"FIELD_%d\"%d for d in lsCol] + [\"group_age\", \"kmean_cluster\"]\n",
    "# raw ft\n",
    "lsFieldFt = ([c for c in pdfTrain.columns \n",
    "             if \"FIELD\" in c \n",
    "             and c not in lsEmbedFt and c not in lsCatCol]\n",
    "            )\n",
    "\n",
    "label = \"label\"\n",
    "printRuntime()"
   ]
  },
  {
   "cell_type": "markdown",
   "metadata": {},
   "source": [
    "#### NB Ft1: province, group_age, jobCat"
   ]
  },
  {
   "cell_type": "code",
   "execution_count": 64,
   "metadata": {},
   "outputs": [
    {
     "name": "stdout",
     "output_type": "stream",
     "text": [
      "Merge nb01\n",
      "(30000, 347)\n",
      "2020-03-02 23:25:56\n",
      "-------------------\n"
     ]
    }
   ],
   "source": [
    "# nb ft\n",
    "print(\"Merge nb01\")\n",
    "lsNbMetaCol = lsMetaCol1\n",
    "dfNb = dfNb01 \n",
    "\n",
    "dfITrain = pd.merge(pdfTrain, dfNb01, on=lsNbMetaCol, how=\"left\")\n",
    "\n",
    "print(dfITrain.shape)\n",
    "printRuntime()"
   ]
  },
  {
   "cell_type": "code",
   "execution_count": 65,
   "metadata": {},
   "outputs": [
    {
     "name": "stdout",
     "output_type": "stream",
     "text": [
      "(30000, 454)\n",
      "2020-03-02 23:25:57\n",
      "-------------------\n"
     ]
    }
   ],
   "source": [
    "for c in lsFieldFt:\n",
    "    dfITrain[\"%s_stdized1\"%c] = (dfITrain[c] - dfITrain[c+\"_mean\"])/dfITrain[c+\"_std\"]\n",
    "print(dfITrain.shape) # (29924, 353)\n",
    "printRuntime()"
   ]
  },
  {
   "cell_type": "code",
   "execution_count": 66,
   "metadata": {},
   "outputs": [
    {
     "name": "stdout",
     "output_type": "stream",
     "text": [
      "Drop nb01 group ft (mean, std)\n",
      "216 columns\n",
      "(30000, 238)\n",
      "2020-03-02 23:25:58\n",
      "-------------------\n"
     ]
    }
   ],
   "source": [
    "print(\"Drop nb01 group ft (mean, std)\")\n",
    "lsNb01Ft = [c for c in dfNb01.columns if \"FIELD\" in c]\n",
    "print(\"%d columns\"%len(lsNb01Ft))\n",
    "dfITrain = dfITrain.drop(lsNb01Ft, axis=1)\n",
    "print(dfITrain.shape)\n",
    "printRuntime()"
   ]
  },
  {
   "cell_type": "markdown",
   "metadata": {},
   "source": [
    "#### NB Ft2: province, group_age"
   ]
  },
  {
   "cell_type": "code",
   "execution_count": 67,
   "metadata": {},
   "outputs": [
    {
     "name": "stdout",
     "output_type": "stream",
     "text": [
      "Pre-merge shape: (30000, 238)\n",
      "Post-merge shape: (30000, 454)\n",
      "2020-03-02 23:26:39\n",
      "-------------------\n"
     ]
    }
   ],
   "source": [
    "# nb ft\n",
    "lsNbMetaCol = lsMetaCol2\n",
    "dfNb = dfNb02\n",
    "\n",
    "print(\"Pre-merge shape:\", dfITrain.shape)\n",
    "dfITrain = pd.merge(dfITrain, dfNb, on=lsNbMetaCol, how=\"left\")\n",
    "\n",
    "print(\"Post-merge shape:\", dfITrain.shape)\n",
    "printRuntime()"
   ]
  },
  {
   "cell_type": "code",
   "execution_count": 68,
   "metadata": {},
   "outputs": [
    {
     "name": "stdout",
     "output_type": "stream",
     "text": [
      "(30000, 561)\n",
      "2020-03-02 23:26:43\n",
      "-------------------\n"
     ]
    }
   ],
   "source": [
    "for c in lsFieldFt:\n",
    "    dfITrain[\"%s_stdized2\"%c] = (dfITrain[c] - dfITrain[c+\"_mean\"])/dfITrain[c+\"_std\"]\n",
    "print(dfITrain.shape) # (29924, 252)\n",
    "printRuntime()"
   ]
  },
  {
   "cell_type": "code",
   "execution_count": 69,
   "metadata": {},
   "outputs": [
    {
     "name": "stdout",
     "output_type": "stream",
     "text": [
      "Drop nb02 group ft (mean, std)\n",
      "216 columns\n",
      "(30000, 345)\n",
      "2020-03-02 23:26:44\n",
      "-------------------\n"
     ]
    }
   ],
   "source": [
    "print(\"Drop nb02 group ft (mean, std)\")\n",
    "lsNb02Ft = [c for c in dfNb02.columns if \"FIELD\" in c]\n",
    "print(\"%d columns\"%len(lsNb02Ft))\n",
    "dfITrain = dfITrain.drop(lsNb02Ft, axis=1)\n",
    "print(dfITrain.shape)\n",
    "printRuntime()"
   ]
  },
  {
   "cell_type": "markdown",
   "metadata": {},
   "source": [
    "#### NB Ft3: province, jobCat"
   ]
  },
  {
   "cell_type": "code",
   "execution_count": 70,
   "metadata": {},
   "outputs": [
    {
     "name": "stdout",
     "output_type": "stream",
     "text": [
      "2020-03-02 23:26:50\n",
      "-------------------\n"
     ]
    }
   ],
   "source": [
    "# nb ft\n",
    "lsNbMetaCol = lsMetaCol3\n",
    "dfNb = dfNb03\n",
    "printRuntime()"
   ]
  },
  {
   "cell_type": "code",
   "execution_count": 71,
   "metadata": {},
   "outputs": [
    {
     "name": "stdout",
     "output_type": "stream",
     "text": [
      "Pre-merge shape: (30000, 345)\n",
      "Post-merge shape: (30000, 561)\n",
      "2020-03-02 23:26:52\n",
      "-------------------\n"
     ]
    }
   ],
   "source": [
    "print(\"Pre-merge shape:\", dfITrain.shape)\n",
    "dfITrain = pd.merge(dfITrain, dfNb, on=lsNbMetaCol, how=\"left\")\n",
    "\n",
    "print(\"Post-merge shape:\", dfITrain.shape)\n",
    "printRuntime()"
   ]
  },
  {
   "cell_type": "code",
   "execution_count": 72,
   "metadata": {},
   "outputs": [
    {
     "name": "stdout",
     "output_type": "stream",
     "text": [
      "(30000, 668)\n",
      "2020-03-02 23:26:56\n",
      "-------------------\n"
     ]
    }
   ],
   "source": [
    "for c in lsFieldFt:\n",
    "    dfITrain[\"%s_stdized3\"%c] = (dfITrain[c] - dfITrain[c+\"_mean\"])/dfITrain[c+\"_std\"]\n",
    "print(dfITrain.shape) # (29924, 353)\n",
    "printRuntime()"
   ]
  },
  {
   "cell_type": "code",
   "execution_count": 73,
   "metadata": {},
   "outputs": [
    {
     "name": "stdout",
     "output_type": "stream",
     "text": [
      "Drop nb03 group ft (mean, std)\n",
      "216 columns\n",
      "(30000, 452)\n",
      "2020-03-02 23:26:57\n",
      "-------------------\n"
     ]
    }
   ],
   "source": [
    "print(\"Drop nb03 group ft (mean, std)\")\n",
    "lsNb03Ft = [c for c in dfNb03.columns if \"FIELD\" in c]\n",
    "print(\"%d columns\"%len(lsNb03Ft))\n",
    "dfITrain = dfITrain.drop(lsNb03Ft, axis=1)\n",
    "print(dfITrain.shape)\n",
    "printRuntime()"
   ]
  },
  {
   "cell_type": "markdown",
   "metadata": {},
   "source": [
    "### Save iTrain data"
   ]
  },
  {
   "cell_type": "code",
   "execution_count": 74,
   "metadata": {},
   "outputs": [
    {
     "name": "stdout",
     "output_type": "stream",
     "text": [
      "./kalapa/itrain_20200302.pickle\n",
      "2020-03-02 23:28:12\n",
      "-------------------\n"
     ]
    }
   ],
   "source": [
    "ymd = datetime.datetime.now().strftime(\"%Y%m%d\")\n",
    "iTrainPath = basePath + \"itrain_{}.pickle\".format(ymd)\n",
    "print(iTrainPath)\n",
    "dfITrain.to_pickle(iTrainPath, compression=\"bz2\")\n",
    "printRuntime()"
   ]
  },
  {
   "cell_type": "code",
   "execution_count": null,
   "metadata": {},
   "outputs": [],
   "source": [
    "dfITrain.head()"
   ]
  },
  {
   "cell_type": "markdown",
   "metadata": {},
   "source": [
    "# Prepare itest"
   ]
  },
  {
   "cell_type": "code",
   "execution_count": 75,
   "metadata": {},
   "outputs": [
    {
     "name": "stdout",
     "output_type": "stream",
     "text": [
      "Merge test nb01\n"
     ]
    }
   ],
   "source": [
    "print(\"Merge test nb01\")\n",
    "lsNbMetaCol = lsMetaCol1\n",
    "dfNb = dfNb01\n",
    "dfITest = pd.merge(pdfTest, dfNb, on=lsNbMetaCol, how=\"left\")\n",
    "\n",
    "dfITest.shape # label col is missing\n",
    "\n",
    "lsTmp = [c for c in dfITest.columns if c not in lsFieldFt]\n",
    "# pprint(lsTmp)"
   ]
  },
  {
   "cell_type": "code",
   "execution_count": 76,
   "metadata": {},
   "outputs": [
    {
     "name": "stdout",
     "output_type": "stream",
     "text": [
      "(20000, 453)\n",
      "2020-03-02 23:28:34\n",
      "-------------------\n"
     ]
    }
   ],
   "source": [
    "for c in lsFieldFt:\n",
    "    # stdized1, stdized2 and stdized3\n",
    "    dfITest[\"%s_stdized1\"%c] = (dfITest[c] - dfITest[c+\"_mean\"])/dfITest[c+\"_std\"]\n",
    "print(dfITest.shape) # (19936, 340)\n",
    "printRuntime()"
   ]
  },
  {
   "cell_type": "code",
   "execution_count": 77,
   "metadata": {},
   "outputs": [
    {
     "name": "stdout",
     "output_type": "stream",
     "text": [
      "Drop nb01 group ft (mean, std)\n",
      "(20000, 237)\n",
      "2020-03-02 23:28:35\n",
      "-------------------\n"
     ]
    }
   ],
   "source": [
    "print(\"Drop nb01 group ft (mean, std)\")\n",
    "lsNb01Ft = [c for c in dfNb01.columns if \"FIELD\" in c]\n",
    "dfITest = dfITest.drop(lsNb01Ft, axis=1)\n",
    "print(dfITest.shape)\n",
    "printRuntime()"
   ]
  },
  {
   "cell_type": "markdown",
   "metadata": {},
   "source": [
    "#### NB Ft2: province, group_age"
   ]
  },
  {
   "cell_type": "code",
   "execution_count": 78,
   "metadata": {},
   "outputs": [
    {
     "name": "stdout",
     "output_type": "stream",
     "text": [
      "Pre-merge shape: (20000, 237)\n",
      "Post-merge shape: (20000, 453)\n",
      "2020-03-02 23:28:44\n",
      "-------------------\n"
     ]
    }
   ],
   "source": [
    "# nb ft\n",
    "lsNbMetaCol = lsMetaCol2\n",
    "dfNb = dfNb02\n",
    "\n",
    "print(\"Pre-merge shape:\", dfITest.shape)\n",
    "dfITest = pd.merge(dfITest, dfNb, on=lsNbMetaCol, how=\"left\")\n",
    "\n",
    "print(\"Post-merge shape:\", dfITest.shape)\n",
    "printRuntime()"
   ]
  },
  {
   "cell_type": "code",
   "execution_count": 79,
   "metadata": {},
   "outputs": [
    {
     "name": "stdout",
     "output_type": "stream",
     "text": [
      "(20000, 560)\n",
      "2020-03-02 23:28:48\n",
      "-------------------\n"
     ]
    }
   ],
   "source": [
    "for c in lsFieldFt:\n",
    "    dfITest[\"%s_stdized2\"%c] = (dfITest[c] - dfITest[c+\"_mean\"])/dfITest[c+\"_std\"]\n",
    "print(dfITest.shape) # (29924, 252)\n",
    "printRuntime()"
   ]
  },
  {
   "cell_type": "code",
   "execution_count": 80,
   "metadata": {},
   "outputs": [
    {
     "name": "stdout",
     "output_type": "stream",
     "text": [
      "Drop nb02 group ft (mean, std)\n",
      "216 columns\n",
      "(20000, 344)\n",
      "2020-03-02 23:28:53\n",
      "-------------------\n"
     ]
    }
   ],
   "source": [
    "print(\"Drop nb02 group ft (mean, std)\")\n",
    "lsNb02Ft = [c for c in dfNb02.columns if \"FIELD\" in c]\n",
    "print(\"%d columns\"%len(lsNb02Ft))\n",
    "dfITest = dfITest.drop(lsNb02Ft, axis=1)\n",
    "print(dfITest.shape)\n",
    "printRuntime()"
   ]
  },
  {
   "cell_type": "markdown",
   "metadata": {},
   "source": [
    "#### NB Ft3: province, group_age, jobCat"
   ]
  },
  {
   "cell_type": "code",
   "execution_count": 81,
   "metadata": {},
   "outputs": [
    {
     "name": "stdout",
     "output_type": "stream",
     "text": [
      "Merge nb03\n",
      "Pre-merge shape: (20000, 344)\n",
      "Post-merge shape: (20000, 560)\n",
      "2020-03-02 23:28:58\n",
      "-------------------\n"
     ]
    }
   ],
   "source": [
    "# nb ft\n",
    "print(\"Merge nb03\")\n",
    "lsNbMetaCol = lsMetaCol3\n",
    "dfNb = dfNb03\n",
    "\n",
    "print(\"Pre-merge shape:\", dfITest.shape)\n",
    "dfITest = pd.merge(dfITest, dfNb, on=lsNbMetaCol, how=\"left\")\n",
    "\n",
    "print(\"Post-merge shape:\", dfITest.shape)\n",
    "printRuntime()"
   ]
  },
  {
   "cell_type": "code",
   "execution_count": 82,
   "metadata": {},
   "outputs": [
    {
     "name": "stdout",
     "output_type": "stream",
     "text": [
      "(20000, 667)\n",
      "2020-03-02 23:29:05\n",
      "-------------------\n"
     ]
    }
   ],
   "source": [
    "for c in lsFieldFt:\n",
    "    dfITest[\"%s_stdized3\"%c] = (dfITest[c] - dfITest[c+\"_mean\"])/dfITest[c+\"_std\"]\n",
    "print(dfITest.shape) # (29924, 353)\n",
    "printRuntime()"
   ]
  },
  {
   "cell_type": "code",
   "execution_count": 83,
   "metadata": {},
   "outputs": [
    {
     "name": "stdout",
     "output_type": "stream",
     "text": [
      "Drop nb03 group ft (mean, std)\n",
      "(20000, 451)\n",
      "2020-03-02 23:29:06\n",
      "-------------------\n"
     ]
    }
   ],
   "source": [
    "print(\"Drop nb03 group ft (mean, std)\")\n",
    "lsNb03Ft = [c for c in dfNb03.columns if \"FIELD\" in c]\n",
    "dfITest = dfITest.drop(lsNb03Ft, axis=1)\n",
    "print(dfITest.shape)\n",
    "printRuntime()"
   ]
  },
  {
   "cell_type": "code",
   "execution_count": null,
   "metadata": {},
   "outputs": [],
   "source": []
  },
  {
   "cell_type": "markdown",
   "metadata": {},
   "source": [
    "### Save iTest data"
   ]
  },
  {
   "cell_type": "code",
   "execution_count": 84,
   "metadata": {},
   "outputs": [
    {
     "data": {
      "text/plain": [
       "((30000, 452), (20000, 451))"
      ]
     },
     "execution_count": 84,
     "metadata": {},
     "output_type": "execute_result"
    }
   ],
   "source": [
    "dfITrain.shape, dfITest.shape"
   ]
  },
  {
   "cell_type": "code",
   "execution_count": 85,
   "metadata": {},
   "outputs": [
    {
     "name": "stdout",
     "output_type": "stream",
     "text": [
      "2020-03-02 23:29:22\n",
      "-------------------\n"
     ]
    }
   ],
   "source": [
    "iTestPath = basePath + \"itest_{}.pickle\".format(ymd)\n",
    "dfITest.to_pickle(iTestPath, compression=\"bz2\")\n",
    "printRuntime()"
   ]
  },
  {
   "cell_type": "code",
   "execution_count": null,
   "metadata": {},
   "outputs": [],
   "source": []
  }
 ],
 "metadata": {
  "kernelspec": {
   "display_name": "Python 3",
   "language": "python",
   "name": "python3"
  },
  "language_info": {
   "codemirror_mode": {
    "name": "ipython",
    "version": 3
   },
   "file_extension": ".py",
   "mimetype": "text/x-python",
   "name": "python",
   "nbconvert_exporter": "python",
   "pygments_lexer": "ipython3",
   "version": "3.6.4"
  }
 },
 "nbformat": 4,
 "nbformat_minor": 2
}
