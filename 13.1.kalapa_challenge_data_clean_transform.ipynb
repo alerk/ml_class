{
 "cells": [
  {
   "cell_type": "code",
   "execution_count": 1,
   "metadata": {},
   "outputs": [],
   "source": [
    "import pandas as pd, numpy as np, seaborn as sns\n",
    "from pprint import pprint\n",
    "%matplotlib inline\n",
    "import matplotlib\n",
    "import matplotlib.pyplot as plt\n",
    "\n",
    "import math\n",
    "from collections import Counter\n",
    "\n",
    "import datetime, time\n",
    "\n",
    "from pprint import pprint\n",
    "import re"
   ]
  },
  {
   "cell_type": "code",
   "execution_count": 2,
   "metadata": {},
   "outputs": [
    {
     "name": "stdout",
     "output_type": "stream",
     "text": [
      "2020-02-15 21:41:36\n",
      "-------------------\n"
     ]
    }
   ],
   "source": [
    "def printRuntime():\n",
    "    print(datetime.datetime.now().strftime(\"%Y-%m-%d %T\"))\n",
    "    print(\"-\"*19)\n",
    "printRuntime()"
   ]
  },
  {
   "cell_type": "markdown",
   "metadata": {},
   "source": [
    "# 1. Load data"
   ]
  },
  {
   "cell_type": "code",
   "execution_count": 3,
   "metadata": {},
   "outputs": [
    {
     "name": "stdout",
     "output_type": "stream",
     "text": [
      "2020-02-15 21:41:36\n",
      "-------------------\n"
     ]
    }
   ],
   "source": [
    "basePath = \"./kalapa/\"\n",
    "trainPath = basePath + \"train.csv\"\n",
    "testPath = basePath + \"test.csv\"\n",
    "colDesc = basePath + \"column_description.csv\"\n",
    "sampleSubmit = basePath + \"sample_submission.csv\"\n",
    "\n",
    "cleanedTrain = basePath + \"cleanedTrain.pickle\"\n",
    "cleanedTest = basePath + \"cleanedTest.pickle\"\n",
    "nb01 = basePath + \"nb01.pickle\"\n",
    "nb02 = basePath + \"nb02.pickle\"\n",
    "nb03 = basePath + \"nb03.pickle\"\n",
    "printRuntime()"
   ]
  },
  {
   "cell_type": "code",
   "execution_count": 5,
   "metadata": {},
   "outputs": [
    {
     "name": "stdout",
     "output_type": "stream",
     "text": [
      "2020-02-15 21:42:01\n",
      "-------------------\n"
     ]
    }
   ],
   "source": [
    "def avgAge(row):\n",
    "    a = row[\"age_source1\"]\n",
    "    b = row[\"age_source2\"]\n",
    "    if np.isnan(a) and np.isnan(b):\n",
    "        return np.nan\n",
    "    elif np.isnan(a):\n",
    "        return b\n",
    "    elif np.isnan(b):\n",
    "        return a\n",
    "    else:\n",
    "        return (a+b)/2.0\n",
    "    \n",
    "def diffAge(row):\n",
    "    a = row[\"age_source1\"]\n",
    "    b = row[\"age_source2\"]\n",
    "    if np.isnan(a) and np.isnan(b):\n",
    "        return np.nan\n",
    "    elif np.isnan(a):\n",
    "        return -b\n",
    "    elif np.isnan(b):\n",
    "        return a\n",
    "    else:\n",
    "        return (a+b)/2.0\n",
    "    \n",
    "def groupAge(age):\n",
    "    # 18-23; 23-35; 35-50; 50+\n",
    "    result = \"\"\n",
    "    if np.isnan(age):\n",
    "        result = \"AGE_NONE\"\n",
    "    elif age <= 18:\n",
    "        result = \"AGE_0\"\n",
    "    elif age <=23:\n",
    "        result = \"AGE_1\"\n",
    "    elif age <=35:\n",
    "        result = \"AGE_2\"\n",
    "    elif age <= 50:\n",
    "        result = \"AGE_3\"\n",
    "    else:\n",
    "        result = \"AGE_4\"\n",
    "    return result\n",
    "printRuntime()"
   ]
  },
  {
   "cell_type": "markdown",
   "metadata": {},
   "source": [
    "# Train"
   ]
  },
  {
   "cell_type": "code",
   "execution_count": 6,
   "metadata": {},
   "outputs": [
    {
     "name": "stdout",
     "output_type": "stream",
     "text": [
      "2020-02-15 21:42:04\n",
      "-------------------\n"
     ]
    },
    {
     "name": "stderr",
     "output_type": "stream",
     "text": [
      "/Users/newuser/anaconda3/lib/python3.6/site-packages/IPython/core/interactiveshell.py:2728: DtypeWarning: Columns (51) have mixed types. Specify dtype option on import or set low_memory=False.\n",
      "  interactivity=interactivity, compiler=compiler, result=result)\n"
     ]
    }
   ],
   "source": [
    "pdfTrainRaw = pd.read_csv(trainPath)\n",
    "printRuntime()"
   ]
  },
  {
   "cell_type": "code",
   "execution_count": 7,
   "metadata": {},
   "outputs": [
    {
     "name": "stdout",
     "output_type": "stream",
     "text": [
      "(30000, 64)\n",
      "2020-02-15 21:42:04\n",
      "-------------------\n"
     ]
    }
   ],
   "source": [
    "cond = (\n",
    "    ~((pdfTrainRaw[\"age_source1\"]<18) | (pdfTrainRaw[\"age_source2\"]<18)) # Filter out age < 18, keep NaN\n",
    ")\n",
    "# pdfTrain = pdfTrainRaw[cond].copy()\n",
    "pdfTrain = pdfTrainRaw.copy()\n",
    "pdfTrain[\"maCv\"] = pdfTrain[\"maCv\"].apply(lambda x: str(x).lower())\n",
    "pdfTrain[\"province\"] = pdfTrain[\"province\"].apply(lambda x: str(x).lower())\n",
    "pdfTrain[\"district\"] = pdfTrain[\"district\"].apply(lambda x: str(x).lower())\n",
    "print(pdfTrain.shape)\n",
    "printRuntime()"
   ]
  },
  {
   "cell_type": "code",
   "execution_count": 8,
   "metadata": {},
   "outputs": [],
   "source": [
    "lsMetaCol = [\"id\", \"label\", \"province\", \"district\", \"age_source1\", \"age_source2\", \"maCv\"]"
   ]
  },
  {
   "cell_type": "markdown",
   "metadata": {},
   "source": [
    "# Test"
   ]
  },
  {
   "cell_type": "code",
   "execution_count": 9,
   "metadata": {},
   "outputs": [
    {
     "name": "stdout",
     "output_type": "stream",
     "text": [
      "2020-02-15 21:42:08\n",
      "-------------------\n"
     ]
    },
    {
     "name": "stderr",
     "output_type": "stream",
     "text": [
      "/Users/newuser/anaconda3/lib/python3.6/site-packages/IPython/core/interactiveshell.py:2728: DtypeWarning: Columns (50) have mixed types. Specify dtype option on import or set low_memory=False.\n",
      "  interactivity=interactivity, compiler=compiler, result=result)\n"
     ]
    }
   ],
   "source": [
    "pdfTestRaw = pd.read_csv(testPath)\n",
    "printRuntime()"
   ]
  },
  {
   "cell_type": "code",
   "execution_count": 10,
   "metadata": {},
   "outputs": [
    {
     "name": "stdout",
     "output_type": "stream",
     "text": [
      "(20000, 63)\n",
      "2020-02-15 21:42:08\n",
      "-------------------\n"
     ]
    }
   ],
   "source": [
    "cond = (\n",
    "    ~((pdfTestRaw[\"age_source1\"]<18) | (pdfTestRaw[\"age_source2\"]<18)) # Filter out age < 18, keep NaN\n",
    ")\n",
    "# pdfTest = pdfTestRaw[cond].copy()\n",
    "pdfTest = pdfTestRaw.copy()\n",
    "pdfTest[\"maCv\"] = pdfTest[\"maCv\"].apply(lambda x: str(x).lower())\n",
    "pdfTest[\"province\"] = pdfTest[\"province\"].apply(lambda x: str(x).lower())\n",
    "pdfTest[\"district\"] = pdfTest[\"district\"].apply(lambda x: str(x).lower())\n",
    "print(pdfTest.shape)\n",
    "printRuntime()"
   ]
  },
  {
   "cell_type": "markdown",
   "metadata": {},
   "source": [
    "### Clean data"
   ]
  },
  {
   "cell_type": "raw",
   "metadata": {},
   "source": [
    "cat non-ordinal fields\n",
    "FIELD_7 (vector), FIELD_9 35, FIELD_10 3, FIELD_12 5, FIELD_13 227, FIELD_17 8, FIELD_24 4, FIELD_39 46, FIELD_43 7\n",
    "one-hot: 10, 12, 17, 24, 43\n",
    "Duplicated province \"Tỉnh Vĩnh Phúc\" and \"Tỉnh Vĩnh phúc\"\n",
    "# TODO:\n",
    "embedding: 7, 9, 13, 39 TO BE DONE"
   ]
  },
  {
   "cell_type": "raw",
   "metadata": {},
   "source": [
    "# Because nan is float64, convert columns to float64\n",
    "FIELD_1: [1 0]\n",
    "FIELD_2: [ 1.  0. nan] 1. ->1, 0. ->0\n",
    "FIELD_3: float64 multiple values\n",
    "FIELD_4: [ 0.  1. nan  2.  3.  4.  5.  6.  8.  7. 12.] 0->8, 12, nan\n",
    "FIELD_5: [ 0.  1.  4.  2. nan  6.  3.  5.  7.  8. 11.  9. 12. 14. 10. 13.] 0->14, nan\n",
    "FIELD_6: [ 0.  1. nan  2.  3.  4.] -> 1-5 scale (with NULL)\n",
    "FIELD_7: TO BE EMBEDDED\n",
    "FIELD_8: [nan 'MALE' 'FEMALE'] Gender (with NULL)\n",
    "FIELD_9: TO BE EMBEDDED\n",
    "FIELD_10: [nan 'T1' 'GH'] object non-ordinal\n",
    "FIELD_11: numeric string: 'None'->nan, string -> int64\n",
    "FIELD_12: [nan 'None' '0' '1' 'HT' 'TN'] (nan, 'HT', 'TN') -> 'None' '0', '1', ('HT', 'TN', ...) -> 'None' \n",
    "FIELD_13: object not detected -> TO BE EMBEDDED\n",
    "FIELD_14: [0 1]\n",
    "FIELD_15: [0 1]\n",
    "FIELD_16: 1-5 scale (with NULL)\n",
    "FIELD_17: [nan 'G8' 'None' 'G9' 'G7' 'GX' 'G3' 'G4' 'G2'] 'None' => nan  object non-ordinal\n",
    "FIELD_18: [nan True False]\n",
    "FIELD_19: [nan True False]\n",
    "FIELD_20: [nan True False]\n",
    "FIELD_21: [nan  1.  2.  0.] -> 0, 1, 2 (int64)\n",
    "FIELD_22: float64 multiple values\n",
    "FIELD_23: [nan, True] -> bool\n",
    "FIELD_24: [nan 'None' 'K3' 'K1' 'K2'] 'None' => nan  object non-ordinal\n",
    "FIELD_25: [nan, 'FALSE', 'TRUE'] 'TRUE' -> True, 'FALSE' -> False\n",
    "FIELD_26: [nan True False]\n",
    "FIELD_27: [nan True False]\n",
    "FIELD_28: [nan True False]\n",
    "FIELD_29: [nan, 'None', 'FALSE', 'TRUE'] 'None' => nan, 'TRUE' -> True, 'FALSE' -> False\n",
    "FIELD_30: [nan, 'None', 'FALSE', 'TRUE'] 'None' => nan, 'TRUE' -> True, 'FALSE' -> False\n",
    "FIELD_31: [nan 'None' 'FALSE'] 'None' -> nan, 'FALSE' -> False\n",
    "FIELD_32: int64 but 0-1 ~ bool\n",
    "FIELD_33: int64 but 0-1 ~ bool\n",
    "FIELD_34: int64 but 0-1 ~ bool\n",
    "FIELD_35: [nan 'Zero' 'Four' 'One' 'Three' 'Two'] => 1-5 scale (with NULL)\n",
    "FIELD_36: [nan 'FALSE' 'TRUE' 'None'] 'None' => nan\n",
    "FIELD_37: [nan True False 'TRUE' 'FALSE' 'None'] 'None' => nan, 'TRUE' -> True, 'FALSE' -> False\n",
    "FIELD_38: [nan False True]\n",
    "FIELD_39: object not detected -> TO BE EMBEDDED\n",
    "FIELD_40: [nan 'None' '1' '2' '02 05 08 11' '3' '6' '4' '08 02' '05 08 11 02'] nan->'None'->nan, ('08 02', '05 08 11 02') -> '02 05 08 11'\n",
    "FIELD_41: [nan 'V' 'I' 'III' 'II' 'IV'] => 1-5 scale (with NULL)\n",
    "FIELD_42: [nan 'Zezo' 'One' 'None'] => 'None' -> nan, 'Zero' -> 0, 'One' -> 1\n",
    "FIELD_43: [nan 'None' 'B' 'D' 'C' 'A' '5' '0']\n",
    "FIELD_44: [nan 'One' 'Two' 'None'] => 'None' -> nan, 'One'->1, 'Two'->2\n",
    "FIELD_45: [nan '1' '2' 'None' 1.0 2.0] => 'None' -> nan, '1'->1, '2'->2, 1.0->1, 2.0->2\n",
    "FIELD_46: [0 1]\n",
    "FIELD_47: [True False]\n",
    "FIELD_48: [True False]\n",
    "FIELD_49: [True False]"
   ]
  },
  {
   "cell_type": "code",
   "execution_count": null,
   "metadata": {},
   "outputs": [],
   "source": [
    "25, 29, 30, 31, 36, 37, : 'TRUE' -> True, 'FALSE' -> False !DONE\n",
    "35: => \"Zero\"-\"Four\" -> 1-5 scale (with NULL) !DONE\n",
    "41: \"I\"-\"V\" -> 1-5 scale (with NULL) !DONE\n",
    "42, 44: \"Zezo\", \"One\", \"Two\" !DONE\n",
    "45: \"1\" 1.0 -> 1; \"2\" 2.0 ->2 !DONE"
   ]
  },
  {
   "cell_type": "markdown",
   "metadata": {},
   "source": [
    "### Break down maCv to (maCv[:2] + maCv[2:])"
   ]
  },
  {
   "cell_type": "code",
   "execution_count": 11,
   "metadata": {},
   "outputs": [
    {
     "name": "stdout",
     "output_type": "stream",
     "text": [
      "('nhân viên', 'phòng thí nghiệm')\n",
      "('nhân viên', 'bảo trì')\n",
      "('công nhân', 'ủi')\n",
      "('cấp dưỡng', 'none')\n",
      "('trưởng dây chuyền', 'phòng sản xuất')\n",
      "('phó trưởng phòng', 'none')\n",
      "2020-02-15 21:43:16\n",
      "-------------------\n"
     ]
    }
   ],
   "source": [
    "def formatJob(iStr):\n",
    "    if \"none\" == iStr or \"nan\" == iStr:\n",
    "        return \"none\"\n",
    "    # Replace all digit\n",
    "    iStr = re.sub(\"\\d\", \"\", iStr)\n",
    "    # Replace cn to cong nhan\n",
    "    iStr = re.sub(r\"^(cnhân|cn|coõng nhaõn)\", \"công nhân \", iStr)\n",
    "    # Replace nv/nv. to nhan vien\n",
    "    iStr = re.sub(r\"(- nv|nv.|nv)\", \"nhân viên \", iStr)\n",
    "    # Replace p. to phó\n",
    "    iStr = re.sub(r\"(^p\\.)\", \"phó \", iStr)\n",
    "    \n",
    "    iStr = (iStr.replace(\"-\", \" \")\n",
    "            .replace(\"cty\", \"công ty\")\n",
    "            .replace(\".\", \" \")\n",
    "            .replace(\"(\", \" \").\n",
    "            replace(\")\", \" \")\n",
    "           )\n",
    "    return iStr\n",
    "\n",
    "def splitJobType(iStr):\n",
    "    if \"none\" == iStr or \"nan\" == iStr:\n",
    "        return \"none\", \"none\"\n",
    "    iStr = formatJob(iStr)\n",
    "    \n",
    "    lsWord = iStr.split()\n",
    "    if len(lsWord) == 0:\n",
    "        return \"none\", \"none\"\n",
    "    splitIdx = 2\n",
    "    if \"phó chánh\" in iStr or (\"phó trưởng\" in iStr \n",
    "                               and \"phó trưởng phòng\" not in iStr\n",
    "                               and \"phó trưởng ban\" not in iStr):\n",
    "        splitIdx = 4\n",
    "    elif (\"phó phòng\" not in iStr) and (lsWord[0] == \"phó\" or lsWord[0] == \"trưởng\"):\n",
    "        splitIdx = 3\n",
    "    \n",
    "    jobCat = \" \".join(lsWord[:splitIdx])\n",
    "    jobDesc = \"none\"\n",
    "    if len(lsWord) > splitIdx:\n",
    "        jobDesc = \" \".join(lsWord[splitIdx:])\n",
    "    return jobCat, jobDesc\n",
    "\n",
    "# Test\n",
    "print(splitJobType(\"nhân viên phòng thí nghiệm\"))\n",
    "print(splitJobType(\"nhân viên bảo trì\"))\n",
    "print(splitJobType(\"cn ủi\"))\n",
    "print(splitJobType(\"9782cấp dưỡng\"))\n",
    "print(splitJobType(\"trưởng dây chuyền phòng sản xuất\"))\n",
    "print(splitJobType(\"p. trưởng phòng\"))\n",
    "printRuntime()"
   ]
  },
  {
   "cell_type": "code",
   "execution_count": 12,
   "metadata": {},
   "outputs": [
    {
     "name": "stdout",
     "output_type": "stream",
     "text": [
      "CPU times: user 3 µs, sys: 0 ns, total: 3 µs\n",
      "Wall time: 5.25 µs\n",
      "2020-02-15 21:43:19\n",
      "-------------------\n"
     ]
    }
   ],
   "source": [
    "# pdfTrain[\"jobCat\"], pdfTrain[\"jobDesc\"] = pdfTrain[\"maCv\"].apply(lambda x: splitJobType(x))\n",
    "%time\n",
    "pdfTrain[\"maCv\"] = pdfTrain[\"maCv\"].apply(formatJob)\n",
    "pdfTrain[\"maCv_vector\"] = pdfTrain[\"maCv\"].apply(lambda x: x.split())\n",
    "pdfTrain[\"jobCat\"], pdfTrain[\"jobDesc\"] = zip(*pdfTrain[\"maCv\"].apply(splitJobType))\n",
    "printRuntime()"
   ]
  },
  {
   "cell_type": "code",
   "execution_count": 112,
   "metadata": {},
   "outputs": [
    {
     "name": "stdout",
     "output_type": "stream",
     "text": [
      "CPU times: user 2 µs, sys: 1 µs, total: 3 µs\n",
      "Wall time: 5.96 µs\n",
      "2020-02-15 22:06:39\n",
      "-------------------\n"
     ]
    }
   ],
   "source": [
    "# pdfTest[\"jobCat\"], pdfTest[\"jobDesc\"] = pdfTest[\"maCv\"].apply(lambda x: splitJobType(x))\n",
    "%time\n",
    "pdfTest[\"maCv\"] = pdfTest[\"maCv\"].apply(formatJob)\n",
    "pdfTest[\"maCv_vector\"] = pdfTest[\"maCv\"].apply(lambda x: x.split())\n",
    "pdfTest[\"jobCat\"], pdfTest[\"jobDesc\"] = zip(*pdfTest[\"maCv\"].apply(splitJobType))\n",
    "printRuntime()"
   ]
  },
  {
   "cell_type": "code",
   "execution_count": 13,
   "metadata": {},
   "outputs": [],
   "source": [
    "pdfTrain = (pdfTrain\n",
    "      .replace(np.nan, \"None\") # 'None' -> nan\n",
    "      .replace(\"TRUE\", True) # 'TRUE' -> True\n",
    "      .replace(\"FALSE\", False) # 'FALSE' -> False\n",
    "     )"
   ]
  },
  {
   "cell_type": "code",
   "execution_count": 14,
   "metadata": {},
   "outputs": [],
   "source": [
    "pdfTest = (pdfTest\n",
    "      .replace(np.nan, \"None\") # 'None' -> nan\n",
    "      .replace(\"TRUE\", True) # 'TRUE' -> True\n",
    "      .replace(\"FALSE\", False) # 'FALSE' -> False\n",
    "     )"
   ]
  },
  {
   "cell_type": "code",
   "execution_count": 15,
   "metadata": {},
   "outputs": [],
   "source": [
    "pdfTrainBk = pdfTrain.copy()\n",
    "\n",
    "pdfTestBk = pdfTest.copy()"
   ]
  },
  {
   "cell_type": "markdown",
   "metadata": {},
   "source": [
    "#### Replace ilformed values by columns to safely remove"
   ]
  },
  {
   "cell_type": "code",
   "execution_count": 16,
   "metadata": {},
   "outputs": [],
   "source": [
    "for dfTmp in [pdfTrain, pdfTest]:\n",
    "    # 6\n",
    "    dfTmp.loc[dfTmp[\"FIELD_6\"]==\"None\", \"FIELD_6\"] = np.nan\n",
    "    # dfTmp[\"FIELD_6\"] = dfTmp[\"FIELD_6\"] + 1\n",
    "    \n",
    "    # 12\n",
    "    dfTmp.loc[~dfTmp[\"FIELD_12\"].isin([\"None\", \"0\", \"1\"]), \"FIELD_12\"] = \"None\"\n",
    "\n",
    "    # 35 'Four' 'One' 'Three' 'Two'\n",
    "    dfTmp.loc[dfTmp[\"FIELD_35\"]==\"Zero\", \"FIELD_35\"] = 1\n",
    "    dfTmp.loc[dfTmp[\"FIELD_35\"]==\"One\", \"FIELD_35\"] = 2\n",
    "    dfTmp.loc[dfTmp[\"FIELD_35\"]==\"Two\", \"FIELD_35\"] = 3\n",
    "    dfTmp.loc[dfTmp[\"FIELD_35\"]==\"Three\", \"FIELD_35\"] = 4\n",
    "    dfTmp.loc[dfTmp[\"FIELD_35\"]==\"Four\", \"FIELD_35\"] = 5\n",
    "    \n",
    "    # 40 \n",
    "    dfTmp.loc[dfTmp[\"FIELD_40\"].isin([\"05 08 11 02\", \"08 02\"]), \"FIELD_40\"] = \"02 05 08 11\"\n",
    "    \n",
    "    # 41 I II III IV V\n",
    "    dfTmp.loc[dfTmp[\"FIELD_41\"]==\"I\", \"FIELD_41\"] = 1\n",
    "    dfTmp.loc[dfTmp[\"FIELD_41\"]==\"II\", \"FIELD_41\"] = 2\n",
    "    dfTmp.loc[dfTmp[\"FIELD_41\"]==\"III\", \"FIELD_41\"] = 3\n",
    "    dfTmp.loc[dfTmp[\"FIELD_41\"]==\"IV\", \"FIELD_41\"] = 4\n",
    "    dfTmp.loc[dfTmp[\"FIELD_41\"]==\"V\", \"FIELD_41\"] = 5\n",
    "\n",
    "    # 42\n",
    "    dfTmp.loc[dfTmp[\"FIELD_42\"]==\"Zezo\", \"FIELD_42\"] = 0\n",
    "    dfTmp.loc[dfTmp[\"FIELD_42\"]==\"One\", \"FIELD_42\"] = 1\n",
    "\n",
    "    # 44\n",
    "    dfTmp.loc[dfTmp[\"FIELD_44\"]==\"One\", \"FIELD_44\"] = 1\n",
    "    dfTmp.loc[dfTmp[\"FIELD_44\"]==\"Two\", \"FIELD_44\"] = 2\n",
    "\n",
    "    # 45\n",
    "    dfTmp.loc[(dfTmp[\"FIELD_45\"]==\"1\")|(dfTmp[\"FIELD_45\"]==1.0), \"FIELD_45\"] = 1\n",
    "    dfTmp.loc[(dfTmp[\"FIELD_45\"]==\"2\")|(dfTmp[\"FIELD_45\"]==2.0), \"FIELD_45\"] = 2"
   ]
  },
  {
   "cell_type": "markdown",
   "metadata": {},
   "source": [
    "### One-hot 8 (gender), 10, 12, 17, 24, 40, 43"
   ]
  },
  {
   "cell_type": "code",
   "execution_count": 17,
   "metadata": {},
   "outputs": [],
   "source": [
    "dfTrainBk1 = pdfTrain.copy()\n",
    "dfTestBk1 = pdfTest.copy()"
   ]
  },
  {
   "cell_type": "code",
   "execution_count": 18,
   "metadata": {},
   "outputs": [
    {
     "name": "stdout",
     "output_type": "stream",
     "text": [
      "{'FEMALE': 'FIELD_8_FEMALE', 'MALE': 'FIELD_8_MALE', 'None': 'FIELD_8_None'}\n",
      "{'GH': 'FIELD_10_GH', 'None': 'FIELD_10_None', 'T1': 'FIELD_10_T1'}\n",
      "{'0': 'FIELD_12_0', '1': 'FIELD_12_1', 'None': 'FIELD_12_None'}\n",
      "{'G2': 'FIELD_17_G2',\n",
      " 'G3': 'FIELD_17_G3',\n",
      " 'G4': 'FIELD_17_G4',\n",
      " 'G7': 'FIELD_17_G7',\n",
      " 'G8': 'FIELD_17_G8',\n",
      " 'G9': 'FIELD_17_G9',\n",
      " 'GX': 'FIELD_17_GX',\n",
      " 'None': 'FIELD_17_None'}\n",
      "{'K1': 'FIELD_24_K1',\n",
      " 'K2': 'FIELD_24_K2',\n",
      " 'K3': 'FIELD_24_K3',\n",
      " 'None': 'FIELD_24_None'}\n",
      "{'02 05 08 11': 'FIELD_40_02 05 08 11',\n",
      " '1': 'FIELD_40_1',\n",
      " '2': 'FIELD_40_2',\n",
      " '3': 'FIELD_40_3',\n",
      " '4': 'FIELD_40_4',\n",
      " '6': 'FIELD_40_6',\n",
      " 'None': 'FIELD_40_None'}\n",
      "{'0': 'FIELD_43_0',\n",
      " '5': 'FIELD_43_5',\n",
      " 'A': 'FIELD_43_A',\n",
      " 'B': 'FIELD_43_B',\n",
      " 'C': 'FIELD_43_C',\n",
      " 'D': 'FIELD_43_D',\n",
      " 'None': 'FIELD_43_None'}\n"
     ]
    }
   ],
   "source": [
    "# Get one hot encoding of columns for pdfTrain pdfTest\n",
    "lsCol = [8, 10, 12, 17, 24, 40, 43]\n",
    "for d in lsCol:\n",
    "    cName = \"FIELD_%d\" % d\n",
    "    one_hot = pd.get_dummies(pdfTrain[cName].replace(np.nan, \"None\"))\n",
    "    renameCol = {}\n",
    "    for c in one_hot.columns:\n",
    "        renameCol[c] = \"%s_%s\" % (cName, c)\n",
    "    pprint(renameCol)\n",
    "    one_hot = one_hot.rename(columns=renameCol)\n",
    "    pdfTrain = pdfTrain.drop(cName, axis = 1)\n",
    "    # Join the encoded pdfTrain\n",
    "    pdfTrain = pdfTrain.join(one_hot)"
   ]
  },
  {
   "cell_type": "code",
   "execution_count": 19,
   "metadata": {},
   "outputs": [
    {
     "name": "stdout",
     "output_type": "stream",
     "text": [
      "{'FEMALE': 'FIELD_8_FEMALE', 'MALE': 'FIELD_8_MALE', 'None': 'FIELD_8_None'}\n",
      "{'GH': 'FIELD_10_GH', 'None': 'FIELD_10_None', 'T1': 'FIELD_10_T1'}\n",
      "{'0': 'FIELD_12_0', '1': 'FIELD_12_1', 'None': 'FIELD_12_None'}\n",
      "{'G3': 'FIELD_17_G3',\n",
      " 'G4': 'FIELD_17_G4',\n",
      " 'G7': 'FIELD_17_G7',\n",
      " 'G8': 'FIELD_17_G8',\n",
      " 'G9': 'FIELD_17_G9',\n",
      " 'GX': 'FIELD_17_GX',\n",
      " 'None': 'FIELD_17_None'}\n",
      "{'K1': 'FIELD_24_K1',\n",
      " 'K2': 'FIELD_24_K2',\n",
      " 'K3': 'FIELD_24_K3',\n",
      " 'None': 'FIELD_24_None'}\n",
      "{'02 05 08 11': 'FIELD_40_02 05 08 11',\n",
      " '1': 'FIELD_40_1',\n",
      " '2': 'FIELD_40_2',\n",
      " '3': 'FIELD_40_3',\n",
      " '6': 'FIELD_40_6',\n",
      " 'None': 'FIELD_40_None'}\n",
      "{'0': 'FIELD_43_0',\n",
      " '5': 'FIELD_43_5',\n",
      " 'A': 'FIELD_43_A',\n",
      " 'B': 'FIELD_43_B',\n",
      " 'C': 'FIELD_43_C',\n",
      " 'D': 'FIELD_43_D',\n",
      " 'None': 'FIELD_43_None'}\n"
     ]
    }
   ],
   "source": [
    "for d in lsCol:\n",
    "    cName = \"FIELD_%d\" % d\n",
    "    one_hot = pd.get_dummies(pdfTest[cName].replace(np.nan, \"None\"))\n",
    "    renameCol = {}\n",
    "    for c in one_hot.columns:\n",
    "        renameCol[c] = \"%s_%s\" % (cName, c)\n",
    "    pprint(renameCol)\n",
    "    one_hot = one_hot.rename(columns=renameCol)\n",
    "    pdfTest = pdfTest.drop(cName, axis = 1)\n",
    "    # Join the encoded pdfTest\n",
    "    pdfTest = pdfTest.join(one_hot)"
   ]
  },
  {
   "cell_type": "code",
   "execution_count": 20,
   "metadata": {},
   "outputs": [
    {
     "name": "stdout",
     "output_type": "stream",
     "text": [
      "FIELD_17\n",
      "Add missing columns for test\n",
      "FIELD_17_G2\n",
      "FIELD_40\n",
      "Add missing columns for test\n",
      "FIELD_40_4\n"
     ]
    }
   ],
   "source": [
    "for d in lsCol:\n",
    "    cName = \"FIELD_%d\" % d\n",
    "    lsMissCol = [c for c in pdfTrain.columns if cName in c and c not in pdfTest.columns]\n",
    "    for c in lsMissCol:\n",
    "        print(cName)\n",
    "        print(\"Add missing columns for test\")        \n",
    "        print(c)\n",
    "        pdfTest[c] = 0\n",
    "\n",
    "    lsRedCol = [c for c in pdfTest.columns if cName in c and c not in pdfTrain.columns]\n",
    "    for c in lsRedCol:\n",
    "        print(\"Remove redundant columns for test\")\n",
    "        print(c)\n",
    "        pdfTest = pdfTest.drop(c, axis=1)"
   ]
  },
  {
   "cell_type": "code",
   "execution_count": 58,
   "metadata": {
    "collapsed": true
   },
   "outputs": [
    {
     "data": {
      "text/plain": [
       "Index(['id', 'label', 'province', 'district', 'age_source1', 'age_source2',\n",
       "       'maCv', 'FIELD_1', 'FIELD_2', 'FIELD_3', 'FIELD_4', 'FIELD_5',\n",
       "       'FIELD_6', 'FIELD_7', 'FIELD_9', 'FIELD_11', 'FIELD_13', 'FIELD_14',\n",
       "       'FIELD_15', 'FIELD_16', 'FIELD_18', 'FIELD_19', 'FIELD_20', 'FIELD_21',\n",
       "       'FIELD_22', 'FIELD_23', 'FIELD_25', 'FIELD_26', 'FIELD_27', 'FIELD_28',\n",
       "       'FIELD_29', 'FIELD_30', 'FIELD_31', 'FIELD_32', 'FIELD_33', 'FIELD_34',\n",
       "       'FIELD_35', 'FIELD_36', 'FIELD_37', 'FIELD_38', 'FIELD_39', 'FIELD_41',\n",
       "       'FIELD_42', 'FIELD_44', 'FIELD_45', 'FIELD_46', 'FIELD_47', 'FIELD_48',\n",
       "       'FIELD_49', 'FIELD_50', 'FIELD_51', 'FIELD_52', 'FIELD_53', 'FIELD_54',\n",
       "       'FIELD_55', 'FIELD_56', 'FIELD_57', 'jobCat', 'jobDesc', 'FIELD_8_0',\n",
       "       'FIELD_8_1', 'FIELD_8_None', 'FIELD_10_GH', 'FIELD_10_None',\n",
       "       'FIELD_10_T1', 'FIELD_12_0', 'FIELD_12_1', 'FIELD_12_None',\n",
       "       'FIELD_17_G2', 'FIELD_17_G3', 'FIELD_17_G4', 'FIELD_17_G7',\n",
       "       'FIELD_17_G8', 'FIELD_17_G9', 'FIELD_17_GX', 'FIELD_17_None',\n",
       "       'FIELD_24_K1', 'FIELD_24_K2', 'FIELD_24_K3', 'FIELD_24_None',\n",
       "       'FIELD_40_02 05 08 11', 'FIELD_40_1', 'FIELD_40_2', 'FIELD_40_3',\n",
       "       'FIELD_40_4', 'FIELD_40_6', 'FIELD_40_None', 'FIELD_43_0', 'FIELD_43_5',\n",
       "       'FIELD_43_A', 'FIELD_43_B', 'FIELD_43_C', 'FIELD_43_D',\n",
       "       'FIELD_43_None'],\n",
       "      dtype='object')"
      ]
     },
     "execution_count": 58,
     "metadata": {},
     "output_type": "execute_result"
    }
   ],
   "source": [
    "pdfTrain.columns"
   ]
  },
  {
   "cell_type": "markdown",
   "metadata": {},
   "source": [
    "### Add FIELD_7_MOST, FIELD_7_LEN, FIELD_9_APPEAR, FIELD_9_INDEX"
   ]
  },
  {
   "cell_type": "code",
   "execution_count": 21,
   "metadata": {},
   "outputs": [
    {
     "name": "stdout",
     "output_type": "stream",
     "text": [
      "[3]\n",
      "['GD']\n",
      "2020-02-15 21:44:16\n",
      "-------------------\n"
     ]
    }
   ],
   "source": [
    "def mostFrequent(List): \n",
    "    occurenceCount = Counter(List) \n",
    "    lsCount = occurenceCount.most_common()\n",
    "    maxAppear = lsCount[0][1]\n",
    "    # print(lsCount)\n",
    "    # print(maxAppear)\n",
    "    lsVal = [v[0] for v in lsCount if v[1] == maxAppear]\n",
    "    # Return list of most common items (if equally appeared)\n",
    "    return lsVal\n",
    "\n",
    "def mostAppear(iStr):\n",
    "    if iStr == \"[]\" or iStr is np.nan:\n",
    "        return \"na\"\n",
    "    lsChar = iStr.replace(\"'\", \"\").replace(\"[\", \"\").replace(\"]\", \"\").replace(\" \", \"\").split(\",\")\n",
    "    return mostFrequent(lsChar)\n",
    "\n",
    "# Test\n",
    "print(mostFrequent([2, 2, 3, 3, 3, 4, 5, 6])) # Expect [3]\n",
    "print(mostAppear(\"['GD', 'GD', 'TE']\")) # Expect [\"GD\"]\n",
    "\n",
    "def index_7_9(row):\n",
    "    \"\"\"\n",
    "    Return: (is_appear, index)\n",
    "    \"\"\"\n",
    "    lsMostAppear7 = row[\"FIELD_7_MOST\"]\n",
    "    val9 = row[\"FIELD_9\"]\n",
    "    if val9 == \"[]\" or val9 == \"na\":\n",
    "        return -2, -1\n",
    "    elif lsMostAppear7 == \"na\":\n",
    "        return -1, -1\n",
    "    elif val9 in lsMostAppear7:\n",
    "        return 1, lsMostAppear7.index(val9)\n",
    "    else:\n",
    "        # lsMostAppear7 is not null but 9 doesn't appear\n",
    "        return 0, -1\n",
    "    \n",
    "printRuntime()"
   ]
  },
  {
   "cell_type": "code",
   "execution_count": 22,
   "metadata": {},
   "outputs": [],
   "source": [
    "# Add col as most appear FIELD_7\n",
    "pdfTrain[\"FIELD_7_MOST\"] = pdfTrain[\"FIELD_7\"].apply(lambda x: mostAppear(x))\n",
    "pdfTrain[\"FIELD_7_LEN\"] = pdfTrain[\"FIELD_7_MOST\"].apply(len)\n",
    "# Add col as 9 appear in 7_MOST\n",
    "pdfTrain[\"FIELD_9_APPEAR\"], pdfTrain[\"FIELD_9_INDEX\"] = zip(*pdfTrain.apply(lambda row: index_7_9(row), axis=1))"
   ]
  },
  {
   "cell_type": "code",
   "execution_count": 23,
   "metadata": {},
   "outputs": [],
   "source": [
    "# Add col as most appear FIELD_7\n",
    "pdfTest[\"FIELD_7_MOST\"] = pdfTest[\"FIELD_7\"].apply(lambda x: mostAppear(x))\n",
    "pdfTest[\"FIELD_7_LEN\"] = pdfTest[\"FIELD_7_MOST\"].apply(len)\n",
    "# Add col as 9 appear in 7_MOST\n",
    "pdfTest[\"FIELD_9_APPEAR\"], pdfTest[\"FIELD_9_INDEX\"] = zip(*pdfTest.apply(lambda row: index_7_9(row), axis=1))"
   ]
  },
  {
   "cell_type": "code",
   "execution_count": 24,
   "metadata": {},
   "outputs": [],
   "source": [
    "pdfTrain = pdfTrain.drop(\"FIELD_7_MOST\", axis = 1)\n",
    "\n",
    "pdfTest = pdfTest.drop(\"FIELD_7_MOST\", axis = 1)"
   ]
  },
  {
   "cell_type": "markdown",
   "metadata": {},
   "source": [
    "### Add avg_age, diff_age, group_age"
   ]
  },
  {
   "cell_type": "code",
   "execution_count": 25,
   "metadata": {},
   "outputs": [],
   "source": [
    "pdfTrain.loc[pdfTrain[\"age_source1\"]==\"None\", \"age_source1\"] = np.nan\n",
    "pdfTrain.loc[pdfTrain[\"age_source2\"]==\"None\", \"age_source2\"] = np.nan"
   ]
  },
  {
   "cell_type": "code",
   "execution_count": 48,
   "metadata": {},
   "outputs": [
    {
     "name": "stdout",
     "output_type": "stream",
     "text": [
      "2020-02-15 21:51:15\n",
      "-------------------\n"
     ]
    }
   ],
   "source": [
    "pdfTrain[\"avg_age\"] = pdfTrain.apply(lambda row: avgAge(row), axis=1)\n",
    "pdfTrain[\"diff_age\"] = pdfTrain.apply(lambda row: diffAge(row), axis=1)\n",
    "pdfTrain[\"group_age\"] = pdfTrain[\"avg_age\"].apply(lambda x: groupAge(x))\n",
    "printRuntime()"
   ]
  },
  {
   "cell_type": "code",
   "execution_count": 27,
   "metadata": {},
   "outputs": [],
   "source": [
    "pdfTest.loc[pdfTest[\"age_source1\"]==\"None\", \"age_source1\"] = np.nan\n",
    "pdfTest.loc[pdfTest[\"age_source2\"]==\"None\", \"age_source2\"] = np.nan"
   ]
  },
  {
   "cell_type": "code",
   "execution_count": 49,
   "metadata": {},
   "outputs": [
    {
     "name": "stdout",
     "output_type": "stream",
     "text": [
      "2020-02-15 21:51:17\n",
      "-------------------\n"
     ]
    }
   ],
   "source": [
    "pdfTest[\"avg_age\"] = pdfTest.apply(lambda row: avgAge(row), axis=1)\n",
    "pdfTest[\"diff_age\"] = pdfTest.apply(lambda row: diffAge(row), axis=1)\n",
    "pdfTest[\"group_age\"] = pdfTest[\"avg_age\"].apply(lambda x: groupAge(x))\n",
    "printRuntime()"
   ]
  },
  {
   "cell_type": "markdown",
   "metadata": {},
   "source": [
    "### One hot group_age"
   ]
  },
  {
   "cell_type": "code",
   "execution_count": 62,
   "metadata": {},
   "outputs": [
    {
     "name": "stdout",
     "output_type": "stream",
     "text": [
      "{'AGE_0': 'FIELD_AGE_0',\n",
      " 'AGE_1': 'FIELD_AGE_1',\n",
      " 'AGE_2': 'FIELD_AGE_2',\n",
      " 'AGE_3': 'FIELD_AGE_3',\n",
      " 'AGE_4': 'FIELD_AGE_4',\n",
      " 'AGE_NONE': 'FIELD_AGE_NONE'}\n",
      "2020-02-15 21:53:52\n",
      "-------------------\n"
     ]
    }
   ],
   "source": [
    "cName = \"group_age\"\n",
    "one_hot = pd.get_dummies(pdfTrain[cName].replace(np.nan, \"None\"))\n",
    "renameCol = {}\n",
    "for c in one_hot.columns:\n",
    "    renameCol[c] = \"FIELD_%s\" % (c)\n",
    "pprint(renameCol)\n",
    "one_hot = one_hot.rename(columns=renameCol)\n",
    "\n",
    "# pdfTrain = pdfTrain.drop(cName, axis = 1)\n",
    "# Join the encoded pdfTrain\n",
    "pdfTrain = pdfTrain.join(one_hot)\n",
    "printRuntime()"
   ]
  },
  {
   "cell_type": "code",
   "execution_count": 63,
   "metadata": {},
   "outputs": [
    {
     "name": "stdout",
     "output_type": "stream",
     "text": [
      "{'AGE_0': 'FIELD_AGE_0',\n",
      " 'AGE_1': 'FIELD_AGE_1',\n",
      " 'AGE_2': 'FIELD_AGE_2',\n",
      " 'AGE_3': 'FIELD_AGE_3',\n",
      " 'AGE_4': 'FIELD_AGE_4',\n",
      " 'AGE_NONE': 'FIELD_AGE_NONE'}\n",
      "2020-02-15 21:53:56\n",
      "-------------------\n"
     ]
    }
   ],
   "source": [
    "cName = \"group_age\"\n",
    "one_hot = pd.get_dummies(pdfTest[cName].replace(np.nan, \"None\"))\n",
    "renameCol = {}\n",
    "for c in one_hot.columns:\n",
    "    renameCol[c] = \"FIELD_%s\" % (c)\n",
    "pprint(renameCol)\n",
    "one_hot = one_hot.rename(columns=renameCol)\n",
    "\n",
    "# pdfTest = pdfTest.drop(cName, axis = 1)\n",
    "# Join the encoded pdfTest\n",
    "pdfTest = pdfTest.join(one_hot)\n",
    "printRuntime()"
   ]
  },
  {
   "cell_type": "markdown",
   "metadata": {},
   "source": [
    "### Add lv3_loc"
   ]
  },
  {
   "cell_type": "code",
   "execution_count": 73,
   "metadata": {},
   "outputs": [
    {
     "name": "stdout",
     "output_type": "stream",
     "text": [
      "65 766\n",
      "2020-02-15 21:56:26\n",
      "-------------------\n"
     ]
    }
   ],
   "source": [
    "pdfTrain[\"lv3_loc\"] = \"[\" + pdfTrain[\"province\"] + \"]_[\" + pdfTrain[\"district\"] + \"]\"\n",
    "lsProvince = pdfTrain[\"province\"].unique()\n",
    "lsLoc = pdfTrain[\"lv3_loc\"].unique()\n",
    "print(len(lsProvince), len(lsLoc))\n",
    "printRuntime()"
   ]
  },
  {
   "cell_type": "code",
   "execution_count": 74,
   "metadata": {},
   "outputs": [
    {
     "name": "stdout",
     "output_type": "stream",
     "text": [
      "65 724\n",
      "2020-02-15 21:56:28\n",
      "-------------------\n"
     ]
    }
   ],
   "source": [
    "pdfTest[\"lv3_loc\"] = \"[\" + pdfTest[\"province\"] + \"]_[\" + pdfTest[\"district\"] + \"]\"\n",
    "lsProvince = pdfTest[\"province\"].unique()\n",
    "lsLoc = pdfTest[\"lv3_loc\"].unique()\n",
    "print(len(lsProvince), len(lsLoc))\n",
    "printRuntime()"
   ]
  },
  {
   "cell_type": "markdown",
   "metadata": {},
   "source": [
    "### Convert data types"
   ]
  },
  {
   "cell_type": "code",
   "execution_count": 91,
   "metadata": {},
   "outputs": [],
   "source": [
    "lsExtraFt = ([\"FIELD_7_LEN\", \"FIELD_9_APPEAR\", \"FIELD_9_INDEX\"]  + [\"avg_age\", \"diff_age\"]\n",
    "             )"
   ]
  },
  {
   "cell_type": "code",
   "execution_count": 92,
   "metadata": {},
   "outputs": [
    {
     "name": "stdout",
     "output_type": "stream",
     "text": [
      "2020-02-15 22:04:30\n",
      "-------------------\n"
     ]
    }
   ],
   "source": [
    "lsFieldFt = ([c for c in pdfTrain.columns \n",
    "              if \"FIELD\" in c \n",
    "              and c not in [\"FIELD_%d\"%d for d in [7, 9, 13, 39]]] \n",
    "             + lsExtraFt)\n",
    "# pprint(lsFieldFt)\n",
    "printRuntime()"
   ]
  },
  {
   "cell_type": "code",
   "execution_count": 93,
   "metadata": {},
   "outputs": [
    {
     "name": "stdout",
     "output_type": "stream",
     "text": [
      "True\n",
      "2020-02-15 22:04:31\n",
      "-------------------\n"
     ]
    }
   ],
   "source": [
    "lsFieldFtTest = ([c for c in pdfTest.columns \n",
    "                  if \"FIELD\" in c \n",
    "                  and c not in [\"FIELD_%d\"%d for d in [7, 9, 13, 39]]]\n",
    "                 + lsExtraFt)\n",
    "print(sorted(lsFieldFtTest) == sorted(lsFieldFt))\n",
    "printRuntime()"
   ]
  },
  {
   "cell_type": "code",
   "execution_count": 94,
   "metadata": {},
   "outputs": [
    {
     "name": "stdout",
     "output_type": "stream",
     "text": [
      "2020-02-15 22:04:35\n",
      "-------------------\n"
     ]
    }
   ],
   "source": [
    "for c in lsFieldFt:\n",
    "    try:\n",
    "        pdfTrain.loc[pdfTrain[c].isin([\"None\", \"na\"]), c] = np.nan\n",
    "        pdfTrain[c] = pdfTrain[c].astype(np.float64)\n",
    "        pdfTest.loc[pdfTest[c].isin([\"None\", \"na\"]), c] = np.nan\n",
    "        pdfTest[c] = pdfTest[c].astype(np.float64)\n",
    "    except:\n",
    "        print(c)\n",
    "printRuntime()"
   ]
  },
  {
   "cell_type": "markdown",
   "metadata": {},
   "source": [
    "### Add neighbor features\n",
    "Neighbor features: \n",
    "    + avg+std of groupby (province, age_group, maCv)\n",
    "    + avg+std of groupby (lv3_loc, age_group, maCv)\n",
    "    + avg+std of groupby (province, maCv)\n",
    "    "
   ]
  },
  {
   "cell_type": "code",
   "execution_count": 95,
   "metadata": {},
   "outputs": [],
   "source": [
    "aggDict = {}\n",
    "for f in lsFieldFt:\n",
    "    aggDict[f] = [\"mean\", \"std\"]"
   ]
  },
  {
   "cell_type": "code",
   "execution_count": 96,
   "metadata": {},
   "outputs": [],
   "source": [
    "# 1\n",
    "lsMetaCol1 = [\"province\", \"group_age\", \"jobCat\"]\n",
    "lsMetaCol2 = [\"lv3_loc\", \"group_age\", \"jobCat\"]\n",
    "lsMetaCol3 = [\"province\", \"jobCat\"]"
   ]
  },
  {
   "cell_type": "code",
   "execution_count": 97,
   "metadata": {},
   "outputs": [
    {
     "name": "stdout",
     "output_type": "stream",
     "text": [
      "2020-02-15 22:04:39\n",
      "-------------------\n"
     ]
    }
   ],
   "source": [
    "dfNb01 = pdfTrain.groupby(lsMetaCol1, as_index=False).agg(aggDict)\n",
    "dfNb01.columns = [\"_\".join(x) for x in dfNb01.columns.ravel()]\n",
    "dfNb01 = dfNb01.rename(columns={\"province_\": \"province\", \n",
    "                       \"group_age_\": \"group_age\", \n",
    "                       \"jobCat_\": \"jobCat\"})\n",
    "printRuntime()"
   ]
  },
  {
   "cell_type": "code",
   "execution_count": 98,
   "metadata": {},
   "outputs": [
    {
     "name": "stdout",
     "output_type": "stream",
     "text": [
      "2020-02-15 22:04:40\n",
      "-------------------\n"
     ]
    }
   ],
   "source": [
    "dfNb02 = pdfTrain.groupby(lsMetaCol2, as_index=False).agg(aggDict)\n",
    "dfNb02.columns = [\"_\".join(x) for x in dfNb02.columns.ravel()]\n",
    "dfNb02 = dfNb02.rename(columns={\"province_\": \"province\", \n",
    "                       \"group_age_\": \"group_age\", \n",
    "                       \"jobCat_\": \"jobCat\"})\n",
    "printRuntime()"
   ]
  },
  {
   "cell_type": "code",
   "execution_count": 99,
   "metadata": {},
   "outputs": [
    {
     "name": "stdout",
     "output_type": "stream",
     "text": [
      "2020-02-15 22:04:41\n",
      "-------------------\n"
     ]
    }
   ],
   "source": [
    "dfNb03 = pdfTrain.groupby(lsMetaCol3, as_index=False).agg(aggDict)\n",
    "dfNb03.columns = [\"_\".join(x) for x in dfNb03.columns.ravel()]\n",
    "dfNb03 = dfNb03.rename(columns={\"province_\": \"province\", \n",
    "                       \"group_age_\": \"group_age\", \n",
    "                       \"jobCat_\": \"jobCat\"})\n",
    "printRuntime()"
   ]
  },
  {
   "cell_type": "code",
   "execution_count": 100,
   "metadata": {},
   "outputs": [
    {
     "name": "stdout",
     "output_type": "stream",
     "text": [
      "2020-02-15 22:04:51\n",
      "-------------------\n"
     ]
    }
   ],
   "source": [
    "# Save outputs: pdfTrain, dfNb01, dfNb02, dfNb03\n",
    "pdfTrain.to_pickle(cleanedTrain, compression=\"bz2\")\n",
    "pdfTest.to_pickle(cleanedTest, compression=\"bz2\")\n",
    "dfNb01.to_pickle(nb01, compression=\"bz2\")\n",
    "dfNb02.to_pickle(nb02, compression=\"bz2\")\n",
    "dfNb03.to_pickle(nb03, compression=\"bz2\")\n",
    "printRuntime()"
   ]
  },
  {
   "cell_type": "code",
   "execution_count": 51,
   "metadata": {
    "collapsed": true
   },
   "outputs": [
    {
     "data": {
      "text/html": [
       "<div>\n",
       "<style scoped>\n",
       "    .dataframe tbody tr th:only-of-type {\n",
       "        vertical-align: middle;\n",
       "    }\n",
       "\n",
       "    .dataframe tbody tr th {\n",
       "        vertical-align: top;\n",
       "    }\n",
       "\n",
       "    .dataframe thead th {\n",
       "        text-align: right;\n",
       "    }\n",
       "</style>\n",
       "<table border=\"1\" class=\"dataframe\">\n",
       "  <thead>\n",
       "    <tr style=\"text-align: right;\">\n",
       "      <th></th>\n",
       "      <th>province</th>\n",
       "      <th>group_age</th>\n",
       "      <th>jobCat</th>\n",
       "      <th>FIELD_1_mean</th>\n",
       "      <th>FIELD_1_std</th>\n",
       "      <th>FIELD_2_mean</th>\n",
       "      <th>FIELD_2_std</th>\n",
       "      <th>FIELD_3_mean</th>\n",
       "      <th>FIELD_3_std</th>\n",
       "      <th>FIELD_4_mean</th>\n",
       "      <th>...</th>\n",
       "      <th>FIELD_43_A_mean</th>\n",
       "      <th>FIELD_43_A_std</th>\n",
       "      <th>FIELD_43_B_mean</th>\n",
       "      <th>FIELD_43_B_std</th>\n",
       "      <th>FIELD_43_C_mean</th>\n",
       "      <th>FIELD_43_C_std</th>\n",
       "      <th>FIELD_43_D_mean</th>\n",
       "      <th>FIELD_43_D_std</th>\n",
       "      <th>FIELD_43_None_mean</th>\n",
       "      <th>FIELD_43_None_std</th>\n",
       "    </tr>\n",
       "  </thead>\n",
       "  <tbody>\n",
       "    <tr>\n",
       "      <th>0</th>\n",
       "      <td>Thành phố Cần Thơ</td>\n",
       "      <td>AGE_I</td>\n",
       "      <td>công nhân</td>\n",
       "      <td>1.000000</td>\n",
       "      <td>0.000000</td>\n",
       "      <td>1.000000</td>\n",
       "      <td>0.000000</td>\n",
       "      <td>1353.750000</td>\n",
       "      <td>451.900708</td>\n",
       "      <td>0.000000</td>\n",
       "      <td>...</td>\n",
       "      <td>0.0</td>\n",
       "      <td>0.0</td>\n",
       "      <td>0.0</td>\n",
       "      <td>0.0</td>\n",
       "      <td>0.0</td>\n",
       "      <td>0.0</td>\n",
       "      <td>0.0</td>\n",
       "      <td>0.0</td>\n",
       "      <td>1.0</td>\n",
       "      <td>0.0</td>\n",
       "    </tr>\n",
       "    <tr>\n",
       "      <th>1</th>\n",
       "      <td>Thành phố Cần Thơ</td>\n",
       "      <td>AGE_I</td>\n",
       "      <td>none</td>\n",
       "      <td>0.529412</td>\n",
       "      <td>0.514496</td>\n",
       "      <td>0.647059</td>\n",
       "      <td>0.492592</td>\n",
       "      <td>700.411765</td>\n",
       "      <td>634.703578</td>\n",
       "      <td>0.352941</td>\n",
       "      <td>...</td>\n",
       "      <td>0.0</td>\n",
       "      <td>0.0</td>\n",
       "      <td>0.0</td>\n",
       "      <td>0.0</td>\n",
       "      <td>0.0</td>\n",
       "      <td>0.0</td>\n",
       "      <td>0.0</td>\n",
       "      <td>0.0</td>\n",
       "      <td>1.0</td>\n",
       "      <td>0.0</td>\n",
       "    </tr>\n",
       "    <tr>\n",
       "      <th>2</th>\n",
       "      <td>Thành phố Cần Thơ</td>\n",
       "      <td>AGE_II</td>\n",
       "      <td>bôi keo</td>\n",
       "      <td>1.000000</td>\n",
       "      <td>NaN</td>\n",
       "      <td>1.000000</td>\n",
       "      <td>NaN</td>\n",
       "      <td>2899.000000</td>\n",
       "      <td>NaN</td>\n",
       "      <td>2.000000</td>\n",
       "      <td>...</td>\n",
       "      <td>0.0</td>\n",
       "      <td>NaN</td>\n",
       "      <td>0.0</td>\n",
       "      <td>NaN</td>\n",
       "      <td>0.0</td>\n",
       "      <td>NaN</td>\n",
       "      <td>0.0</td>\n",
       "      <td>NaN</td>\n",
       "      <td>1.0</td>\n",
       "      <td>NaN</td>\n",
       "    </tr>\n",
       "    <tr>\n",
       "      <th>3</th>\n",
       "      <td>Thành phố Cần Thơ</td>\n",
       "      <td>AGE_II</td>\n",
       "      <td>bảo vệ</td>\n",
       "      <td>0.000000</td>\n",
       "      <td>NaN</td>\n",
       "      <td>1.000000</td>\n",
       "      <td>NaN</td>\n",
       "      <td>2895.000000</td>\n",
       "      <td>NaN</td>\n",
       "      <td>1.000000</td>\n",
       "      <td>...</td>\n",
       "      <td>0.0</td>\n",
       "      <td>NaN</td>\n",
       "      <td>0.0</td>\n",
       "      <td>NaN</td>\n",
       "      <td>0.0</td>\n",
       "      <td>NaN</td>\n",
       "      <td>0.0</td>\n",
       "      <td>NaN</td>\n",
       "      <td>1.0</td>\n",
       "      <td>NaN</td>\n",
       "    </tr>\n",
       "    <tr>\n",
       "      <th>4</th>\n",
       "      <td>Thành phố Cần Thơ</td>\n",
       "      <td>AGE_II</td>\n",
       "      <td>chủ tịch</td>\n",
       "      <td>0.000000</td>\n",
       "      <td>NaN</td>\n",
       "      <td>0.000000</td>\n",
       "      <td>NaN</td>\n",
       "      <td>-1.000000</td>\n",
       "      <td>NaN</td>\n",
       "      <td>2.000000</td>\n",
       "      <td>...</td>\n",
       "      <td>0.0</td>\n",
       "      <td>NaN</td>\n",
       "      <td>0.0</td>\n",
       "      <td>NaN</td>\n",
       "      <td>0.0</td>\n",
       "      <td>NaN</td>\n",
       "      <td>0.0</td>\n",
       "      <td>NaN</td>\n",
       "      <td>1.0</td>\n",
       "      <td>NaN</td>\n",
       "    </tr>\n",
       "  </tbody>\n",
       "</table>\n",
       "<p>5 rows × 155 columns</p>\n",
       "</div>"
      ],
      "text/plain": [
       "            province group_age     jobCat  FIELD_1_mean  FIELD_1_std  \\\n",
       "0  Thành phố Cần Thơ     AGE_I  công nhân      1.000000     0.000000   \n",
       "1  Thành phố Cần Thơ     AGE_I       none      0.529412     0.514496   \n",
       "2  Thành phố Cần Thơ    AGE_II    bôi keo      1.000000          NaN   \n",
       "3  Thành phố Cần Thơ    AGE_II     bảo vệ      0.000000          NaN   \n",
       "4  Thành phố Cần Thơ    AGE_II   chủ tịch      0.000000          NaN   \n",
       "\n",
       "   FIELD_2_mean  FIELD_2_std  FIELD_3_mean  FIELD_3_std  FIELD_4_mean  ...  \\\n",
       "0      1.000000     0.000000   1353.750000   451.900708      0.000000  ...   \n",
       "1      0.647059     0.492592    700.411765   634.703578      0.352941  ...   \n",
       "2      1.000000          NaN   2899.000000          NaN      2.000000  ...   \n",
       "3      1.000000          NaN   2895.000000          NaN      1.000000  ...   \n",
       "4      0.000000          NaN     -1.000000          NaN      2.000000  ...   \n",
       "\n",
       "   FIELD_43_A_mean  FIELD_43_A_std  FIELD_43_B_mean  FIELD_43_B_std  \\\n",
       "0              0.0             0.0              0.0             0.0   \n",
       "1              0.0             0.0              0.0             0.0   \n",
       "2              0.0             NaN              0.0             NaN   \n",
       "3              0.0             NaN              0.0             NaN   \n",
       "4              0.0             NaN              0.0             NaN   \n",
       "\n",
       "   FIELD_43_C_mean  FIELD_43_C_std  FIELD_43_D_mean  FIELD_43_D_std  \\\n",
       "0              0.0             0.0              0.0             0.0   \n",
       "1              0.0             0.0              0.0             0.0   \n",
       "2              0.0             NaN              0.0             NaN   \n",
       "3              0.0             NaN              0.0             NaN   \n",
       "4              0.0             NaN              0.0             NaN   \n",
       "\n",
       "   FIELD_43_None_mean  FIELD_43_None_std  \n",
       "0                 1.0                0.0  \n",
       "1                 1.0                0.0  \n",
       "2                 1.0                NaN  \n",
       "3                 1.0                NaN  \n",
       "4                 1.0                NaN  \n",
       "\n",
       "[5 rows x 155 columns]"
      ]
     },
     "execution_count": 51,
     "metadata": {},
     "output_type": "execute_result"
    }
   ],
   "source": [
    "dfNb01.head()"
   ]
  },
  {
   "cell_type": "markdown",
   "metadata": {},
   "source": [
    "### raw ft + nb ft + standardize raw ft"
   ]
  },
  {
   "cell_type": "code",
   "execution_count": 101,
   "metadata": {},
   "outputs": [
    {
     "name": "stdout",
     "output_type": "stream",
     "text": [
      "2020-02-15 22:04:53\n",
      "-------------------\n"
     ]
    }
   ],
   "source": [
    "lsMetaCol = [\"id\", \"label\", \"province\", \"district\", \"lv3_loc\", \n",
    "              \"age_source1\", \"age_source2\", \"avg_age\", \"diff_age\", \"group_age\",\n",
    "              \"maCv\", \"jobCat\", \"jobDesc\"]\n",
    "lsEmbedFt = [\"FIELD_%d\"%d for d in [7, 9, 13, 39]]\n",
    "# raw ft\n",
    "lsFieldFt = ([c for c in pdfTrain.columns \n",
    "             if \"FIELD\" in c \n",
    "             and c not in lsEmbedFt] + lsExtraFt)\n",
    "\n",
    "label = \"label\"\n",
    "printRuntime()"
   ]
  },
  {
   "cell_type": "code",
   "execution_count": 102,
   "metadata": {},
   "outputs": [
    {
     "name": "stdout",
     "output_type": "stream",
     "text": [
      "2020-02-15 22:04:57\n",
      "-------------------\n"
     ]
    }
   ],
   "source": [
    "# nb ft\n",
    "lsNbMetaCol = lsMetaCol1\n",
    "dfNb = dfNb01 # TODO: dfNb02, dfNb03\n",
    "printRuntime()"
   ]
  },
  {
   "cell_type": "code",
   "execution_count": 103,
   "metadata": {},
   "outputs": [
    {
     "name": "stdout",
     "output_type": "stream",
     "text": [
      "(30000, 298)\n",
      "2020-02-15 22:04:58\n",
      "-------------------\n"
     ]
    }
   ],
   "source": [
    "dfITrain = pd.merge(pdfTrain, dfNb01, on=lsNbMetaCol, how=\"left\")\n",
    "\n",
    "print(dfITrain.shape)\n",
    "printRuntime()"
   ]
  },
  {
   "cell_type": "code",
   "execution_count": 104,
   "metadata": {},
   "outputs": [],
   "source": [
    "lsTmp = [c for c in dfITrain.columns if c not in lsFieldFt]\n",
    "# pprint(lsTmp)"
   ]
  },
  {
   "cell_type": "raw",
   "metadata": {},
   "source": [
    "dfITrain[[\"FIELD_22\", \"FIELD_3\"]].hist(bins=40, figsize=(10,10))\n",
    "plt.show()"
   ]
  },
  {
   "cell_type": "code",
   "execution_count": 105,
   "metadata": {},
   "outputs": [
    {
     "data": {
      "text/html": [
       "<div>\n",
       "<style scoped>\n",
       "    .dataframe tbody tr th:only-of-type {\n",
       "        vertical-align: middle;\n",
       "    }\n",
       "\n",
       "    .dataframe tbody tr th {\n",
       "        vertical-align: top;\n",
       "    }\n",
       "\n",
       "    .dataframe thead th {\n",
       "        text-align: right;\n",
       "    }\n",
       "</style>\n",
       "<table border=\"1\" class=\"dataframe\">\n",
       "  <thead>\n",
       "    <tr style=\"text-align: right;\">\n",
       "      <th></th>\n",
       "      <th>id</th>\n",
       "      <th>label</th>\n",
       "      <th>province</th>\n",
       "      <th>district</th>\n",
       "      <th>age_source1</th>\n",
       "      <th>age_source2</th>\n",
       "      <th>maCv</th>\n",
       "      <th>FIELD_1</th>\n",
       "      <th>FIELD_2</th>\n",
       "      <th>FIELD_3</th>\n",
       "      <th>...</th>\n",
       "      <th>FIELD_AGE_3_mean</th>\n",
       "      <th>FIELD_AGE_3_std</th>\n",
       "      <th>FIELD_AGE_4_mean</th>\n",
       "      <th>FIELD_AGE_4_std</th>\n",
       "      <th>FIELD_AGE_NONE_mean</th>\n",
       "      <th>FIELD_AGE_NONE_std</th>\n",
       "      <th>avg_age_mean</th>\n",
       "      <th>avg_age_std</th>\n",
       "      <th>diff_age_mean</th>\n",
       "      <th>diff_age_std</th>\n",
       "    </tr>\n",
       "  </thead>\n",
       "  <tbody>\n",
       "    <tr>\n",
       "      <th>0</th>\n",
       "      <td>0</td>\n",
       "      <td>0</td>\n",
       "      <td>nan</td>\n",
       "      <td>none</td>\n",
       "      <td>NaN</td>\n",
       "      <td>NaN</td>\n",
       "      <td>none</td>\n",
       "      <td>1.0</td>\n",
       "      <td>1.0</td>\n",
       "      <td>2547.0</td>\n",
       "      <td>...</td>\n",
       "      <td>0.0</td>\n",
       "      <td>0.0</td>\n",
       "      <td>0.0</td>\n",
       "      <td>0.0</td>\n",
       "      <td>1.0</td>\n",
       "      <td>0.0</td>\n",
       "      <td>NaN</td>\n",
       "      <td>NaN</td>\n",
       "      <td>NaN</td>\n",
       "      <td>NaN</td>\n",
       "    </tr>\n",
       "    <tr>\n",
       "      <th>1</th>\n",
       "      <td>1</td>\n",
       "      <td>0</td>\n",
       "      <td>tỉnh đồng nai</td>\n",
       "      <td>thành phố biên hòa</td>\n",
       "      <td>44</td>\n",
       "      <td>44</td>\n",
       "      <td>none</td>\n",
       "      <td>1.0</td>\n",
       "      <td>0.0</td>\n",
       "      <td>-1.0</td>\n",
       "      <td>...</td>\n",
       "      <td>1.0</td>\n",
       "      <td>0.0</td>\n",
       "      <td>0.0</td>\n",
       "      <td>0.0</td>\n",
       "      <td>0.0</td>\n",
       "      <td>0.0</td>\n",
       "      <td>42.989305</td>\n",
       "      <td>4.428633</td>\n",
       "      <td>42.989305</td>\n",
       "      <td>4.428633</td>\n",
       "    </tr>\n",
       "    <tr>\n",
       "      <th>2</th>\n",
       "      <td>2</td>\n",
       "      <td>0</td>\n",
       "      <td>tỉnh đồng nai</td>\n",
       "      <td>huyện long thành</td>\n",
       "      <td>30</td>\n",
       "      <td>30</td>\n",
       "      <td>công nhân</td>\n",
       "      <td>0.0</td>\n",
       "      <td>1.0</td>\n",
       "      <td>3273.0</td>\n",
       "      <td>...</td>\n",
       "      <td>0.0</td>\n",
       "      <td>0.0</td>\n",
       "      <td>0.0</td>\n",
       "      <td>0.0</td>\n",
       "      <td>0.0</td>\n",
       "      <td>0.0</td>\n",
       "      <td>29.463542</td>\n",
       "      <td>3.565208</td>\n",
       "      <td>29.463542</td>\n",
       "      <td>3.565208</td>\n",
       "    </tr>\n",
       "    <tr>\n",
       "      <th>3</th>\n",
       "      <td>3</td>\n",
       "      <td>0</td>\n",
       "      <td>tỉnh tuyên quang</td>\n",
       "      <td>thành phố tuyên quang</td>\n",
       "      <td>43</td>\n",
       "      <td>NaN</td>\n",
       "      <td>none</td>\n",
       "      <td>0.0</td>\n",
       "      <td>1.0</td>\n",
       "      <td>3991.0</td>\n",
       "      <td>...</td>\n",
       "      <td>1.0</td>\n",
       "      <td>0.0</td>\n",
       "      <td>0.0</td>\n",
       "      <td>0.0</td>\n",
       "      <td>0.0</td>\n",
       "      <td>0.0</td>\n",
       "      <td>40.500000</td>\n",
       "      <td>4.210377</td>\n",
       "      <td>40.500000</td>\n",
       "      <td>4.210377</td>\n",
       "    </tr>\n",
       "    <tr>\n",
       "      <th>4</th>\n",
       "      <td>4</td>\n",
       "      <td>0</td>\n",
       "      <td>thành phố hồ chí minh</td>\n",
       "      <td>quận 1</td>\n",
       "      <td>21</td>\n",
       "      <td>21</td>\n",
       "      <td>none</td>\n",
       "      <td>0.0</td>\n",
       "      <td>1.0</td>\n",
       "      <td>1450.0</td>\n",
       "      <td>...</td>\n",
       "      <td>0.0</td>\n",
       "      <td>0.0</td>\n",
       "      <td>0.0</td>\n",
       "      <td>0.0</td>\n",
       "      <td>0.0</td>\n",
       "      <td>0.0</td>\n",
       "      <td>21.727545</td>\n",
       "      <td>1.023381</td>\n",
       "      <td>21.727545</td>\n",
       "      <td>1.023381</td>\n",
       "    </tr>\n",
       "  </tbody>\n",
       "</table>\n",
       "<p>5 rows × 298 columns</p>\n",
       "</div>"
      ],
      "text/plain": [
       "   id  label               province               district age_source1  \\\n",
       "0   0      0                    nan                   none         NaN   \n",
       "1   1      0          tỉnh đồng nai     thành phố biên hòa          44   \n",
       "2   2      0          tỉnh đồng nai       huyện long thành          30   \n",
       "3   3      0       tỉnh tuyên quang  thành phố tuyên quang          43   \n",
       "4   4      0  thành phố hồ chí minh                 quận 1          21   \n",
       "\n",
       "  age_source2       maCv  FIELD_1  FIELD_2  FIELD_3      ...       \\\n",
       "0         NaN       none      1.0      1.0   2547.0      ...        \n",
       "1          44       none      1.0      0.0     -1.0      ...        \n",
       "2          30  công nhân      0.0      1.0   3273.0      ...        \n",
       "3         NaN       none      0.0      1.0   3991.0      ...        \n",
       "4          21       none      0.0      1.0   1450.0      ...        \n",
       "\n",
       "   FIELD_AGE_3_mean  FIELD_AGE_3_std  FIELD_AGE_4_mean FIELD_AGE_4_std  \\\n",
       "0               0.0              0.0               0.0             0.0   \n",
       "1               1.0              0.0               0.0             0.0   \n",
       "2               0.0              0.0               0.0             0.0   \n",
       "3               1.0              0.0               0.0             0.0   \n",
       "4               0.0              0.0               0.0             0.0   \n",
       "\n",
       "  FIELD_AGE_NONE_mean  FIELD_AGE_NONE_std avg_age_mean  avg_age_std  \\\n",
       "0                 1.0                 0.0          NaN          NaN   \n",
       "1                 0.0                 0.0    42.989305     4.428633   \n",
       "2                 0.0                 0.0    29.463542     3.565208   \n",
       "3                 0.0                 0.0    40.500000     4.210377   \n",
       "4                 0.0                 0.0    21.727545     1.023381   \n",
       "\n",
       "   diff_age_mean  diff_age_std  \n",
       "0            NaN           NaN  \n",
       "1      42.989305      4.428633  \n",
       "2      29.463542      3.565208  \n",
       "3      40.500000      4.210377  \n",
       "4      21.727545      1.023381  \n",
       "\n",
       "[5 rows x 298 columns]"
      ]
     },
     "execution_count": 105,
     "metadata": {},
     "output_type": "execute_result"
    }
   ],
   "source": [
    "dfITrain.head()"
   ]
  },
  {
   "cell_type": "code",
   "execution_count": 106,
   "metadata": {},
   "outputs": [
    {
     "name": "stdout",
     "output_type": "stream",
     "text": [
      "(30000, 390)\n",
      "2020-02-15 22:05:07\n",
      "-------------------\n"
     ]
    }
   ],
   "source": [
    "for c in lsFieldFt:\n",
    "    dfITrain[\"%s_stdized\"%c] = (dfITrain[c] - dfITrain[c+\"_mean\"])/dfITrain[c+\"_std\"]\n",
    "print(dfITrain.shape) # (29924, 353)\n",
    "printRuntime()"
   ]
  },
  {
   "cell_type": "code",
   "execution_count": 107,
   "metadata": {},
   "outputs": [
    {
     "name": "stdout",
     "output_type": "stream",
     "text": [
      "./kalapa/itrain_20200215.pickle\n",
      "2020-02-15 22:05:22\n",
      "-------------------\n"
     ]
    }
   ],
   "source": [
    "ymd = datetime.datetime.now().strftime(\"%Y%m%d\")\n",
    "iTrainPath = basePath + \"itrain_{}.pickle\".format(ymd)\n",
    "print(iTrainPath)\n",
    "dfITrain.to_pickle(iTrainPath, compression=\"bz2\")\n",
    "printRuntime()"
   ]
  },
  {
   "cell_type": "code",
   "execution_count": 65,
   "metadata": {
    "collapsed": true
   },
   "outputs": [
    {
     "data": {
      "text/html": [
       "<div>\n",
       "<style scoped>\n",
       "    .dataframe tbody tr th:only-of-type {\n",
       "        vertical-align: middle;\n",
       "    }\n",
       "\n",
       "    .dataframe tbody tr th {\n",
       "        vertical-align: top;\n",
       "    }\n",
       "\n",
       "    .dataframe thead th {\n",
       "        text-align: right;\n",
       "    }\n",
       "</style>\n",
       "<table border=\"1\" class=\"dataframe\">\n",
       "  <thead>\n",
       "    <tr style=\"text-align: right;\">\n",
       "      <th></th>\n",
       "      <th>id</th>\n",
       "      <th>label</th>\n",
       "      <th>province</th>\n",
       "      <th>district</th>\n",
       "      <th>age_source1</th>\n",
       "      <th>age_source2</th>\n",
       "      <th>maCv</th>\n",
       "      <th>FIELD_1</th>\n",
       "      <th>FIELD_2</th>\n",
       "      <th>FIELD_3</th>\n",
       "      <th>...</th>\n",
       "      <th>FIELD_24_K2_stdized</th>\n",
       "      <th>FIELD_24_K3_stdized</th>\n",
       "      <th>FIELD_24_None_stdized</th>\n",
       "      <th>FIELD_43_0_stdized</th>\n",
       "      <th>FIELD_43_5_stdized</th>\n",
       "      <th>FIELD_43_A_stdized</th>\n",
       "      <th>FIELD_43_B_stdized</th>\n",
       "      <th>FIELD_43_C_stdized</th>\n",
       "      <th>FIELD_43_D_stdized</th>\n",
       "      <th>FIELD_43_None_stdized</th>\n",
       "    </tr>\n",
       "  </thead>\n",
       "  <tbody>\n",
       "    <tr>\n",
       "      <th>0</th>\n",
       "      <td>0</td>\n",
       "      <td>0</td>\n",
       "      <td>NaN</td>\n",
       "      <td>NaN</td>\n",
       "      <td>NaN</td>\n",
       "      <td>NaN</td>\n",
       "      <td>nan</td>\n",
       "      <td>1.0</td>\n",
       "      <td>1.0</td>\n",
       "      <td>2547.0</td>\n",
       "      <td>...</td>\n",
       "      <td>NaN</td>\n",
       "      <td>NaN</td>\n",
       "      <td>NaN</td>\n",
       "      <td>NaN</td>\n",
       "      <td>NaN</td>\n",
       "      <td>NaN</td>\n",
       "      <td>NaN</td>\n",
       "      <td>NaN</td>\n",
       "      <td>NaN</td>\n",
       "      <td>NaN</td>\n",
       "    </tr>\n",
       "    <tr>\n",
       "      <th>1</th>\n",
       "      <td>1</td>\n",
       "      <td>0</td>\n",
       "      <td>Tỉnh Đồng Nai</td>\n",
       "      <td>Thành phố Biên Hòa</td>\n",
       "      <td>44.0</td>\n",
       "      <td>44.0</td>\n",
       "      <td>none</td>\n",
       "      <td>1.0</td>\n",
       "      <td>0.0</td>\n",
       "      <td>-1.0</td>\n",
       "      <td>...</td>\n",
       "      <td>NaN</td>\n",
       "      <td>NaN</td>\n",
       "      <td>NaN</td>\n",
       "      <td>NaN</td>\n",
       "      <td>NaN</td>\n",
       "      <td>NaN</td>\n",
       "      <td>NaN</td>\n",
       "      <td>-0.224257</td>\n",
       "      <td>NaN</td>\n",
       "      <td>0.224257</td>\n",
       "    </tr>\n",
       "    <tr>\n",
       "      <th>2</th>\n",
       "      <td>2</td>\n",
       "      <td>0</td>\n",
       "      <td>Tỉnh Đồng Nai</td>\n",
       "      <td>Huyện Long Thành</td>\n",
       "      <td>30.0</td>\n",
       "      <td>30.0</td>\n",
       "      <td>công nhân</td>\n",
       "      <td>0.0</td>\n",
       "      <td>1.0</td>\n",
       "      <td>3273.0</td>\n",
       "      <td>...</td>\n",
       "      <td>NaN</td>\n",
       "      <td>NaN</td>\n",
       "      <td>NaN</td>\n",
       "      <td>NaN</td>\n",
       "      <td>NaN</td>\n",
       "      <td>NaN</td>\n",
       "      <td>NaN</td>\n",
       "      <td>-0.223014</td>\n",
       "      <td>-0.126664</td>\n",
       "      <td>0.259688</td>\n",
       "    </tr>\n",
       "    <tr>\n",
       "      <th>3</th>\n",
       "      <td>3</td>\n",
       "      <td>0</td>\n",
       "      <td>Tỉnh Tuyên Quang</td>\n",
       "      <td>Thành phố Tuyên Quang</td>\n",
       "      <td>43.0</td>\n",
       "      <td>NaN</td>\n",
       "      <td>nan</td>\n",
       "      <td>0.0</td>\n",
       "      <td>1.0</td>\n",
       "      <td>3991.0</td>\n",
       "      <td>...</td>\n",
       "      <td>-0.288675</td>\n",
       "      <td>NaN</td>\n",
       "      <td>0.288675</td>\n",
       "      <td>NaN</td>\n",
       "      <td>NaN</td>\n",
       "      <td>NaN</td>\n",
       "      <td>NaN</td>\n",
       "      <td>NaN</td>\n",
       "      <td>NaN</td>\n",
       "      <td>NaN</td>\n",
       "    </tr>\n",
       "    <tr>\n",
       "      <th>4</th>\n",
       "      <td>4</td>\n",
       "      <td>0</td>\n",
       "      <td>Thành phố Hồ Chí Minh</td>\n",
       "      <td>Quận 1</td>\n",
       "      <td>21.0</td>\n",
       "      <td>21.0</td>\n",
       "      <td>none</td>\n",
       "      <td>0.0</td>\n",
       "      <td>1.0</td>\n",
       "      <td>1450.0</td>\n",
       "      <td>...</td>\n",
       "      <td>NaN</td>\n",
       "      <td>NaN</td>\n",
       "      <td>NaN</td>\n",
       "      <td>NaN</td>\n",
       "      <td>NaN</td>\n",
       "      <td>NaN</td>\n",
       "      <td>NaN</td>\n",
       "      <td>NaN</td>\n",
       "      <td>NaN</td>\n",
       "      <td>NaN</td>\n",
       "    </tr>\n",
       "  </tbody>\n",
       "</table>\n",
       "<p>5 rows × 322 columns</p>\n",
       "</div>"
      ],
      "text/plain": [
       "   id  label               province               district  age_source1  \\\n",
       "0   0      0                    NaN                    NaN          NaN   \n",
       "1   1      0          Tỉnh Đồng Nai     Thành phố Biên Hòa         44.0   \n",
       "2   2      0          Tỉnh Đồng Nai       Huyện Long Thành         30.0   \n",
       "3   3      0       Tỉnh Tuyên Quang  Thành phố Tuyên Quang         43.0   \n",
       "4   4      0  Thành phố Hồ Chí Minh                 Quận 1         21.0   \n",
       "\n",
       "   age_source2       maCv  FIELD_1  FIELD_2  FIELD_3  ...  \\\n",
       "0          NaN        nan      1.0      1.0   2547.0  ...   \n",
       "1         44.0       none      1.0      0.0     -1.0  ...   \n",
       "2         30.0  công nhân      0.0      1.0   3273.0  ...   \n",
       "3          NaN        nan      0.0      1.0   3991.0  ...   \n",
       "4         21.0       none      0.0      1.0   1450.0  ...   \n",
       "\n",
       "   FIELD_24_K2_stdized  FIELD_24_K3_stdized  FIELD_24_None_stdized  \\\n",
       "0                  NaN                  NaN                    NaN   \n",
       "1                  NaN                  NaN                    NaN   \n",
       "2                  NaN                  NaN                    NaN   \n",
       "3            -0.288675                  NaN               0.288675   \n",
       "4                  NaN                  NaN                    NaN   \n",
       "\n",
       "  FIELD_43_0_stdized FIELD_43_5_stdized  FIELD_43_A_stdized  \\\n",
       "0                NaN                NaN                 NaN   \n",
       "1                NaN                NaN                 NaN   \n",
       "2                NaN                NaN                 NaN   \n",
       "3                NaN                NaN                 NaN   \n",
       "4                NaN                NaN                 NaN   \n",
       "\n",
       "  FIELD_43_B_stdized  FIELD_43_C_stdized  FIELD_43_D_stdized  \\\n",
       "0                NaN                 NaN                 NaN   \n",
       "1                NaN           -0.224257                 NaN   \n",
       "2                NaN           -0.223014           -0.126664   \n",
       "3                NaN                 NaN                 NaN   \n",
       "4                NaN                 NaN                 NaN   \n",
       "\n",
       "   FIELD_43_None_stdized  \n",
       "0                    NaN  \n",
       "1               0.224257  \n",
       "2               0.259688  \n",
       "3                    NaN  \n",
       "4                    NaN  \n",
       "\n",
       "[5 rows x 322 columns]"
      ]
     },
     "execution_count": 65,
     "metadata": {},
     "output_type": "execute_result"
    }
   ],
   "source": [
    "dfITrain.head()"
   ]
  },
  {
   "cell_type": "markdown",
   "metadata": {},
   "source": [
    "# Prepare itest"
   ]
  },
  {
   "cell_type": "code",
   "execution_count": 110,
   "metadata": {},
   "outputs": [
    {
     "data": {
      "text/plain": [
       "['province', 'group_age', 'jobCat']"
      ]
     },
     "execution_count": 110,
     "metadata": {},
     "output_type": "execute_result"
    }
   ],
   "source": [
    "lsNbMetaCol"
   ]
  },
  {
   "cell_type": "code",
   "execution_count": 111,
   "metadata": {},
   "outputs": [
    {
     "data": {
      "text/plain": [
       "Index(['id', 'province', 'district', 'age_source1', 'age_source2', 'maCv',\n",
       "       'FIELD_1', 'FIELD_2', 'FIELD_3', 'FIELD_4',\n",
       "       ...\n",
       "       'AGE_4', 'AGE_NONE', 'lv3_loc', 'group_age', 'FIELD_AGE_0',\n",
       "       'FIELD_AGE_1', 'FIELD_AGE_2', 'FIELD_AGE_3', 'FIELD_AGE_4',\n",
       "       'FIELD_AGE_NONE'],\n",
       "      dtype='object', length=110)"
      ]
     },
     "execution_count": 111,
     "metadata": {},
     "output_type": "execute_result"
    }
   ],
   "source": [
    "pdfTest.columns"
   ]
  },
  {
   "cell_type": "code",
   "execution_count": 113,
   "metadata": {},
   "outputs": [],
   "source": [
    "dfITest = pd.merge(pdfTest, dfNb01, on=lsNbMetaCol, how=\"left\")"
   ]
  },
  {
   "cell_type": "code",
   "execution_count": 114,
   "metadata": {},
   "outputs": [
    {
     "data": {
      "text/plain": [
       "(20000, 297)"
      ]
     },
     "execution_count": 114,
     "metadata": {},
     "output_type": "execute_result"
    }
   ],
   "source": [
    "dfITest.shape # label col is missing"
   ]
  },
  {
   "cell_type": "code",
   "execution_count": 115,
   "metadata": {
    "collapsed": true
   },
   "outputs": [
    {
     "name": "stdout",
     "output_type": "stream",
     "text": [
      "['id',\n",
      " 'province',\n",
      " 'district',\n",
      " 'age_source1',\n",
      " 'age_source2',\n",
      " 'maCv',\n",
      " 'FIELD_7',\n",
      " 'FIELD_9',\n",
      " 'FIELD_13',\n",
      " 'FIELD_39',\n",
      " 'AGE_0',\n",
      " 'AGE_1',\n",
      " 'AGE_2',\n",
      " 'AGE_3',\n",
      " 'AGE_4',\n",
      " 'AGE_NONE',\n",
      " 'lv3_loc',\n",
      " 'group_age',\n",
      " 'maCv_vector',\n",
      " 'jobCat',\n",
      " 'jobDesc',\n",
      " 'FIELD_1_mean',\n",
      " 'FIELD_1_std',\n",
      " 'FIELD_2_mean',\n",
      " 'FIELD_2_std',\n",
      " 'FIELD_3_mean',\n",
      " 'FIELD_3_std',\n",
      " 'FIELD_4_mean',\n",
      " 'FIELD_4_std',\n",
      " 'FIELD_5_mean',\n",
      " 'FIELD_5_std',\n",
      " 'FIELD_6_mean',\n",
      " 'FIELD_6_std',\n",
      " 'FIELD_11_mean',\n",
      " 'FIELD_11_std',\n",
      " 'FIELD_14_mean',\n",
      " 'FIELD_14_std',\n",
      " 'FIELD_15_mean',\n",
      " 'FIELD_15_std',\n",
      " 'FIELD_16_mean',\n",
      " 'FIELD_16_std',\n",
      " 'FIELD_18_mean',\n",
      " 'FIELD_18_std',\n",
      " 'FIELD_19_mean',\n",
      " 'FIELD_19_std',\n",
      " 'FIELD_20_mean',\n",
      " 'FIELD_20_std',\n",
      " 'FIELD_21_mean',\n",
      " 'FIELD_21_std',\n",
      " 'FIELD_22_mean',\n",
      " 'FIELD_22_std',\n",
      " 'FIELD_23_mean',\n",
      " 'FIELD_23_std',\n",
      " 'FIELD_25_mean',\n",
      " 'FIELD_25_std',\n",
      " 'FIELD_26_mean',\n",
      " 'FIELD_26_std',\n",
      " 'FIELD_27_mean',\n",
      " 'FIELD_27_std',\n",
      " 'FIELD_28_mean',\n",
      " 'FIELD_28_std',\n",
      " 'FIELD_29_mean',\n",
      " 'FIELD_29_std',\n",
      " 'FIELD_30_mean',\n",
      " 'FIELD_30_std',\n",
      " 'FIELD_31_mean',\n",
      " 'FIELD_31_std',\n",
      " 'FIELD_32_mean',\n",
      " 'FIELD_32_std',\n",
      " 'FIELD_33_mean',\n",
      " 'FIELD_33_std',\n",
      " 'FIELD_34_mean',\n",
      " 'FIELD_34_std',\n",
      " 'FIELD_35_mean',\n",
      " 'FIELD_35_std',\n",
      " 'FIELD_36_mean',\n",
      " 'FIELD_36_std',\n",
      " 'FIELD_37_mean',\n",
      " 'FIELD_37_std',\n",
      " 'FIELD_38_mean',\n",
      " 'FIELD_38_std',\n",
      " 'FIELD_41_mean',\n",
      " 'FIELD_41_std',\n",
      " 'FIELD_42_mean',\n",
      " 'FIELD_42_std',\n",
      " 'FIELD_44_mean',\n",
      " 'FIELD_44_std',\n",
      " 'FIELD_45_mean',\n",
      " 'FIELD_45_std',\n",
      " 'FIELD_46_mean',\n",
      " 'FIELD_46_std',\n",
      " 'FIELD_47_mean',\n",
      " 'FIELD_47_std',\n",
      " 'FIELD_48_mean',\n",
      " 'FIELD_48_std',\n",
      " 'FIELD_49_mean',\n",
      " 'FIELD_49_std',\n",
      " 'FIELD_50_mean',\n",
      " 'FIELD_50_std',\n",
      " 'FIELD_51_mean',\n",
      " 'FIELD_51_std',\n",
      " 'FIELD_52_mean',\n",
      " 'FIELD_52_std',\n",
      " 'FIELD_53_mean',\n",
      " 'FIELD_53_std',\n",
      " 'FIELD_54_mean',\n",
      " 'FIELD_54_std',\n",
      " 'FIELD_55_mean',\n",
      " 'FIELD_55_std',\n",
      " 'FIELD_56_mean',\n",
      " 'FIELD_56_std',\n",
      " 'FIELD_57_mean',\n",
      " 'FIELD_57_std',\n",
      " 'FIELD_8_FEMALE_mean',\n",
      " 'FIELD_8_FEMALE_std',\n",
      " 'FIELD_8_MALE_mean',\n",
      " 'FIELD_8_MALE_std',\n",
      " 'FIELD_8_None_mean',\n",
      " 'FIELD_8_None_std',\n",
      " 'FIELD_10_GH_mean',\n",
      " 'FIELD_10_GH_std',\n",
      " 'FIELD_10_None_mean',\n",
      " 'FIELD_10_None_std',\n",
      " 'FIELD_10_T1_mean',\n",
      " 'FIELD_10_T1_std',\n",
      " 'FIELD_12_0_mean',\n",
      " 'FIELD_12_0_std',\n",
      " 'FIELD_12_1_mean',\n",
      " 'FIELD_12_1_std',\n",
      " 'FIELD_12_None_mean',\n",
      " 'FIELD_12_None_std',\n",
      " 'FIELD_17_G2_mean',\n",
      " 'FIELD_17_G2_std',\n",
      " 'FIELD_17_G3_mean',\n",
      " 'FIELD_17_G3_std',\n",
      " 'FIELD_17_G4_mean',\n",
      " 'FIELD_17_G4_std',\n",
      " 'FIELD_17_G7_mean',\n",
      " 'FIELD_17_G7_std',\n",
      " 'FIELD_17_G8_mean',\n",
      " 'FIELD_17_G8_std',\n",
      " 'FIELD_17_G9_mean',\n",
      " 'FIELD_17_G9_std',\n",
      " 'FIELD_17_GX_mean',\n",
      " 'FIELD_17_GX_std',\n",
      " 'FIELD_17_None_mean',\n",
      " 'FIELD_17_None_std',\n",
      " 'FIELD_24_K1_mean',\n",
      " 'FIELD_24_K1_std',\n",
      " 'FIELD_24_K2_mean',\n",
      " 'FIELD_24_K2_std',\n",
      " 'FIELD_24_K3_mean',\n",
      " 'FIELD_24_K3_std',\n",
      " 'FIELD_24_None_mean',\n",
      " 'FIELD_24_None_std',\n",
      " 'FIELD_40_02 05 08 11_mean',\n",
      " 'FIELD_40_02 05 08 11_std',\n",
      " 'FIELD_40_1_mean',\n",
      " 'FIELD_40_1_std',\n",
      " 'FIELD_40_2_mean',\n",
      " 'FIELD_40_2_std',\n",
      " 'FIELD_40_3_mean',\n",
      " 'FIELD_40_3_std',\n",
      " 'FIELD_40_4_mean',\n",
      " 'FIELD_40_4_std',\n",
      " 'FIELD_40_6_mean',\n",
      " 'FIELD_40_6_std',\n",
      " 'FIELD_40_None_mean',\n",
      " 'FIELD_40_None_std',\n",
      " 'FIELD_43_0_mean',\n",
      " 'FIELD_43_0_std',\n",
      " 'FIELD_43_5_mean',\n",
      " 'FIELD_43_5_std',\n",
      " 'FIELD_43_A_mean',\n",
      " 'FIELD_43_A_std',\n",
      " 'FIELD_43_B_mean',\n",
      " 'FIELD_43_B_std',\n",
      " 'FIELD_43_C_mean',\n",
      " 'FIELD_43_C_std',\n",
      " 'FIELD_43_D_mean',\n",
      " 'FIELD_43_D_std',\n",
      " 'FIELD_43_None_mean',\n",
      " 'FIELD_43_None_std',\n",
      " 'FIELD_7_LEN_mean',\n",
      " 'FIELD_7_LEN_std',\n",
      " 'FIELD_9_APPEAR_mean',\n",
      " 'FIELD_9_APPEAR_std',\n",
      " 'FIELD_9_INDEX_mean',\n",
      " 'FIELD_9_INDEX_std',\n",
      " 'FIELD_AGE_0_mean',\n",
      " 'FIELD_AGE_0_std',\n",
      " 'FIELD_AGE_1_mean',\n",
      " 'FIELD_AGE_1_std',\n",
      " 'FIELD_AGE_2_mean',\n",
      " 'FIELD_AGE_2_std',\n",
      " 'FIELD_AGE_3_mean',\n",
      " 'FIELD_AGE_3_std',\n",
      " 'FIELD_AGE_4_mean',\n",
      " 'FIELD_AGE_4_std',\n",
      " 'FIELD_AGE_NONE_mean',\n",
      " 'FIELD_AGE_NONE_std',\n",
      " 'avg_age_mean',\n",
      " 'avg_age_std',\n",
      " 'diff_age_mean',\n",
      " 'diff_age_std']\n"
     ]
    }
   ],
   "source": [
    "lsTmp = [c for c in dfITest.columns if c not in lsFieldFt]\n",
    "# pprint(lsTmp)"
   ]
  },
  {
   "cell_type": "code",
   "execution_count": 116,
   "metadata": {},
   "outputs": [
    {
     "data": {
      "text/html": [
       "<div>\n",
       "<style scoped>\n",
       "    .dataframe tbody tr th:only-of-type {\n",
       "        vertical-align: middle;\n",
       "    }\n",
       "\n",
       "    .dataframe tbody tr th {\n",
       "        vertical-align: top;\n",
       "    }\n",
       "\n",
       "    .dataframe thead th {\n",
       "        text-align: right;\n",
       "    }\n",
       "</style>\n",
       "<table border=\"1\" class=\"dataframe\">\n",
       "  <thead>\n",
       "    <tr style=\"text-align: right;\">\n",
       "      <th></th>\n",
       "      <th>id</th>\n",
       "      <th>province</th>\n",
       "      <th>district</th>\n",
       "      <th>age_source1</th>\n",
       "      <th>age_source2</th>\n",
       "      <th>maCv</th>\n",
       "      <th>FIELD_1</th>\n",
       "      <th>FIELD_2</th>\n",
       "      <th>FIELD_3</th>\n",
       "      <th>FIELD_4</th>\n",
       "      <th>...</th>\n",
       "      <th>FIELD_AGE_3_mean</th>\n",
       "      <th>FIELD_AGE_3_std</th>\n",
       "      <th>FIELD_AGE_4_mean</th>\n",
       "      <th>FIELD_AGE_4_std</th>\n",
       "      <th>FIELD_AGE_NONE_mean</th>\n",
       "      <th>FIELD_AGE_NONE_std</th>\n",
       "      <th>avg_age_mean</th>\n",
       "      <th>avg_age_std</th>\n",
       "      <th>diff_age_mean</th>\n",
       "      <th>diff_age_std</th>\n",
       "    </tr>\n",
       "  </thead>\n",
       "  <tbody>\n",
       "    <tr>\n",
       "      <th>0</th>\n",
       "      <td>30000</td>\n",
       "      <td>nan</td>\n",
       "      <td>none</td>\n",
       "      <td>NaN</td>\n",
       "      <td>NaN</td>\n",
       "      <td>none</td>\n",
       "      <td>1.0</td>\n",
       "      <td>1.0</td>\n",
       "      <td>719.0</td>\n",
       "      <td>0.0</td>\n",
       "      <td>...</td>\n",
       "      <td>0.0</td>\n",
       "      <td>0.0</td>\n",
       "      <td>0.0</td>\n",
       "      <td>0.0</td>\n",
       "      <td>1.0</td>\n",
       "      <td>0.0</td>\n",
       "      <td>NaN</td>\n",
       "      <td>NaN</td>\n",
       "      <td>NaN</td>\n",
       "      <td>NaN</td>\n",
       "    </tr>\n",
       "    <tr>\n",
       "      <th>1</th>\n",
       "      <td>30001</td>\n",
       "      <td>nan</td>\n",
       "      <td>none</td>\n",
       "      <td>NaN</td>\n",
       "      <td>NaN</td>\n",
       "      <td>none</td>\n",
       "      <td>1.0</td>\n",
       "      <td>1.0</td>\n",
       "      <td>1442.0</td>\n",
       "      <td>0.0</td>\n",
       "      <td>...</td>\n",
       "      <td>0.0</td>\n",
       "      <td>0.0</td>\n",
       "      <td>0.0</td>\n",
       "      <td>0.0</td>\n",
       "      <td>1.0</td>\n",
       "      <td>0.0</td>\n",
       "      <td>NaN</td>\n",
       "      <td>NaN</td>\n",
       "      <td>NaN</td>\n",
       "      <td>NaN</td>\n",
       "    </tr>\n",
       "    <tr>\n",
       "      <th>2</th>\n",
       "      <td>30002</td>\n",
       "      <td>thành phố hà nội</td>\n",
       "      <td>huyện mỹ đức</td>\n",
       "      <td>32</td>\n",
       "      <td>32</td>\n",
       "      <td>trưởng dây chuyền phòng sản xuất</td>\n",
       "      <td>0.0</td>\n",
       "      <td>1.0</td>\n",
       "      <td>4000.0</td>\n",
       "      <td>2.0</td>\n",
       "      <td>...</td>\n",
       "      <td>NaN</td>\n",
       "      <td>NaN</td>\n",
       "      <td>NaN</td>\n",
       "      <td>NaN</td>\n",
       "      <td>NaN</td>\n",
       "      <td>NaN</td>\n",
       "      <td>NaN</td>\n",
       "      <td>NaN</td>\n",
       "      <td>NaN</td>\n",
       "      <td>NaN</td>\n",
       "    </tr>\n",
       "    <tr>\n",
       "      <th>3</th>\n",
       "      <td>30003</td>\n",
       "      <td>nan</td>\n",
       "      <td>none</td>\n",
       "      <td>NaN</td>\n",
       "      <td>25</td>\n",
       "      <td>none</td>\n",
       "      <td>0.0</td>\n",
       "      <td>1.0</td>\n",
       "      <td>1073.0</td>\n",
       "      <td>0.0</td>\n",
       "      <td>...</td>\n",
       "      <td>0.0</td>\n",
       "      <td>0.0</td>\n",
       "      <td>0.0</td>\n",
       "      <td>0.0</td>\n",
       "      <td>0.0</td>\n",
       "      <td>0.0</td>\n",
       "      <td>28.907828</td>\n",
       "      <td>3.404555</td>\n",
       "      <td>-28.872475</td>\n",
       "      <td>3.692563</td>\n",
       "    </tr>\n",
       "    <tr>\n",
       "      <th>4</th>\n",
       "      <td>30004</td>\n",
       "      <td>nan</td>\n",
       "      <td>none</td>\n",
       "      <td>NaN</td>\n",
       "      <td>NaN</td>\n",
       "      <td>none</td>\n",
       "      <td>1.0</td>\n",
       "      <td>1.0</td>\n",
       "      <td>703.0</td>\n",
       "      <td>0.0</td>\n",
       "      <td>...</td>\n",
       "      <td>0.0</td>\n",
       "      <td>0.0</td>\n",
       "      <td>0.0</td>\n",
       "      <td>0.0</td>\n",
       "      <td>1.0</td>\n",
       "      <td>0.0</td>\n",
       "      <td>NaN</td>\n",
       "      <td>NaN</td>\n",
       "      <td>NaN</td>\n",
       "      <td>NaN</td>\n",
       "    </tr>\n",
       "  </tbody>\n",
       "</table>\n",
       "<p>5 rows × 297 columns</p>\n",
       "</div>"
      ],
      "text/plain": [
       "      id          province      district age_source1 age_source2  \\\n",
       "0  30000               nan          none         NaN         NaN   \n",
       "1  30001               nan          none         NaN         NaN   \n",
       "2  30002  thành phố hà nội  huyện mỹ đức          32          32   \n",
       "3  30003               nan          none         NaN          25   \n",
       "4  30004               nan          none         NaN         NaN   \n",
       "\n",
       "                               maCv  FIELD_1  FIELD_2  FIELD_3  FIELD_4  \\\n",
       "0                              none      1.0      1.0    719.0      0.0   \n",
       "1                              none      1.0      1.0   1442.0      0.0   \n",
       "2  trưởng dây chuyền phòng sản xuất      0.0      1.0   4000.0      2.0   \n",
       "3                              none      0.0      1.0   1073.0      0.0   \n",
       "4                              none      1.0      1.0    703.0      0.0   \n",
       "\n",
       "       ...       FIELD_AGE_3_mean  FIELD_AGE_3_std FIELD_AGE_4_mean  \\\n",
       "0      ...                    0.0              0.0              0.0   \n",
       "1      ...                    0.0              0.0              0.0   \n",
       "2      ...                    NaN              NaN              NaN   \n",
       "3      ...                    0.0              0.0              0.0   \n",
       "4      ...                    0.0              0.0              0.0   \n",
       "\n",
       "  FIELD_AGE_4_std  FIELD_AGE_NONE_mean FIELD_AGE_NONE_std  avg_age_mean  \\\n",
       "0             0.0                  1.0                0.0           NaN   \n",
       "1             0.0                  1.0                0.0           NaN   \n",
       "2             NaN                  NaN                NaN           NaN   \n",
       "3             0.0                  0.0                0.0     28.907828   \n",
       "4             0.0                  1.0                0.0           NaN   \n",
       "\n",
       "   avg_age_std  diff_age_mean  diff_age_std  \n",
       "0          NaN            NaN           NaN  \n",
       "1          NaN            NaN           NaN  \n",
       "2          NaN            NaN           NaN  \n",
       "3     3.404555     -28.872475      3.692563  \n",
       "4          NaN            NaN           NaN  \n",
       "\n",
       "[5 rows x 297 columns]"
      ]
     },
     "execution_count": 116,
     "metadata": {},
     "output_type": "execute_result"
    }
   ],
   "source": [
    "dfITest.head()"
   ]
  },
  {
   "cell_type": "code",
   "execution_count": 117,
   "metadata": {},
   "outputs": [
    {
     "name": "stdout",
     "output_type": "stream",
     "text": [
      "(20000, 389)\n",
      "2020-02-15 22:07:23\n",
      "-------------------\n"
     ]
    }
   ],
   "source": [
    "for c in lsFieldFt:\n",
    "    dfITest[\"%s_stdized\"%c] = (dfITest[c] - dfITest[c+\"_mean\"])/dfITest[c+\"_std\"]\n",
    "print(dfITest.shape) # (19936, 340)\n",
    "printRuntime()"
   ]
  },
  {
   "cell_type": "code",
   "execution_count": 118,
   "metadata": {},
   "outputs": [
    {
     "name": "stdout",
     "output_type": "stream",
     "text": [
      "2020-02-15 22:07:31\n",
      "-------------------\n"
     ]
    }
   ],
   "source": [
    "iTestPath = basePath + \"itest_{}.pickle\".format(ymd)\n",
    "dfITest.to_pickle(iTestPath, compression=\"bz2\")\n",
    "printRuntime()"
   ]
  },
  {
   "cell_type": "code",
   "execution_count": 65,
   "metadata": {
    "collapsed": true
   },
   "outputs": [
    {
     "data": {
      "text/html": [
       "<div>\n",
       "<style scoped>\n",
       "    .dataframe tbody tr th:only-of-type {\n",
       "        vertical-align: middle;\n",
       "    }\n",
       "\n",
       "    .dataframe tbody tr th {\n",
       "        vertical-align: top;\n",
       "    }\n",
       "\n",
       "    .dataframe thead th {\n",
       "        text-align: right;\n",
       "    }\n",
       "</style>\n",
       "<table border=\"1\" class=\"dataframe\">\n",
       "  <thead>\n",
       "    <tr style=\"text-align: right;\">\n",
       "      <th></th>\n",
       "      <th>id</th>\n",
       "      <th>label</th>\n",
       "      <th>province</th>\n",
       "      <th>district</th>\n",
       "      <th>age_source1</th>\n",
       "      <th>age_source2</th>\n",
       "      <th>maCv</th>\n",
       "      <th>FIELD_1</th>\n",
       "      <th>FIELD_2</th>\n",
       "      <th>FIELD_3</th>\n",
       "      <th>...</th>\n",
       "      <th>FIELD_24_K2_stdized</th>\n",
       "      <th>FIELD_24_K3_stdized</th>\n",
       "      <th>FIELD_24_None_stdized</th>\n",
       "      <th>FIELD_43_0_stdized</th>\n",
       "      <th>FIELD_43_5_stdized</th>\n",
       "      <th>FIELD_43_A_stdized</th>\n",
       "      <th>FIELD_43_B_stdized</th>\n",
       "      <th>FIELD_43_C_stdized</th>\n",
       "      <th>FIELD_43_D_stdized</th>\n",
       "      <th>FIELD_43_None_stdized</th>\n",
       "    </tr>\n",
       "  </thead>\n",
       "  <tbody>\n",
       "    <tr>\n",
       "      <th>0</th>\n",
       "      <td>0</td>\n",
       "      <td>0</td>\n",
       "      <td>NaN</td>\n",
       "      <td>NaN</td>\n",
       "      <td>NaN</td>\n",
       "      <td>NaN</td>\n",
       "      <td>nan</td>\n",
       "      <td>1.0</td>\n",
       "      <td>1.0</td>\n",
       "      <td>2547.0</td>\n",
       "      <td>...</td>\n",
       "      <td>NaN</td>\n",
       "      <td>NaN</td>\n",
       "      <td>NaN</td>\n",
       "      <td>NaN</td>\n",
       "      <td>NaN</td>\n",
       "      <td>NaN</td>\n",
       "      <td>NaN</td>\n",
       "      <td>NaN</td>\n",
       "      <td>NaN</td>\n",
       "      <td>NaN</td>\n",
       "    </tr>\n",
       "    <tr>\n",
       "      <th>1</th>\n",
       "      <td>1</td>\n",
       "      <td>0</td>\n",
       "      <td>Tỉnh Đồng Nai</td>\n",
       "      <td>Thành phố Biên Hòa</td>\n",
       "      <td>44.0</td>\n",
       "      <td>44.0</td>\n",
       "      <td>none</td>\n",
       "      <td>1.0</td>\n",
       "      <td>0.0</td>\n",
       "      <td>-1.0</td>\n",
       "      <td>...</td>\n",
       "      <td>NaN</td>\n",
       "      <td>NaN</td>\n",
       "      <td>NaN</td>\n",
       "      <td>NaN</td>\n",
       "      <td>NaN</td>\n",
       "      <td>NaN</td>\n",
       "      <td>NaN</td>\n",
       "      <td>-0.224257</td>\n",
       "      <td>NaN</td>\n",
       "      <td>0.224257</td>\n",
       "    </tr>\n",
       "    <tr>\n",
       "      <th>2</th>\n",
       "      <td>2</td>\n",
       "      <td>0</td>\n",
       "      <td>Tỉnh Đồng Nai</td>\n",
       "      <td>Huyện Long Thành</td>\n",
       "      <td>30.0</td>\n",
       "      <td>30.0</td>\n",
       "      <td>công nhân</td>\n",
       "      <td>0.0</td>\n",
       "      <td>1.0</td>\n",
       "      <td>3273.0</td>\n",
       "      <td>...</td>\n",
       "      <td>NaN</td>\n",
       "      <td>NaN</td>\n",
       "      <td>NaN</td>\n",
       "      <td>NaN</td>\n",
       "      <td>NaN</td>\n",
       "      <td>NaN</td>\n",
       "      <td>NaN</td>\n",
       "      <td>-0.223014</td>\n",
       "      <td>-0.126664</td>\n",
       "      <td>0.259688</td>\n",
       "    </tr>\n",
       "    <tr>\n",
       "      <th>3</th>\n",
       "      <td>3</td>\n",
       "      <td>0</td>\n",
       "      <td>Tỉnh Tuyên Quang</td>\n",
       "      <td>Thành phố Tuyên Quang</td>\n",
       "      <td>43.0</td>\n",
       "      <td>NaN</td>\n",
       "      <td>nan</td>\n",
       "      <td>0.0</td>\n",
       "      <td>1.0</td>\n",
       "      <td>3991.0</td>\n",
       "      <td>...</td>\n",
       "      <td>-0.288675</td>\n",
       "      <td>NaN</td>\n",
       "      <td>0.288675</td>\n",
       "      <td>NaN</td>\n",
       "      <td>NaN</td>\n",
       "      <td>NaN</td>\n",
       "      <td>NaN</td>\n",
       "      <td>NaN</td>\n",
       "      <td>NaN</td>\n",
       "      <td>NaN</td>\n",
       "    </tr>\n",
       "    <tr>\n",
       "      <th>4</th>\n",
       "      <td>4</td>\n",
       "      <td>0</td>\n",
       "      <td>Thành phố Hồ Chí Minh</td>\n",
       "      <td>Quận 1</td>\n",
       "      <td>21.0</td>\n",
       "      <td>21.0</td>\n",
       "      <td>none</td>\n",
       "      <td>0.0</td>\n",
       "      <td>1.0</td>\n",
       "      <td>1450.0</td>\n",
       "      <td>...</td>\n",
       "      <td>NaN</td>\n",
       "      <td>NaN</td>\n",
       "      <td>NaN</td>\n",
       "      <td>NaN</td>\n",
       "      <td>NaN</td>\n",
       "      <td>NaN</td>\n",
       "      <td>NaN</td>\n",
       "      <td>NaN</td>\n",
       "      <td>NaN</td>\n",
       "      <td>NaN</td>\n",
       "    </tr>\n",
       "  </tbody>\n",
       "</table>\n",
       "<p>5 rows × 322 columns</p>\n",
       "</div>"
      ],
      "text/plain": [
       "   id  label               province               district  age_source1  \\\n",
       "0   0      0                    NaN                    NaN          NaN   \n",
       "1   1      0          Tỉnh Đồng Nai     Thành phố Biên Hòa         44.0   \n",
       "2   2      0          Tỉnh Đồng Nai       Huyện Long Thành         30.0   \n",
       "3   3      0       Tỉnh Tuyên Quang  Thành phố Tuyên Quang         43.0   \n",
       "4   4      0  Thành phố Hồ Chí Minh                 Quận 1         21.0   \n",
       "\n",
       "   age_source2       maCv  FIELD_1  FIELD_2  FIELD_3  ...  \\\n",
       "0          NaN        nan      1.0      1.0   2547.0  ...   \n",
       "1         44.0       none      1.0      0.0     -1.0  ...   \n",
       "2         30.0  công nhân      0.0      1.0   3273.0  ...   \n",
       "3          NaN        nan      0.0      1.0   3991.0  ...   \n",
       "4         21.0       none      0.0      1.0   1450.0  ...   \n",
       "\n",
       "   FIELD_24_K2_stdized  FIELD_24_K3_stdized  FIELD_24_None_stdized  \\\n",
       "0                  NaN                  NaN                    NaN   \n",
       "1                  NaN                  NaN                    NaN   \n",
       "2                  NaN                  NaN                    NaN   \n",
       "3            -0.288675                  NaN               0.288675   \n",
       "4                  NaN                  NaN                    NaN   \n",
       "\n",
       "  FIELD_43_0_stdized FIELD_43_5_stdized  FIELD_43_A_stdized  \\\n",
       "0                NaN                NaN                 NaN   \n",
       "1                NaN                NaN                 NaN   \n",
       "2                NaN                NaN                 NaN   \n",
       "3                NaN                NaN                 NaN   \n",
       "4                NaN                NaN                 NaN   \n",
       "\n",
       "  FIELD_43_B_stdized  FIELD_43_C_stdized  FIELD_43_D_stdized  \\\n",
       "0                NaN                 NaN                 NaN   \n",
       "1                NaN           -0.224257                 NaN   \n",
       "2                NaN           -0.223014           -0.126664   \n",
       "3                NaN                 NaN                 NaN   \n",
       "4                NaN                 NaN                 NaN   \n",
       "\n",
       "   FIELD_43_None_stdized  \n",
       "0                    NaN  \n",
       "1               0.224257  \n",
       "2               0.259688  \n",
       "3                    NaN  \n",
       "4                    NaN  \n",
       "\n",
       "[5 rows x 322 columns]"
      ]
     },
     "execution_count": 65,
     "metadata": {},
     "output_type": "execute_result"
    }
   ],
   "source": [
    "dfITest.head()"
   ]
  },
  {
   "cell_type": "code",
   "execution_count": null,
   "metadata": {},
   "outputs": [],
   "source": []
  }
 ],
 "metadata": {
  "kernelspec": {
   "display_name": "Python 3",
   "language": "python",
   "name": "python3"
  },
  "language_info": {
   "codemirror_mode": {
    "name": "ipython",
    "version": 3
   },
   "file_extension": ".py",
   "mimetype": "text/x-python",
   "name": "python",
   "nbconvert_exporter": "python",
   "pygments_lexer": "ipython3",
   "version": "3.6.4"
  }
 },
 "nbformat": 4,
 "nbformat_minor": 2
}
